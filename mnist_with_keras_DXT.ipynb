{
  "nbformat": 4,
  "nbformat_minor": 0,
  "metadata": {
    "kernelspec": {
      "display_name": "Python 3",
      "language": "python",
      "name": "python3"
    },
    "language_info": {
      "codemirror_mode": {
        "name": "ipython",
        "version": 3
      },
      "file_extension": ".py",
      "mimetype": "text/x-python",
      "name": "python",
      "nbconvert_exporter": "python",
      "pygments_lexer": "ipython3",
      "version": "3.6.5"
    },
    "colab": {
      "name": "mnist_with_keras_DXT.ipynb",
      "provenance": []
    }
  },
  "cells": [
    {
      "cell_type": "markdown",
      "metadata": {
        "id": "yo81MmN8rBJj",
        "colab_type": "text"
      },
      "source": [
        "Visit: https://github.com/hse-aml/intro-to-dl/blob/master/README.md for configuration details."
      ]
    },
    {
      "cell_type": "code",
      "metadata": {
        "id": "i3QMeh3CrNxV",
        "colab_type": "code",
        "colab": {
          "base_uri": "https://localhost:8080/",
          "height": 319
        },
        "outputId": "f10eacd1-6fb7-46cc-cf95-5ba30ca1351f"
      },
      "source": [
        "! shred -u setup_google_colab.py\n",
        "! wget https://raw.githubusercontent.com/hse-aml/intro-to-dl/master/setup_google_colab.py -O setup_google_colab.py\n",
        "import setup_google_colab\n",
        "# please, uncomment the week you're working on\n",
        "# setup_google_colab.setup_week1()\n",
        "setup_google_colab.setup_week2()\n",
        "# setup_google_colab.setup_week2_honor()\n",
        "# setup_google_colab.setup_week3()\n",
        "# setup_google_colab.setup_week4()\n",
        "# setup_google_colab.setup_week5()\n",
        "# setup_google_colab.setup_week6()"
      ],
      "execution_count": 1,
      "outputs": [
        {
          "output_type": "stream",
          "text": [
            "shred: setup_google_colab.py: failed to open for writing: No such file or directory\n",
            "--2020-05-01 08:36:18--  https://raw.githubusercontent.com/hse-aml/intro-to-dl/master/setup_google_colab.py\n",
            "Resolving raw.githubusercontent.com (raw.githubusercontent.com)... 151.101.0.133, 151.101.64.133, 151.101.128.133, ...\n",
            "Connecting to raw.githubusercontent.com (raw.githubusercontent.com)|151.101.0.133|:443... connected.\n",
            "HTTP request sent, awaiting response... 200 OK\n",
            "Length: 3636 (3.6K) [text/plain]\n",
            "Saving to: ‘setup_google_colab.py’\n",
            "\n",
            "setup_google_colab. 100%[===================>]   3.55K  --.-KB/s    in 0s      \n",
            "\n",
            "2020-05-01 08:36:19 (36.1 MB/s) - ‘setup_google_colab.py’ saved [3636/3636]\n",
            "\n",
            "**************************************************\n",
            "inception_v3_weights_tf_dim_ordering_tf_kernels_notop.h5\n",
            "**************************************************\n",
            "cifar-10-batches-py.tar.gz\n",
            "**************************************************\n",
            "mnist.npz\n"
          ],
          "name": "stdout"
        }
      ]
    },
    {
      "cell_type": "code",
      "metadata": {
        "id": "u2Pa_i0bqxG6",
        "colab_type": "code",
        "colab": {
          "base_uri": "https://localhost:8080/",
          "height": 34
        },
        "outputId": "b0ae93c1-f6f8-41f6-a937-bcbfbd2c02fc"
      },
      "source": [
        "# set tf 1.x for colab\n",
        "%tensorflow_version 1.x"
      ],
      "execution_count": 2,
      "outputs": [
        {
          "output_type": "stream",
          "text": [
            "TensorFlow 1.x selected.\n"
          ],
          "name": "stdout"
        }
      ]
    },
    {
      "cell_type": "markdown",
      "metadata": {
        "id": "2VFu79dNqxG-",
        "colab_type": "text"
      },
      "source": [
        "# MNIST digits classification with Keras\n",
        "\n",
        "We don't expect you to code anything here because you've already solved it with TensorFlow.\n",
        "\n",
        "But you can appreciate how simpler it is with Keras.\n",
        "\n",
        "We'll be happy if you play around with the architecture though, there're some tips at the end."
      ]
    },
    {
      "cell_type": "markdown",
      "metadata": {
        "id": "lAejn4smqxG_",
        "colab_type": "text"
      },
      "source": [
        "<img src=\"https://github.com/hse-aml/intro-to-dl/blob/master/week2/v2/images/mnist_sample.png?raw=1\" style=\"width:30%\">"
      ]
    },
    {
      "cell_type": "code",
      "metadata": {
        "id": "kPo8mVj7qxG_",
        "colab_type": "code",
        "colab": {
          "base_uri": "https://localhost:8080/",
          "height": 67
        },
        "outputId": "64de74e2-29eb-4e3a-c231-d83b4c34f53b"
      },
      "source": [
        "import numpy as np\n",
        "from sklearn.metrics import accuracy_score\n",
        "from matplotlib import pyplot as plt\n",
        "%matplotlib inline\n",
        "import tensorflow as tf\n",
        "print(\"We're using TF\", tf.__version__)\n",
        "import keras\n",
        "print(\"We are using Keras\", keras.__version__)\n",
        "\n",
        "import sys\n",
        "sys.path.append(\"../..\")\n",
        "import keras_utils\n",
        "from keras_utils import reset_tf_session"
      ],
      "execution_count": 3,
      "outputs": [
        {
          "output_type": "stream",
          "text": [
            "We're using TF 1.15.2\n"
          ],
          "name": "stdout"
        },
        {
          "output_type": "stream",
          "text": [
            "Using TensorFlow backend.\n"
          ],
          "name": "stderr"
        },
        {
          "output_type": "stream",
          "text": [
            "We are using Keras 2.0.6\n"
          ],
          "name": "stdout"
        }
      ]
    },
    {
      "cell_type": "code",
      "metadata": {
        "id": "wNpb2wFhYtGv",
        "colab_type": "code",
        "colab": {
          "base_uri": "https://localhost:8080/",
          "height": 34
        },
        "outputId": "c91bf834-7a70-4566-d54f-59533a54a591"
      },
      "source": [
        "# GPU Training\n",
        "device_name = tf.test.gpu_device_name()\n",
        "if device_name != '/device:GPU:0':\n",
        "  raise SystemError('GPU device not found')\n",
        "print('Found GPU at: {}'.format(device_name))"
      ],
      "execution_count": 6,
      "outputs": [
        {
          "output_type": "stream",
          "text": [
            "Found GPU at: /device:GPU:0\n"
          ],
          "name": "stdout"
        }
      ]
    },
    {
      "cell_type": "markdown",
      "metadata": {
        "id": "2wcHx8MuqxHC",
        "colab_type": "text"
      },
      "source": [
        "# Look at the data\n",
        "\n",
        "In this task we have 50000 28x28 images of digits from 0 to 9.\n",
        "We will train a classifier on this data."
      ]
    },
    {
      "cell_type": "code",
      "metadata": {
        "id": "NSZA3ol6qxHC",
        "colab_type": "code",
        "colab": {}
      },
      "source": [
        "import preprocessed_mnist\n",
        "X_train, y_train, X_val, y_val, X_test, y_test = preprocessed_mnist.load_dataset()"
      ],
      "execution_count": 0,
      "outputs": []
    },
    {
      "cell_type": "code",
      "metadata": {
        "id": "p78Tqa7gqxHE",
        "colab_type": "code",
        "colab": {
          "base_uri": "https://localhost:8080/",
          "height": 681
        },
        "outputId": "b54402f8-0043-4238-be60-50f3dbd28c4b"
      },
      "source": [
        "# X contains rgb values divided by 255\n",
        "print(\"X_train [shape %s] sample patch:\\n\" % (str(X_train.shape)), X_train[1, 15:20, 5:10])\n",
        "print(\"A closeup of a sample patch:\")\n",
        "plt.imshow(X_train[1, 15:20, 5:10], cmap=\"Greys\")\n",
        "plt.show()\n",
        "print(\"And the whole sample:\")\n",
        "plt.imshow(X_train[1], cmap=\"Greys\")\n",
        "plt.show()\n",
        "print(\"y_train [shape %s] 10 samples:\\n\" % (str(y_train.shape)), y_train[:10])"
      ],
      "execution_count": 8,
      "outputs": [
        {
          "output_type": "stream",
          "text": [
            "X_train [shape (50000, 28, 28)] sample patch:\n",
            " [[0.         0.29803922 0.96470588 0.98823529 0.43921569]\n",
            " [0.         0.33333333 0.98823529 0.90196078 0.09803922]\n",
            " [0.         0.33333333 0.98823529 0.8745098  0.        ]\n",
            " [0.         0.33333333 0.98823529 0.56862745 0.        ]\n",
            " [0.         0.3372549  0.99215686 0.88235294 0.        ]]\n",
            "A closeup of a sample patch:\n"
          ],
          "name": "stdout"
        },
        {
          "output_type": "display_data",
          "data": {
            "image/png": "[encoded data removed]",
            "text/plain": [
              "<Figure size 432x288 with 1 Axes>"
            ]
          },
          "metadata": {
            "tags": [],
            "needs_background": "light"
          }
        },
        {
          "output_type": "stream",
          "text": [
            "And the whole sample:\n"
          ],
          "name": "stdout"
        },
        {
          "output_type": "display_data",
          "data": {
            "image/png": "[encoded data removed]",
            "text/plain": [
              "<Figure size 432x288 with 1 Axes>"
            ]
          },
          "metadata": {
            "tags": [],
            "needs_background": "light"
          }
        },
        {
          "output_type": "stream",
          "text": [
            "y_train [shape (50000,)] 10 samples:\n",
            " [5 0 4 1 9 2 1 3 1 4]\n"
          ],
          "name": "stdout"
        }
      ]
    },
    {
      "cell_type": "code",
      "metadata": {
        "id": "PSuT-sbxqxHH",
        "colab_type": "code",
        "colab": {
          "base_uri": "https://localhost:8080/",
          "height": 50
        },
        "outputId": "1ecac8f6-c420-4a4e-9e24-c21c9f44184d"
      },
      "source": [
        "# flatten images\n",
        "X_train_flat = X_train.reshape((X_train.shape[0], -1))\n",
        "print(X_train_flat.shape)\n",
        "\n",
        "X_val_flat = X_val.reshape((X_val.shape[0], -1))\n",
        "print(X_val_flat.shape)"
      ],
      "execution_count": 9,
      "outputs": [
        {
          "output_type": "stream",
          "text": [
            "(50000, 784)\n",
            "(10000, 784)\n"
          ],
          "name": "stdout"
        }
      ]
    },
    {
      "cell_type": "code",
      "metadata": {
        "id": "I-3sqldOqxHK",
        "colab_type": "code",
        "colab": {
          "base_uri": "https://localhost:8080/",
          "height": 84
        },
        "outputId": "a6b9077d-8104-425d-fd0d-3ce3003cb342"
      },
      "source": [
        "# one-hot encode the target\n",
        "y_train_oh = keras.utils.to_categorical(y_train, 10)\n",
        "y_val_oh = keras.utils.to_categorical(y_val, 10)\n",
        "\n",
        "print(y_train_oh.shape)\n",
        "print(y_train_oh[:3], y_train[:3])"
      ],
      "execution_count": 10,
      "outputs": [
        {
          "output_type": "stream",
          "text": [
            "(50000, 10)\n",
            "[[0. 0. 0. 0. 0. 1. 0. 0. 0. 0.]\n",
            " [1. 0. 0. 0. 0. 0. 0. 0. 0. 0.]\n",
            " [0. 0. 0. 0. 1. 0. 0. 0. 0. 0.]] [5 0 4]\n"
          ],
          "name": "stdout"
        }
      ]
    },
    {
      "cell_type": "code",
      "metadata": {
        "id": "-x8OQraPqxHN",
        "colab_type": "code",
        "colab": {}
      },
      "source": [
        "# building a model with keras\n",
        "from keras.layers import Dense, Activation\n",
        "from keras.models import Sequential\n",
        "\n",
        "# we still need to clear a graph though\n",
        "s = reset_tf_session()\n",
        "\n",
        "model = Sequential()  # it is a feed-forward network without loops like in RNN\n",
        "model.add(Dense(256, input_shape=(784,)))  # the first layer must specify the input shape (replacing placeholders)\n",
        "model.add(Activation('sigmoid'))\n",
        "model.add(Dense(256))\n",
        "model.add(Activation('sigmoid'))\n",
        "model.add(Dense(10))\n",
        "model.add(Activation('softmax'))"
      ],
      "execution_count": 0,
      "outputs": []
    },
    {
      "cell_type": "code",
      "metadata": {
        "id": "fW5SxNMRqxHQ",
        "colab_type": "code",
        "colab": {
          "base_uri": "https://localhost:8080/",
          "height": 336
        },
        "outputId": "1c565c0c-a78e-449a-875e-eb9e0b4e6bac"
      },
      "source": [
        "# you can look at all layers and parameter count\n",
        "model.summary()"
      ],
      "execution_count": 18,
      "outputs": [
        {
          "output_type": "stream",
          "text": [
            "_________________________________________________________________\n",
            "Layer (type)                 Output Shape              Param #   \n",
            "=================================================================\n",
            "dense_1 (Dense)              (None, 256)               200960    \n",
            "_________________________________________________________________\n",
            "activation_1 (Activation)    (None, 256)               0         \n",
            "_________________________________________________________________\n",
            "dense_2 (Dense)              (None, 256)               65792     \n",
            "_________________________________________________________________\n",
            "activation_2 (Activation)    (None, 256)               0         \n",
            "_________________________________________________________________\n",
            "dense_3 (Dense)              (None, 10)                2570      \n",
            "_________________________________________________________________\n",
            "activation_3 (Activation)    (None, 10)                0         \n",
            "=================================================================\n",
            "Total params: 269,322\n",
            "Trainable params: 269,322\n",
            "Non-trainable params: 0\n",
            "_________________________________________________________________\n"
          ],
          "name": "stdout"
        }
      ]
    },
    {
      "cell_type": "code",
      "metadata": {
        "id": "5GVD-T_-qxHS",
        "colab_type": "code",
        "colab": {}
      },
      "source": [
        "# now we \"compile\" the model specifying the loss and optimizer\n",
        "model.compile(\n",
        "    loss='categorical_crossentropy', # this is our cross-entropy\n",
        "    optimizer='adam',\n",
        "    metrics=['accuracy']  # report accuracy during training\n",
        ")"
      ],
      "execution_count": 0,
      "outputs": []
    },
    {
      "cell_type": "code",
      "metadata": {
        "id": "I3X3Ii8GqxHU",
        "colab_type": "code",
        "colab": {
          "base_uri": "https://localhost:8080/",
          "height": 1000
        },
        "outputId": "896e9887-c84c-4af8-f91a-ffbecdb13577"
      },
      "source": [
        "# and now we can fit the model with model.fit()\n",
        "# and we don't have to write loops and batching manually as in TensorFlow\n",
        "model.fit(\n",
        "    X_train_flat, \n",
        "    y_train_oh,\n",
        "    batch_size=512, \n",
        "    epochs=40,\n",
        "    validation_data=(X_val_flat, y_val_oh),\n",
        "    callbacks=[keras_utils.TqdmProgressCallback()],\n",
        "    verbose=0\n",
        ")"
      ],
      "execution_count": 20,
      "outputs": [
        {
          "output_type": "stream",
          "text": [
            "\n",
            "Epoch 1/40\n",
            "**************************************************\n",
            "loss: 1.3300; acc: 0.6438; val_loss: 0.5187; val_acc: 0.8817\n",
            "\n",
            "Epoch 2/40\n",
            "**************************************************\n",
            "loss: 0.4114; acc: 0.8933; val_loss: 0.3022; val_acc: 0.9181\n",
            "\n",
            "Epoch 3/40\n",
            "**************************************************\n",
            "loss: 0.2978; acc: 0.9160; val_loss: 0.2473; val_acc: 0.9293\n",
            "\n",
            "Epoch 4/40\n",
            "**************************************************\n",
            "loss: 0.2513; acc: 0.9269; val_loss: 0.2188; val_acc: 0.9374\n",
            "\n",
            "Epoch 5/40\n",
            "**************************************************\n",
            "loss: 0.2224; acc: 0.9353; val_loss: 0.1995; val_acc: 0.9432\n",
            "\n",
            "Epoch 6/40\n",
            "**************************************************\n",
            "loss: 0.1975; acc: 0.9423; val_loss: 0.1830; val_acc: 0.9482\n",
            "\n",
            "Epoch 7/40\n",
            "**************************************************\n",
            "loss: 0.1786; acc: 0.9477; val_loss: 0.1678; val_acc: 0.9531\n",
            "\n",
            "Epoch 8/40\n",
            "**************************************************\n",
            "loss: 0.1610; acc: 0.9526; val_loss: 0.1542; val_acc: 0.9570\n",
            "\n",
            "Epoch 9/40\n",
            "**************************************************\n",
            "loss: 0.1458; acc: 0.9570; val_loss: 0.1449; val_acc: 0.9576\n",
            "\n",
            "Epoch 10/40\n",
            "**************************************************\n",
            "loss: 0.1319; acc: 0.9608; val_loss: 0.1328; val_acc: 0.9617\n",
            "\n",
            "Epoch 11/40\n",
            "**************************************************\n",
            "loss: 0.1198; acc: 0.9653; val_loss: 0.1272; val_acc: 0.9635\n",
            "\n",
            "Epoch 12/40\n",
            "**************************************************\n",
            "loss: 0.1097; acc: 0.9681; val_loss: 0.1181; val_acc: 0.9665\n",
            "\n",
            "Epoch 13/40\n",
            "**************************************************\n",
            "loss: 0.0991; acc: 0.9711; val_loss: 0.1120; val_acc: 0.9679\n",
            "\n",
            "Epoch 14/40\n",
            "**************************************************\n",
            "loss: 0.0900; acc: 0.9744; val_loss: 0.1083; val_acc: 0.9684\n",
            "\n",
            "Epoch 15/40\n",
            "**************************************************\n",
            "loss: 0.0825; acc: 0.9763; val_loss: 0.1032; val_acc: 0.9693\n",
            "\n",
            "Epoch 16/40\n",
            "**************************************************\n",
            "loss: 0.0750; acc: 0.9782; val_loss: 0.1008; val_acc: 0.9706\n",
            "\n",
            "Epoch 17/40\n",
            "**************************************************\n",
            "loss: 0.0680; acc: 0.9806; val_loss: 0.0971; val_acc: 0.9723\n",
            "\n",
            "Epoch 18/40\n",
            "**************************************************\n",
            "loss: 0.0620; acc: 0.9824; val_loss: 0.0909; val_acc: 0.9729\n",
            "\n",
            "Epoch 19/40\n",
            "**************************************************\n",
            "loss: 0.0564; acc: 0.9844; val_loss: 0.0883; val_acc: 0.9744\n",
            "\n",
            "Epoch 20/40\n",
            "**************************************************\n",
            "loss: 0.0513; acc: 0.9858; val_loss: 0.0870; val_acc: 0.9748\n",
            "\n",
            "Epoch 21/40\n",
            "**************************************************\n",
            "loss: 0.0468; acc: 0.9876; val_loss: 0.0858; val_acc: 0.9744\n",
            "\n",
            "Epoch 22/40\n",
            "**************************************************\n",
            "loss: 0.0425; acc: 0.9889; val_loss: 0.0846; val_acc: 0.9741\n",
            "\n",
            "Epoch 23/40\n",
            "**************************************************\n",
            "loss: 0.0393; acc: 0.9897; val_loss: 0.0839; val_acc: 0.9762\n",
            "\n",
            "Epoch 24/40\n",
            "**************************************************\n",
            "loss: 0.0354; acc: 0.9914; val_loss: 0.0882; val_acc: 0.9736\n",
            "\n",
            "Epoch 25/40\n",
            "**************************************************\n",
            "loss: 0.0328; acc: 0.9922; val_loss: 0.0786; val_acc: 0.9775\n",
            "\n",
            "Epoch 26/40\n",
            "**************************************************\n",
            "loss: 0.0291; acc: 0.9931; val_loss: 0.0778; val_acc: 0.9778\n",
            "\n",
            "Epoch 27/40\n",
            "**************************************************\n",
            "loss: 0.0262; acc: 0.9943; val_loss: 0.0795; val_acc: 0.9777\n",
            "\n",
            "Epoch 28/40\n",
            "**************************************************\n",
            "loss: 0.0234; acc: 0.9950; val_loss: 0.0804; val_acc: 0.9772\n",
            "\n",
            "Epoch 29/40\n",
            "**************************************************\n",
            "loss: 0.0218; acc: 0.9953; val_loss: 0.0753; val_acc: 0.9790\n",
            "\n",
            "Epoch 30/40\n",
            "**************************************************\n",
            "loss: 0.0196; acc: 0.9959; val_loss: 0.0773; val_acc: 0.9781\n",
            "\n",
            "Epoch 31/40\n",
            "**************************************************\n",
            "loss: 0.0173; acc: 0.9970; val_loss: 0.0761; val_acc: 0.9787\n",
            "\n",
            "Epoch 32/40\n",
            "**************************************************\n",
            "loss: 0.0155; acc: 0.9977; val_loss: 0.0770; val_acc: 0.9786\n",
            "\n",
            "Epoch 33/40\n",
            "**************************************************\n",
            "loss: 0.0139; acc: 0.9977; val_loss: 0.0772; val_acc: 0.9772\n",
            "\n",
            "Epoch 34/40\n",
            "**************************************************\n",
            "loss: 0.0135; acc: 0.9974; val_loss: 0.0768; val_acc: 0.9781\n",
            "\n",
            "Epoch 35/40\n",
            "**************************************************\n",
            "loss: 0.0115; acc: 0.9986; val_loss: 0.0775; val_acc: 0.9785\n",
            "\n",
            "Epoch 36/40\n",
            "**************************************************\n",
            "loss: 0.0106; acc: 0.9986; val_loss: 0.0781; val_acc: 0.9784\n",
            "\n",
            "Epoch 37/40\n",
            "**************************************************\n",
            "loss: 0.0095; acc: 0.9989; val_loss: 0.0771; val_acc: 0.9797\n",
            "\n",
            "Epoch 38/40\n",
            "**************************************************\n",
            "loss: 0.0083; acc: 0.9992; val_loss: 0.0755; val_acc: 0.9806\n",
            "\n",
            "Epoch 39/40\n",
            "**************************************************\n",
            "loss: 0.0074; acc: 0.9993; val_loss: 0.0771; val_acc: 0.9794\n",
            "\n",
            "Epoch 40/40\n",
            "**************************************************\n",
            "loss: 0.0066; acc: 0.9994; val_loss: 0.0748; val_acc: 0.9805\n"
          ],
          "name": "stdout"
        },
        {
          "output_type": "execute_result",
          "data": {
            "text/plain": [
              "<keras.callbacks.History at 0x7f901f5adfd0>"
            ]
          },
          "metadata": {
            "tags": []
          },
          "execution_count": 20
        }
      ]
    },
    {
      "cell_type": "markdown",
      "metadata": {
        "id": "wbVzzhzHqxHW",
        "colab_type": "text"
      },
      "source": [
        "# Here're the notes for those who want to play around here\n",
        "\n",
        "Here are some tips on what you could do:\n",
        "\n",
        " * __Network size__\n",
        "   * More neurons, \n",
        "   * More layers, ([docs](https://keras.io/))\n",
        "\n",
        "   * Other nonlinearities in the hidden layers\n",
        "     * tanh, relu, leaky relu, etc\n",
        "   * Larger networks may take more epochs to train, so don't discard your net just because it could didn't beat the baseline in 5 epochs.\n",
        "\n",
        "\n",
        " * __Early Stopping__\n",
        "   * Training for 100 epochs regardless of anything is probably a bad idea.\n",
        "   * Some networks converge over 5 epochs, others - over 500.\n",
        "   * Way to go: stop when validation score is 10 iterations past maximum\n",
        "     \n",
        "\n",
        " * __Faster optimization__\n",
        "   * rmsprop, nesterov_momentum, adam, adagrad and so on.\n",
        "     * Converge faster and sometimes reach better optima\n",
        "     * It might make sense to tweak learning rate/momentum, other learning parameters, batch size and number of epochs\n",
        "\n",
        "\n",
        " * __Regularize__ to prevent overfitting\n",
        "   * Add some L2 weight norm to the loss function, theano will do the rest\n",
        "     * Can be done manually or via - https://keras.io/regularizers/\n",
        "   \n",
        "   \n",
        " * __Data augmemntation__ - getting 5x as large dataset for free is a great deal\n",
        "   * https://keras.io/preprocessing/image/\n",
        "   * Zoom-in+slice = move\n",
        "   * Rotate+zoom(to remove black stripes)\n",
        "   * any other perturbations\n",
        "   * Simple way to do that (if you have PIL/Image): \n",
        "     * ```from scipy.misc import imrotate,imresize```\n",
        "     * and a few slicing\n",
        "   * Stay realistic. There's usually no point in flipping dogs upside down as that is not the way you usually see them."
      ]
    }
  ]
}