{
  "nbformat": 4,
  "nbformat_minor": 0,
  "metadata": {
    "kernelspec": {
      "display_name": "Python 3",
      "language": "python",
      "name": "python3"
    },
    "language_info": {
      "codemirror_mode": {
        "name": "ipython",
        "version": 3
      },
      "file_extension": ".py",
      "mimetype": "text/x-python",
      "name": "python",
      "nbconvert_exporter": "python",
      "pygments_lexer": "ipython3",
      "version": "3.6.5"
    },
    "colab": {
      "name": "RNN-task_DXT.ipynb",
      "provenance": [],
      "collapsed_sections": []
    }
  },
  "cells": [
    {
      "cell_type": "code",
      "metadata": {
        "id": "J0E6pbxQu95c",
        "colab_type": "code",
        "outputId": "d8bf06f9-2fe2-4f92-ef9a-e163d0768703",
        "colab": {
          "base_uri": "https://localhost:8080/",
          "height": 202
        }
      },
      "source": [
        "! shred -u setup_google_colab.py\n",
        "! wget https://raw.githubusercontent.com/hse-aml/intro-to-dl/master/setup_google_colab.py -O setup_google_colab.py\n",
        "import setup_google_colab\n",
        "# please, uncomment the week you're working on\n",
        "# setup_google_colab.setup_week1()\n",
        "# setup_google_colab.setup_week2()\n",
        "# setup_google_colab.setup_week2_honor()\n",
        "# setup_google_colab.setup_week3()\n",
        "# setup_google_colab.setup_week4()\n",
        "setup_google_colab.setup_week5()\n",
        "# setup_google_colab.setup_week6()"
      ],
      "execution_count": 0,
      "outputs": [
        {
          "output_type": "stream",
          "text": [
            "--2020-05-24 10:11:52--  https://raw.githubusercontent.com/hse-aml/intro-to-dl/master/setup_google_colab.py\n",
            "Resolving raw.githubusercontent.com (raw.githubusercontent.com)... 151.101.0.133, 151.101.64.133, 151.101.128.133, ...\n",
            "Connecting to raw.githubusercontent.com (raw.githubusercontent.com)|151.101.0.133|:443... connected.\n",
            "HTTP request sent, awaiting response... 200 OK\n",
            "Length: 3636 (3.6K) [text/plain]\n",
            "Saving to: ‘setup_google_colab.py’\n",
            "\n",
            "\rsetup_google_colab.   0%[                    ]       0  --.-KB/s               \rsetup_google_colab. 100%[===================>]   3.55K  --.-KB/s    in 0s      \n",
            "\n",
            "2020-05-24 10:11:52 (43.3 MB/s) - ‘setup_google_colab.py’ saved [3636/3636]\n",
            "\n"
          ],
          "name": "stdout"
        }
      ]
    },
    {
      "cell_type": "code",
      "metadata": {
        "id": "-AwGOg3Iu3Qm",
        "colab_type": "code",
        "colab": {}
      },
      "source": [
        "# set tf 1.x for colab\n",
        "%tensorflow_version 1.x"
      ],
      "execution_count": 0,
      "outputs": []
    },
    {
      "cell_type": "markdown",
      "metadata": {
        "id": "_NjT1LpYu3Qq",
        "colab_type": "text"
      },
      "source": [
        "# Generating names with recurrent neural networks\n",
        "\n",
        "This time you'll find yourself delving into the heart (and other intestines) of recurrent neural networks on a class of toy problems.\n",
        "\n",
        "Struggle to find a name for the variable? Let's see how you'll come up with a name for your son/daughter. Surely no human has expertize over what is a good child name, so let us train RNN instead;\n",
        "\n",
        "It's dangerous to go alone, take these:"
      ]
    },
    {
      "cell_type": "code",
      "metadata": {
        "ExecuteTime": {
          "end_time": "2018-08-13T20:26:42.696201Z",
          "start_time": "2018-08-13T20:26:38.104103Z"
        },
        "id": "SUiZ5EP_u3Qr",
        "colab_type": "code",
        "outputId": "6a1ebe0b-229c-46c1-a27c-08a16c5b164a",
        "colab": {
          "base_uri": "https://localhost:8080/",
          "height": 34
        }
      },
      "source": [
        "import tensorflow as tf\n",
        "print(tf.__version__)\n",
        "import numpy as np\n",
        "import matplotlib.pyplot as plt\n",
        "%matplotlib inline\n",
        "import os\n",
        "import sys\n",
        "sys.path.append(\"..\")\n",
        "import keras_utils\n",
        "import tqdm_utils"
      ],
      "execution_count": 0,
      "outputs": [
        {
          "output_type": "stream",
          "text": [
            "1.15.2\n"
          ],
          "name": "stdout"
        }
      ]
    },
    {
      "cell_type": "markdown",
      "metadata": {
        "id": "5DPRCLtMu3Qu",
        "colab_type": "text"
      },
      "source": [
        "# Load data\n",
        "The dataset contains ~8k earthling names from different cultures, all in latin transcript.\n",
        "\n",
        "This notebook has been designed so as to allow you to quickly swap names for something similar: deep learning article titles, IKEA furniture, pokemon names, etc."
      ]
    },
    {
      "cell_type": "code",
      "metadata": {
        "ExecuteTime": {
          "end_time": "2018-08-13T20:26:42.701832Z",
          "start_time": "2018-08-13T20:26:42.697766Z"
        },
        "id": "SNzbFFhGu3Qu",
        "colab_type": "code",
        "colab": {}
      },
      "source": [
        "start_token = \" \"  # so that the network knows that we're generating a first token\n",
        "\n",
        "# this is the token for padding,\n",
        "# we will add fake pad token at the end of names \n",
        "# to make them of equal size for further batching\n",
        "pad_token = \"#\"\n",
        "\n",
        "with open(\"names\") as f:\n",
        "    names = f.read()[:-1].split('\\n')\n",
        "    names = [start_token + name for name in names]"
      ],
      "execution_count": 0,
      "outputs": []
    },
    {
      "cell_type": "code",
      "metadata": {
        "ExecuteTime": {
          "end_time": "2018-08-13T20:26:42.707885Z",
          "start_time": "2018-08-13T20:26:42.703302Z"
        },
        "id": "je-ATtdpu3Qx",
        "colab_type": "code",
        "outputId": "3d36fd03-bc7b-488d-b826-9599e39c4416",
        "colab": {
          "base_uri": "https://localhost:8080/",
          "height": 168
        }
      },
      "source": [
        "print('number of samples:', len(names))\n",
        "for x in names[::1000]:\n",
        "    print(x)"
      ],
      "execution_count": 0,
      "outputs": [
        {
          "output_type": "stream",
          "text": [
            "number of samples: 7944\n",
            " Abagael\n",
            " Claresta\n",
            " Glory\n",
            " Liliane\n",
            " Prissie\n",
            " Geeta\n",
            " Giovanne\n",
            " Piggy\n"
          ],
          "name": "stdout"
        }
      ]
    },
    {
      "cell_type": "code",
      "metadata": {
        "id": "YfBe6jy3ySk4",
        "colab_type": "code",
        "colab": {}
      },
      "source": [
        "# a = map(len, names)"
      ],
      "execution_count": 0,
      "outputs": []
    },
    {
      "cell_type": "code",
      "metadata": {
        "id": "LZGV51Keyvl9",
        "colab_type": "code",
        "outputId": "a7b1179c-5e46-4bcb-ab5c-64b3327ed098",
        "colab": {
          "base_uri": "https://localhost:8080/",
          "height": 54
        }
      },
      "source": [
        "# for i in a:\n",
        "#   print(i, end=\" \")"
      ],
      "execution_count": 0,
      "outputs": [
        {
          "output_type": "stream",
          "text": [
            "8 8 5 6 5 6 5 8 8 8 5 7 4 5 8 6 6 6 5 6 9 6 8 8 8 8 7 7 6 5 4 7 6 6 6 7 7 6 6 9 7 8 8 9 9 7 8 9 7 8 8 3 6 6 7 7 5 6 5 5 8 6 7 8 7 7 8 5 6 8 5 5 6 7 7 6 5 7 6 5 6 6 5 8 8 8 8 5 7 8 6 7 6 7 7 8 10 10 7 7 6 7 8 6 10 12 6 6 11 6 8 5 6 10 12 6 7 8 8 7 6 8 4 5 6 6 7 7 6 7 6 6 5 6 7 7 7 7 5 6 5 7 8 7 5 10 6 7 6 8 8 7 5 7 6 6 8 5 7 8 7 7 7 7 8 8 5 5 7 7 7 8 7 6 6 5 6 6 7 7 6 7 7 9 7 7 8 7 7 8 7 7 7 8 7 6 7 6 6 8 9 6 4 7 7 8 8 8 4 5 6 10 4 4 7 9 9 6 9 8 9 9 10 10 11 8 6 5 6 6 7 9 7 7 7 9 10 11 10 5 11 5 6 7 7 5 6 7 7 8 9 9 9 9 10 9 8 6 6 5 5 6 7 6 7 5 10 7 4 9 10 5 11 11 11 8 8 9 9 10 10 10 10 8 9 10 9 9 9 9 10 10 5 13 9 11 12 10 9 10 8 8 5 7 6 8 9 9 8 7 5 8 7 8 6 7 7 11 10 10 8 8 11 9 5 10 10 6 10 4 7 8 8 9 9 5 7 7 8 8 8 8 6 7 8 7 6 7 6 7 6 7 7 8 7 8 9 6 7 8 8 7 6 7 6 7 7 7 8 8 6 8 7 8 7 5 6 7 5 7 7 9 7 7 6 7 6 5 6 7 7 9 7 7 8 8 8 7 7 9 7 7 6 5 6 6 6 7 7 6 7 5 8 8 10 10 5 6 6 8 8 8 6 6 8 7 8 7 7 7 8 8 4 8 7 7 5 5 6 7 6 6 4 4 7 8 7 5 6 7 6 5 9 8 13 12 6 7 9 7 6 7 7 6 5 7 6 6 10 9 4 9 9 8 8 5 5 6 6 6 7 6 4 7 8 6 4 6 8 8 7 5 6 8 9 6 8 6 7 8 10 10 10 8 7 6 7 6 8 9 6 7 6 10 11 10 10 11 11 9 8 9 9 6 8 7 8 6 6 7 6 5 6 6 7 7 6 7 8 8 6 6 7 5 7 6 5 9 8 8 8 7 6 6 6 10 9 10 6 7 8 8 6 7 7 4 8 9 9 8 6 7 7 6 7 5 6 7 6 6 7 6 5 7 7 9 6 7 6 9 9 7 7 8 8 7 8 7 6 7 7 9 10 8 7 7 3 9 6 7 6 8 7 7 10 7 7 6 7 6 6 9 7 8 7 9 8 9 7 5 8 6 5 7 5 6 7 6 7 6 5 7 8 8 6 8 9 10 7 6 8 7 8 7 9 9 6 7 6 5 6 9 8 8 8 7 6 7 8 9 7 9 6 7 7 9 10 10 7 5 6 6 7 7 6 6 7 6 6 8 8 8 8 8 4 7 6 7 6 8 7 6 8 4 7 6 8 9 6 5 7 7 8 8 6 7 6 7 8 6 8 8 8 7 7 7 6 9 8 5 8 6 7 7 8 8 6 5 6 6 6 8 6 7 7 9 8 7 8 6 7 8 7 8 8 7 6 7 7 8 8 9 8 8 9 6 7 7 8 9 6 7 8 9 10 10 9 9 7 8 8 8 7 5 6 11 7 8 9 7 8 9 8 8 9 9 10 8 9 9 6 7 6 7 9 7 8 6 5 6 6 9 6 5 6 6 5 10 10 10 11 7 6 7 10 6 4 9 5 9 6 10 10 6 7 9 10 10 6 7 9 9 8 9 8 6 10 5 6 7 9 7 7 8 9 5 6 8 6 7 8 8 8 7 5 5 7 8 8 9 10 10 9 10 6 6 7 8 7 8 8 6 6 5 7 8 8 7 8 10 7 7 7 9 9 8 8 7 9 9 9 9 9 8 9 10 10 9 10 9 9 9 9 6 7 9 8 8 8 8 7 5 6 7 6 10 8 8 7 9 10 7 8 8 8 7 9 7 6 7 7 8 8 8 7 9 6 9 8 6 7 8 9 8 8 11 13 13 9 11 9 10 9 9 8 10 11 11 9 9 10 10 8 10 7 9 9 8 9 6 7 7 5 6 6 7 9 11 6 7 7 6 9 7 6 6 7 6 11 6 9 8 9 9 7 6 9 8 7 9 8 8 9 9 8 6 7 10 10 10 8 8 9 9 5 5 9 10 11 11 8 7 5 10 9 6 5 4 5 7 9 7 6 5 6 5 7 7 8 8 8 8 9 7 8 6 4 11 9 10 7 6 7 6 10 10 11 10 10 11 12 12 9 9 7 5 8 10 10 6 8 9 8 9 9 7 7 8 6 7 8 7 8 7 8 8 6 5 6 8 7 7 8 8 7 8 8 6 8 9 9 7 6 8 7 6 10 7 8 8 9 6 8 5 8 8 10 9 6 5 8 7 7 10 8 8 7 8 8 9 9 11 7 7 8 8 4 6 6 8 6 7 6 6 8 8 8 7 6 6 6 5 5 6 7 6 6 7 7 6 7 6 7 6 5 8 6 7 7 8 7 8 7 5 7 8 8 8 5 6 7 7 7 8 8 9 9 7 7 6 7 6 6 7 6 7 6 9 9 8 7 7 5 5 7 6 7 7 6 7 6 6 7 7 8 5 6 7 6 8 8 8 7 7 7 6 6 6 6 5 6 6 6 6 7 7 7 7 7 7 5 6 6 6 4 6 6 7 7 4 6 7 7 6 6 7 5 6 7 8 6 5 6 6 4 8 7 8 7 6 8 7 7 6 8 4 5 8 8 8 6 7 8 8 5 6 6 7 8 8 8 9 9 10 8 8 9 9 5 5 7 7 6 6 7 6 5 6 7 7 8 10 8 8 7 5 6 5 6 7 8 6 9 8 8 7 4 3 8 8 5 6 8 6 12 11 6 7 7 8 5 5 6 8 5 6 7 6 5 6 7 7 5 4 6 5 5 6 5 4 5 7 6 7 6 7 8 9 10 9 10 5 8 8 8 6 7 9 6 10 11 6 7 6 5 8 8 8 9 10 7 5 7 8 8 8 7 7 8 8 6 5 6 7 7 6 7 6 7 7 6 7 5 9 9 8 9 9 9 8 7 6 7 7 6 8 7 5 5 4 5 6 7 6 5 5 5 6 7 6 7 9 7 8 9 6 7 6 5 6 6 6 7 7 5 6 7 5 6 7 9 7 7 4 5 7 6 4 5 6 5 4 5 8 5 4 5 5 6 6 7 7 6 5 7 4 6 7 6 7 6 7 7 10 7 7 6 6 7 8 10 10 8 9 9 8 6 6 6 8 9 9 6 8 8 9 5 9 9 7 5 7 8 6 9 10 11 6 7 7 6 6 9 10 5 5 5 9 5 6 7 8 5 6 8 5 6 7 7 5 7 7 7 7 8 6 5 8 5 6 5 6 9 8 5 5 7 7 7 7 7 5 6 7 7 7 7 3 4 7 7 9 7 7 8 8 8 8 6 7 6 7 7 8 6 6 7 8 5 8 9 8 9 10 9 6 5 6 5 6 8 6 7 7 9 5 7 11 7 10 5 8 8 5 5 6 6 7 7 6 5 6 6 7 5 11 11 7 8 8 5 9 8 10 6 5 5 8 5 10 10 5 6 5 5 6 7 7 8 8 6 7 9 11 6 8 8 9 9 8 6 5 5 6 5 7 8 8 7 5 8 7 9 9 4 8 10 10 11 11 7 7 4 8 8 8 7 7 5 5 6 7 6 5 4 5 6 10 8 4 6 6 7 4 10 8 7 6 9 6 6 7 6 6 5 6 7 7 6 7 8 7 5 7 9 9 5 6 6 7 4 7 5 8 7 6 6 7 9 7 8 9 7 8 9 8 7 8 7 7 8 8 11 11 5 9 9 11 6 4 6 7 7 8 9 5 7 6 7 8 5 6 7 9 9 6 10 4 5 6 9 6 9 9 10 10 9 9 6 7 8 8 7 8 9 7 7 8 7 6 7 8 7 7 8 8 5 7 9 8 10 12 9 8 10 10 10 9 6 8 7 7 8 7 7 5 6 7 8 7 9 10 11 6 7 7 9 7 7 11 7 7 6 7 6 5 6 8 9 9 10 10 11 8 5 4 5 5 5 6 7 8 7 9 6 6 10 4 6 6 8 8 7 6 4 5 5 7 10 8 6 6 6 7 9 6 9 9 7 11 11 9 9 10 10 8 11 10 11 11 8 9 9 5 8 10 10 6 11 5 9 9 10 8 9 8 6 7 9 6 5 6 6 7 8 9 9 10 6 9 6 8 7 5 9 9 11 11 6 5 7 6 8 7 9 6 5 8 8 7 6 7 9 6 8 9 6 8 7 7 8 8 7 5 6 7 7 6 5 7 8 6 7 8 8 6 7 9 9 10 6 5 7 7 8 7 6 10 6 7 7 8 6 6 7 7 6 7 9 5 7 7 7 6 6 7 9 6 7 8 7 7 6 9 8 10 10 7 10 4 9 12 10 7 8 7 4 8 6 7 6 6 6 7 6 5 10 10 10 8 9 6 9 7 8 7 8 8 5 8 7 6 7 7 6 8 8 6 5 6 9 7 6 7 6 5 6 7 6 9 7 7 6 6 8 7 6 7 9 9 8 6 7 8 9 10 10 8 9 6 7 6 8 7 6 6 8 5 6 6 7 5 7 7 5 6 6 6 7 8 8 6 16 7 7 6 6 7 8 6 8 6 6 9 6 7 9 10 10 10 10 7 8 8 9 9 6 7 7 8 7 6 7 6 8 7 6 10 11 6 11 11 6 8 9 6 7 6 7 6 11 10 6 6 8 5 8 9 10 6 9 10 10 11 11 6 7 6 5 4 7 8 8 6 7 7 4 5 6 7 7 6 6 5 5 6 5 5 6 6 7 7 7 8 8 4 5 7 5 8 7 5 5 9 9 5 9 9 6 7 8 5 6 8 9 5 8 4 6 6 6 5 6 5 4 8 7 10 9 9 7 8 8 9 8 8 5 7 5 6 5 6 7 5 7 6 4 7 5 8 8 8 9 9 9 6 7 8 8 11 12 6 7 7 10 11 10 11 12 12 10 10 7 8 8 5 5 6 7 6 6 5 6 7 7 4 5 7 7 6 5 7 9 7 6 7 8 8 7 8 8 6 7 8 8 7 6 6 7 6 8 7 7 6 7 6 6 7 9 6 5 9 9 11 11 8 7 8 8 6 7 6 8 7 5 6 6 9 9 7 8 7 7 10 8 9 8 7 6 7 8 7 6 4 5 6 8 8 5 7 8 8 9 8 7 5 6 7 9 6 8 7 9 9 8 6 10 8 5 5 9 7 9 9 8 6 9 5 6 9 9 10 9 6 9 6 8 7 8 6 6 7 8 5 8 8 9 8 8 6 8 7 6 6 3 7 7 8 6 7 5 6 6 7 6 7 7 8 6 5 6 7 5 6 7 8 9 8 9 6 5 6 5 6 7 6 7 7 8 7 8 8 6 5 8 9 9 7 6 5 6 7 7 8 5 6 7 5 6 7 7 5 6 6 8 7 8 9 6 5 6 7 6 9 6 7 9 8 8 10 10 6 5 6 7 9 5 8 4 5 6 7 6 9 5 7 6 8 5 5 6 7 8 5 6 6 5 6 8 8 8 9 9 6 9 7 8 9 9 7 7 8 7 5 8 6 6 7 7 8 8 6 6 6 5 4 5 6 6 7 8 8 9 5 9 5 8 5 6 7 7 8 8 6 6 7 7 8 9 8 6 6 6 5 10 8 9 5 6 6 6 7 5 6 6 6 9 6 7 7 9 7 8 7 6 7 8 7 8 7 9 9 6 7 7 6 6 7 7 9 9 7 6 7 7 6 5 6 8 6 6 5 10 7 6 7 7 7 4 5 8 5 6 9 9 6 5 6 10 10 9 6 10 10 10 9 6 7 9 9 8 9 8 9 6 7 5 6 7 7 8 8 7 8 8 9 6 7 9 8 5 6 4 7 5 6 6 7 7 7 7 4 7 7 6 7 6 7 6 7 7 7 6 7 7 8 8 6 9 7 6 6 7 7 6 6 5 8 9 6 7 8 7 6 8 7 7 7 8 6 7 6 7 6 3 4 5 5 6 9 8 6 4 10 10 9 9 10 7 6 7 6 6 4 5 7 6 5 7 7 6 5 8 9 7 8 8 8 7 8 7 4 6 7 6 7 7 6 8 9 10 10 4 5 6 8 8 5 8 6 8 5 6 7 7 6 9 5 8 7 7 8 8 7 8 8 7 9 8 9 9 7 8 7 8 10 8 9 5 5 6 6 7 7 4 8 8 3 6 6 6 5 8 9 6 6 7 5 5 5 8 6 5 6 7 6 6 6 5 8 5 7 7 7 8 5 8 9 6 8 8 8 6 9 7 9 6 7 8 7 9 7 8 8 9 9 6 10 8 7 7 7 8 8 7 8 8 6 6 7 4 5 8 6 7 7 7 8 7 5 4 7 7 8 6 7 6 6 6 6 5 6 6 7 6 7 7 5 6 7 6 5 6 8 6 6 7 7 8 7 6 8 6 9 6 9 7 8 8 9 9 6 7 7 7 6 7 6 6 5 7 8 8 8 6 6 7 6 6 7 4 5 6 6 7 7 4 7 6 7 6 6 5 6 4 5 6 6 6 7 8 7 7 6 6 8 7 8 6 5 7 4 5 5 6 6 7 8 8 7 6 6 7 6 8 5 7 8 7 7 6 6 7 5 5 9 9 8 5 8 8 6 6 6 6 7 6 5 6 6 4 5 9 8 8 7 6 7 5 6 5 8 7 7 6 5 6 5 6 6 7 5 7 8 8 8 8 6 7 8 8 6 7 7 8 8 13 8 5 6 9 9 6 8 8 8 7 7 6 6 9 9 6 7 7 6 5 6 6 6 7 6 4 8 7 7 10 5 6 7 5 5 6 8 6 9 7 8 8 7 8 7 7 6 9 5 7 7 6 6 5 7 5 5 5 8 8 8 8 5 5 5 6 6 4 6 6 7 8 8 8 8 6 6 8 7 8 5 6 6 7 8 9 7 8 9 7 9 6 4 6 8 6 5 9 8 10 6 7 6 6 10 10 9 9 8 9 9 8 8 8 8 6 7 7 7 8 5 4 7 4 6 8 9 10 10 7 6 7 6 6 7 8 5 7 6 5 6 8 7 7 5 8 7 7 6 7 8 8 8 9 6 7 9 9 8 8 7 6 8 8 5 6 6 6 7 6 6 6 5 8 8 9 9 9 11 11 10 6 7 7 8 9 6 7 6 7 8 6 9 8 9 10 10 11 11 11 11 10 8 6 9 8 7 9 6 7 7 11 6 7 8 11 10 6 5 6 7 7 8 8 9 9 8 10 9 7 8 6 10 13 9 12 7 8 9 10 9 9 9 7 7 8 8 9 8 6 7 8 7 11 6 7 8 8 6 7 8 7 5 6 6 6 7 9 8 6 8 6 8 8 7 8 8 8 7 7 8 6 7 6 6 7 6 7 7 9 9 7 9 6 7 10 6 9 12 7 7 9 6 8 7 8 8 6 9 5 6 12 8 9 9 10 9 10 9 7 6 8 8 10 8 10 9 6 7 6 8 9 9 8 8 6 7 6 5 6 7 6 6 8 9 8 8 8 8 6 6 4 5 6 7 5 4 5 9 6 5 5 6 7 8 6 9 4 6 6 7 6 7 6 7 8 10 4 6 4 5 8 8 8 9 7 6 7 8 9 7 8 8 7 10 11 10 9 8 8 7 8 6 6 10 7 8 10 9 9 6 8 8 7 8 7 7 6 9 6 7 6 9 10 8 9 7 8 8 6 8 5 6 6 8 8 6 7 9 9 7 10 8 9 8 8 8 6 7 6 5 4 8 9 11 11 10 7 7 8 10 10 8 9 6 7 6 6 7 9 8 10 8 8 7 9 10 6 6 10 7 10 6 7 5 4 5 6 6 8 8 8 6 6 7 6 6 8 5 8 10 10 6 8 10 9 8 8 7 8 6 6 7 6 6 6 6 6 10 8 9 10 8 6 6 5 7 6 7 6 6 5 6 7 7 8 5 7 7 7 8 10 9 7 6 8 7 6 8 5 6 6 8 7 5 10 6 7 7 7 9 5 5 6 8 7 8 6 8 6 6 7 8 7 7 5 7 7 6 7 7 5 6 7 4 5 8 6 7 7 6 7 6 7 8 5 7 7 9 6 7 6 6 6 6 5 5 7 4 5 7 8 8 8 9 9 8 8 9 9 9 6 6 6 5 6 5 6 6 6 7 7 5 6 6 5 6 6 7 6 5 8 7 5 6 6 6 7 6 6 6 7 6 6 6 6 7 7 6 6 6 7 8 9 6 7 6 6 7 7 8 10 7 9 9 8 6 5 5 6 7 10 8 4 5 8 8 9 9 6 5 6 6 7 6 5 6 6 6 5 8 6 7 7 8 7 6 5 7 6 7 5 5 6 5 6 6 7 5 6 7 7 7 7 7 6 6 7 6 5 8 6 6 8 6 7 9 7 7 7 7 7 7 7 7 7 7 4 7 5 5 8 6 9 7 7 5 6 5 5 6 7 8 8 7 7 6 6 5 5 8 8 8 8 6 4 7 7 7 7 7 5 7 7 7 7 7 7 7 5 5 7 9 5 8 8 8 8 8 9 5 6 7 4 7 9 8 6 7 6 8 7 6 6 8 8 4 9 8 8 9 9 6 6 7 6 6 12 6 9 9 6 7 8 8 8 6 6 6 6 7 7 9 4 7 6 7 6 4 9 9 6 7 6 5 7 5 6 5 6 6 6 8 6 7 4 5 6 8 11 9 11 11 8 8 8 6 7 7 5 8 9 9 11 7 9 8 8 7 10 7 7 9 8 8 7 4 5 9 10 7 6 6 6 6 10 5 6 7 5 7 10 10 8 4 9 6 6 5 9 7 8 8 8 6 7 9 10 9 8 7 8 9 4 4 5 8 9 10 9 6 6 6 6 6 7 7 8 5 6 7 8 6 7 6 6 5 6 7 8 6 9 7 8 6 6 6 4 8 5 6 8 9 4 5 9 5 7 8 8 7 8 9 4 6 6 6 6 6 6 7 7 7 6 6 6 5 5 6 7 7 5 6 6 7 8 6 7 5 6 7 4 6 5 6 6 7 8 8 8 6 7 7 6 6 7 6 8 7 5 6 5 6 7 6 5 6 5 5 6 5 5 8 5 7 5 6 7 7 6 7 7 6 7 7 8 8 6 7 8 9 10 10 8 5 6 5 8 9 9 9 5 5 6 7 7 7 8 5 5 8 6 7 6 6 8 7 6 8 5 5 6 5 4 5 8 10 10 9 8 8 9 10 10 9 8 9 9 9 7 8 8 8 5 8 9 9 8 8 9 8 8 8 10 10 9 10 7 8 8 9 6 7 7 7 9 5 4 5 7 7 7 8 8 5 6 7 5 4 8 8 9 8 8 5 7 8 8 7 8 5 6 6 7 5 7 8 5 8 9 6 6 7 6 6 6 5 7 7 6 8 6 5 8 6 4 7 6 7 6 9 10 7 4 9 7 8 6 8 9 6 6 7 7 6 7 9 9 5 9 8 6 9 6 7 7 8 5 7 7 7 7 6 9 7 8 7 6 8 9 7 5 6 8 5 5 7 7 10 6 6 7 8 7 6 6 6 5 8 7 7 7 7 7 7 7 6 7 8 8 8 7 6 6 7 7 8 8 8 7 7 8 6 7 6 7 7 8 6 7 9 9 9 7 7 8 7 8 7 6 7 6 7 8 5 7 8 8 9 7 7 5 6 7 9 8 7 8 7 15 8 14 5 6 8 7 7 7 7 6 8 7 8 7 6 5 7 6 7 7 8 9 9 7 8 7 7 7 7 6 5 6 7 6 8 9 9 8 9 9 10 8 6 7 4 7 6 7 6 8 8 8 7 6 8 8 8 8 9 7 5 7 6 8 7 7 7 7 10 8 7 7 8 6 8 7 7 7 6 6 6 8 7 6 6 6 7 8 6 6 7 6 7 7 10 7 8 6 7 7 6 7 7 6 8 5 7 9 8 6 6 9 9 9 7 8 7 7 9 9 10 11 10 7 8 9 7 8 8 9 7 6 7 8 7 4 9 8 6 5 5 6 9 6 7 10 7 8 9 8 8 5 6 6 5 6 7 8 8 8 8 5 6 5 6 6 7 8 8 6 6 8 7 7 7 8 9 6 7 9 6 7 8 6 6 7 7 6 6 7 6 7 8 8 7 5 7 6 8 6 7 6 6 5 6 7 6 5 6 6 6 5 6 6 7 6 6 6 5 8 9 6 7 7 6 4 6 6 7 6 5 6 6 6 8 5 7 11 7 9 9 8 5 8 7 6 6 9 10 7 6 7 8 6 6 5 6 6 7 6 7 5 7 9 6 7 7 5 9 10 8 14 8 10 10 9 8 5 8 9 10 10 4 6 6 8 8 5 8 9 8 6 7 6 6 6 7 6 7 6 4 5 6 7 6 9 5 5 8 9 8 5 6 5 6 5 6 5 6 9 5 9 9 5 7 6 7 6 5 6 6 5 6 8 6 5 6 7 5 5 5 6 7 7 6 7 6 7 6 8 7 7 6 6 7 7 5 6 7 6 6 6 7 6 7 6 6 8 6 6 5 6 5 4 5 7 7 7 6 4 5 7 7 7 9 9 4 4 8 8 5 7 9 7 8 9 10 10 7 8 8 7 8 7 7 6 7 6 6 6 4 6 8 6 6 6 7 6 6 5 6 7 5 7 8 6 5 8 5 7 7 7 7 7 7 6 6 8 9 9 9 10 3 6 7 6 9 5 5 6 7 6 11 6 4 5 7 6 7 6 6 9 6 7 9 9 7 8 9 9 5 6 8 9 4 5 5 6 7 8 9 9 6 7 8 9 8 7 9 6 7 6 7 7 6 5 6 7 7 7 6 10 6 7 6 7 8 8 7 11 11 6 6 11 10 9 9 6 7 7 6 7 6 9 7 7 6 6 5 9 6 7 6 6 7 10 6 7 8 5 8 6 5 6 7 6 8 5 6 6 7 8 8 7 6 7 6 8 5 8 8 7 9 7 6 8 9 7 7 8 7 7 7 5 6 6 6 4 6 6 5 6 4 7 5 8 4 5 6 7 7 5 6 7 7 7 8 7 7 7 7 6 5 6 6 6 6 6 6 7 5 6 6 11 9 4 5 8 6 8 6 4 6 5 6 6 6 7 6 6 6 7 7 8 8 9 7 7 7 10 10 7 8 7 6 6 6 5 5 3 5 6 5 9 9 9 7 8 9 6 6 5 7 8 6 7 5 6 10 6 11 11 5 10 7 7 4 6 8 8 8 7 7 8 9 4 5 8 5 6 6 6 6 6 6 6 7 7 9 9 9 7 6 6 6 8 7 8 8 9 10 6 6 5 7 8 9 8 7 6 8 6 7 8 7 7 7 7 6 7 7 8 5 6 9 7 6 6 6 7 7 6 8 6 8 6 7 7 8 9 8 9 7 7 7 10 5 10 10 7 7 6 5 4 5 6 10 5 7 8 7 10 5 6 7 8 5 6 4 7 7 6 6 7 6 6 7 5 4 6 7 7 7 4 5 7 7 6 7 9 10 8 9 7 7 4 8 7 8 6 4 8 6 6 5 7 5 7 7 8 6 6 8 9 9 8 5 6 5 9 8 8 8 9 8 7 7 6 6 5 7 8 6 7 7 7 6 5 7 6 8 11 12 13 12 7 8 9 10 11 11 7 6 5 6 11 7 4 7 6 7 5 9 5 9 11 5 5 4 9 6 7 9 9 6 7 6 5 7 8 7 6 7 8 7 8 10 5 6 9 7 8 8 9 6 9 7 5 7 8 9 7 5 5 7 6 5 6 7 6 7 7 6 6 6 7 3 4 7 6 7 7 9 6 6 5 5 7 9 8 7 6 8 7 6 8 6 5 6 7 9 6 6 7 9 6 6 8 7 9 10 7 6 8 6 7 7 6 6 6 7 6 5 6 6 5 6 4 6 8 6 5 8 5 7 7 6 7 6 6 7 5 4 9 6 8 7 4 8 6 6 5 9 7 7 6 7 8 8 8 8 7 8 7 5 6 5 6 7 7 5 4 6 6 5 6 8 7 9 6 9 5 7 8 11 9 6 8 8 10 8 8 9 5 6 8 9 4 8 5 8 8 5 5 10 6 5 6 8 7 10 11 9 9 11 10 11 12 13 9 8 7 6 10 6 7 7 9 6 9 6 7 7 8 9 6 5 9 10 11 8 8 5 8 8 9 8 7 10 6 9 8 6 8 8 6 6 4 5 7 6 5 8 5 8 6 7 8 6 7 9 7 7 7 11 12 13 7 7 7 6 6 6 10 10 7 8 7 5 6 6 9 6 9 10 5 11 5 8 7 3 6 7 8 9 6 7 6 5 7 7 7 7 6 4 5 5 5 6 7 7 6 6 6 6 6 7 7 6 6 7 7 8 7 8 7 7 6 7 6 7 5 6 6 8 7 9 6 6 6 6 7 5 7 5 6 4 8 5 7 8 8 9 10 12 6 7 7 6 6 6 7 5 7 8 7 7 7 6 8 8 6 6 6 7 7 5 7 7 6 7 9 7 8 10 9 9 8 5 5 7 9 5 7 4 8 9 8 9 10 4 6 7 5 7 6 8 7 5 5 8 7 8 9 8 4 6 6 5 4 6 6 7 7 6 6 5 5 7 8 7 7 8 8 7 6 7 6 7 7 6 6 5 6 7 5 9 9 9 3 6 5 6 8 5 7 7 8 6 7 8 7 6 6 7 5 7 6 6 4 6 6 7 6 7 7 7 8 6 10 8 6 7 6 6 6 6 6 6 6 7 6 4 8 8 6 5 6 7 9 7 6 7 6 7 5 6 6 10 10 10 10 6 7 8 8 7 9 7 3 8 8 5 7 7 5 6 6 5 5 4 7 8 6 6 5 6 6 6 5 5 8 6 10 9 8 7 6 7 8 3 5 7 8 8 5 6 3 9 8 5 7 6 8 7 7 9 7 8 7 6 5 7 10 6 7 9 9 9 6 8 6 7 8 7 5 5 11 5 8 9 7 9 5 6 6 8 8 6 6 5 7 5 7 7 5 7 9 8 10 8 7 7 4 5 10 8 10 9 6 8 9 9 7 6 6 7 8 5 8 7 9 10 10 10 9 8 9 8 8 8 7 9 10 10 6 7 7 5 8 9 9 10 5 5 6 10 9 7 7 9 9 8 6 9 10 7 5 7 8 7 8 6 6 5 7 7 6 7 8 5 7 7 7 4 6 6 8 4 6 8 5 4 5 6 9 8 6 7 8 8 8 7 7 8 7 5 8 9 5 9 7 7 8 6 7 6 8 8 8 5 10 8 5 7 5 8 7 7 8 6 4 8 9 8 6 5 7 7 5 9 7 8 9 9 8 7 9 5 6 6 7 7 8 8 8 8 7 7 6 9 8 7 6 7 7 7 6 6 8 7 7 6 6 10 5 6 9 7 9 8 9 6 8 9 9 6 7 6 10 10 7 7 8 4 7 7 8 8 9 8 8 7 4 9 7 8 6 6 7 7 6 4 5 8 6 5 7 8 4 6 6 6 9 7 7 7 7 7 7 4 6 8 5 9 5 11 7 7 7 9 5 7 8 7 7 7 7 7 7 9 8 6 5 8 9 5 8 7 7 8 8 7 7 8 7 9 6 6 7 7 6 8 8 6 6 11 7 7 9 6 8 10 9 8 6 7 7 9 6 5 8 7 6 8 9 9 7 8 7 6 9 7 8 9 7 9 6 8 6 7 4 5 6 7 6 7 8 9 8 7 8 5 8 8 7 8 9 7 8 6 5 7 7 6 6 7 6 6 7 8 8 9 6 7 6 5 7 7 5 5 5 8 9 5 7 11 8 8 7 7 7 8 3 6 6 6 5 5 4 8 8 6 5 7 8 9 9 6 8 5 4 5 9 8 10 8 10 7 7 6 4 6 7 7 6 4 6 6 7 8 7 8 8 7 7 7 5 5 6 5 5 6 5 7 8 6 8 4 6 5 6 6 8 6 6 4 6 6 6 8 7 6 7 7 4 5 16 14 9 9 10 10 12 4 4 9 4 5 9 10 8 7 8 7 6 5 9 5 9 7 8 5 7 9 9 8 7 8 9 9 7 7 7 6 7 8 8 6 7 6 5 6 7 7 7 6 5 7 4 6 7 6 3 5 8 5 8 4 5 5 6 5 4 5 5 6 7 9 5 11 13 10 10 8 7 6 4 6 6 9 9 6 7 7 6 6 5 5 6 7 9 5 7 8 7 7 5 8 4 6 6 5 5 7 7 5 8 5 6 7 6 6 7 7 7 7 6 6 6 7 7 4 5 7 6 6 5 8 7 6 7 6 5 6 7 7 6 7 7 7 4 7 8 9 5 8 8 6 5 7 7 7 7 6 6 6 4 8 6 4 8 5 9 8 9 4 6 5 4 6 5 5 7 11 5 7 6 5 8 9 11 8 5 7 5 6 6 8 7 6 9 5 9 6 6 5 9 7 9 8 8 7 10 9 7 7 4 7 6 7 7 8 6 4 6 5 6 9 7 4 6 7 6 7 4 7 7 6 4 5 8 9 8 9 7 9 8 6 4 7 7 7 4 5 6 6 5 4 6 4 5 4 8 5 8 8 6 7 6 5 7 9 10 6 6 9 6 4 7 6 6 8 6 7 7 4 6 6 7 7 6 5 7 8 7 6 7 7 7 6 5 6 5 7 5 4 7 5 4 5 5 10 7 6 8 7 7 7 8 7 7 6 8 8 7 6 7 5 7 9 10 8 9 7 6 7 7 9 7 6 7 7 5 6 7 7 7 6 7 7 8 10 6 8 9 5 9 7 7 7 8 6 7 5 6 7 7 7 6 6 7 8 7 5 7 10 9 8 9 9 9 8 8 7 6 8 9 7 8 8 8 6 4 9 6 6 11 11 8 6 8 8 6 5 6 6 5 4 7 7 7 7 7 9 9 7 7 6 7 7 8 7 8 6 5 7 7 6 6 4 6 8 8 7 8 8 8 7 8 5 7 7 6 7 5 7 5 6 6 8 6 10 5 5 7 7 6 9 8 9 4 8 8 9 9 6 6 7 7 7 9 6 11 6 6 9 7 7 7 6 7 7 6 6 5 7 7 9 7 6 5 6 6 5 7 6 9 7 7 8 8 7 7 8 5 6 5 6 6 9 4 7 5 7 10 10 10 9 5 6 6 7 8 6 4 7 6 5 5 5 7 7 5 6 7 7 4 6 7 8 6 7 7 6 8 9 8 8 5 7 7 9 6 5 8 6 6 5 7 6 8 6 6 5 7 6 6 5 5 6 4 5 6 7 8 5 7 8 7 7 9 9 7 8 7 8 8 7 5 9 6 5 5 9 5 5 4 5 5 7 8 5 6 5 5 5 7 9 5 5 6 8 6 6 6 6 8 7 7 8 8 9 6 7 7 7 6 7 7 5 8 5 5 5 5 6 5 6 5 5 7 6 8 5 6 5 7 6 5 6 7 8 9 6 9 7 7 8 9 4 5 6 6 6 6 7 8 9 8 7 6 7 6 5 6 6 7 6 7 9 4 5 7 6 7 5 8 7 9 9 6 6 5 6 6 5 7 7 5 9 7 8 9 9 8 5 7 7 8 5 7 7 6 7 8 7 6 4 6 5 7 5 7 9 7 7 6 9 9 9 8 6 7 6 5 8 7 6 6 8 8 7 8 6 8 8 7 8 6 6 8 8 8 4 6 5 4 10 7 5 7 8 7 4 7 8 5 6 4 7 6 7 7 5 7 8 8 6 7 8 9 6 8 7 6 8 5 5 6 7 4 8 8 9 8 7 7 7 4 8 8 6 5 5 6 4 6 6 7 7 6 9 10 5 7 9 9 4 10 6 7 8 7 7 7 8 5 6 7 7 4 4 8 8 9 5 6 4 7 8 9 5 5 8 9 7 9 6 5 8 7 6 7 6 4 6 6 8 7 6 8 7 4 5 8 7 7 8 6 9 10 5 9 6 4 5 7 6 8 9 9 9 6 7 7 8 8 9 8 8 9 4 6 7 6 7 8 5 6 8 7 8 6 6 7 6 6 4 7 6 5 7 6 10 5 7 5 5 7 8 4 6 6 5 6 6 5 5 7 6 6 8 7 8 8 5 8 5 6 7 8 5 7 8 7 7 6 7 11 9 7 5 4 6 6 7 7 7 8 9 9 10 9 4 7 6 8 7 7 8 7 7 8 10 7 7 6 8 7 8 6 8 7 6 5 8 8 9 11 8 4 7 8 4 5 6 4 6 7 6 7 9 10 9 5 6 7 8 7 7 5 10 11 10 4 6 6 6 9 7 8 7 5 8 7 7 7 7 7 6 8 8 8 6 5 6 5 7 5 6 8 10 7 7 8 8 6 8 8 5 5 8 9 9 9 9 9 10 8 8 9 9 7 7 7 7 9 10 9 3 6 4 11 7 7 10 7 4 8 9 8 6 8 7 8 9 10 7 4 7 9 6 7 9 9 7 7 6 7 5 6 8 8 7 8 4 5 7 7 6 5 6 7 4 6 7 9 4 7 6 8 9 4 7 6 7 7 8 7 8 6 6 7 5 9 6 9 9 8 5 10 10 9 10 10 8 7 8 9 8 7 8 7 8 8 8 10 8 9 6 7 6 7 7 6 5 8 8 5 9 10 6 7 9 4 7 8 9 6 7 6 11 7 5 5 4 7 7 10 4 5 7 6 6 6 4 5 7 8 7 7 5 6 8 7 7 6 4 6 7 6 4 5 7 7 7 6 9 8 7 5 7 7 4 5 7 6 6 7 8 8 5 7 10 8 7 10 8 8 9 9 7 8 9 6 8 6 8 5 9 9 8 8 6 7 6 7 7 9 8 7 9 8 9 5 9 8 9 10 12 8 8 5 7 5 6 10 8 9 7 7 10 9 9 9 9 7 8 8 6 4 7 6 9 10 8 8 5 6 6 5 7 7 6 6 6 5 4 5 7 6 4 6 5 7 7 7 6 7 5 5 6 6 5 9 6 9 7 7 6 5 7 7 9 6 6 7 7 6 7 8 7 5 4 8 9 9 6 8 5 7 7 7 5 5 8 5 7 5 7 7 6 6 5 7 6 7 3 7 4 6 6 8 6 7 6 6 6 6 6 4 8 4 6 7 6 7 7 8 8 6 7 6 7 8 4 6 6 6 7 7 5 4 9 5 9 10 4 6 7 8 7 8 8 8 7 7 6 7 5 6 7 7 7 7 4 5 7 6 8 4 6 8 9 7 6 6 6 7 7 9 5 5 5 9 9 9 4 5 10 5 6 11 5 6 7 5 10 5 9 7 6 7 7 7 8 9 7 7 7 6 6 5 7 8 7 5 5 6 7 5 7 7 7 5 11 4 9 8 4 7 8 7 7 7 6 4 5 6 8 7 7 7 6 6 6 6 8 7 8 7 4 7 7 5 10 11 10 8 7 7 8 5 9 7 8 8 10 6 7 8 7 8 8 7 7 6 6 8 8 8 5 8 8 7 7 6 8 7 7 9 6 7 7 7 5 7 4 8 9 8 8 10 5 7 6 8 8 9 7 4 7 7 6 9 5 9 7 8 6 9 5 7 8 8 6 7 6 12 7 7 7 6 4 6 4 8 5 7 7 6 7 6 8 8 8 7 6 5 8 6 7 6 5 7 5 8 7 6 5 5 5 5 9 10 10 9 8 9 8 5 10 4 7 5 6 5 4 9 8 8 8 10 4 9 5 6 5 5 6 7 6 6 6 8 6 "
          ],
          "name": "stdout"
        }
      ]
    },
    {
      "cell_type": "code",
      "metadata": {
        "ExecuteTime": {
          "end_time": "2018-08-13T20:26:42.857411Z",
          "start_time": "2018-08-13T20:26:42.709371Z"
        },
        "id": "_5q0f1fwu3Q1",
        "colab_type": "code",
        "outputId": "9dec1503-ba04-4f94-8f66-c9b571a820c1",
        "colab": {
          "base_uri": "https://localhost:8080/",
          "height": 298
        }
      },
      "source": [
        "MAX_LENGTH = max(map(len, names))\n",
        "print(\"max length:\", MAX_LENGTH)\n",
        "\n",
        "plt.title('Sequence length distribution')\n",
        "plt.hist(list(map(len, names)), bins=25);"
      ],
      "execution_count": 0,
      "outputs": [
        {
          "output_type": "stream",
          "text": [
            "max length: 16\n"
          ],
          "name": "stdout"
        },
        {
          "output_type": "display_data",
          "data": {
            "image/png": "[encoded data removed]",
            "text/plain": [
              "<Figure size 432x288 with 1 Axes>"
            ]
          },
          "metadata": {
            "tags": [],
            "needs_background": "light"
          }
        }
      ]
    },
    {
      "cell_type": "markdown",
      "metadata": {
        "id": "dWN7adRvu3Q4",
        "colab_type": "text"
      },
      "source": [
        "# Text processing\n",
        "\n",
        "First we need to collect a \"vocabulary\" of all unique tokens i.e. unique characters. We can then encode inputs as a sequence of character ids."
      ]
    },
    {
      "cell_type": "code",
      "metadata": {
        "id": "l4thVdYs5ZTI",
        "colab_type": "code",
        "colab": {}
      },
      "source": [
        "char_set = {'#'}"
      ],
      "execution_count": 0,
      "outputs": []
    },
    {
      "cell_type": "code",
      "metadata": {
        "id": "oG_UPh-P5JJN",
        "colab_type": "code",
        "colab": {}
      },
      "source": [
        "for name in names:\n",
        "  for char in name:\n",
        "    char_set.add(char)"
      ],
      "execution_count": 0,
      "outputs": []
    },
    {
      "cell_type": "code",
      "metadata": {
        "id": "W5LIRQ7C5uEn",
        "colab_type": "code",
        "colab": {}
      },
      "source": [
        "char_set = list(char_set)"
      ],
      "execution_count": 0,
      "outputs": []
    },
    {
      "cell_type": "code",
      "metadata": {
        "ExecuteTime": {
          "end_time": "2018-08-13T20:26:42.864592Z",
          "start_time": "2018-08-13T20:26:42.858725Z"
        },
        "id": "i8MOi1-3u3Q4",
        "colab_type": "code",
        "outputId": "7a8bd5fb-45ac-45f4-ae0b-1dda1ff9b8ae",
        "colab": {
          "base_uri": "https://localhost:8080/",
          "height": 34
        }
      },
      "source": [
        "tokens = char_set ### YOUR CODE HERE: all unique characters go here, padding included!\n",
        "\n",
        "tokens = list(tokens)\n",
        "n_tokens = len(tokens)\n",
        "print ('n_tokens:', n_tokens)\n",
        "\n",
        "assert 50 < n_tokens < 60"
      ],
      "execution_count": 0,
      "outputs": [
        {
          "output_type": "stream",
          "text": [
            "n_tokens: 56\n"
          ],
          "name": "stdout"
        }
      ]
    },
    {
      "cell_type": "markdown",
      "metadata": {
        "id": "zjelijZ9u3Q7",
        "colab_type": "text"
      },
      "source": [
        "### Cast everything from symbols into identifiers\n",
        "\n",
        "Tensorflow string manipulation is a bit tricky, so we'll work around it. \n",
        "We'll feed our recurrent neural network with ids of characters from our dictionary.\n",
        "\n",
        "To create such dictionary, let's assign `token_to_id`"
      ]
    },
    {
      "cell_type": "code",
      "metadata": {
        "id": "sCs5Dku46RCE",
        "colab_type": "code",
        "colab": {}
      },
      "source": [
        "tok_dict = {}"
      ],
      "execution_count": 0,
      "outputs": []
    },
    {
      "cell_type": "code",
      "metadata": {
        "id": "4wwAqYgP6Xqi",
        "colab_type": "code",
        "colab": {}
      },
      "source": [
        "for i in range(0, len(char_set)):\n",
        "  tok_dict[char_set[i]] = i"
      ],
      "execution_count": 0,
      "outputs": []
    },
    {
      "cell_type": "code",
      "metadata": {
        "id": "xxQp38J_7MgI",
        "colab_type": "code",
        "outputId": "0fb3e906-1fa1-45c8-f161-1ab0539501cb",
        "colab": {
          "base_uri": "https://localhost:8080/",
          "height": 34
        }
      },
      "source": [
        "char_set[tok_dict['d']]"
      ],
      "execution_count": 0,
      "outputs": [
        {
          "output_type": "execute_result",
          "data": {
            "text/plain": [
              "'d'"
            ]
          },
          "metadata": {
            "tags": []
          },
          "execution_count": 156
        }
      ]
    },
    {
      "cell_type": "code",
      "metadata": {
        "ExecuteTime": {
          "end_time": "2018-08-13T20:26:42.870330Z",
          "start_time": "2018-08-13T20:26:42.866135Z"
        },
        "id": "HJiDVVVlu3Q7",
        "colab_type": "code",
        "colab": {}
      },
      "source": [
        "token_to_id = tok_dict ### YOUR CODE HERE: create a dictionary of {symbol -> its  index in tokens}\n",
        "\n",
        "assert len(tokens) == len(token_to_id), \"dictionaries must have same size\""
      ],
      "execution_count": 0,
      "outputs": []
    },
    {
      "cell_type": "code",
      "metadata": {
        "ExecuteTime": {
          "end_time": "2018-08-13T20:26:42.875943Z",
          "start_time": "2018-08-13T20:26:42.871834Z"
        },
        "id": "FtKajUWEu3Q-",
        "colab_type": "code",
        "colab": {}
      },
      "source": [
        "def to_matrix(names, max_len=None, pad=token_to_id[pad_token], dtype=np.int32):\n",
        "    \"\"\"Casts a list of names into rnn-digestable padded matrix\"\"\"\n",
        "    \n",
        "    max_len = max_len or max(map(len, names))\n",
        "    names_ix = np.zeros([len(names), max_len], dtype) + pad\n",
        "\n",
        "    for i in range(len(names)):\n",
        "        name_ix = list(map(token_to_id.get, names[i]))\n",
        "        names_ix[i, :len(name_ix)] = name_ix\n",
        "\n",
        "    return names_ix"
      ],
      "execution_count": 0,
      "outputs": []
    },
    {
      "cell_type": "code",
      "metadata": {
        "ExecuteTime": {
          "end_time": "2018-08-13T20:26:42.883107Z",
          "start_time": "2018-08-13T20:26:42.877186Z"
        },
        "id": "3lyrZDc0u3RA",
        "colab_type": "code",
        "outputId": "3fc8cc44-64f7-4c4f-bdcb-1bd303d3ae42",
        "colab": {
          "base_uri": "https://localhost:8080/",
          "height": 151
        }
      },
      "source": [
        "# Example: cast 4 random names to padded matrices (so that we can easily batch them)\n",
        "print('\\n'.join(names[::2000]))\n",
        "print(to_matrix(names[::2000]))"
      ],
      "execution_count": 0,
      "outputs": [
        {
          "output_type": "stream",
          "text": [
            " Abagael\n",
            " Glory\n",
            " Prissie\n",
            " Giovanne\n",
            "[[49 10 32 46 26 46 51 19 21]\n",
            " [49 35 19  6 40  9 21 21 21]\n",
            " [49 18 40 42  7  7 42 51 21]\n",
            " [49 35 42  6 27 46 31 31 51]]\n"
          ],
          "name": "stdout"
        }
      ]
    },
    {
      "cell_type": "markdown",
      "metadata": {
        "id": "egZt8w95u3RD",
        "colab_type": "text"
      },
      "source": [
        "# Defining a recurrent neural network\n",
        "\n",
        "We can rewrite recurrent neural network as a consecutive application of dense layer to input $x_t$ and previous rnn state $h_t$. This is exactly what we're gonna do now.\n",
        "<img src=\"https://github.com/hse-aml/intro-to-dl/blob/master/week5/rnn.png?raw=1\" width=600>\n",
        "\n",
        "Since we're training a language model, there should also be:\n",
        "* An embedding layer that converts character id x_t to a vector.\n",
        "* An output layer that predicts probabilities of next phoneme based on h_t+1"
      ]
    },
    {
      "cell_type": "code",
      "metadata": {
        "ExecuteTime": {
          "end_time": "2018-08-13T20:26:44.039419Z",
          "start_time": "2018-08-13T20:26:42.884581Z"
        },
        "id": "pfeFlJuku3RE",
        "colab_type": "code",
        "colab": {}
      },
      "source": [
        "# remember to reset your session if you change your graph!\n",
        "s = keras_utils.reset_tf_session()"
      ],
      "execution_count": 0,
      "outputs": []
    },
    {
      "cell_type": "code",
      "metadata": {
        "ExecuteTime": {
          "end_time": "2018-08-13T20:26:44.044903Z",
          "start_time": "2018-08-13T20:26:44.041084Z"
        },
        "id": "4wFYrFTbu3RH",
        "colab_type": "code",
        "colab": {}
      },
      "source": [
        "import keras\n",
        "from keras.layers import concatenate, Dense, Embedding\n",
        "\n",
        "rnn_num_units = 64  # size of hidden state\n",
        "embedding_size = 16  # for characters\n",
        "\n",
        "# Let's create layers for our recurrent network\n",
        "# Note: we create layers but we don't \"apply\" them yet (this is a \"functional API\" of Keras)\n",
        "# Note: set the correct activation (from keras.activations) to Dense layers!\n",
        "\n",
        "# an embedding layer that converts character ids into embeddings\n",
        "embed_x = Embedding(n_tokens, embedding_size)\n",
        "\n",
        "# a dense layer that maps input and previous state to new hidden state, [x_t,h_t]->h_t+1\n",
        "get_h_next = Dense(units = rnn_num_units, activation = \"tanh\") ### YOUR CODE HERE\n",
        "\n",
        "# a dense layer that maps current hidden state to probabilities of characters [h_t+1]->P(x_t+1|h_t+1)\n",
        "get_probas = Dense(units = n_tokens, activation = \"softmax\") ### YOUR CODE HERE "
      ],
      "execution_count": 0,
      "outputs": []
    },
    {
      "cell_type": "markdown",
      "metadata": {
        "id": "tcrdf_5Xu3RJ",
        "colab_type": "text"
      },
      "source": [
        "We will generate names character by character starting with `start_token`:\n",
        "\n",
        "<img src=\"https://github.com/hse-aml/intro-to-dl/blob/master/week5/char-nn.png?raw=1\" width=600>"
      ]
    },
    {
      "cell_type": "code",
      "metadata": {
        "ExecuteTime": {
          "end_time": "2018-08-13T20:26:44.053212Z",
          "start_time": "2018-08-13T20:26:44.048389Z"
        },
        "id": "YgQb6BqEu3RK",
        "colab_type": "code",
        "colab": {}
      },
      "source": [
        "def rnn_one_step(x_t, h_t):\n",
        "    \"\"\"\n",
        "    Recurrent neural network step that produces \n",
        "    probabilities for next token x_t+1 and next state h_t+1\n",
        "    given current input x_t and previous state h_t.\n",
        "    We'll call this method repeatedly to produce the whole sequence.\n",
        "    \n",
        "    You're supposed to \"apply\" above layers to produce new tensors.\n",
        "    Follow inline instructions to complete the function.\n",
        "    \"\"\"\n",
        "    # convert character id into embedding\n",
        "    x_t_emb = embed_x(tf.reshape(x_t, [-1, 1]))[:, 0]\n",
        "    \n",
        "    # concatenate x_t embedding and previous h_t state\n",
        "    x_and_h = concatenate([x_t_emb, h_t]) ### YOUR CODE HERE\n",
        "    \n",
        "    # compute next state given x_and_h\n",
        "    h_next = get_h_next(x_and_h) ### YOUR CODE HERE\n",
        "    \n",
        "    # get probabilities for language model P(x_next|h_next)\n",
        "    output_probas = get_probas(h_next) ### YOUR CODE HERE\n",
        "    \n",
        "    return output_probas, h_next"
      ],
      "execution_count": 0,
      "outputs": []
    },
    {
      "cell_type": "markdown",
      "metadata": {
        "id": "ElSXeIfKu3RM",
        "colab_type": "text"
      },
      "source": [
        "# RNN: loop\n",
        "\n",
        "Once `rnn_one_step` is ready, let's apply it in a loop over name characters to get predictions.\n",
        "\n",
        "Let's assume that all names are at most length-16 for now, so we can simply iterate over them in a for loop.\n"
      ]
    },
    {
      "cell_type": "code",
      "metadata": {
        "ExecuteTime": {
          "end_time": "2018-08-13T20:26:44.342948Z",
          "start_time": "2018-08-13T20:26:44.056136Z"
        },
        "id": "G6Ru1Yslu3RN",
        "colab_type": "code",
        "colab": {}
      },
      "source": [
        "input_sequence = tf.placeholder(tf.int32, (None, MAX_LENGTH))  # batch of token ids\n",
        "batch_size = tf.shape(input_sequence)[0]\n",
        "\n",
        "predicted_probas = []\n",
        "h_prev = tf.zeros([batch_size, rnn_num_units])  # initial hidden state\n",
        "\n",
        "for t in range(MAX_LENGTH):\n",
        "    x_t = input_sequence[:, t]  # column t\n",
        "    probas_next, h_next = rnn_one_step(x_t, h_prev)\n",
        "    \n",
        "    h_prev = h_next\n",
        "    predicted_probas.append(probas_next)\n",
        "    \n",
        "# combine predicted_probas into [batch, time, n_tokens] tensor\n",
        "predicted_probas = tf.transpose(tf.stack(predicted_probas), [1, 0, 2])\n",
        "\n",
        "# next to last token prediction is not needed\n",
        "predicted_probas = predicted_probas[:, :-1, :]"
      ],
      "execution_count": 0,
      "outputs": []
    },
    {
      "cell_type": "markdown",
      "metadata": {
        "id": "xhzCZep8u3RP",
        "colab_type": "text"
      },
      "source": [
        "# RNN: loss and gradients\n",
        "\n",
        "Let's gather a matrix of predictions for $P(x_{next}|h)$ and the corresponding correct answers.\n",
        "\n",
        "We will flatten our matrices to shape [None, n_tokens] to make it easier.\n",
        "\n",
        "Our network can then be trained by minimizing crossentropy between predicted probabilities and those answers."
      ]
    },
    {
      "cell_type": "code",
      "metadata": {
        "ExecuteTime": {
          "end_time": "2018-08-13T20:26:44.354310Z",
          "start_time": "2018-08-13T20:26:44.344648Z"
        },
        "id": "WVtQKDOru3RP",
        "colab_type": "code",
        "colab": {}
      },
      "source": [
        "# flatten predictions to [batch*time, n_tokens]\n",
        "predictions_matrix = tf.reshape(predicted_probas, [-1, n_tokens])\n",
        "\n",
        "# flatten answers (next tokens) and one-hot encode them\n",
        "answers_matrix = tf.one_hot(tf.reshape(input_sequence[:, 1:], [-1]), n_tokens)"
      ],
      "execution_count": 0,
      "outputs": []
    },
    {
      "cell_type": "markdown",
      "metadata": {
        "id": "dtyPPNKYu3RR",
        "colab_type": "text"
      },
      "source": [
        "Usually it's a good idea to ignore gradients of loss for padding token predictions.\n",
        "\n",
        "Because we don't care about further prediction after the pad_token is predicted for the first time, so it doesn't make sense to punish our network after the pad_token is predicted.\n",
        "\n",
        "For simplicity you can ignore this comment, it's up to you."
      ]
    },
    {
      "cell_type": "code",
      "metadata": {
        "ExecuteTime": {
          "end_time": "2018-08-13T20:26:45.076642Z",
          "start_time": "2018-08-13T20:26:44.355594Z"
        },
        "id": "IVTZZ2-4u3RS",
        "colab_type": "code",
        "colab": {}
      },
      "source": [
        "# Define the loss as categorical cross-entropy (e.g. from keras.losses).\n",
        "# Mind that predictions are probabilities and NOT logits!\n",
        "# Remember to apply tf.reduce_mean to get a scalar loss!\n",
        "loss = tf.reduce_mean(-1 * tf.log(predictions_matrix) * answers_matrix)  ### YOUR CODE HERE\n",
        "#loss = tf.reduce_mean(keras.losses.categorical_crossentropy(answers_matrix, predictions_matrix))\n",
        "\n",
        "optimize = tf.train.AdamOptimizer().minimize(loss)"
      ],
      "execution_count": 0,
      "outputs": []
    },
    {
      "cell_type": "markdown",
      "metadata": {
        "id": "6WJC9DBEu3RU",
        "colab_type": "text"
      },
      "source": [
        "# RNN: training"
      ]
    },
    {
      "cell_type": "code",
      "metadata": {
        "ExecuteTime": {
          "end_time": "2018-08-13T20:26:55.322187Z",
          "start_time": "2018-08-13T20:26:45.078296Z"
        },
        "id": "JMADEy-ku3RV",
        "colab_type": "code",
        "outputId": "090b0733-827d-41c3-b991-c1376c767897",
        "colab": {
          "base_uri": "https://localhost:8080/",
          "height": 282
        }
      },
      "source": [
        "from IPython.display import clear_output\n",
        "from random import sample\n",
        "\n",
        "s.run(tf.global_variables_initializer())\n",
        "\n",
        "batch_size = 32\n",
        "history = []\n",
        "final_loss = 0\n",
        "\n",
        "for i in range(1000):\n",
        "    batch = to_matrix(sample(names, batch_size), max_len=MAX_LENGTH)\n",
        "    loss_i, _ = s.run([loss, optimize], {input_sequence: batch})\n",
        "    final_loss = loss_i\n",
        "\n",
        "    history.append(loss_i)\n",
        "    \n",
        "    if (i + 1) % 100 == 0:\n",
        "        clear_output(True)\n",
        "        plt.plot(history, label='loss')\n",
        "        plt.legend()\n",
        "        plt.show()\n",
        "        \n",
        "print(final_loss)\n",
        "assert np.mean(history[:10]) > np.mean(history[-10:]), \"RNN didn't converge\""
      ],
      "execution_count": 0,
      "outputs": [
        {
          "output_type": "display_data",
          "data": {
            "image/png": "[encoded data removed]",
            "text/plain": [
              "<Figure size 432x288 with 1 Axes>"
            ]
          },
          "metadata": {
            "tags": [],
            "needs_background": "light"
          }
        },
        {
          "output_type": "stream",
          "text": [
            "1.1016388\n"
          ],
          "name": "stdout"
        }
      ]
    },
    {
      "cell_type": "markdown",
      "metadata": {
        "id": "frIta53Uu3RY",
        "colab_type": "text"
      },
      "source": [
        "# RNN: sampling\n",
        "Once we've trained our network a bit, let's get to actually generating stuff. All we need is the `rnn_one_step` function you have written above."
      ]
    },
    {
      "cell_type": "code",
      "metadata": {
        "ExecuteTime": {
          "end_time": "2018-08-13T20:26:55.341196Z",
          "start_time": "2018-08-13T20:26:55.323787Z"
        },
        "id": "Ma-Oxh2Bu3RY",
        "colab_type": "code",
        "colab": {}
      },
      "source": [
        "x_t = tf.placeholder(tf.int32, (1,))\n",
        "h_t = tf.Variable(np.zeros([1, rnn_num_units], np.float32))  # we will update hidden state in this variable\n",
        "\n",
        "# For sampling we need to define `rnn_one_step` tensors only once in our graph.\n",
        "# We reuse all parameters thanks to functional API usage.\n",
        "# Then we can feed appropriate tensor values using feed_dict in a loop.\n",
        "# Note how different it is from training stage, where we had to unroll the whole sequence for backprop.\n",
        "next_probs, next_h = rnn_one_step(x_t, h_t)"
      ],
      "execution_count": 0,
      "outputs": []
    },
    {
      "cell_type": "code",
      "metadata": {
        "ExecuteTime": {
          "end_time": "2018-08-13T20:26:55.346422Z",
          "start_time": "2018-08-13T20:26:55.342659Z"
        },
        "id": "0pTvR6_uu3Ra",
        "colab_type": "code",
        "colab": {}
      },
      "source": [
        "def generate_sample(seed_phrase=start_token, max_length=MAX_LENGTH):\n",
        "    '''\n",
        "    This function generates text given a `seed_phrase` as a seed.\n",
        "    Remember to include start_token in seed phrase!\n",
        "    Parameter `max_length` is used to set the number of characters in prediction.\n",
        "    '''\n",
        "    x_sequence = [token_to_id[token] for token in seed_phrase]\n",
        "    s.run(tf.assign(h_t, h_t.initial_value))\n",
        "    \n",
        "    # feed the seed phrase, if any\n",
        "    for ix in x_sequence[:-1]:\n",
        "         s.run(tf.assign(h_t, next_h), {x_t: [ix]})\n",
        "    \n",
        "    # start generating\n",
        "    for _ in range(max_length-len(seed_phrase)):\n",
        "        x_probs,_ = s.run([next_probs, tf.assign(h_t, next_h)], {x_t: [x_sequence[-1]]})\n",
        "        x_sequence.append(np.random.choice(n_tokens, p=x_probs[0]))\n",
        "        \n",
        "    return ''.join([tokens[ix] for ix in x_sequence if tokens[ix] != pad_token])"
      ],
      "execution_count": 0,
      "outputs": []
    },
    {
      "cell_type": "code",
      "metadata": {
        "ExecuteTime": {
          "end_time": "2018-08-13T20:26:58.458115Z",
          "start_time": "2018-08-13T20:26:55.347900Z"
        },
        "id": "RfVjuxBRu3Rc",
        "colab_type": "code",
        "outputId": "4742ab33-4567-4fe1-d908-337ec2c2dd7a",
        "colab": {
          "base_uri": "https://localhost:8080/",
          "height": 185
        }
      },
      "source": [
        "# without prefix\n",
        "for _ in range(10):\n",
        "    print(generate_sample())"
      ],
      "execution_count": 0,
      "outputs": [
        {
          "output_type": "stream",
          "text": [
            " Karlei\n",
            " Mir\n",
            " Jofhy\n",
            " Wabi\n",
            " Eos\n",
            " Gerry\n",
            " Rancet\n",
            " Odco\n",
            " Miceed\n",
            " Kardhens\n"
          ],
          "name": "stdout"
        }
      ]
    },
    {
      "cell_type": "code",
      "metadata": {
        "ExecuteTime": {
          "end_time": "2018-08-13T20:27:01.986726Z",
          "start_time": "2018-08-13T20:26:58.459810Z"
        },
        "id": "ljNNc4zcu3Re",
        "colab_type": "code",
        "outputId": "d71dab3e-0a82-4cf2-b9b6-13796625e483",
        "colab": {
          "base_uri": "https://localhost:8080/",
          "height": 387
        }
      },
      "source": [
        "# with prefix conditioning\n",
        "for _ in range(10):\n",
        "    print(generate_sample('Sam'))"
      ],
      "execution_count": 0,
      "outputs": [
        {
          "output_type": "stream",
          "text": [
            "SamheCxFFRDRDPDX\n",
            "SamSunuSWHC'UXBW\n",
            "SammC'cMikhin\n"
          ],
          "name": "stdout"
        },
        {
          "output_type": "error",
          "ename": "KeyboardInterrupt",
          "evalue": "ignored",
          "traceback": [
            "\u001b[0;31m---------------------------------------------------------------------------\u001b[0m",
            "\u001b[0;31mKeyboardInterrupt\u001b[0m                         Traceback (most recent call last)",
            "\u001b[0;32m<ipython-input-216-f36d6e767d0e>\u001b[0m in \u001b[0;36m<module>\u001b[0;34m()\u001b[0m\n\u001b[1;32m      1\u001b[0m \u001b[0;31m# with prefix conditioning\u001b[0m\u001b[0;34m\u001b[0m\u001b[0;34m\u001b[0m\u001b[0;34m\u001b[0m\u001b[0m\n\u001b[1;32m      2\u001b[0m \u001b[0;32mfor\u001b[0m \u001b[0m_\u001b[0m \u001b[0;32min\u001b[0m \u001b[0mrange\u001b[0m\u001b[0;34m(\u001b[0m\u001b[0;36m10\u001b[0m\u001b[0;34m)\u001b[0m\u001b[0;34m:\u001b[0m\u001b[0;34m\u001b[0m\u001b[0;34m\u001b[0m\u001b[0m\n\u001b[0;32m----> 3\u001b[0;31m     \u001b[0mprint\u001b[0m\u001b[0;34m(\u001b[0m\u001b[0mgenerate_sample\u001b[0m\u001b[0;34m(\u001b[0m\u001b[0;34m'Sam'\u001b[0m\u001b[0;34m)\u001b[0m\u001b[0;34m)\u001b[0m\u001b[0;34m\u001b[0m\u001b[0;34m\u001b[0m\u001b[0m\n\u001b[0m",
            "\u001b[0;32m<ipython-input-214-460ea62e14bc>\u001b[0m in \u001b[0;36mgenerate_sample\u001b[0;34m(seed_phrase, max_length)\u001b[0m\n\u001b[1;32m     14\u001b[0m     \u001b[0;31m# start generating\u001b[0m\u001b[0;34m\u001b[0m\u001b[0;34m\u001b[0m\u001b[0;34m\u001b[0m\u001b[0m\n\u001b[1;32m     15\u001b[0m     \u001b[0;32mfor\u001b[0m \u001b[0m_\u001b[0m \u001b[0;32min\u001b[0m \u001b[0mrange\u001b[0m\u001b[0;34m(\u001b[0m\u001b[0mmax_length\u001b[0m\u001b[0;34m-\u001b[0m\u001b[0mlen\u001b[0m\u001b[0;34m(\u001b[0m\u001b[0mseed_phrase\u001b[0m\u001b[0;34m)\u001b[0m\u001b[0;34m)\u001b[0m\u001b[0;34m:\u001b[0m\u001b[0;34m\u001b[0m\u001b[0;34m\u001b[0m\u001b[0m\n\u001b[0;32m---> 16\u001b[0;31m         \u001b[0mx_probs\u001b[0m\u001b[0;34m,\u001b[0m\u001b[0m_\u001b[0m \u001b[0;34m=\u001b[0m \u001b[0ms\u001b[0m\u001b[0;34m.\u001b[0m\u001b[0mrun\u001b[0m\u001b[0;34m(\u001b[0m\u001b[0;34m[\u001b[0m\u001b[0mnext_probs\u001b[0m\u001b[0;34m,\u001b[0m \u001b[0mtf\u001b[0m\u001b[0;34m.\u001b[0m\u001b[0massign\u001b[0m\u001b[0;34m(\u001b[0m\u001b[0mh_t\u001b[0m\u001b[0;34m,\u001b[0m \u001b[0mnext_h\u001b[0m\u001b[0;34m)\u001b[0m\u001b[0;34m]\u001b[0m\u001b[0;34m,\u001b[0m \u001b[0;34m{\u001b[0m\u001b[0mx_t\u001b[0m\u001b[0;34m:\u001b[0m \u001b[0;34m[\u001b[0m\u001b[0mx_sequence\u001b[0m\u001b[0;34m[\u001b[0m\u001b[0;34m-\u001b[0m\u001b[0;36m1\u001b[0m\u001b[0;34m]\u001b[0m\u001b[0;34m]\u001b[0m\u001b[0;34m}\u001b[0m\u001b[0;34m)\u001b[0m\u001b[0;34m\u001b[0m\u001b[0;34m\u001b[0m\u001b[0m\n\u001b[0m\u001b[1;32m     17\u001b[0m         \u001b[0mx_sequence\u001b[0m\u001b[0;34m.\u001b[0m\u001b[0mappend\u001b[0m\u001b[0;34m(\u001b[0m\u001b[0mnp\u001b[0m\u001b[0;34m.\u001b[0m\u001b[0mrandom\u001b[0m\u001b[0;34m.\u001b[0m\u001b[0mchoice\u001b[0m\u001b[0;34m(\u001b[0m\u001b[0mn_tokens\u001b[0m\u001b[0;34m,\u001b[0m \u001b[0mp\u001b[0m\u001b[0;34m=\u001b[0m\u001b[0mx_probs\u001b[0m\u001b[0;34m[\u001b[0m\u001b[0;36m0\u001b[0m\u001b[0;34m]\u001b[0m\u001b[0;34m)\u001b[0m\u001b[0;34m)\u001b[0m\u001b[0;34m\u001b[0m\u001b[0;34m\u001b[0m\u001b[0m\n\u001b[1;32m     18\u001b[0m \u001b[0;34m\u001b[0m\u001b[0m\n",
            "\u001b[0;32m/tensorflow-1.15.2/python3.6/tensorflow_core/python/client/session.py\u001b[0m in \u001b[0;36mrun\u001b[0;34m(self, fetches, feed_dict, options, run_metadata)\u001b[0m\n\u001b[1;32m    954\u001b[0m     \u001b[0;32mtry\u001b[0m\u001b[0;34m:\u001b[0m\u001b[0;34m\u001b[0m\u001b[0;34m\u001b[0m\u001b[0m\n\u001b[1;32m    955\u001b[0m       result = self._run(None, fetches, feed_dict, options_ptr,\n\u001b[0;32m--> 956\u001b[0;31m                          run_metadata_ptr)\n\u001b[0m\u001b[1;32m    957\u001b[0m       \u001b[0;32mif\u001b[0m \u001b[0mrun_metadata\u001b[0m\u001b[0;34m:\u001b[0m\u001b[0;34m\u001b[0m\u001b[0;34m\u001b[0m\u001b[0m\n\u001b[1;32m    958\u001b[0m         \u001b[0mproto_data\u001b[0m \u001b[0;34m=\u001b[0m \u001b[0mtf_session\u001b[0m\u001b[0;34m.\u001b[0m\u001b[0mTF_GetBuffer\u001b[0m\u001b[0;34m(\u001b[0m\u001b[0mrun_metadata_ptr\u001b[0m\u001b[0;34m)\u001b[0m\u001b[0;34m\u001b[0m\u001b[0;34m\u001b[0m\u001b[0m\n",
            "\u001b[0;32m/tensorflow-1.15.2/python3.6/tensorflow_core/python/client/session.py\u001b[0m in \u001b[0;36m_run\u001b[0;34m(self, handle, fetches, feed_dict, options, run_metadata)\u001b[0m\n\u001b[1;32m   1178\u001b[0m     \u001b[0;32mif\u001b[0m \u001b[0mfinal_fetches\u001b[0m \u001b[0;32mor\u001b[0m \u001b[0mfinal_targets\u001b[0m \u001b[0;32mor\u001b[0m \u001b[0;34m(\u001b[0m\u001b[0mhandle\u001b[0m \u001b[0;32mand\u001b[0m \u001b[0mfeed_dict_tensor\u001b[0m\u001b[0;34m)\u001b[0m\u001b[0;34m:\u001b[0m\u001b[0;34m\u001b[0m\u001b[0;34m\u001b[0m\u001b[0m\n\u001b[1;32m   1179\u001b[0m       results = self._do_run(handle, final_targets, final_fetches,\n\u001b[0;32m-> 1180\u001b[0;31m                              feed_dict_tensor, options, run_metadata)\n\u001b[0m\u001b[1;32m   1181\u001b[0m     \u001b[0;32melse\u001b[0m\u001b[0;34m:\u001b[0m\u001b[0;34m\u001b[0m\u001b[0;34m\u001b[0m\u001b[0m\n\u001b[1;32m   1182\u001b[0m       \u001b[0mresults\u001b[0m \u001b[0;34m=\u001b[0m \u001b[0;34m[\u001b[0m\u001b[0;34m]\u001b[0m\u001b[0;34m\u001b[0m\u001b[0;34m\u001b[0m\u001b[0m\n",
            "\u001b[0;32m/tensorflow-1.15.2/python3.6/tensorflow_core/python/client/session.py\u001b[0m in \u001b[0;36m_do_run\u001b[0;34m(self, handle, target_list, fetch_list, feed_dict, options, run_metadata)\u001b[0m\n\u001b[1;32m   1357\u001b[0m     \u001b[0;32mif\u001b[0m \u001b[0mhandle\u001b[0m \u001b[0;32mis\u001b[0m \u001b[0;32mNone\u001b[0m\u001b[0;34m:\u001b[0m\u001b[0;34m\u001b[0m\u001b[0;34m\u001b[0m\u001b[0m\n\u001b[1;32m   1358\u001b[0m       return self._do_call(_run_fn, feeds, fetches, targets, options,\n\u001b[0;32m-> 1359\u001b[0;31m                            run_metadata)\n\u001b[0m\u001b[1;32m   1360\u001b[0m     \u001b[0;32melse\u001b[0m\u001b[0;34m:\u001b[0m\u001b[0;34m\u001b[0m\u001b[0;34m\u001b[0m\u001b[0m\n\u001b[1;32m   1361\u001b[0m       \u001b[0;32mreturn\u001b[0m \u001b[0mself\u001b[0m\u001b[0;34m.\u001b[0m\u001b[0m_do_call\u001b[0m\u001b[0;34m(\u001b[0m\u001b[0m_prun_fn\u001b[0m\u001b[0;34m,\u001b[0m \u001b[0mhandle\u001b[0m\u001b[0;34m,\u001b[0m \u001b[0mfeeds\u001b[0m\u001b[0;34m,\u001b[0m \u001b[0mfetches\u001b[0m\u001b[0;34m)\u001b[0m\u001b[0;34m\u001b[0m\u001b[0;34m\u001b[0m\u001b[0m\n",
            "\u001b[0;32m/tensorflow-1.15.2/python3.6/tensorflow_core/python/client/session.py\u001b[0m in \u001b[0;36m_do_call\u001b[0;34m(self, fn, *args)\u001b[0m\n\u001b[1;32m   1363\u001b[0m   \u001b[0;32mdef\u001b[0m \u001b[0m_do_call\u001b[0m\u001b[0;34m(\u001b[0m\u001b[0mself\u001b[0m\u001b[0;34m,\u001b[0m \u001b[0mfn\u001b[0m\u001b[0;34m,\u001b[0m \u001b[0;34m*\u001b[0m\u001b[0margs\u001b[0m\u001b[0;34m)\u001b[0m\u001b[0;34m:\u001b[0m\u001b[0;34m\u001b[0m\u001b[0;34m\u001b[0m\u001b[0m\n\u001b[1;32m   1364\u001b[0m     \u001b[0;32mtry\u001b[0m\u001b[0;34m:\u001b[0m\u001b[0;34m\u001b[0m\u001b[0;34m\u001b[0m\u001b[0m\n\u001b[0;32m-> 1365\u001b[0;31m       \u001b[0;32mreturn\u001b[0m \u001b[0mfn\u001b[0m\u001b[0;34m(\u001b[0m\u001b[0;34m*\u001b[0m\u001b[0margs\u001b[0m\u001b[0;34m)\u001b[0m\u001b[0;34m\u001b[0m\u001b[0;34m\u001b[0m\u001b[0m\n\u001b[0m\u001b[1;32m   1366\u001b[0m     \u001b[0;32mexcept\u001b[0m \u001b[0merrors\u001b[0m\u001b[0;34m.\u001b[0m\u001b[0mOpError\u001b[0m \u001b[0;32mas\u001b[0m \u001b[0me\u001b[0m\u001b[0;34m:\u001b[0m\u001b[0;34m\u001b[0m\u001b[0;34m\u001b[0m\u001b[0m\n\u001b[1;32m   1367\u001b[0m       \u001b[0mmessage\u001b[0m \u001b[0;34m=\u001b[0m \u001b[0mcompat\u001b[0m\u001b[0;34m.\u001b[0m\u001b[0mas_text\u001b[0m\u001b[0;34m(\u001b[0m\u001b[0me\u001b[0m\u001b[0;34m.\u001b[0m\u001b[0mmessage\u001b[0m\u001b[0;34m)\u001b[0m\u001b[0;34m\u001b[0m\u001b[0;34m\u001b[0m\u001b[0m\n",
            "\u001b[0;32m/tensorflow-1.15.2/python3.6/tensorflow_core/python/client/session.py\u001b[0m in \u001b[0;36m_run_fn\u001b[0;34m(feed_dict, fetch_list, target_list, options, run_metadata)\u001b[0m\n\u001b[1;32m   1348\u001b[0m       \u001b[0mself\u001b[0m\u001b[0;34m.\u001b[0m\u001b[0m_extend_graph\u001b[0m\u001b[0;34m(\u001b[0m\u001b[0;34m)\u001b[0m\u001b[0;34m\u001b[0m\u001b[0;34m\u001b[0m\u001b[0m\n\u001b[1;32m   1349\u001b[0m       return self._call_tf_sessionrun(options, feed_dict, fetch_list,\n\u001b[0;32m-> 1350\u001b[0;31m                                       target_list, run_metadata)\n\u001b[0m\u001b[1;32m   1351\u001b[0m \u001b[0;34m\u001b[0m\u001b[0m\n\u001b[1;32m   1352\u001b[0m     \u001b[0;32mdef\u001b[0m \u001b[0m_prun_fn\u001b[0m\u001b[0;34m(\u001b[0m\u001b[0mhandle\u001b[0m\u001b[0;34m,\u001b[0m \u001b[0mfeed_dict\u001b[0m\u001b[0;34m,\u001b[0m \u001b[0mfetch_list\u001b[0m\u001b[0;34m)\u001b[0m\u001b[0;34m:\u001b[0m\u001b[0;34m\u001b[0m\u001b[0;34m\u001b[0m\u001b[0m\n",
            "\u001b[0;32m/tensorflow-1.15.2/python3.6/tensorflow_core/python/client/session.py\u001b[0m in \u001b[0;36m_call_tf_sessionrun\u001b[0;34m(self, options, feed_dict, fetch_list, target_list, run_metadata)\u001b[0m\n\u001b[1;32m   1441\u001b[0m     return tf_session.TF_SessionRun_wrapper(self._session, options, feed_dict,\n\u001b[1;32m   1442\u001b[0m                                             \u001b[0mfetch_list\u001b[0m\u001b[0;34m,\u001b[0m \u001b[0mtarget_list\u001b[0m\u001b[0;34m,\u001b[0m\u001b[0;34m\u001b[0m\u001b[0;34m\u001b[0m\u001b[0m\n\u001b[0;32m-> 1443\u001b[0;31m                                             run_metadata)\n\u001b[0m\u001b[1;32m   1444\u001b[0m \u001b[0;34m\u001b[0m\u001b[0m\n\u001b[1;32m   1445\u001b[0m   \u001b[0;32mdef\u001b[0m \u001b[0m_call_tf_sessionprun\u001b[0m\u001b[0;34m(\u001b[0m\u001b[0mself\u001b[0m\u001b[0;34m,\u001b[0m \u001b[0mhandle\u001b[0m\u001b[0;34m,\u001b[0m \u001b[0mfeed_dict\u001b[0m\u001b[0;34m,\u001b[0m \u001b[0mfetch_list\u001b[0m\u001b[0;34m)\u001b[0m\u001b[0;34m:\u001b[0m\u001b[0;34m\u001b[0m\u001b[0;34m\u001b[0m\u001b[0m\n",
            "\u001b[0;31mKeyboardInterrupt\u001b[0m: "
          ]
        }
      ]
    },
    {
      "cell_type": "markdown",
      "metadata": {
        "id": "91nc49Ceu3Rh",
        "colab_type": "text"
      },
      "source": [
        "# Submit to Coursera"
      ]
    },
    {
      "cell_type": "code",
      "metadata": {
        "ExecuteTime": {
          "end_time": "2018-08-13T20:40:02.004926Z",
          "start_time": "2018-08-13T20:40:02.000821Z"
        },
        "id": "BWQHXYUKu3Rh",
        "colab_type": "code",
        "colab": {}
      },
      "source": [
        "# token expires every 30 min\n",
        "COURSERA_TOKEN = \"#\"\n",
        "COURSERA_EMAIL = \"#\""
      ],
      "execution_count": 0,
      "outputs": []
    },
    {
      "cell_type": "code",
      "metadata": {
        "ExecuteTime": {
          "end_time": "2018-08-13T20:40:18.923357Z",
          "start_time": "2018-08-13T20:40:03.549343Z"
        },
        "id": "vkVRKhM6u3Rj",
        "colab_type": "code",
        "outputId": "22a1268d-bb6b-4580-8cf0-f9bc2c4a4f79",
        "colab": {
          "base_uri": "https://localhost:8080/",
          "height": 67
        }
      },
      "source": [
        "from submit import submit_char_rnn\n",
        "samples = [generate_sample(' Al') for i in tqdm_utils.tqdm_notebook_failsafe(range(25))]\n",
        "submission = (history, samples)\n",
        "submit_char_rnn(submission, COURSERA_EMAIL, COURSERA_TOKEN)"
      ],
      "execution_count": 0,
      "outputs": [
        {
          "output_type": "stream",
          "text": [
            "*************************\n",
            "\n",
            "Submitted to Coursera platform. See results on assignment page!\n"
          ],
          "name": "stdout"
        }
      ]
    },
    {
      "cell_type": "markdown",
      "metadata": {
        "id": "UEstDPD3u3Rm",
        "colab_type": "text"
      },
      "source": [
        "# Try it out!\n",
        "\n",
        "__Disclaimer:__ This part of assignment is entirely optional. You won't receive bonus points for it. However, it's a fun thing to do. Please share your results on course forums.\n",
        "\n",
        "You've just implemented a recurrent language model that can be tasked with generating any kind of sequence, so there's plenty of data you can try it on:\n",
        "\n",
        "* Novels/poems/songs of your favorite author\n",
        "* News titles/clickbait titles\n",
        "* Source code of Linux or Tensorflow\n",
        "* Molecules in [smiles](https://en.wikipedia.org/wiki/Simplified_molecular-input_line-entry_system) format\n",
        "* Melody in notes/chords format\n",
        "* IKEA catalog titles\n",
        "* Pokemon names\n",
        "* Cards from Magic, the Gathering / Hearthstone\n",
        "\n",
        "If you're willing to give it a try, here's what you wanna look at:\n",
        "* Current data format is a sequence of lines, so a novel can be formatted as a list of sentences. Alternatively, you can change data preprocessing altogether.\n",
        "* While some datasets are readily available, others can only be scraped from the web. Try `Selenium` or `Scrapy` for that.\n",
        "* Make sure MAX_LENGTH is adjusted for longer datasets. There's also a bonus section about dynamic RNNs at the bottom.\n",
        "* More complex tasks require larger RNN architecture, try more neurons or several layers. It would also require more training iterations.\n",
        "* Long-term dependencies in music, novels or molecules are better handled with LSTM or GRU\n",
        "\n",
        "__Good hunting!__"
      ]
    },
    {
      "cell_type": "markdown",
      "metadata": {
        "collapsed": true,
        "id": "0oEe8GTku3Rn",
        "colab_type": "text"
      },
      "source": [
        "# Bonus level: dynamic RNNs\n",
        "\n",
        "Apart from Keras, there's also a friendly TensorFlow API for recurrent neural nets. It's based around the symbolic loop function (aka [tf.scan](https://www.tensorflow.org/api_docs/python/tf/scan)).\n",
        "\n",
        "RNN loop that we implemented for training can be replaced with single TensorFlow instruction: [tf.nn.dynamic_rnn](https://www.tensorflow.org/api_docs/python/tf/nn/dynamic_rnn).\n",
        "This interface allows for dynamic sequence length and comes with some pre-implemented architectures.\n",
        "\n",
        "Take a look at [tf.nn.rnn_cell.BasicRNNCell](https://www.tensorflow.org/api_docs/python/tf/contrib/rnn/BasicRNNCell)."
      ]
    },
    {
      "cell_type": "code",
      "metadata": {
        "ExecuteTime": {
          "end_time": "2018-08-13T20:27:12.975354Z",
          "start_time": "2018-08-13T20:27:12.737529Z"
        },
        "id": "rJQPRMaMu3Rn",
        "colab_type": "code",
        "colab": {}
      },
      "source": [
        "class CustomRNN(tf.nn.rnn_cell.BasicRNNCell):\n",
        "    def call(self, input, state):\n",
        "        # from docs:\n",
        "        # Returns:\n",
        "        # Output: A 2-D tensor with shape [batch_size, self.output_size].\n",
        "        # New state: Either a single 2-D tensor, or a tuple of tensors matching the arity and shapes of state.\n",
        "        return rnn_one_step(input[:, 0], state)\n",
        "    \n",
        "    @property\n",
        "    def output_size(self):\n",
        "        return n_tokens\n",
        "    \n",
        "cell = CustomRNN(rnn_num_units)\n",
        "\n",
        "input_sequence = tf.placeholder(tf.int32, (None, None))\n",
        "    \n",
        "predicted_probas, last_state = tf.nn.dynamic_rnn(cell, input_sequence[:, :, None], dtype=tf.float32)\n",
        "\n",
        "print('LSTM outputs for each step [batch,time,n_tokens]:')\n",
        "print(predicted_probas.eval({input_sequence: to_matrix(names[:10], max_len=50)}).shape)"
      ],
      "execution_count": 0,
      "outputs": []
    },
    {
      "cell_type": "markdown",
      "metadata": {
        "id": "KTRS0V8ju3Rq",
        "colab_type": "text"
      },
      "source": [
        "Note that we never used MAX_LENGTH in the code above: TF will iterate over however many time-steps you gave it.\n",
        "\n",
        "You can also use any pre-implemented RNN cell:"
      ]
    },
    {
      "cell_type": "code",
      "metadata": {
        "ExecuteTime": {
          "end_time": "2018-08-13T20:27:12.981697Z",
          "start_time": "2018-08-13T20:27:12.977590Z"
        },
        "id": "4jXzks6Lu3Rr",
        "colab_type": "code",
        "colab": {}
      },
      "source": [
        "for obj in dir(tf.nn.rnn_cell) + dir(tf.contrib.rnn):\n",
        "    if obj.endswith('Cell'):\n",
        "        print(obj, end=\"\\t\")"
      ],
      "execution_count": 0,
      "outputs": []
    },
    {
      "cell_type": "code",
      "metadata": {
        "ExecuteTime": {
          "end_time": "2018-08-13T20:27:13.168207Z",
          "start_time": "2018-08-13T20:27:12.986884Z"
        },
        "id": "dzLVuizAu3Rt",
        "colab_type": "code",
        "colab": {}
      },
      "source": [
        "input_sequence = tf.placeholder(tf.int32, (None, None))\n",
        "\n",
        "inputs_embedded = embed_x(input_sequence)\n",
        "\n",
        "# standard cell returns hidden state as output!\n",
        "cell = tf.nn.rnn_cell.LSTMCell(rnn_num_units)\n",
        "\n",
        "state_sequence, last_state = tf.nn.dynamic_rnn(cell, inputs_embedded, dtype=tf.float32)\n",
        "\n",
        "s.run(tf.global_variables_initializer())\n",
        "\n",
        "print('LSTM hidden state for each step [batch,time,rnn_num_units]:')\n",
        "print(state_sequence.eval({input_sequence: to_matrix(names[:10], max_len=50)}).shape)"
      ],
      "execution_count": 0,
      "outputs": []
    }
  ]
}