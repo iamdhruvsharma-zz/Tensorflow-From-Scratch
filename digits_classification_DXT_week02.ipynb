{
  "nbformat": 4,
  "nbformat_minor": 0,
  "metadata": {
    "kernelspec": {
      "display_name": "Python 3",
      "language": "python",
      "name": "python3"
    },
    "language_info": {
      "codemirror_mode": {
        "name": "ipython",
        "version": 3
      },
      "file_extension": ".py",
      "mimetype": "text/x-python",
      "name": "python",
      "nbconvert_exporter": "python",
      "pygments_lexer": "ipython3",
      "version": "3.6.5"
    },
    "colab": {
      "name": "digits_classification_DXT.ipynb",
      "provenance": [],
      "collapsed_sections": [
        "eO_t-VrD4k1q"
      ]
    }
  },
  "cells": [
    {
      "cell_type": "code",
      "metadata": {
        "id": "bJ3cbnFhVBbY",
        "colab_type": "code",
        "outputId": "ec2674fd-752a-4daf-f030-095343a42574",
        "colab": {
          "base_uri": "https://localhost:8080/",
          "height": 319
        }
      },
      "source": [
        "! shred -u setup_google_colab.py\n",
        "! wget https://raw.githubusercontent.com/hse-aml/intro-to-dl/master/setup_google_colab.py -O setup_google_colab.py\n",
        "import setup_google_colab\n",
        "# please, uncomment the week you're working on\n",
        "# setup_google_colab.setup_week1()\n",
        "setup_google_colab.setup_week2()\n",
        "# setup_google_colab.setup_week2_honor()\n",
        "# setup_google_colab.setup_week3()\n",
        "# setup_google_colab.setup_week4()\n",
        "# setup_google_colab.setup_week5()\n",
        "# setup_google_colab.setup_week6()"
      ],
      "execution_count": 1,
      "outputs": [
        {
          "output_type": "stream",
          "text": [
            "shred: setup_google_colab.py: failed to open for writing: No such file or directory\n",
            "--2020-04-30 16:11:07--  https://raw.githubusercontent.com/hse-aml/intro-to-dl/master/setup_google_colab.py\n",
            "Resolving raw.githubusercontent.com (raw.githubusercontent.com)... 151.101.0.133, 151.101.64.133, 151.101.128.133, ...\n",
            "Connecting to raw.githubusercontent.com (raw.githubusercontent.com)|151.101.0.133|:443... connected.\n",
            "HTTP request sent, awaiting response... 200 OK\n",
            "Length: 3636 (3.6K) [text/plain]\n",
            "Saving to: ‘setup_google_colab.py’\n",
            "\n",
            "setup_google_colab. 100%[===================>]   3.55K  --.-KB/s    in 0s      \n",
            "\n",
            "2020-04-30 16:11:07 (37.1 MB/s) - ‘setup_google_colab.py’ saved [3636/3636]\n",
            "\n",
            "**************************************************\n",
            "inception_v3_weights_tf_dim_ordering_tf_kernels_notop.h5\n",
            "**************************************************\n",
            "cifar-10-batches-py.tar.gz\n",
            "**************************************************\n",
            "mnist.npz\n"
          ],
          "name": "stdout"
        }
      ]
    },
    {
      "cell_type": "code",
      "metadata": {
        "id": "VEKTxvkYUqb6",
        "colab_type": "code",
        "outputId": "a20924ca-d2d5-4e9f-ea77-e369005dce5e",
        "colab": {
          "base_uri": "https://localhost:8080/",
          "height": 34
        }
      },
      "source": [
        "# set tf 1.x for colab\n",
        "%tensorflow_version 1.x"
      ],
      "execution_count": 2,
      "outputs": [
        {
          "output_type": "stream",
          "text": [
            "TensorFlow 1.x selected.\n"
          ],
          "name": "stdout"
        }
      ]
    },
    {
      "cell_type": "markdown",
      "metadata": {
        "id": "FaFgFcgIUqb-",
        "colab_type": "text"
      },
      "source": [
        "# MNIST digits classification with TensorFlow"
      ]
    },
    {
      "cell_type": "markdown",
      "metadata": {
        "id": "SvyL0XQmUqb-",
        "colab_type": "text"
      },
      "source": [
        "<img src=\"https://github.com/hse-aml/intro-to-dl/blob/master/week2/v2/images/mnist_sample.png?raw=1\" style=\"width:30%\">"
      ]
    },
    {
      "cell_type": "code",
      "metadata": {
        "id": "iqim9RGlUqb_",
        "colab_type": "code",
        "outputId": "a00e589d-de29-47b4-939f-b2f1d6db9ffd",
        "colab": {
          "base_uri": "https://localhost:8080/",
          "height": 50
        }
      },
      "source": [
        "import numpy as np\n",
        "from sklearn.metrics import accuracy_score\n",
        "from matplotlib import pyplot as plt\n",
        "%matplotlib inline\n",
        "import tensorflow as tf\n",
        "print(\"We're using TF\", tf.__version__)\n",
        "#tf.enable_eager_execution()\n",
        "\n",
        "import sys\n",
        "sys.path.append(\"../..\")\n",
        "import grading\n",
        "\n",
        "import matplotlib_utils\n",
        "from importlib import reload\n",
        "reload(matplotlib_utils)\n",
        "\n",
        "import grading_utils\n",
        "reload(grading_utils)\n",
        "\n",
        "import keras_utils\n",
        "from keras_utils import reset_tf_session"
      ],
      "execution_count": 3,
      "outputs": [
        {
          "output_type": "stream",
          "text": [
            "We're using TF 1.15.2\n"
          ],
          "name": "stdout"
        },
        {
          "output_type": "stream",
          "text": [
            "Using TensorFlow backend.\n"
          ],
          "name": "stderr"
        }
      ]
    },
    {
      "cell_type": "markdown",
      "metadata": {
        "id": "QLjsEZi_UqcD",
        "colab_type": "text"
      },
      "source": [
        "# Fill in your Coursera token and email\n",
        "To successfully submit your answers to our grader, please fill in your Coursera submission token and email"
      ]
    },
    {
      "cell_type": "code",
      "metadata": {
        "id": "ZN_01PGHUqcD",
        "colab_type": "code",
        "colab": {}
      },
      "source": [
        "grader = grading.Grader(assignment_key=\"XtD7ho3TEeiHQBLWejjYAA\", \n",
        "                        all_parts=[\"9XaAS\", \"vmogZ\", \"RMv95\", \"i8bgs\", \"rE763\"])"
      ],
      "execution_count": 0,
      "outputs": []
    },
    {
      "cell_type": "code",
      "metadata": {
        "id": "1I5GQaStUqcF",
        "colab_type": "code",
        "colab": {}
      },
      "source": [
        "# token expires every 30 min\n",
        "COURSERA_TOKEN = \"#\"\n",
        "COURSERA_EMAIL = \"#\""
      ],
      "execution_count": 0,
      "outputs": []
    },
    {
      "cell_type": "markdown",
      "metadata": {
        "id": "Or7ykSYrUqcI",
        "colab_type": "text"
      },
      "source": [
        "# Look at the data\n",
        "\n",
        "In this task we have 50000 28x28 images of digits from 0 to 9.\n",
        "We will train a classifier on this data."
      ]
    },
    {
      "cell_type": "code",
      "metadata": {
        "id": "_pf8ZfHqUqcI",
        "colab_type": "code",
        "colab": {
          "base_uri": "https://localhost:8080/",
          "height": 50
        },
        "outputId": "d86aab30-f00a-41c4-bc4c-77398b0da457"
      },
      "source": [
        "import preprocessed_mnist\n",
        "X_train, y_train, X_val, y_val, X_test, y_test = preprocessed_mnist.load_dataset()"
      ],
      "execution_count": 6,
      "outputs": [
        {
          "output_type": "stream",
          "text": [
            "Downloading data from https://s3.amazonaws.com/img-datasets/mnist.npz\n",
            " 9207808/11490434 [=======================>......] - ETA: 0s"
          ],
          "name": "stdout"
        }
      ]
    },
    {
      "cell_type": "code",
      "metadata": {
        "id": "0fj1wvINVvOU",
        "colab_type": "code",
        "outputId": "76a47ff9-242a-42e0-dfff-afc04b7455fe",
        "colab": {
          "base_uri": "https://localhost:8080/",
          "height": 67
        }
      },
      "source": [
        "print(\"Training Data Size: \", len(X_train), \"| Shape -\", X_train.shape, \"\\nValidation Data Size (For HP Tunning): \", len(X_val), \"\\nTest Data Size: \", len(X_test))"
      ],
      "execution_count": 7,
      "outputs": [
        {
          "output_type": "stream",
          "text": [
            "Training Data Size:  50000 | Shape - (50000, 28, 28) \n",
            "Validation Data Size (For HP Tunning):  10000 \n",
            "Test Data Size:  10000\n"
          ],
          "name": "stdout"
        }
      ]
    },
    {
      "cell_type": "code",
      "metadata": {
        "id": "XtrKwsZyvsgX",
        "colab_type": "code",
        "outputId": "04e08242-605f-4b5a-d3b7-b0bfe4b682c5",
        "colab": {
          "base_uri": "https://localhost:8080/",
          "height": 34
        }
      },
      "source": [
        "tf.executing_eagerly()"
      ],
      "execution_count": 8,
      "outputs": [
        {
          "output_type": "execute_result",
          "data": {
            "text/plain": [
              "False"
            ]
          },
          "metadata": {
            "tags": []
          },
          "execution_count": 8
        }
      ]
    },
    {
      "cell_type": "code",
      "metadata": {
        "id": "5oObgTluW752",
        "colab_type": "code",
        "colab": {}
      },
      "source": [
        "# import pandas as pd\n",
        "# data_X = pd.DataFrame(X_train[0])"
      ],
      "execution_count": 0,
      "outputs": []
    },
    {
      "cell_type": "code",
      "metadata": {
        "id": "a8n6seICUqcK",
        "colab_type": "code",
        "outputId": "2d870369-d9be-4499-8d7a-057460468918",
        "colab": {
          "base_uri": "https://localhost:8080/",
          "height": 681
        }
      },
      "source": [
        "# X contains rgb values divided by 255\n",
        "print(\"X_train [shape %s] sample patch:\\n\" % (str(X_train.shape)), X_train[1, 15:20, 5:10])\n",
        "print(\"A closeup of a sample patch:\")\n",
        "plt.imshow(X_train[1, 15:20, 5:10], cmap=\"Greys\")\n",
        "plt.show()\n",
        "print(\"And the whole sample:\")\n",
        "plt.imshow(X_train[1], cmap=\"Greys\")\n",
        "plt.show()\n",
        "print(\"y_train [shape %s] 10 samples:\\n\" % (str(y_train.shape)), y_train[:10])"
      ],
      "execution_count": 9,
      "outputs": [
        {
          "output_type": "stream",
          "text": [
            "X_train [shape (50000, 28, 28)] sample patch:\n",
            " [[0.         0.29803922 0.96470588 0.98823529 0.43921569]\n",
            " [0.         0.33333333 0.98823529 0.90196078 0.09803922]\n",
            " [0.         0.33333333 0.98823529 0.8745098  0.        ]\n",
            " [0.         0.33333333 0.98823529 0.56862745 0.        ]\n",
            " [0.         0.3372549  0.99215686 0.88235294 0.        ]]\n",
            "A closeup of a sample patch:\n"
          ],
          "name": "stdout"
        },
        {
          "output_type": "display_data",
          "data": {
            "image/png": "[encoded data removed]",
            "text/plain": [
              "<Figure size 432x288 with 1 Axes>"
            ]
          },
          "metadata": {
            "tags": [],
            "needs_background": "light"
          }
        },
        {
          "output_type": "stream",
          "text": [
            "And the whole sample:\n"
          ],
          "name": "stdout"
        },
        {
          "output_type": "display_data",
          "data": {
            "image/png": "[encoded data removed]",
            "text/plain": [
              "<Figure size 432x288 with 1 Axes>"
            ]
          },
          "metadata": {
            "tags": [],
            "needs_background": "light"
          }
        },
        {
          "output_type": "stream",
          "text": [
            "y_train [shape (50000,)] 10 samples:\n",
            " [5 0 4 1 9 2 1 3 1 4]\n"
          ],
          "name": "stdout"
        }
      ]
    },
    {
      "cell_type": "markdown",
      "metadata": {
        "id": "OimN9fRMUqcN",
        "colab_type": "text"
      },
      "source": [
        "# Linear model\n",
        "\n",
        "Your task is to train a linear classifier $\\vec{x} \\rightarrow y$ with SGD using TensorFlow.\n",
        "\n",
        "You will need to calculate a logit (a linear transformation) $z_k$ for each class: \n",
        "$$z_k = \\vec{x} \\cdot \\vec{w_k} + b_k \\quad k = 0..9$$\n",
        "\n",
        "And transform logits $z_k$ to valid probabilities $p_k$ with softmax: \n",
        "$$p_k = \\frac{e^{z_k}}{\\sum_{i=0}^{9}{e^{z_i}}} \\quad k = 0..9$$\n",
        "\n",
        "We will use a cross-entropy loss to train our multi-class classifier:\n",
        "$$\\text{cross-entropy}(y, p) = -\\sum_{k=0}^{9}{\\log(p_k)[y = k]}$$ \n",
        "\n",
        "where \n",
        "$$\n",
        "[x]=\\begin{cases}\n",
        "       1, \\quad \\text{if $x$ is true} \\\\\n",
        "       0, \\quad \\text{otherwise}\n",
        "    \\end{cases}\n",
        "$$\n",
        "\n",
        "Cross-entropy minimization pushes $p_k$ close to 1 when $y = k$, which is what we want.\n",
        "\n",
        "Here's the plan:\n",
        "* Flatten the images (28x28 -> 784) with `X_train.reshape((X_train.shape[0], -1))` to simplify our linear model implementation\n",
        "* Use a matrix placeholder for flattened `X_train`\n",
        "* Convert `y_train` to one-hot encoded vectors that are needed for cross-entropy\n",
        "* Use a shared variable `W` for all weights (a column $\\vec{w_k}$ per class) and `b` for all biases.\n",
        "* Aim for ~0.93 validation accuracy"
      ]
    },
    {
      "cell_type": "code",
      "metadata": {
        "id": "xXNX5AtYUqcN",
        "colab_type": "code",
        "outputId": "792e0599-b527-4beb-fa46-eac0cbe91747",
        "colab": {
          "base_uri": "https://localhost:8080/",
          "height": 50
        }
      },
      "source": [
        "X_train_flat = X_train.reshape((X_train.shape[0], -1))\n",
        "print(X_train_flat.shape)\n",
        "\n",
        "X_val_flat = X_val.reshape((X_val.shape[0], -1))\n",
        "print(X_val_flat.shape)"
      ],
      "execution_count": 10,
      "outputs": [
        {
          "output_type": "stream",
          "text": [
            "(50000, 784)\n",
            "(10000, 784)\n"
          ],
          "name": "stdout"
        }
      ]
    },
    {
      "cell_type": "code",
      "metadata": {
        "id": "xAdX-tZKUqcQ",
        "colab_type": "code",
        "outputId": "d3c5ec18-e8f9-4b27-b814-44ea563a5d04",
        "colab": {
          "base_uri": "https://localhost:8080/",
          "height": 84
        }
      },
      "source": [
        "import keras\n",
        "\n",
        "y_train_oh = keras.utils.to_categorical(y_train, 10)\n",
        "y_val_oh = keras.utils.to_categorical(y_val, 10)\n",
        "\n",
        "print(y_train_oh.shape)\n",
        "print(y_train_oh[:3], y_train[:3])"
      ],
      "execution_count": 11,
      "outputs": [
        {
          "output_type": "stream",
          "text": [
            "(50000, 10)\n",
            "[[0. 0. 0. 0. 0. 1. 0. 0. 0. 0.]\n",
            " [1. 0. 0. 0. 0. 0. 0. 0. 0. 0.]\n",
            " [0. 0. 0. 0. 1. 0. 0. 0. 0. 0.]] [5 0 4]\n"
          ],
          "name": "stdout"
        }
      ]
    },
    {
      "cell_type": "code",
      "metadata": {
        "id": "Q2PcXS2hUqcS",
        "colab_type": "code",
        "colab": {}
      },
      "source": [
        "# run this again if you remake your graph\n",
        "s = reset_tf_session()"
      ],
      "execution_count": 0,
      "outputs": []
    },
    {
      "cell_type": "code",
      "metadata": {
        "id": "vKgPmHMsUqcU",
        "colab_type": "code",
        "colab": {}
      },
      "source": [
        "# Model parameters: W and b\n",
        "#W = ### YOUR CODE HERE ### tf.get_variable(...) with shape[0] = 784\n",
        "#b = ### YOUR CODE HERE ### tf.get_variable(...)\n",
        "W = tf.get_variable(name = \"W\", shape = [784, 10])\n",
        "b = tf.get_variable(name = \"b\", shape = [1, 10])"
      ],
      "execution_count": 0,
      "outputs": []
    },
    {
      "cell_type": "code",
      "metadata": {
        "id": "QU1Udg73UqcW",
        "colab_type": "code",
        "colab": {}
      },
      "source": [
        "# Placeholders for the input data\n",
        "#input_X = ### YOUR CODE HERE ### tf.placeholder(...) for flat X with shape[0] = None for any batch size\n",
        "#input_y = ### YOUR CODE HERE ### tf.placeholder(...) for one-hot encoded true labels\n",
        "input_X = tf.placeholder(name = \"flat_X\", shape = [None, 784], dtype=tf.float32)\n",
        "input_y = tf.placeholder(name = \"flat_y\", shape = [None, 10], dtype=tf.float32)"
      ],
      "execution_count": 0,
      "outputs": []
    },
    {
      "cell_type": "markdown",
      "metadata": {
        "id": "eO_t-VrD4k1q",
        "colab_type": "text"
      },
      "source": [
        "# USED FOR DEBUGGING"
      ]
    },
    {
      "cell_type": "code",
      "metadata": {
        "id": "5jOaoVWvggG0",
        "colab_type": "code",
        "colab": {}
      },
      "source": [
        "# test_1 = np.ones(shape=(5, 10))\n",
        "# test_2 = np.ones(shape=(1, 10))"
      ],
      "execution_count": 0,
      "outputs": []
    },
    {
      "cell_type": "code",
      "metadata": {
        "id": "a-ubW-23gujC",
        "colab_type": "code",
        "colab": {}
      },
      "source": [
        "# test_1 + test_2"
      ],
      "execution_count": 0,
      "outputs": []
    },
    {
      "cell_type": "code",
      "metadata": {
        "id": "iW6w9Lnew1-o",
        "colab_type": "code",
        "colab": {}
      },
      "source": [
        "# s.run(tf.global_variables_initializer())"
      ],
      "execution_count": 0,
      "outputs": []
    },
    {
      "cell_type": "code",
      "metadata": {
        "id": "oTdVqGMLxFLF",
        "colab_type": "code",
        "colab": {}
      },
      "source": [
        "# value_2 = s.run([probas], feed_dict= {input_X: X_train_flat[0:100]})"
      ],
      "execution_count": 0,
      "outputs": []
    },
    {
      "cell_type": "code",
      "metadata": {
        "id": "URNUKb4xyDSe",
        "colab_type": "code",
        "outputId": "7cdd9cc4-5905-4626-c903-e831b6953d88",
        "colab": {
          "base_uri": "https://localhost:8080/",
          "height": 67
        }
      },
      "source": [
        "# value_1[0][0]"
      ],
      "execution_count": 0,
      "outputs": [
        {
          "output_type": "execute_result",
          "data": {
            "text/plain": [
              "array([-0.65193677,  0.07020569, -0.32333577, -0.21019895, -0.11334173,\n",
              "        0.24464521, -1.089917  ,  0.50641507, -0.63392365,  0.43028682],\n",
              "      dtype=float32)"
            ]
          },
          "metadata": {
            "tags": []
          },
          "execution_count": 43
        }
      ]
    },
    {
      "cell_type": "code",
      "metadata": {
        "id": "Fqt4zpBryoHf",
        "colab_type": "code",
        "outputId": "79f199e9-7677-44e0-a045-c5c13dd3952e",
        "colab": {
          "base_uri": "https://localhost:8080/",
          "height": 67
        }
      },
      "source": [
        "# value_2[0][0]"
      ],
      "execution_count": 0,
      "outputs": [
        {
          "output_type": "execute_result",
          "data": {
            "text/plain": [
              "array([0.15607071, 0.02723936, 0.0866124 , 0.0566522 , 0.24649215,\n",
              "       0.07983591, 0.13980561, 0.06353377, 0.06101837, 0.08273946],\n",
              "      dtype=float32)"
            ]
          },
          "metadata": {
            "tags": []
          },
          "execution_count": 44
        }
      ]
    },
    {
      "cell_type": "code",
      "metadata": {
        "id": "KdQvyMMH0b-e",
        "colab_type": "code",
        "colab": {}
      },
      "source": [
        "# value_3 = s.run([classes], feed_dict= {input_X: X_train_flat[0:100]})"
      ],
      "execution_count": 0,
      "outputs": []
    },
    {
      "cell_type": "code",
      "metadata": {
        "id": "VkBknbRG0rSv",
        "colab_type": "code",
        "outputId": "35a0bd7c-bd06-4f87-ec71-76bccdff691b",
        "colab": {
          "base_uri": "https://localhost:8080/",
          "height": 101
        }
      },
      "source": [
        "# value_3[0]"
      ],
      "execution_count": 0,
      "outputs": [
        {
          "output_type": "execute_result",
          "data": {
            "text/plain": [
              "array([9, 8, 0, 1, 2, 8, 6, 8, 6, 9, 8, 9, 8, 9, 9, 2, 9, 9, 9, 9, 0, 8,\n",
              "       9, 1, 1, 8, 0, 9, 9, 9, 9, 8, 9, 9, 8, 9, 9, 8, 2, 9, 9, 9, 9, 9,\n",
              "       9, 0, 0, 9, 9, 9, 8, 8, 1, 9, 0, 9, 9, 6, 0, 8, 1, 9, 9, 8, 0, 9,\n",
              "       9, 9, 9, 8, 9, 8, 6, 9, 9, 8, 9, 8, 8, 9, 9, 8, 9, 9, 6, 9, 9, 0,\n",
              "       8, 0, 0, 1, 0, 9, 9, 9, 9, 9, 9, 9])"
            ]
          },
          "metadata": {
            "tags": []
          },
          "execution_count": 77
        }
      ]
    },
    {
      "cell_type": "code",
      "metadata": {
        "id": "ptIpDhN61lho",
        "colab_type": "code",
        "colab": {}
      },
      "source": [
        "# value_4 = s.run([loss], feed_dict= {input_X: X_train_flat[0:100], input_y: y_train_oh[0:100]})"
      ],
      "execution_count": 0,
      "outputs": []
    },
    {
      "cell_type": "code",
      "metadata": {
        "id": "ntZ6rNwL1-zB",
        "colab_type": "code",
        "outputId": "937fc2da-d0c3-4008-c1df-eaf5146fe95a",
        "colab": {
          "base_uri": "https://localhost:8080/",
          "height": 34
        }
      },
      "source": [
        "# value_4"
      ],
      "execution_count": 0,
      "outputs": [
        {
          "output_type": "execute_result",
          "data": {
            "text/plain": [
              "[2.4926052]"
            ]
          },
          "metadata": {
            "tags": []
          },
          "execution_count": 90
        }
      ]
    },
    {
      "cell_type": "markdown",
      "metadata": {
        "id": "Tgi6o2uV41Wl",
        "colab_type": "text"
      },
      "source": [
        "# CODING LINEAR MODEL"
      ]
    },
    {
      "cell_type": "code",
      "metadata": {
        "id": "3l4u9F9S4u53",
        "colab_type": "code",
        "outputId": "626f61b5-6b74-4f9f-bf35-7762db2564a2",
        "colab": {
          "base_uri": "https://localhost:8080/",
          "height": 151
        }
      },
      "source": [
        "# Compute predictions\n",
        "# logits = ### YOUR CODE HERE ### logits for input_X, resulting shape should be [input_X.shape[0], 10]\n",
        "# probas = ### YOUR CODE HERE ### apply tf.nn.softmax to logits\n",
        "# classes = ### YOUR CODE HERE ### apply tf.argmax to find a class index with highest probability\n",
        "logits = (input_X @ W ) + b\n",
        "probas = tf.nn.softmax(logits)\n",
        "classes = tf.argmax(probas, axis=1)\n",
        "\n",
        "# Loss should be a scalar number: average loss over all the objects with tf.reduce_mean().\n",
        "# Use tf.nn.softmax_cross_entropy_with_logits on top of one-hot encoded input_y and logits.\n",
        "# It is identical to calculating cross-entropy on top of probas, but is more numerically friendly (read the docs).\n",
        "#loss = ### YOUR CODE HERE ### cross-entropy loss \n",
        "loss  = tf.reduce_mean(tf.nn.softmax_cross_entropy_with_logits(logits=logits, labels=input_y))\n",
        "\n",
        "# Use a default tf.train.AdamOptimizer to get an SGD step\n",
        "#step = ### YOUR CODE HERE ### optimizer step that minimizes the loss\n",
        "step = tf.train.AdamOptimizer().minimize(loss)"
      ],
      "execution_count": 16,
      "outputs": [
        {
          "output_type": "stream",
          "text": [
            "WARNING:tensorflow:From <ipython-input-16-0b1658fdc3c6>:9: softmax_cross_entropy_with_logits (from tensorflow.python.ops.nn_ops) is deprecated and will be removed in a future version.\n",
            "Instructions for updating:\n",
            "\n",
            "Future major versions of TensorFlow will allow gradients to flow\n",
            "into the labels input on backprop by default.\n",
            "\n",
            "See `tf.nn.softmax_cross_entropy_with_logits_v2`.\n",
            "\n"
          ],
          "name": "stdout"
        }
      ]
    },
    {
      "cell_type": "code",
      "metadata": {
        "scrolled": false,
        "id": "bRr6chvMUqcb",
        "colab_type": "code",
        "outputId": "fbf265ad-3dc0-4656-9f0b-6bf1ce8825d9",
        "colab": {
          "base_uri": "https://localhost:8080/",
          "height": 309
        }
      },
      "source": [
        "s.run(tf.global_variables_initializer())\n",
        "\n",
        "BATCH_SIZE = 512\n",
        "EPOCHS = 40\n",
        "\n",
        "# for logging the progress right here in Jupyter (for those who don't have TensorBoard)\n",
        "simpleTrainingCurves = matplotlib_utils.SimpleTrainingCurves(\"cross-entropy\", \"accuracy\")\n",
        "\n",
        "for epoch in range(EPOCHS):  # we finish an epoch when we've looked at all training samples\n",
        "    \n",
        "    batch_losses = []\n",
        "    for batch_start in range(0, X_train_flat.shape[0], BATCH_SIZE):  # data is already shuffled\n",
        "        _, batch_loss = s.run([step, loss], {input_X: X_train_flat[batch_start:batch_start+BATCH_SIZE], \n",
        "                                             input_y: y_train_oh[batch_start:batch_start+BATCH_SIZE]})\n",
        "        # collect batch losses, this is almost free as we need a forward pass for backprop anyway\n",
        "        batch_losses.append(batch_loss)\n",
        "\n",
        "    train_loss = np.mean(batch_losses)\n",
        "    val_loss = s.run(loss, {input_X: X_val_flat, input_y: y_val_oh})  # this part is usually small\n",
        "    train_accuracy = accuracy_score(y_train, s.run(classes, {input_X: X_train_flat}))  # this is slow and usually skipped\n",
        "    valid_accuracy = accuracy_score(y_val, s.run(classes, {input_X: X_val_flat}))  \n",
        "    simpleTrainingCurves.add(train_loss, val_loss, train_accuracy, valid_accuracy)"
      ],
      "execution_count": 18,
      "outputs": [
        {
          "output_type": "display_data",
          "data": {
            "text/html": [
              "<img src=\"data:image/jpeg;base64,/9j/4AAQSkZJRgABAQEASABIAAD/2wBDAAIBAQEBAQIBAQECAgICAgQDAgICAgUEBAMEBgUGBgYFBgYGBwkIBgcJBwYGCAsICQoKCgoKBggLDAsKDAkKCgr/2wBDAQICAgICAgUDAwUKBwYHCgoKCgoKCgoKCgoKCgoKCgoKCgoKCgoKCgoKCgoKCgoKCgoKCgoKCgoKCgoKCgoKCgr/wAARCAEgA2ADASIAAhEBAxEB/8QAHwAAAQUBAQEBAQEAAAAAAAAAAAECAwQFBgcICQoL/8QAtRAAAgEDAwIEAwUFBAQAAAF9AQIDAAQRBRIhMUEGE1FhByJxFDKBkaEII0KxwRVS0fAkM2JyggkKFhcYGRolJicoKSo0NTY3ODk6Q0RFRkdISUpTVFVWV1hZWmNkZWZnaGlqc3R1dnd4eXqDhIWGh4iJipKTlJWWl5iZmqKjpKWmp6ipqrKztLW2t7i5usLDxMXGx8jJytLT1NXW19jZ2uHi4%2BTl5ufo6erx8vP09fb3%2BPn6/8QAHwEAAwEBAQEBAQEBAQAAAAAAAAECAwQFBgcICQoL/8QAtREAAgECBAQDBAcFBAQAAQJ3AAECAxEEBSExBhJBUQdhcRMiMoEIFEKRobHBCSMzUvAVYnLRChYkNOEl8RcYGRomJygpKjU2Nzg5OkNERUZHSElKU1RVVldYWVpjZGVmZ2hpanN0dXZ3eHl6goOEhYaHiImKkpOUlZaXmJmaoqOkpaanqKmqsrO0tba3uLm6wsPExcbHyMnK0tPU1dbX2Nna4uPk5ebn6Onq8vP09fb3%2BPn6/9oADAMBAAIRAxEAPwD9/KKKKACiiigAooooAKKKKACiiigAooooAKKKKACiiigAooooAKKKKACiiigAooooAKKKKACiiigAooooAKKKKACiiigAooooAKKKKACiiigAooooAKKKKACiiigAooooAKKKKACiiigAooooAKKKKACiiigAooooAKKKKACiiigAooooAKKKKACiiigAooooAKKKKACiiigAooooAKKKKACiiigAooooAKKKKACiiigAooooAKKKKACiiigAooooAKKKKACiiigAooooAKKKKACiiigAooooAKKKKACiiigAooooAKKKKACiiigAooooAKKKKACiiigAooooAKKKKACiiigAooooAKKKKACuN%2BOP7QHwm/Zx8JW/jT4veJ5dPtL7U4dN0u2stLub%2B91K9lDGO1tLO0jluLudlR2EUMbvtR2xhWI7KvFv2u/gP8VPiX4h%2BGfxl%2BBd14fl8X/CrxjPrWmaJ4tu57bTdYhudLvdMubaW4ghmktH8q9aSOdYZtrR7TGyu2ACjpH/AAUr/Y71rxm3w8tvHviCDW7fSodU1bTtR%2BHOvWkmi2EhuAt3qXn2SDTIAbWcNLdmFEKYYqWUGbwn/wAFH/2NfGfg/wAQ%2BOtM%2BLFza6f4Y0e11fVBrnhPVdMuJNPuXMdreWtvd2sU19bzyAxwy2ySpM5CRlmIB86vP2GPjP8AHW0/aRP7Qt74V8My/tB/CPTvBskfgrWLrUzo7RWusWsr%2BbcWtqZ1VNRiZDsXeyygogxuy9Y/Y2/at%2BM%2Btaz8UP2lPh38G9X1e0%2BE6eBtB8E6d4n1QaRrSy6jaXt5fXd2bBJ9PYmyg%2BzxQw3BtnDP50hIwAeyX/7fP7N2k%2BAbH4h6tdeOLSHVPED6Jpeh3Xwj8SR67e3yW5uXjh0dtPGoShYAZTIluUCKzFsA49P8JeOfDfjbwTY/EPRbi5i0rULBbyCTVNPnsZY4iu7MsFykcsDAfeSRVZSCGAIIr41tv2Gf2tJfgpJ4W8feGPCnjS%2Bh%2BIcut%2BC9B1n9ofxXb3fgOxOmxWoi0/xbHp7atcSGUXcreZDGBHeGENsjGfUvB/7Bmq%2BKfgJo3hb9pz46%2BOPEfj5PhtdeFtf8Q6T8Q9at9Muhc2tzbyTPpa3SWN5MiXTBbq4tmmdoopWKuibADc8Mf8FJP2MvF/h7xJ4s0b4tXK6Z4W8GXni6/vr7wlqtpFe6BaruuNU09p7VBqtogK5nsvPQmSMAkyIG4n40f8FdP2YfAf7M/wATf2gfhW%2Bs%2BM7v4b%2BDYfEjeGW8L6xps2r2Nw7R2t3avNYFrixlkRh9vgjmtkVWdnCqSPHfC/8AwSh%2BNC/BPxf8LPFnh3w9J4h/4UL4j8A%2BC/Hmo/tD%2BNvECSXGpWEdp5h0jVUkttGtpDDE8scEl0yeVGqFggz6P%2B1L/wAE5vih%2B0BYeKtE0Pxj4d0q2179le%2B%2BGlrLM87GDVpLiOWGdo1iANqNhBIbzBnhO9AHqkv/AAUU/ZZt/E3hrwJeav41tvEni7TpdQ0HwpefCTxLDq8tnFd/Y5LmSwk08XNvCkxG6SaNEVGWUkRsrmXwN/wUT/Y7%2BJGqarpXhD4tyXB0rQ9Q1lbufw1qVvaapp1iwS8u9NuZrdYdVhhYqHeyedVLqCfmGcXwR8APjz4x/apsf2oPjn4f8HeH5JPg5f8Ag/VNE8J%2BK7vVTBcy6tHcpJDcz6fZl4mgiUsTGjJIdoV1USHwGb9hz9pf4bfs8%2BF/Cnxo1rwIPCP7N3wP8SaB4L1PwrfXcmpeKd2hHTLe4vbeW2ii04JZozSQxS3QknZXDxqgQgH0D4U/4Kl/sL%2BNPBus/ELQ/jLdrouheDj4tutRv/BmsWcdzoIKB9Vs/PtEN/ZxmRBJPbCWOLcPMZc167a/GD4c3vxcuPgVZ%2BIxN4qtPDUGv3emRWsrCHTp55beGd5QnlL5ksE6ohfe3kyEKQjEfFX7I/7P3xC8WfBL4Q/Hb9t/Uvhlovww%2BG/7L9z4fgk07W5wmr6bqmnaWby%2B1X7VBDDpkEVppyq0CS3CZleRplWNVrsP%2BCK3wr8d6P8As76n8evit4tbxFrHjW%2Bg03w54hlgaOS%2B8I6JF/ZWiXBD8/6VDDNqhPd9WcgKCFAB9lUUUUAFFFFABRRRQAUUUUAFFFFABRRRQAUUUUAFFFFABRRRQAUUUUAFFFFABRRRQAUUUUAFFFFABRRRQAUUUUAFFFFABRRRQAV4jpH/AAUY/Y91K716z1P4pXnh5vDnhy58QahJ418I6roMc2k27pHPf2smpWsC31ujyRK0tsZUBljGcuufab2K5ms5YbO6EEzxMsUxj3%2BWxHDbT1wecd6/MTV/%2BCOX7cvxf1bwvrnxu%2BOOhvrfhrwfqFnqHijUPit4m8TjxDrf2zSr611E6XfRQ2Wk20lzpi%2BfYWQCiOTassgVAoB9sv8At/8A7MNr8NG%2BLGseIPFWlaW2uQaNY2eufDLX7DVNTv5kMkMFlptxYpe37SIGdfs8MgZUdgSEYjovAf7VnwP%2BI%2Bv2XhPw54h1SHV7/wAKT%2BJIdI1rwrqWmXaabDd/ZJZZYby3ikgdZ/kMMirL32bea8m%2BJ3wc/bd%2BMTfD342654N%2BFWh/EP4UeOptY8P%2BGbXxxqV/ouuWdxpN3plzHcXz6VDNYzFL2SSN0tbgRmIKfMEjYq/En4Dftwa/8ZfDv7TXgfRvhXaeLL74Yar4L8Y6FqXivUpLDSFuL%2BG6tb%2ByuE04SagYhG6yW8sVoJS4xLFjkA7jSf8Ago3%2ByB4j17wL4W8K/EbVdZ1P4k%2BDdK8W%2BDdO0TwPrN7PeaHqL7LXUZEgtGa1t92PMknEa24ZTN5QYE7Hw1/bc/Zu%2BK/xGufhP4Z8X6tZ6/b6Xc6nDZeJ/BmraIt/Y28iRz3dlLqNrBHfwRvLEHltmkRfMQkgMpPlH7Cn7CXxY/Zh1/4caz488QeGrs%2BDv2UvCPwxv30i5nlZtW0t5muZovMgj3Wrb02MxV22/NGmBXjXw0/4JV/tjeJ/ij4X8TftTfGGz1SLT/AHivwv408TQfF/xJrV54il1exS2/tO10y%2Bhj0/QjlSxtLRSi5UCZxGq0AfUvhP/gov%2ByP410WPxVoPjvXP7DuNV0vT9P8AEt78P9btdK1GXUr2OyspLS%2Bns0tryCW5mijFxBI8IMqFnCsCfS/C3xd%2BHnjX4geKfhd4X8Q/a9c8FyWcfie0S0mC2Ml1B9ogjMrII3doSshRGZkWSMsFEibvmHxx4E%2BIvhX/AIJ7eNPgR/wUM8T/AAq8EeAtB%2BGkWgW3xM8O%2BLbsM06RpbWupPaXVnAmmzLMLeSGCO4umM5REcnaG7X/AIJX/D74seG/2RNK%2BKv7RVglv8TvixfS%2BOviJCtu0X2e/v1jMNpsb5k%2By2MdlZ7TkgWuDQB9G0UUUAFFFFABRRRQAUUUUAFFFFABRRRQAUUUUAFFFFABRRRQAUUUUAFFFFABRRRQAUUUUAFFFFABRRRQAUUUUAFFFFABRRRQAUUUUAFeL/Hrx/8AtF/8NF%2BBfgR8BfGfgrw%2Bmv8AgrxLr2r6n4v8F3etEnTrvQ7eGGGO31Kx8sN/akrMzM%2BfLQALyT7RXhXxF1pLL/gpV8IdFkUf6b8E/iGyN33R6t4NOPyZj%2BFJtLcuEJVHaPZv7tWX/wDhB/8AgoX/ANHQfBn/AMMPq3/zUUf8IP8A8FC/%2BjoPgz/4YfVv/mor2aimQeM/8IP/AMFC/wDo6D4M/wDhh9W/%2Baij/hB/%2BChf/R0HwZ/8MPq3/wA1FezUUAeM/wDCD/8ABQv/AKOg%2BDP/AIYfVv8A5qKP%2BEH/AOChf/R0HwZ/8MPq3/zUV7NRQB4z/wAIP/wUL/6Og%2BDP/hh9W/8Amoo/4Qf/AIKF/wDR0HwZ/wDDD6t/81FezUUAeM/8IP8A8FC/%2BjoPgz/4YfVv/moo/wCEH/4KF/8AR0HwZ/8ADD6t/wDNRXs1FAHjP/CD/wDBQv8A6Og%2BDP8A4YfVv/moo/4Qf/goX/0dB8Gf/DD6t/8ANRXs1FAHjP8Awg//AAUL/wCjoPgz/wCGH1b/AOaij/hB/wDgoX/0dB8Gf/DD6t/81FezUUAeM/8ACD/8FC/%2BjoPgz/4YfVv/AJqKP%2BEH/wCChf8A0dB8Gf8Aww%2Brf/NRVrX/AI3/ALInwptNI0n46fGH4c%2BHNc1DRYNQNt4u8Q2Fpd3EcmR5%2B24dXZGdJAG6ZRhnggZv/DX/APwTg/6Oi%2BCP/hbaP/8AHa5p4zB05OM6sU10cop/c5JntYfhviTF0I1qGBrzhJXUo0a0otd1KNGUWtHqm1puWP8AhB/%2BChf/AEdB8Gf/AAw%2Brf8AzUUf8IP/AMFC/wDo6D4M/wDhh9W/%2Baiq/wDw1/8A8E4P%2Bjovgj/4W2j/APx2vTtA0X4WeK9CsvFPhbSfD%2BpaZqVpHdadqOnwQTQXUEih45Y5EBV0ZSGVlJBBBBwaulicPXbVOcZW7ST/ACbOfHZNnOVwjPG4WrSUnZOpTqU03vZOdOCbtrZNu2trannP/CD/APBQv/o6D4M/%2BGH1b/5qKP8AhB/%2BChf/AEdB8Gf/AAw%2Brf8AzUV558Pv%2BCjX7F/i/wAD2fjDxD8PfE%2Bgz6p441rwtomjXPwe1ue81a9064v45FtIodPZ7omHT552WJXMIBjk2SKyjsviF%2B1R%2By14FsvHtpeaJFp%2BseAvCGteIby28WeBNW0mzu7PTF/0ue3upNOcXtvEzRCSWyS6KiaNgj70V9jzTR/4Qf8A4KF/9HQfBn/ww%2Brf/NRR/wAIP/wUL/6Og%2BDP/hh9W/8AmoqrYftWfsYah8Z5P2foby3/AOEot/EEeg3Uf/CDX4sIdVfTo9SjsW1BrQWizvaSpMkZlDODhQWBUbPxr%2BKvwV%2BEn7POu/tD6P4R0bxRp2l2DSabb6GttINVumlEEFrFMAUDSXDJDuJ2qzEt0NAFD/hB/wDgoX/0dB8Gf/DD6t/81FH/AAg//BQv/o6D4M/%2BGH1b/wCain/s4fEC2%2BLl54y8D/FH4FeG/CvjDwH4gh0zX9K0fUV1WxkWextr23uba6ktLZ5Y3iuVU74I2WWKVcMoV38k%2BJn7aPiH4DeGfifL8cv2Q/BGneIPAHwsHjuy03QvHQvrO6sjPPAILy6k0uBrCbfA3Kw3EbKshR38phQB6x/wg/8AwUL/AOjoPgz/AOGH1b/5qKP%2BEH/4KF/9HQfBn/ww%2Brf/ADUV5p40/bb%2BHXw%2B/Z88LfFzxD4X%2BBt3qHjfxXJonhq70T4swT%2BFP3dtcXUtzda7JpsQt40htLgNttpD5vlRLuaQYb4n/bJ07w/8dfhx8BG%2BF/wMg1Hx14Ntte/tDWPi8tra3Rluxb/ZtHYaQ51hyp8xDi33qV4XdkAHpv8Awg//AAUL/wCjoPgz/wCGH1b/AOaij/hB/wDgoX/0dB8Gf/DD6t/81Fcf8J/2oPDfxW/bJ%2BIH7LNn8NfhNZQ%2BANcGnXaT/EFG8TXiHSbC/F5Hog07Atd9%2BsHmm6xmJ2xnCVw3iz/go58PdJ0L45eMPDv7Nmg3Og/CbRtD1Lw7r2ra9FZWnim21C/v9Pe5Li0k%2BxWsdxp1wVnxMJoQsygI6lgD2n/hB/8AgoX/ANHQfBn/AMMPq3/zUUf8IP8A8FC/%2BjoPgz/4YfVv/morgviT%2B07rfgf9jmH9rLwt8APhF42hhvRJq0Xgz4ni90ldN80xNc2uojSR9rlDbV8nyI13FgZQFyd/9q39pf4efs2eN/AXw70X4Had4p1Xxf4v0XTdYiheK1TQNM1DVbXS11KVvJk3n7VeQrHb/K0%2Bycq4EEhUA3v%2BEH/4KF/9HQfBn/ww%2Brf/ADUUf8IP/wAFC/8Ao6D4M/8Ahh9W/wDmorM8P/Gmzt/2k/iL8Evip8BPC/h7RPBXgqw8VaZ4ptdYF6%2BoadcT38LtPa/Y4xaMhsJG2rLPuVx90jFeYeB/2/8Awv45%2BAeo/HnRvgd8Lr6K513w3o/hbQdE%2BJltfXsF7rV/FZ20Gv8Al2GzRJI2uLdpURrwjMqrvdFWQA9i/wCEH/4KF/8AR0HwZ/8ADD6t/wDNRR/wg/8AwUL/AOjoPgz/AOGH1b/5qK8b8T/8FFfhT4Y8G2dlq3wx%2BF2k%2BOf%2BE71nwrrun%2BKPiFBpvhzSbnS1R7ueTWXsSzRbbiyWMC081pbyONoo9srJsfEr9tjw78L/ABtPpWv/ALPngr/hH/C9p4Rb4i6%2BPFsYfT5vEF39ktjpsBscanbxyYLzPJal13eUkkimKgD0z/hB/wDgoX/0dB8Gf/DD6t/81FH/AAg//BQv/o6D4M/%2BGH1b/wCaiua0P9ovRX/bTb9j7xL8IvhxLdXGmX2o20nhHxkuq6rpdpB5LQz6xpzafAdMjuEmXynE0wZ8ICc7h7v/AMIN4J/6E/Sv/BfH/wDE0AeW/wDCD/8ABQv/AKOg%2BDP/AIYfVv8A5qKoeB/HH7Vng79qzw58Efjd8R/h74m0bxN8PfEOuQzeFfh5faLdWl1pt9oluis9xq98ksbpqkpKhEYNEhDYyD6h4s8J%2BFtN8LalqWm%2BHLG2ubaxllt7i3tER43VCysrKAQQQK8%2B8cf8pC/hf/2Rnx5/6dvCFAHs1FFFABRRRQAUUUUAFfOPwm8Vft3/AB10fXvHfhf43/CTQNLt/iF4q0PS9Kv/AIP6pf3EVrpevX%2BmQtLcJ4igWWR47NXZlijXc5AUACvo6vGf2D/%2BSIa5/wBlm%2BI//qa63QAf8IP/AMFC/wDo6D4M/wDhh9W/%2Baij/hB/%2BChf/R0HwZ/8MPq3/wA1FezUUAeM/wDCD/8ABQv/AKOg%2BDP/AIYfVv8A5qKP%2BEH/AOChf/R0HwZ/8MPq3/zUV7NRQB4z/wAIP/wUL/6Og%2BDP/hh9W/8Amoo/4Qf/AIKF/wDR0HwZ/wDDD6t/81FezUUAeM/8IP8A8FC/%2BjoPgz/4YfVv/moo/wCEH/4KF/8AR0HwZ/8ADD6t/wDNRXs1FAHjP/CD/wDBQv8A6Og%2BDP8A4YfVv/moo/4Qf/goX/0dB8Gf/DD6t/8ANRXs1FAHjP8Awg//AAUL/wCjoPgz/wCGH1b/AOaij/hB/wDgoX/0dB8Gf/DD6t/81FezUUAeM/8ACD/8FC/%2BjoPgz/4YfVv/AJqKP%2BEH/wCChf8A0dB8Gf8Aww%2Brf/NRXs1FAHjP/CD/APBQv/o6D4M/%2BGH1b/5qKP8AhB/%2BChf/AEdB8Gf/AAw%2Brf8AzUV7NRQB4z/wg/8AwUL/AOjoPgz/AOGH1b/5qKP%2BEH/4KF/9HQfBn/ww%2Brf/ADUV7NRQB4z/AMIP/wAFC/8Ao6D4M/8Ahh9W/wDmoo/4Qf8A4KF/9HQfBn/ww%2Brf/NRXs1VtV1nSNCs21HXNVtrO3T7893OsaL9WYgCk2krsTaSuzyL/AIQf/goX/wBHQfBn/wAMPq3/AM1FH/CD/wDBQv8A6Og%2BDP8A4YfVv/morU8Wftw/sZeBZWt/F/7WHw50%2BZetvceNLIS/98ebu/SuG1f/AIK3f8E3tElMN7%2B1x4WcjvZtNcD84o2FcdTMsupO060F6zj/APJHn1c3ymg7VMRTXrOH/wAkdL/wg/8AwUL/AOjoPgz/AOGH1b/5qKP%2BEH/4KF/9HQfBn/ww%2Brf/ADUVwN3/AMFp/wDgmJZ5879qvTzj/nl4f1OT/wBBtjVCX/guD/wTTnf7N4d%2BO%2Boa1dfw2eleB9Ykkb6brVR%2BtYPPMmW%2BJp/%2BBx/zOZ8R8PR3xdL/AMDj%2BjZ6b/wg/wDwUL/6Og%2BDP/hh9W/%2Baij/AIQf/goX/wBHQfBn/wAMPq3/AM1FeYD/AIK//CjUx5ngX9kr9obxREfuTaB8J55Ff6eZIlA/4Kj%2BOb759C/4Jh/tKyIfum/8BR2p/ENOcUv7cyp7Vb%2BkZv8AKD/MX%2BseSP4a1/SNR/lTa/E9P/4Qf/goX/0dB8Gf/DD6t/8ANRR/wg//AAUL/wCjoPgz/wCGH1b/AOaivMP%2BHmHxoh/f3n/BLb4%2BLB/eg0K3kk/74EuaP%2BHrl5B%2B61D/AIJo/tWpKPvC3%2BEglX8GFyM0f23lnWbXrCp/8rD/AFiydb1GvWFVf%2B4j0/8A4Qf/AIKF/wDR0HwZ/wDDD6t/81FH/CD/APBQv/o6D4M/%2BGH1b/5qK8x/4exj/pGr%2B1p/4Zv/AO6qT/h67dzfJZf8E0f2rmb0m%2BEYjH5m5NH9t5X/AM/P/Jan/wArD/WPJf8An7/5JV/%2BVHp//CD/APBQv/o6D4M/%2BGH1b/5qKP8AhB/%2BChf/AEdB8Gf/AAw%2Brf8AzUV5Zc/8FIv2k/EsZh%2BEn/BK74wXVyBz/wAJxNZ%2BHIAe2Zp3kUCuf1j9uD/gpJ4ZB1bxL%2Byl8HbO3bkaVdfHCzhuoR/deV/3RPuOKiWeYCOq52u6pzt97jH9Tahm9HFythaVar/17oVp/lT/ACTPc/8AhB/%2BChf/AEdB8Gf/AAw%2Brf8AzUUf8IP/AMFC/wDo6D4M/wDhh9W/%2BaivmPUv%2BCyv7QPh5mt/EH7G/wAMYpI%2BHdv2uPCsSn3Ac5H41zus/wDBef4m6UD5v7Jfw3THV4/2pPD11%2BkCMa55cUZLD4qjX/bkj3KGX8QYppUcrxsr9sDjH/7rW/E%2Bvv8AhB/%2BChf/AEdB8Gf/AAw%2Brf8AzUUf8IP/AMFC/wDo6D4M/wDhh9W/%2BaivhPVv%2BDk3xD4WuVt9a/Y%2B0LUfMbAGg/FqK4K/98WTg/hXY%2BDf%2BDgfxJ4vCGz/AOCcnxGug/Q6NdPeZ%2BmLVc1lDi/h6pLlVbX/AAz/AEiztxPD3FuCoqtisoxtKD6zwWKgvvlRSPrv/hB/%2BChf/R0HwZ/8MPq3/wA1FW/2VviN8afGGsfFDwJ8dNf8L6tqngH4hRaHZ6r4T8NXOk291ay6Do%2Bpqz29xe3jLIsmoyoWEu0rGh2qc5%2Bc/wDh8F8d9Vt1m8If8ElPj1fFhw1x4euII8/74t3Fej/8Eyfit43%2BN7fHP4ofEb4Nar8PtZ1T4zRfa/CGtyF7qwEfhPw5Em8mOM/OkaSj5RgSAc9T6mEzXA46q6dCTbSv8M0resoxXyvc8WnW9o7ck1/ihOK9LyitfLc%2BoKKKK9E2CiiigAooooAKKKKACiiigAooooAKKKKACiiigAooooAKKKKAOc%2BLviP4geEfhvq3iX4WeCdN8R6/Z24k0/RtX15tMtrk7l3eZdJb3DRKqbmyIZCduAvNct8Kfjl42%2BN/7Ivg/wDaO%2BHHwzsZNc8aeBdJ8Qab4U1PxG1vbwyXtrDcfZ5b1bZ2CRiUgyrAxITIjyQtdb8UdE8eeJfh9qugfDLxTpGia7eWpisNV17QpdTtLckgM0ltFc2ryjZuAAmjwSDkgFT418Lf2Xv2rPhR%2BxRpn7KXhn9q7wrZa54e%2BHdv4W8MePdN%2BFkySWD28MdtBfNaTatMksiwR8oXCmXEnCDySAdt%2BzD8fvEHx20zxdYeNfAVl4e8Q%2BBfGk/hrxBaaPrzapp8tzHa2t35lrdtb27Tx%2BXeRI26GNkmjmjK5jyfK/2hda/sv/grR%2BzNY78f2l8MfiZbY9cSeGJsf%2BQv0r1X9kb4FeJ/2bfgrZfB/wAS%2BJPDOqjTLiU2V34Y8MXelpJHJiSSS5F3qF/Lc3cs7TzS3TzbpXmLMu7c7/L37Unw%2B%2BFvwt/4La/sl%2BOPBXw28P6Lq3jTRfiUnivWNK0aC3utYkXT9K8lrqWNA9wyszBTIWK72x1NcuMn7OhzecfxlFfqe7w5hvreaey706z/APAaFaX/ALafd1FFFdR4QUUUUAFFFFABRRRQAUUUUAFFFFABRRRQB5nqX7Mn7Nvxo0fQfFPxi/Z78D%2BLNTt/D9rawaj4l8J2d/PHAql1iWSeNmCBndgoOAXY4yTVL/hgf9hX/oyz4S/%2BG50z/wCMVyfxe/4KQfsX/sfS%2BHPhp%2B0X8Zf%2BEd1u%2B8KWep2tl/wjuo3e%2B1ffEsm%2B1t5EGXhlG0sG%2BXOMEE8h/wAPzf8Agll/0dF/5ZOuf/IVeLiMXw7TryjXnSU09eb2d7%2Bd1e/qaLxDxGVL6pHOJ0lT05FiakFHrZRVeKjvsorfbU9b/wCGB/2Ff%2BjLPhL/AOG50z/4xXp2gaBoXhTQrLwt4W0W003TNNtI7XTtO0%2B2WGC1gjUJHFHGgCoiqAqqoAAAAGBXyt/w/N/4JZf9HRf%2BWTrn/wAhV9PeAfHXhX4oeBNF%2BJfgXVPt2ieItIttT0e98h4vtFrcRLLFJskVXTcjqdrKGGcEA8V0YHEZPWnJYOVNtLXk5b28%2BVLS/cUuLqvEn7qeYyxPJrZ151eW%2Bl7Sq1LX2ukr7X6HhPww/YX8V%2BAPHnhTWtT%2BM%2Bm6hoPgf4oeKvF/hrS4fCEkF2F13%2B1nntLi5N66SmKXVWKSpDF%2B7hCMhZjIPI9a/wCCMMuveKfHviS8%2BO3h2K48ZeAvH/hf%2B2rX4Xomt3MfiaRXFxquom%2BL6o9ltEcKBbdPLG3amAw92sP2/PhHq%2BnWM2k%2BFPEc19daL4t1K70mX7Bby6Wnhy9Ww1GO7knu0ggYXbpAjNL5bEli6xq7rwng3/gp94H%2BO03w41H4CQWctjrvxn1HwN43gv76x1KXTzb%2BDdX8Qoba50q%2BuLOV2NpYHek8yBJpo2CSqfK9Ig66T9hgP4h1XXx8UMHU/jrpPxHMQ0T/AFf2LSNP037Bnz/m3/YPM87A2%2Bbt8ttu5u8%2BNfwO1D9oD9nnXfgl4/8AGMVvf61YNGniDQ9LMAsrpJRNa3UUEssuWhlSF9rOyu0ZzgNgfPHi3/gqtK/wQ8KeNfhF8Kdf8R3uqQfD2TxH4pl8PwW%2BjaK3iS705UguYBqTXMdw1re%2BaqQG6igaaDzZmUkt9IfGH48eH/hJ8AvHnx9utG1K5sfAXh/WNUvrK40%2Ba0luBp0MssqxidFLK3ksElUNG4IZGZSCQDnfgL%2Bz/wDFD4U6v4i8d%2BNfi1ofiHxV448Wxat401Gy8HzWFpJawaZFYW9lY27X0zWmz7PBKZJZbkszXA2qJU8ni/2cf2S/2p/gfovji/8AFn7THw/8WeMfGt2dRu/Gdz8Ir2Cea%2BDgQi5jOuyLLZwQAW8NpCbcRqAwcu0jPt/stfGz4/eIfip4m%2BA37So8I3PiLRvBXh3xXa6l4L0q5srQWuqyalAbJo7m5uHeW3n0ubM4dFlSaMiKMhlrmvGX7RP7VHwy%2BPGv/CO%2BufA3jSWT4X%2BIvF2j6V4X8KX9ve%2BHjaTQx6ZDfs19OL0XhkmjQxpauz2U3lo6q5iAK6f8E8/F4cfFGb4zeG5finF8YX%2BItr4hk%2BHj/wBhQai%2BgDw%2B8K6UNQEwiNgNxb7b5puT5xkI/dUzXP8Agnt8Rb/9mWx/Y60n4%2B%2BH7bwHe6RJaeNGuPh00urXss9/NeXMmnXC6gkGmLumZYEa3uTbBUKMSoI5PT/23/2mr/8AZDv/AIh6Dr2ia98TNP8AFHhay8R%2BG7T9njxTaXfhSz1G8s47yW40CS/fUr7ybeW6njliaJJBASoYI1XP2l/%2BCiXjj4V/sRn4rfAbxJ4O%2BIvxBPhjXNdN4fDF/pek2tlozSHUp7rT5bt7u1aKRY7A27z%2Bat5OocKqSiMA9U%2BJX7KfxC%2BNfxs8OeMviv8AFjQJ/Bvg/X7zWPDvhzQPBk9hqxnuNLu9NKXOq/2hJvjEN9OSILe3dmWLL4Rg/LfCT/gm5oP7MPxD8YfEr9lz4oapo9zrngTw94Z8N6T461nXvFOm6JDpl1dzZMF5q4M6NHcpFFGrw/ZfKcxNieVW5r4zf8FEvF/wf/a4n%2BEviTWvBmmaNbfEnwr4R03wVqGmXTeI/Elvra2EK69Z3AuVijsoL3UPszqbaQFrCcGaN5Ikrb8R/tjfHH4LxftNar8WdO8Ka/B8HvDUHiHwbZ%2BHNMudPkure4tbyeGzu5ZrmcSS5t4kaeNIl/eMfL4GQBnjz9gD4xeJv2X/AB/8FPDn7RfhfTfE/wAVPG03iHxv4mufhpPNpw8yGCJobDTY9Vha14tLVjJJczln%2B0OwZptyXf2gP%2BCZ/gP9pmTSPHvxH%2BIWv6d8QE1bwpeeKfEXgvxV4h0bTtXTRdSivRCmmQav5UG7FwsUrPLLbNcearu6Al/h/wCNf7VrN8SfhN8Qfiz8LNB8WfDW20vXtR8bj4fajPok%2Bh3lpcyMGsDrCTQzRTWdyDL9rdWjjRvLUyFU4fxn%2B07/AMFAtM/4J5eCP2qdP8Q/C3SvHfijRdMEHg3V/hlqc8epavrN7Db6RZrs1yN7L/j7tUuAxuSjCZwQq7aAPVp/2VPjBrf7XPiv46eMPjJ4Rv8AwP4t8CQeEb/wNF8PruG/GnwvfSxn%2B0v7WaMyGW/l3t9kAaNVRVRsyHjfhh/wTk8XfDvwbqfh7U/it4F8RTRfDDR/h74Wtdb%2BE3maRHoWnzySIuqWI1Ef2nO6SMjMklrEpyUhTc6tleKP28fjj4c/buj/AGcJNL8PjQIvH%2BleGWik8Hali8hutDj1GS//ALeFydOsrhZ3eFNHmja8mSJJEJW5jYed%2BCP%2BCt3xb1TwnrD31j4I1/xdcfCC%2B8bReDfD2j38Vz4AuLO/0%2B0vNI13NzM9zPajVIZZfKS2k22c%2BIVEkT0AereF/wDgmTF8MPDfhHXfg9468H6N8QPC3iXW9YGtXPw0EuhudVtltbq2g0iC9gNpAlvDaRQBLksiWiiRpt8pdusf8EtfC%2BteGPhP8J9S8QeDb/wh8L/DehaSl9q3w0iuPFd2mmzJKYoNY%2B1Klha3BhhSWCO1J8szKkieYpj4W1/4KgeMdU8O3mgaR8bPhFMmlfFqDwrrHx2GhXR8GW2nz%2BHm1eG%2BMA1PgvcAaYCdQ8nziG83ey21anjD/gol8a5v2OPA/wC2R8Pv%2BEfFtqsclrq3ha4%2BGus30eo6jb37Wc4/taK6ig8P2jPE%2B261GJo4wymQ/KykA9xT9nX4v%2BKP2k9B%2BN/xY%2BNOgajpHgu51eTwboPh3wPLpt3Gl9GYfLv72S/uBeJHDgbYobZXlSOVhmNFHsteDeMPjP8AtBfDn9rzwN8J9X8QeB9e8O/EHUtVS38N6R4dvLfWtA0yz06a4OrXF497JDcQfaktLN1FtAFk1ODEjFSH%2Ba/hp/wV%2B%2BMX/Cn/ABZ8VPiv4Y8Mh7L4f6DrWm2P/CKarokWl6pquqjTIrMz3U0//CQWEU0sRfV9OQWzqpMasZYwAD758c/8iTrH/YKuP/RbV5b44/5SF/C//sjPjz/07eEKT4AfGDVvjJ8A/E%2Br%2BJPidonifVtLub7TtVfR/h9qfhZ9PmW2jlFrc6ZqlxPdW04SVJP3jLvjmidVCuCy%2BOP%2BUhfwv/7Iz48/9O3hCgD2aiiigAoorjvjx8bPDX7P3w6l%2BInibSNT1TdqVjpmmaLokMcl7qmoXt1FaWlpAsskcfmSTzRrukdI0BLu6IrMADsaK8dh/bY%2BGS/s76r%2B0Lq3hPxLp66Jr7eH9V8H3VnbtrEGt/2gmnR6ZsineBppbqWGON1mMDieOQS%2BW2%2BoNM/bHvPEfhLUNW8F/ss/ErW/EOg%2BJpNC8WeBLBtDXVNBu1tIb0faZJtUjsmV7a6tJkMNzKXW6jwM7goB7TXjP7B//JENc/7LN8R//U11uvQvg58WPBnx4%2BEvhn42fDq9muNA8W6Daavo01xbtFI9tcRLLGXjb5kbawyp5ByD0rz39g//AJIhrn/ZZviP/wCprrdAHs1FFFABRRRQAUUUUAFFFcT8bP2kfgJ%2BzhoP/CS/HX4u6D4WtGUmH%2B19RSOSfHURRZ3yn2RWPtUVKlOjBzqSSS3baS%2B92M6talQpupVkoxW7bSS9W2kdtRXyLJ/wVs8OfE92sf2MP2Uvij8X5GJFvrGneH30rRWPQB768C%2BXn3j6Z9KaPDX/AAWL/aFYP4h8f/Dn4BaLN/y66DYf8JJraL3R5JiLXOOA0ZBHJ9K8z%2B2cLU0w0ZVX/ci2v/A3yw/Fnj/2/g6umEjOu/7kW4/%2BBy5If%2BTSPrymzTwW0RnuJkjRRlndgAPxNfJI/wCCSnh/xywuf2lP2yvjb8RXbmXT77xq9jpufVLa2Vdn4P6VND/wQ/8A%2BCaDSi41j4B3uqSqciXUvG%2BsSHPuBdgH8qf1nOJ6xw8V/iqa/wDksJL8R/W8%2BqawwsIr%2B9VV/wDySnJfifQviP4%2BfArwejy%2BLvjT4S0pYwTI2o%2BI7WAKB1J3yDFeN%2BP/APgrv/wTj%2BHM5stU/an0HUrjdtjt/DMNxqxkbsqmzjkU5%2BuPerHh7/gkv/wTh8MOj6b%2ByL4UlKEFf7RilvAfqJ3fP417D4C%2BC3wY%2BEdr5Pwv%2BE/hjwxCiY26DoVvZKF/7ZIvFH/C5U/59Q/8Dm//AGxBbiSrp%2B5p/wDgyo/u9xHzh/w9u8LeLP3fwL/Yt%2BPnjrf/AKm%2B0z4ePb2LehaeeRdgPutKP2uf%2BCnvjE/afAH/AAS2j0uzHzLceMPitYQSyj%2B75EaFoz7sSK9a%2BKf7fH7FnwWke2%2BJf7UHgrTrmMkSWC69FPdL9YIS8g/75rym4/4LT/sOanO1n8K9U8a%2BPrhG2/Z/Bnw/1G4Yt6AyxRg/gcV51bE06cuXEZik%2B0VTT%2B795L8Ln2GXeFnihndBV6FDFSpv7UMMqcP/AAOpHlt5uaXmRyftRf8ABWdl/syL/gltoSXEvyx6o/xt05raA/33iEYkZfZTmmJ8H/8AgsN8YW%2B1%2BPf2t/hv8JLZ%2BRpvw98EnWptv9ySXUWAVvVo%2BM9Ke3/BSX9oDxqPL%2BB3/BLb406nI/Fu/jW3tfDcTnsS87ybVPqRSDXP%2BC0vxVPmab4G%2BCfwpsX6x6zqV5rmox%2BwNvi3bHfNZe0w9bRVcRWXaKcV96hS/wDSj0P%2BIOZ/T/5HOZU8PHtWxuHg/wDwDDe2qv8ADtcU/wDBMX4qeLx/xeX/AIKbfHnV1b/XW3hzX4NEgl9VZIY2%2BX2zVjSv%2BCK3/BPxb1dY8efDbXPGmor/AMxHxh401G7kPrkCZUOfdag/4Yt/4KJ%2BOPn%2BK/8AwVR1azhf72neBfh1Yab5fqFuCzSH6kUf8Oh/hx4k/efGP9rj4%2BeOS/8ArYNf%2BJkwtz6hY4UTavtmhYGnUd1l/N51akX%2BDlV/Ia8NfC/Cu%2BOzilUa6U8Ni8S/lKtKjD52sd3F%2Bxf/AME1/gfZrPqf7Ovwj0REGVu9e0OwLgevm3Klv1rF1j9qv/gk78JVa0f4u/BSwMf3rfRptOmZMdilsGIPtiqnhb/gjR/wTY8K3H26P9mWx1K5J3SXOu61f37SN6sJ52U/livVPB/7GX7Ifw/VR4K/Zd%2BHulsvSWz8HWSSH3LiLcT7k1208LmUVanRoU/lKX/pMII9Cllfg3lytD63Wt/JRweHX/k0q0v1PDbr/gr5/wAEvdJujpfgr4gDxBqA%2B5p/hXwFf3Ej/wC6RbKh/wC%2Bqni/4Kn6h4gXZ8If%2BCdn7Q2vQf8ALK9l8BLp9pJ6bZJZeR/wEV9W6Xo%2BkaHaix0XSrazgX7sNrAsaD8FAFWa3WEzaXxYiMf8NJfnKT/I6VnPhvhP92yWrU862Mkv/JcPh6S%2BXN8z5KP7af8AwUV8W4t/hv8A8EpNYt9/S98X/EvTrBIh6tFtLt9Ac0C5/wCC2njk%2BZDp37PXgW1f/llcy6rqd7H%2BKYhavrWin/Zlef8AFxVR%2BjjD/wBJhf8AEf8ArxleH/3LIsFT85wrYh/%2BVsRy/wDknyPksfs0f8Fade/0jVv%2BCmnhnQHbrb6H8GbG6jT6NcyBj%2BNB/Ye/4KDa1%2B68a/8ABXPxLPEfvLoXwt0rTX/B42YivrSij%2BxsI/ilUfrVqf8AySD/AIiVxDH%2BFQwkP8OBwaa9G6M3%2BLPkv/h1drmvHf8AEb/go9%2B0jq2f9Zb2XxBWwt3%2BsccJ/nQP%2BCMP7Id783irxN8TdekP%2Bsm1f4k37s/12OtfWlFH9hZQ/iop%2BrlL/wBKmw/4ip4hx/hZjOmv%2BncaNL/01h6f5s%2BTof8AgiD/AME0mlE%2BsfAS91ORej6j421iT9BdAH8q6HRv%2BCQv/BNrQSDY/sl%2BHJMdPts1zc/%2BjpWzX0hRVxyTJoO8cNT/APAI/wCTMK/if4k4mPLUzrFtdvrFVL7lOKPGdM/4J0fsD6SoW1/Y0%2BGbAdPtPguymP5yRtmui0f9kH9kzw6wfw/%2By98O7EjobPwTYRY/75iFeiUV0xwOBh8NKC/7dj/8ieJX4r4qxSarZhiJX716z/Os1%2BBmaB4J8GeFF2eFvCOl6aMYxp9hHD/6AorToorpUYxVkrHiVKtWtPnqScn3bbf3tt/iFeM/sv8A/Jb/ANo7/ss1j/6hXhevZq8Z/Zf/AOS3/tHf9lmsf/UK8L0yD2aiiigAooooAKKKKACiiigAooooAKKKKACiiigAooooAKKKKACiiigAooooAK%2BC/wDgpdqv9hf8FVv2INV3Y3ar4wtc/wDXf%2Bw4sf8Aj1felfnX/wAFj7yXSP8AgoJ%2BxN4gj4Sy8eaibhv7sT6p4bjY/wDj9eZnEuTLZy7cr/8AJ6Z9x4b0FieNMLQf21Wj9%2BFxf6pH6KUUUV6Z8OFFFFABRRRQAUUUUAFFFFABRRRQAUUUUAZXgb/kSdH/AOwXb/8Aota1ayh4M0NMrA19CmSRFb6tcxovsqrIFUewAFL/AMIfpP8Az96r/wCDy7/%2BO0AalFZf/CH6T/z96r/4PLv/AOO0f8IfpP8Az96r/wCDy7/%2BO0AeH%2BIP%2BCaf7PniXxH8ZvEuoav4mEvxt062s9ct01GHydEESktJpqGEiBppyLmYS%2BaksyqWUr8hf4K/4J3fDnwt4uj%2BIXiD4xePvFPiA/E6Tx3eax4gvdP8y71NvCs/hfy2S1soYktxYTlljiSPEyI2dm6Nvbf%2BEP0n/n71X/weXf8A8do/4Q/Sf%2BfvVf8AweXf/wAdoA%2Bcv%2BHUnwYs/C%2BgeAfDnxn%2BJGkeHdIsfCEOqaDp2p6eIPEE3hprU6Zd3jPYtKJttlbJL9neCOVIlDJ8q4%2BgdY%2BHWkeLfA%2Bu/Dr4hX1z4j0nxFDfW2pWuqRwqGsroOr2Y8iOMGJY3MalsyFQN7u2WNz/AIQ/Sf8An71X/wAHl3/8do/4Q/Sf%2BfvVf/B5d/8Ax2gDzP4Hfse6X8C5NS1nTvjn478Qa/qkOi2N14o8TT6bPfHSNKkle00keXZRxfZh9ouwzmM3LG8mcz%2BYVkXO%2BEv7E1x8HvHfj/x/oP7VfxLvrr4i6he3%2Bsx6tB4flNvdTL5cEkM66StxttIgkVtDLLJDGiANG/OfXf8AhD9J/wCfvVf/AAeXf/x2j/hD9J/5%2B9V/8Hl3/wDHaAPKvDn7HOoeF18T%2BI9P/aq%2BJT%2BNvFradHqvxFni0FtTFnY%2Bd9mso4P7K/s9IFNzctj7JvLXDsXztK8t8QP%2BCUH7F3xd/Z/1D4D/ABe%2BGFj4tuNStdaWXx/4m0TTr3xFBdarcTXV7fW91LalLad7ieSVRFGkUbbQkaqiqPfv%2BEP0n/n71X/weXf/AMdo/wCEP0n/AJ%2B9V/8AB5d//HaAPPNf/ZH8J%2BI/GnhrUb74g%2BIofBvhC50%2B68O/Ciwt9MtfDtndWKgWUypDZLdEQMsckcJuTAskUbCLKLjnH/YE8L638QPiv4t%2BI3x68feK9H%2BMfh%2BXRPFfgnWU0WLTIrFkliiit3s9NgvIzDDPLEjNcuxV90hkcK49m/4Q/Sf%2BfvVf/B5d/wDx2j/hD9J/5%2B9V/wDB5d//AB2gDxxf2BPAeqfB/wCIfwn%2BIXxg8d%2BK7j4p20Nl428W65eWC6pf6dFCtuung2tnDbx25gEsTBIQ7C5ncuZJDJXonxN%2BBfg/4r%2BIvAuveJ7y/SLwB4o/t/SdLtJI0tbq8WyubSL7QpQl0iF08qKrJiWOJznYBW//AMIfpP8Az96r/wCDy7/%2BO0f8IfpP/P3qv/g8u/8A47QB5Lq/7CXw81j403Xxan%2BJXjGPTdQ8bWPjHU/AMV3Z/wBi3mv2dtBb29%2B%2BbU3isq2tq/kpcrA0kCu0RYuW0vD/AOya%2BkeKtf8AiPrP7RPj7XPFuqeH59D0LxTqw0f7T4WsJZRM8WnxQadHbZMqQOz3MNw8htoRIzrGFr0j/hD9J/5%2B9V/8Hl3/APHaP%2BEP0n/n71X/AMHl3/8AHaAPMdD/AGRLrwn4G1jQvBv7TXxE0rxN4l8SjXPFPxFgTRJdY1e4FrHaKkqT6ZJYxxLbw28apDaxBRAhGGLs%2BR4z/YB8DeLPg/Yfs46f8ZvHuh/DePwwdA8QeB9KutOa28SWbl/tIvbm5spb3zLhZJFmkguIXkEjEncd1ey/8IfpP/P3qv8A4PLv/wCO0f8ACH6T/wA/eq/%2BDy7/APjtAHlHhj9iyz8M/tK%2BK/2lf%2BGh/H2oT%2BNPLh13wrqkOiTaa1lFbvDBp8Uh00XsFpE0kkyxR3SgzSySNvMsm7mPCv8AwTB%2BDOheDp/A/iP4o%2BPfE9nbeCbbwn4QfX9RsfN8J6VbXENzbRWL29nEXkintbOQT3X2iYtZw73YBg3v3/CH6T/z96r/AODy7/8AjtH/AAh%2Bk/8AP3qv/g8u/wD47QBwHw8/Z/0b4C/D3x1NH468QeKtb8X3lxrXinxR4oe1%2B2aleDT4LKNmSzt7e3iVLaztoVSKGNcRbiC7OzZnjj/lIX8L/wDsjPjz/wBO3hCvUT4M0N8LO19MmQTFcatcyI3sytIVYexBFeXeOP8AlIX8L/8AsjPjz/07eEKAPZqKKKACvL/2t/g34z%2BM/wAMLCx%2BGt5pkXibw14w0XxLoEetzyRWV1caffw3JtZ5Io5HiSaNJIfNWOQxGQSBJNmxvUKKAPm3wd%2BzB8V1%2BBPxF8D/ABc%2BGfgLxPqfxG1zUPE2q6KPGd/b6emoz3CeRYpdJp/nxRwW9vaFdQSMTfaEaRbeLC482tv2G/2wPhn8AvFPgf4FT%2BEbDW/i18Tzr/xQhvPirrZmstI/sy009rHT9cn0%2B6vJ7uaLT7cSX08KSJ9ouGiEbCFo/tuigDi/C/wt024%2BAulfB7XfCUHhKzg8PW2mvoXgLxReW0OkxRRqi29lfW62lwkcaoESRFhbao%2BVelef/wDBOnw9YeEv2br7wtpVxfS22nfFv4h21vLqeqT3ty6J4z1pQZbi4d5p3IHMkjs7HJZiSTXuleM/sH/8kQ1z/ss3xH/9TXW6APZqKKKACiiuX%2BMnxq%2BFX7Pnw%2Bvvip8Z/HNh4e0HTkzc6hqEu0E84jRRlpJGxhY0BZjwATUznClBzm0ktW3ol8yKlSnRpudRpRWrbdkl3bex1FfNH7Qf/BSnwN4H8eyfs9/syeBb/wCMPxVbKHwp4VlX7LpZzgvqF6cxWqKeGBJYHAYJkNXnX9uftff8FSz5PhB9d%2BCXwCueJNZdfJ8U%2BMrc/wDPBTn7BauP4zlnUg/vFZlX6g/Z6/Zl%2BBf7KvgOL4cfAX4c6f4e0xNpn%2Byx7p7uQDHmzzNmSZ/9p2JxwMDAryFicZmX%2B6%2B5T/5%2BNav/AARfT%2B/PTrGL3PCWMzDN9MF%2B7o/8/ZL3pf8AXuDtp2nNW6xhLRv5%2B/4UT/wVh/aE/efGr9rDwn8IdGn/ANZ4f%2BE%2BhNeX7Rn%2BB7%2B8OYZB3eHIz0Fdn8Ev%2BCWX7Hfwb1//AIT7VPAt1498Xuwe58Z/Em/bWtQmkHSTM%2BY43H95EVvevoqvIv2jv27/ANk/9lGMwfGv4zaXp%2BpsB9n8PWjm71Oct90JawhpfmOAGKhcnkiieAyvCL2%2BKlzNfaqy5renN7q/7djfsexk3BdTOcxhQweGqYvEP4U1OtP1UbOMbdWoRS6yR65HHHFGsUSBVUAKqjAAHYUO6RqXdgqqMkk4AFfHiftCf8FIv2wnEP7L/wACrf4L%2BDpz8nj/AOLFqJdWniP8drpKkhGxggzlkYHhhVsf8EnNP%2BKLC7/bN/a9%2BKfxZLnNzotxrh0fRZPXFjZkbM%2B0nTiqWZ18R/ulCU1/NL93H5cy5mvNQXkfpj4IyvJ9OIc0pYea3o0U8VXXlJUpKhTl/dniG19pLZd58bP%2BCn37DvwI1H/hHPE/x303VtdaTyovDnhJX1e%2BeX/nkY7UP5b%2B0hWuDH7fn7YnxgIT9lj/AIJp%2BNZLOQ/Jr/xV1S38OQqvaQW7l5ZlPbaQcHOK96%2BCX7K/7OH7N%2BnjTvgX8E/DnhgbNklzpelolxMP%2Bmk5Bll%2BrsTXf0/q2bV/4tdQXanHX/wKd390US868Psp0y/K54qS%2B3i6zUX5qhhfZxS8p15efU%2BSG8J/8Fpvicpj1r4sfBD4Y2svCyeG9DvdZv4Ae5F2RAzDtjg02P8A4JJeEfibIL/9s39qL4ofGCZjmbStV8RSaZo2fWOysyvl59pPSvrmij%2BxcHP%2BO5Vf8cpSX/gPux/8lYv%2BImcSYVWyqFDA%2BeGoU6U//BrVWsvVVYPrc8l%2BFf7Bn7GHwURP%2BFZfsw%2BC9NmjGEvjoMM91j/rvMHlP4tXq9vbW9nAlraQJFEi4SONQqqPQAdKfRXoUcPh8PHlpQUV5JL8kj4/Ms3zbOK7rZhiKlafepOc3985S/CwUUUVsecFFFFABRRRQAUUUUAFFFFABRRRQAUUUUAFFFFABRRRQAUUUUAFeM/sv/8AJb/2jv8Ass1j/wCoV4Xr2avGf2X/APkt/wC0d/2Wax/9QrwvQB7NRRRQAUUUUAFFFFABRRRQAUUUUAFFFFABRRRQAUUUUAFFFFABRRRQAUVzXxik%2BJsPwy1if4Oa1oOneJYrXfpl74m0qa%2BsYirAuZYIJ7eSUeWHwqyx/MVy2M143H%2B2D4%2Bh/wCCaXg79sOfwxpFx4v8W%2BAPDN9baWgli04azrK2UMKkF3kW2W6vUyN7OI1I3FuaAPomvzl/4Lmf8S/42/Afxf0/4R631XUd/wDd2%2BI/B6Z/8iV9f/stfF34o%2BOdY%2BInwq%2BNk%2BgXnif4b%2BMIdIu9a8L6VPYWOqwXGl2OpQXCWs9xcyW7Bb0wtGZ5ctAXDAOFX4k/4LkfFH4X%2BPrm98L/AA%2B%2BJnh7WfEngP4T6/c69o2la1BcXekS/wDCW%2BBii3MMbl7csqyYDhSdrY6GvKz3/kTYh9oN/dZ/off%2BFTX/ABEvJ4vaeIpw/wDBjlTf/pw/TaiorK7h1Cyhv7ZsxzxLJGfVSMj%2BdS16u58C04uzCiiigQUUUUAFFFFABRRRQAUUUUAFFFFABRRRQAUUUUAFFFFABRRRQAUUUUAFFFFABRRRQAUUUUAFFFFABRRRQAUUUUAFeM%2BOP%2BUhfwv/AOyM%2BPP/AE7eEK9mrxnxx/ykL%2BF//ZGfHn/p28IUAezUUUUAFFFFABRRRQAV4z%2Bwf/yRDXP%2ByzfEf/1Ndbr2avGf2D/%2BSIa5/wBlm%2BI//qa63QB7NRRXK/G/4xeCf2ffhF4i%2BNfxG1D7NovhrSpb6%2BkGNzqg%2BWNAfvO7bUVe7Mo71M5wpQc5uySu32S1ZFSpTo05VJu0Um23skldv5JHGftmftf%2BB/2OvhavjHXdOn1rxDrF0uneCvB%2Bm5a91/UnwI7eJQCcbipd8HaD0LFVbyL4JfsEfEL41%2BOdN/al/wCClPiC18XeLrfFz4Y%2BHFqufDvg/dhgiQklbq5XgNK%2B4ZHBfYjhv7DvwA%2BIfx18fw/8FIv2wLBD4u17T8/DTwcxL2/grRZRujChgM3cqNukkIDAMR8pYov15XjUaEs1msTiV%2B73hB/hOa6t7xi7qKs2nJ%2B78/h8NPO5rF4uL9lo6dN7W3VSousno4xd1BWbTm3ygAAwBgDoK4b49/tK/An9l/wY/j749fE7SvDWmqG8lr%2Bf97csBkpDCuZJ3x/CisfavGP2wv2zPiDbfEW3/Yt/Yn0211/4w6zbiTUL%2BdRJp/gqxbG7UL5sFd4DAxwkEsSpKtuSOW78Av8AgmN8Ffhp4vj%2BNXxv1zVPi78TGCvP418ey/ajbOOcWds2YrVFPKABmToHA4rWrjsRXrSoYKKk46SnJ%2B5F9tNZyXVKyWilJPQ/Y8DwrlGVZdRzPietOlCqualh6UU8RWh0m3P93QoyaajUqKUppOVKlKK5354nij9tj/gpk4TwAdc%2BA/wQuD83iGdBF4s8VQHvbJyNPgcdJDliCCC6syD3H9nH9gD9kn9laQap8I/g9p8WtsS1x4o1bdfarO7fec3U5aRdx5KoVXPavZaKvD5XQp1FWrv2lX%2BaSWnlFbQX%2BFX7ybOfOOO8zxmDllmWRWCwP/PijKSU/wC9XqaVMRN9XUlyLaFKEdAooor0z4cKKKKACiiigAooooAKKKKACiiigAooooAKKKKACiiigAooooAKKKKACiiigAooooAKKKKACvGf2X/%2BS3/tHf8AZZrH/wBQrwvXs1eM/sv/APJb/wBo7/ss1j/6hXhegD2aiiigAooooAKKKKACiiigAooooAKKKKACiiigAooooAKKKKACiiigDC%2BJng7VPiD4D1PwXo3xB1nwrcajb%2BSniDw/DZyXlmCQWaJb23uLckgFT5kLjDHABwR5R4J/YP8ACnhj9la1/Y78TfHDx54q8Iaf4Qg8PaW2uNpUN7ZQW3lizuI5rGwtyLi2EMXlyEHmNWcO%2BWPulFAHA/AL9n/R/gJpuvGPxzr/AIr1zxXr51nxT4q8UNafbtUu/s1vaIzrZ29vbxrHbWttCqRQxqFhBILMzN8n/wDBZ/Rf7e028sdmfL/Zu8f3OP8ArjrfgybP/jlfd1fHv/BTTRv%2BEg8S6lpKpuaT9kv4smNfV1n8LMv/AI8BXDmcPaZbXj3hP/0mR9TwNifqfG2V1/5cTh3/AOV6P%2BZ9L/AfWv8AhI/gd4M8Q7932/wpp1zu9d9tG2f1rq68n/YN1n/hIf2Ifg/rJfc0/wAMdCMp/wBsWEIb/wAeBr1itsJP2mEpz7xi/vjF/qebxDhvqXEGMw/8latH/wABq1Y/%2B2hRRRXQeQFFFFABRRRQAUUUUAFFFFABRRRQAUUUUAFFFFABRRRQAUUUUAFFFFABRRRQAUUUUAFFFFABRRRQAUUUUAFFFFABXjPjj/lIX8L/APsjPjz/ANO3hCvZq8Z8cf8AKQv4X/8AZGfHn/p28IUAezUUUUAFef8A7S/xxufgD8NYvFmi%2BEV8Qa1qviHS9B8N6HJqP2OO91HUL2K0gWWfy5DBCrS%2BZLII5GWKNyqSMFRvQK8%2B/aX%2BB118fvhrF4T0Xxevh/WtK8Q6Xr3hvXJNO%2B2R2eo6fexXcDS2/mRmeFmi8qWMSRs0UjhXjYq6gHn1z%2B3RdaF%2By94p%2BN3i34Ux2nifwd4xPhHW/CVv4iElpHrD6lBYQY1B4ExZSG6tbg3LQK0cEpZ4gyNHWFZf8FAfHviC%2Bb4O%2BD/gh4b1L4uWvxJvPB2reF0%2BIci6JZz22iw61LdHVRpzTNCLS6tEx9iEgubjymVVR5V634f/ALK3xG8EfCPxj4B1T4meD/EOqeOrrUtV8RX2vfDuSfT7vVb2ZjIZLE6jh7BbYQ2y2hl8zZDue5dmJrhPA/8AwTT1H4Q%2BHNK8R/BL4m%2BEfC3xD0/x7eeKJdV074ZiLw47XOkx6RJYRaLBfRNBarZ29psVbveJrVZXeTfIjgHvX7O/xo0f9on4H%2BF/jboej3OmweJNIiu30u9ZWmsJiMS20hXKs8UgeNipKkoSCQQa4z9g/wD5Ihrn/ZZviP8A%2BprrddB8Kf2Yvhr8O/2ZtE/Za8TaVa%2BMPD2m6DHp2qx%2BJtOhuI9Zb7001xAymJjLKWlZNu0FsAAAVyP/AATp8MeGvBX7N194P8G%2BHrHSNI0v4t/EO00zS9MtEt7a0gj8Z60scUUSALGiqAoVQAAAAKAPdK%2BMv2tnb9uf9tLwv%2BwRpDG48C%2BATbeMPjTIhzHcuDu03R39fMbEroeqEMOY6%2Bmv2ifjPoH7O3wK8W/HLxOVNn4W0G51B4mbHnvGhMcIP9532oPdxXj3/BLT4G698M/2aofi18Tne5%2BIPxavD4w8c6hOmJGnux5kNvg8okMLIoj6KxkwBnFePmH%2B2YiGBXwv35/4E1aP/b8rJ/3Yy7ng5qnj8XTy1fDL36n%2BCLSUf%2B4k7J/3Yy7n0mqqihEUAAYAA4Ar5u/bz/az8dfDq60T9lf9ly0h1X40fERWi8PW7gNDoFlyJtXu%2BCEiiAbYGB3Op4cIynvv2yv2p/Cf7HvwH1T4v%2BIbJ9Qvg6WPhnQLfJn1nVJsrb2kagFiWbk4BIRXbBxiuG/YE/ZK8W/CKw1j9oz9o3UE1n4z/EjZeeMtUYArpcJAMWk23JEcEKhVIU4ZkHJVExWOrVsRWWCw7tJq85L7EX2/vy1UeyvPor/sHC2W5dlGWPifOKaqUoScMPRltiK8Um%2BZaf7PQvGdb%2BeTp0E7zqOPX/scfsdfD39jv4cy%2BG/Dt3caz4k1q4%2B3eNfGeqMZL/X9QbJeeZ2JbbuZtiZIUMeSzMzevUUV6FChRwtGNKlG0Vsv6%2B9vdu7bbZ8dm2bZlnuZVcfj6rqVqjvKT3b/AASSSSjFJRjFRjGKjFJFFFFbHnBRRRQAUUUUAFFFFABRRRQAUUUUAFFFFABRRRQAUUUUAFFFFABRRRQAUUUUAFFFFABRRRQAUUUUAFeM/sv/APJb/wBo7/ss1j/6hXhevZq8Z/Zf/wCS3/tHf9lmsf8A1CvC9AHs1FFFABRRRQAUUUUAFFFFABRRRQAUUUUAFFFFABRRRQAUUUUAFFFFABRRRQAV81ftd6L/AMJJ%2B0ho3h3Zu%2B3/ALNXxOttuOu%2B88KLj9a%2Bla8S%2BJdjDqn7fPw30y5GY7j4JeP4pB/stqvhAH%2BdRVh7SnKHdNfemv1OrBYh4TG0q6%2BxKMv/AAGUZf8Atpj/APBKDWv7e/4JzfCK%2B358vwjFbZ/64u8OP/HK%2Bha%2BUv8AgiRfT3X/AATM%2BHNldn9/p76xZzjP3THq94oH/fO2vq2uDJp%2B0yfDy704f%2Bkr/I%2Bs8S8OsJ4jZzRW0cViP/T1Rr/0oKKKK9I%2BJCiiigAooooAKKKKACiiigAooooAKKKKACiiigAooooAKKKKACiiigAooooAKKKKACiiigAooooAKKKKACiiigArxnxx/wApC/hf/wBkZ8ef%2BnbwhXs1eM%2BOP%2BUhfwv/AOyM%2BPP/AE7eEKAPZqKKKACiiigAooooAK8Z/YP/AOSIa5/2Wb4j/wDqa63Xs1eM/sH/APJENc/7LN8R/wD1NdboA8m/4Kfyy/Hjx78Hv%2BCfWkyM8fxJ8YJq3jaKM/d8O6WRczo/93zZFjCE8FoiOa%2BupZbLS7Jp55Ire2t4izuxCJEijkk9FAA%2BgAr5E/Yux%2B0v%2B3l8bP2z7r9/o3hmeP4a%2BAJm5XyLNhNqMqHoVe5ZSrjsWGTzW5/wVW%2BKHi22%2BDei/sofCO%2B8vxz8cdcXwro7JktaWDgHUb1gMHy47clWI5Xzgw6V89RxUaVDEZlJX5naK7xh7kEv8c22vVMfh/kNbjDiNU6clH6zU5ed7QoUlLmqP%2B7GEK9Z90l3Rx37O9pdf8FH/wBrN/21fFFtI/wl%2BGV9caZ8FtNuEIj1nUlbZda6yn7yhl2QkjgqD8rxtu%2B1a534R/C/wl8E/hf4f%2BEPgOxFto/hvSINO06LjPlxIEDMR1ZsbmbqWJJ5NdFXpZdhJYWheo71Jvmm%2B8n28kvdiuiXmz6vjHiGjn%2BaKODg6eDoR9lh6b%2BxSi3Zy71Kjbq1ZfaqVH0jBIooorvPkwooooAKKKKACiiigAooooAKKKKACiiigAooooAKKKKACiiigAooooAKKKKACiiigAooooAKKKKACiiigArxn9l//kt/7R3/AGWax/8AUK8L17NXjP7L/wDyW/8AaO/7LNY/%2BoV4XoA9mooooAKKKKACiiigAooooAKKKKACiiigAooooAKKKKACiiigAooooA8//ar%2BNVz%2Bzn%2Bzf42%2BOOn6Cmq3nhjw5dX2n6ZLMYo7u6VD5ELuASiNKUVnAJVSTg4xXn/w2/aH%2BO%2Bjaf8AGLwH8Y7Pwl4g8Z/CzS4NUsr3w1bS6Jpms21zpz3NujpeXVybNxPBcQu7TumxEl%2BTcY09e%2BLnws8G/HD4WeIvg38Q7CS60LxTotzpWrQQzNFI1vPE0b7HXDRuAxKupBVgCCCBXmnhj9hvwXp3hPxp4T8f/Frxp44X4kWN1ZfEG%2B8US6cLjXrWWwTT44JDZWVusEcNujCNbZYctNLJJ5juWoA43/gnT%2B2T8Vf2qL/xXpHxMXSpv7E0Lw/qdneWngLVfC1xu1GK6eS3fTtVnmuJYYvs6eVqKEW10ZJViGbaQnYv/i58KPHP/BTbwX4C8E/E7w9rGu%2BGPg944i8S6LpWtQXF3pLyat4S8tbmGNy8BbY%2BA4UnacdDXafs/wD7K2kfAjxPrXj7UPi34x8deI9c0XTNGufEHjSexa4i0zT2untLSNbG0togqSXt3IZGRpZGmJeRwqBczxx/ykL%2BF/8A2Rnx5/6dvCFAHmP/AARn/wBA/ZU17wh0/wCEe%2BK/ibTtv93bfM%2BP/IlfWlfJf/BJ/wD4lkX7RHg9uP7K/ad8VLAvpDJ9mdP5tX1pXk5FplFFdk190pr9D9A8VPe8Q8xqfzzjP/wZRw9T/wByMKKKK9Y/PwooooAKKKKACiiigAooooAKKKKACiiigAooooAKKKKACiiigAooooAKKKKACiiigAooooAKKKKACiiigAooooAK8Z8cf8pC/hf/ANkZ8ef%2BnbwhXs1eM%2BOP%2BUhfwv8A%2ByM%2BPP8A07eEKAPZqKKKACiivMP2tvjJ4y%2BDHwwsL74a2emS%2BJfEnjDRfDWgSa3BJLZWtxqF/DbG6njikjeWOGOSSbylkjMpiEYePfvUA9Por5g1X9sn4zeFP2Nfih8U9c8P%2BHL/AMe/C3xNqHh/UnsLKeLTL2WG4hEd9FatcPOwNrcwz/YlneV5Q1vHK7Mjny24/wCClX7RH/CsrS9jj0RL1/i5qXhSfxRB8FPEd3d/ZbbRF1JJH8GxXY1q2neRmhKSSHZDGl4yiG4jwAfeNfPf7Mfi9Ph9%2ByD8QPHsjhV0T4kfFPUGZugEPi/XpM/%2BO12vwM/aL0vxh%2ByD4N/ai%2BNeseGvCcGteB9O13xFdnxDA2laa9xbRySAXjP5RiV3Kh95BGPmPU/M3iH4seGof%2BCNPxu%2BJ3gzxNY6npWsa98Uk0nV9LvEnt7qK%2B8X63BFNFLGSsiMJ1KspIIIINc2MrfV8HUq/wAsZP7ot/ocmPr/AFXAVq38kJS%2B6Mn%2BiPT/APgjp4M/4Qn/AIJt/C60lixPqOk3Gq3UrD55nu7ua4DserHbIoyewHpXJfsof8Zift8fEP8AbTvf9I8JfDkSeAPhcx5jmmQ7tU1CPsdzt5SSDho3I/hrqPH3jz/hjD/gkanieKf7Je%2BD/gxYWOnyE4K6g1jDa25PubiSPPfmu/8A2A/gdH%2Bzj%2Bxp8OfhA9gLa803wxbyavGEwft86%2BfdZ9T50snJ5rxMPQ5p4TBv4aVOM5f4klGC%2BT55eqR9/wAG0f8AVbwur5glatiFTwVN/wAsPZQrYqS85R9lQv0VSa%2B1r6/RRRX0h8WFFFFABRRRQAUUUUAFFFFABRRRQAUUUUAFFFFABRRRQAUUUUAFFFFABRRRQAUUUUAFFFFABRRRQAUUUUAFFFFABXjP7L//ACW/9o7/ALLNY/8AqFeF69mrxn9l/wD5Lf8AtHf9lmsf/UK8L0AezUUUUAFFFFABRRRQAUUUUAFFFFABRRRQAUUUUAFFFFABRRRQAUUUUAFFFFABXjPjj/lIX8L/APsjPjz/ANO3hCvZq%2Bbfjh8RYPB3/BVD9nrwldSADxb8KfiRp8CHvNFc%2BFbwEe4S2l/M1E5xpxvLy/F2/NkVKkKUeaW10vvaS/Fo53/gnb/xKP2of2q/CHTyfi5DqOz0%2B12SPn8dlfWlfJf7IH/Em/4Ke/ta%2BHDwly3grUbZfXfpMqyH/voCvrSvMyXTA8vadRfdUn/mfofib73FKrf8/MPgp/8AgWCw36xCiiivWPz8KKKKACiiigAooooAKKKKACiiigAooooAKKKKACiiigAooooAKKKKACiiigAooooAKKKKACiiigAooooAKKKKACvGfHH/ACkL%2BF//AGRnx5/6dvCFezV4z44/5SF/C/8A7Iz48/8ATt4QoA9mooooAK4348fBLw1%2B0D8Opfh34m1jU9L26lY6npetaJNHHe6XqFldRXdpdwNLHJHvjnhjbbIjxuAUdHRmU9lRQB4dH%2Bwd4Bk%2BC2sfBHV/ir41v7TXtT/trU9aubmwTUZdfGprqaa0JYrRFW6S5jgKRhBaoltFGtuEUqcpP%2BCdnhS1u18b6V%2B0V8SbP4gt4qu9evPidBNo7ateT3Gm22mSwyQPpraf5H2Sys4xGlou02qOCJC7t9DUUAcx8F/hH4N%2BAnwm8O/Bf4fQXCaL4Z0mHT9O%2B2XJmmeONQu%2BSRuXkY5ZmPVmJ718G/tfXE2o/wDBKHxd8NLSUrP43/aV8UaBBsPzFpfiPqkhA%2BqwsPpmv0Zr84/ih/xVfhj4BfCNfm/tb9ubxnqtxF/z0g0/xh4hmkU/7PzjP0FeVnmuU1Y/zJR/8ClGP/tzPE4j1yOvD%2BdKH/gcoQ/KTPX/APgqHbw/E7xH8B/2KNNjUxfEP4n213rVmoyJNE0hPtd2mOw/1RBPHyV9e18i%2BCv%2BL7/8FjPF/ik/vtK%2BB/wystDth1VNX1VzcySKf732ZTGwHTAzX11U5b%2B%2BxGIxP80%2BVf4aa5f/AEpzP13jX/hNybJslWjpYf281/08xcnW181Qjh16PsFFFFeufnoUUUUAFFFFABRRRQAUUUUAFFFFABRRRQAUUUUAFFFFABRRRQAUUUUAFFFFABRRRQAUUUUAFFFFABRRRQAUUUUAFeM/sv8A/Jb/ANo7/ss1j/6hXhevZq8Z/Zf/AOS3/tHf9lmsf/UK8L0AezUUUUAFFFFABRRRQAUUUUAFFFFABRRRQAUUUUAFFFFABRRRQAUUUUAFFeYftp/F7xV8A/2TPiH8Y/A0dqdb8P8AhS8utHe%2BiL28N0IyIpZVBBaJHKu65GVVhkZyPMvBXx2%2BLPwH0n9oLwx8TfH%2BpfEyT4PeHoPEej63q2n2NnfX8E2kyXTWM40%2B3gty6zWspV0hU%2BVcRKwdkLuAfTlfn1/wVn8YXfww/wCCjX7GPxWg3Lb6PrfiS21S4BwILO9u/D1lM59sTgH617b/AME8/jl45%2BJVtqPh34z%2BPfiFfeMpvCuieJZ9I8ceHNE0%2B1isb8XIjutLXS0Li0klgnQQ3ssl5CIEEoUvl/nr/gsbf6P8cPEeq%2BCfCWm%2BI7fW/h/8DPGOt/btR8IajY2yy2eveDbsyWl1c26QXoEcEoZrd5QgYbiNy583OFP%2By60obxjzL1i1L/238TyM/VT%2Bxa8qfxRjzL1g1P8AHka%2BZ7T8Hf8AiSf8Fj/jJpf3f7c%2BFHh7Ucf3vJle3z%2BuK%2BtK%2BIvFPxCtfDX7fH7OX7ZOmsI9A%2BOvw3bwjrEqn93HNLGmp6d9Wkkcxg9cKa%2B3axyecXGvBdKkn8pqM4v5qR%2BrcdyjjaGT5nSd6dfA4dJ/3qCqUJr1ThD5Si%2BoUUUV7B8AFFFFABRRRQAUUUUAFFFFABRRRQAUUUUAFFFFABRRRQAUUUUAFFFFABRRRQAUUUUAFFFFABRRRQAUUUUAFFFFABXjPjj/AJSF/C//ALIz48/9O3hCvZq8Z8cf8pC/hf8A9kZ8ef8Ap28IUAezUUUUAFFFFABRRRQAV%2BcPwxkj8Xft2/AfwlI48jwr8RPjp4jvkJ4xJ4q1e1idvTa4JBr9Hq/K/wCAXioxftg/Hb4k%2Bb%2B4%2BGHwt%2BKQzniG6m8f%2BILvf7Hykx9K8bO5qGHpp7OpD7ouU3/6Qebj8LPMcRgsDD4q2IoQXzqJ/mkfTP8AwR3gm8dfAnxj%2B1jqkZ%2B2/GT4na14ijaQfPFZJctaW8H%2B6ggkx7PX1vXz/wD8Eq/Cv/CHf8E6/hBpHlbPO8GW99jH/P0Wuc/j5ufxr6ArbJqbp5TQT3cU36yXM383Jn6T4l4uGM8Qc0nT%2BCNepTgu1OlL2NOP/bsKMV8n3YUUUV6Z8QFFFFABRRRQAUUUUAFFFFABRRRQAUUUUAFFFFABRRRQAUUUUAFFFFABRRRQAUUUUAFFFFABRRRQAUUUUAFFFFABXjP7L/8AyW/9o7/ss1j/AOoV4Xr2avGf2X/%2BS3/tHf8AZZrH/wBQrwvQB7NRRRQAUUUUAFFFFABRRRQAUUUUAFFFFABRRRQAUUUUAFFFFABRRRQBmeNPBvhX4i%2BDtW%2BH3jrQLXVdE13TZ9P1jS72IPDeWs0bRywyKeGR0ZlI7gmuL%2BFP7J/wQ%2BC1nc2PgTRNa239zNPq0mt%2BMdU1WXVZJbeG2JvZL65me92wW8MUYnMgiSMLHsGQfR6KAPO/gV%2Byr8Df2bptQu/hH4XvrS41OztLK5utV8SahqkyWVr5v2Wyikvp5ngtYfOm8q2iKwxmVyqLuOeC/aE8Eaf8TP2xPB/w31fH2TxB%2Bz98R9NutwyPLn1DwlE36Oa%2Bga8Z8cf8pC/hf/2Rnx5/6dvCFTKMZxcZbPT7yZwjUg4yV000/R6P8z4u0jTfFvxl/wCCDXh7xTpCFPHPwMvv7U08EbmsrzQNQlU9OciyVunqK/Rb4R/EjQvjH8K/Dfxa8MPu07xNoVpqll82SIp4VlUH3AbB9wa%2BXf8AgnlomlaD8XP2qf2SfEFmk1hp/wAVptaGnyj5Rp%2Bu2gmWID%2B5tjf/AL6NaX/BILW9V8N/AHxL%2Byp4rvXl1j4K%2BP8AVPC0jzH95PZCZp7Sf/caOUqv%2BzFXy%2BTylQrUVL7dNwf%2BOhJx%2B9w/I%2Br4ZnLOvBiNGTvVyyuvX2Ve9CfyjiMNTk%2Bzq%2BZ9Y0UUV9UfLBRRRQAUUUUAFFFFABRRRQAUUUUAFFFFABRRRQAUUUUAFFFFABRRRQAUUUUAFFFFABRRRQAUUUUAFFFFABRRRQAV4z44/wCUhfwv/wCyM%2BPP/Tt4Qr2avGfHH/KQv4X/APZGfHn/AKdvCFAHs1FFFABXkP7a/wASPH3w8%2BE%2BkWXwy8StoWseLPH/AId8MQ%2BIktIZ30mLUNTt7ee5jjnR4mmELyCLzEeMStGXR1BRvXq534sfCfwD8b/AV78M/ibobaho9%2B8Ek0MV7NbSxywzJPBPDPA6SwTRTRRyxyxOskckaOjKyggA%2BZNb/aR/aA8JfsRfFu/g%2BI39reOfh98QLvwhoPiu70y0S71tmv7WK02QRwraHUXjvY7WMeUlu94qFo0jZkXzCz/bK/a7NnYfs%2B3N78T38W6l8bNU8PyrBoPhV/Gul6VaeHLbV0tpzhfDwupmnWZbhS8H2F0j5uydv1za/sXfs5Wnwpvfgl/wheoT%2BGNSt5Ev9OvfFWp3BuJpL175715ZbhpWvjdOZzfFvtXmBW83KLimv7Cf7NEfgX/hAYfC%2BvxxHxO3iNtdi8fa0uutqzWv2Nr06wLz%2B0DKbT/RSxuMm3Ah/wBWAlAGt8IPjn4L8QfsueHvjraeJPFHiXSJfDcFzLqUvhaWfWb1lUJI0un6db7jc%2BYGEkNvAArhwqBQAPyv%2BAvi6C6%2BBH/BRf4926X0VlqXivXND0hdT0yeyuIYrnWtYEkckFwiTQOTeJuikRXQ5VlBBA/YD4d/D3wX8JvAukfDP4c%2BHbfSdB0LT4rLSdNtQdlvBGoVVBJJPA5YkknJJJJNfk5rnhee0/4J1/tV6Xyl38S/24/EmkWsi8F4l8WIqqPxgm/M187xKpfUuZfZVR/P2U4r8Zn0XAmXxzPxQ4doz%2BFYylKXpD3m/kot/I/UX9mbwr/wgv7N/wAPvBAi2f2N4I0mx2Y%2B75VnFHj/AMdrt6bDDFbwpbwRhEjUKiqOABwBTq9%2BlTVKlGC2SS%2B5JfoePjsVPH46tip/FUnOb9ZylJ/jJhRRRVnKFFFFABRRRQAUUUUAFFFFABRRRQAUUUUAFFFFABRRRQAUUUUAFFFFABRRRQAUUUUAFFFFABRRRQAUUUUAFFFFABXjP7L/APyW/wDaO/7LNY/%2BoV4Xr2avGf2X/wDkt/7R3/ZZrH/1CvC9AHs1FFFABRRRQAUUUUAFFFFABRRRQAUUUUAFFFFABRRRQAUUUUAFFFFABRRRQAV4z44/5SF/C/8A7Iz48/8ATt4Qr2avGfHH/KQv4X/9kZ8ef%2BnbwhQB5F8QdSf9k7/gq/o3xT8RxiLwd8f/AAxb%2BF5tSztS08R2TE2iSnpiaE%2BVH3Lk9lNVvi1q8/7BX/BRFf2itdjRPhh8e4tP0DxdqQBVNC8Q2qNHY3Mp%2B6sM0RMZbjDb2YjaN3uP7cX7MGm/tefs1eIfg1Jdiy1aaJb3wtqwYq%2Bm6tAfMtbhWHzLhwFYrzsdwOtecfs5%2BLPCP/BTv9gvUPhn%2B0NoGzXBFceFfiZo7oqT6brdoQkkqryI5A6x3CdQpZRztNfMV8NVp4qeHpu0m3WpN7cy/iQfk73/AMM2/snfwDn2D4V4oxGX5lFywOOhONRL4uSbg6nJ09pRqRp4mlfe0ovSTa%2BoqK%2BU/wDgnZ%2B0J4x0W/1n9gP9p3xBGfij8MSLawvbl9p8V6FjNpqUO45kYR7VlALMCAWO5mC/Vle7gsXTxuHVWGnRp7xktHF%2Baen3NaNHocTcPYzhfOKmArtSStKE435KtOa5qdWDe8KkGpLs%2BaLtKEkiiiiuo8AKKKKACiiigAooooAKKKKACiiigAooooAKKKKACiiigAooooAKKKKACiiigAooooAKKKKACiiigAooooAK8Z8cf8pC/hf/ANkZ8ef%2BnbwhXs1eM%2BOP%2BUhfwv8A%2ByM%2BPP8A07eEKAPZqKKKACiiigAooooAK/Nb4meHNL/4U/8ACL4a6VG27xd/wUD8UX%2BqIxz5sUPjPxA834YWP6Yr9Ka/OXRf%2BKo/am/Zp%2BHg%2BaNP2gPjfrl0vZPsniLWDEx%2BrsQPevIztKWXuP8ANKEf/AqkF%2BSPv/DBKHGVLFP/AJcUsVV9PZ4TEy/OS%2Bdj9GqKKK9c%2BACiiigAooooAKKKKACiiigAooooAKKKKACiiigAooooAKKKKACiiigAooooAKKKKACiiigAooooAKKKKACiiigAooooAK8Z/Zf/AOS3/tHf9lmsf/UK8L17NXjP7L//ACW/9o7/ALLNY/8AqFeF6APZqKKKACiiigAooooAKKKKACiiigAooooAKKKKACiiigAooooAKKKKAPMP20/i94q%2BAf7JnxD%2BMfgaO1Ot%2BH/Cl5daO99EXt4boRkRSyqCC0SOVd1yMqrDIzkeffCn49eI/gHdfHLw1%2B0x8bNQ8W6B8HtMsvEU3jnWdJsre9XTJtMe6uIZ49Ot4IHeF7ad1McKsY5olYOyl3998aeDfCvxF8Hat8PvHWgWuq6Jrumz6frGl3sQeG8tZo2jlhkU8MjozKR3BNch8HP2W/g38Bd7/DTT9egmuL2W8v7vVfGmq6ncajO8ENv5l3Ne3Msl2Uht4IovOZ/JSMLHsGQQDwf/AIJcftq63%2B1v4o%2BMdr4r/aB8GeL7jRvFunXWh6H4P1nTb2Lw5pd7o9lcpY%2BdZFvtXkzvcQvcuziSeGcIVRVjTs7/AOJ3hvxj/wAFNvBfgzSdN8Qw3nh74PeOI7%2BbVfCOo2NpKX1bwlg211cwRwXoG05a3eQLkbiNy59p8LfDHwP4K8V%2BJvG/hnQ/s2qeMdSgv/El19plf7ZcQ2kNnG%2B12Kx4gt4UwgUHZuILEk%2Bb%2BOP%2BUhfwv/7Iz48/9O3hCgD2avjT9pXwN8XP2D/2gde/b8/Z/wDC83ibwN4qitz8bvh/YRD7UggUqut2I4DSRoSZY%2BNw3MfvF4vsuggMCrAEEcg1x43BxxlNJScZRd4yW8X3810aejTafRrgzHARx9FJScJxfNCS3jJaX7NNNqUXpKLafRr5v%2BNXwF/Z9/4KX/Bnwz8cfhB8Rjp2v2UQ1H4b/FHw22290m4B%2B433WaPeCstu%2BCCGHyMMjm/2fP8AgoPrXgLxnB%2Byn/wUTsrTwJ8S4H8jSfEsimLQfGMQwEurS5IEccjZG6FiuHIAAYmJKHjr9jL9on9kfx/rXx3/AOCbGtaY%2Bl63eG/8WfA3xARFpWpTkYebTpgR9hnYD7vEZOMnaix1oeFv2uf2Hv2/vD93%2BzH%2B1D4GtvDXi7zRBrHws%2BJtuLS/gucYDWkj7fNPJMcsDCTb821M14TqVaeKUm1RxD0d7%2ByrW2s/5u21SOzU4o%2Bu4d8QcC8vp8N8Y0ZSoxb9lOLSqUZN3lLDVJ%2B5OnN%2B9UwlVxTfvQ5Kn7yf1mCCMg5B6Givja0/Zc/b6/YljMf7FXxfsfiX4Ctm3W3wq%2BKFyVvLGL/nhYaoMYA4CJNiNAP4jknc8Gf8FcvgPpWtw/D/APa38EeKfgf4rdvLbTvHmlSCwmcdTb38amGWP/po3lg16Uc3o0moYyLoy/vfC/8ADNe6/m4vyPpK/h1mWNpyxHDlWOY0Vr%2B5v7eK3/eYWVq8WurhGvT0dp2sfVtFZnhDxr4N%2BIWgw%2BKvAPi3TNc0u5GbfUtIv47mCUeqyRsVb8DWnXrRlGSundH5/VpVaFR06kXGSdmmmmmt000mmuzSfkFFFFMgKKKKACiiigAooooAKKKKACiiigAooooAKKKKACiiigAooooAKKKKACiiigAooooAKKKKACvGfHH/ACkL%2BF//AGRnx5/6dvCFezV4z44/5SF/C/8A7Iz48/8ATt4QoA9mooooAKKK8Q/b%2B8SeItC%2BCejaRonivUtAtPEnxL8K%2BH9f1zR9Qks7qz06%2B1q0trgRXMTK9s8yyfZhMjK8f2jcjI4VgAe30V8Q%2BI/iZ8RvCv8AwT5%2BM2jeGvi7r5l8MfFW%2B8HeAvFWoa9cT31xDJrNraQ2kupSSGdAlxcy6c1%2BztNbpEZmZ5ISx8l%2BIf7Q37Qfwp/Zd%2BLvwA1TUfifpmsWfxC1vTtX8ReCrjxJ45PgbTYPDemamlna67HbPfyPcteQ7bu7S2a1N5ehGUWMBkAP04r83/2XL%2B01n/gpf4f0%2B%2BnCw%2BDdN%2BLetuSM7DdfEbWbIcDnJwAAOTmvsz9n/wCKmseIP2N/BPxa0rwn4p8VahdeBdNu/wCynthZ6tqUxto9%2BV1WS2CyM25t07xhvvbjkE/C3/BLrVr/AOJf7dfxp8d6r4XvtHufDuq6ppNxpOpyQPc6c958RNXvmt5Wt5ZYS6kYPlyOhIJVmGCfJzX3nh6ferD/AMl55foj9A4B/cwzjF/8%2B8BiPvquhQX/AKckvmfpR/wmGk/8%2Bmqf%2BCO7/wDjVL/wmGk/8%2Bmq/wDgju//AI1Xzt4%2B/wCCyP8AwTe%2BF/jvWvhp45/aN%2Bw634d1a50zWLL/AIRDWJfs91bytFLHvjtGR9row3KSpxkEjmsn/h%2BX/wAEtP8Ao6H/AMsnW/8A5CqpZ5ksJOMsTTTX9%2BP%2BZnR8LfEzEUY1aWSYuUZJNNYeq000mmmoWaaaafVNPqfT/wDwmGk/8%2Bmq/wDgju//AI1R/wAJhpP/AD6ar/4I7v8A%2BNV87eAf%2BCyP/BN74oeO9F%2BGngb9o37drfiLVrbTNHsv%2BEQ1iL7RdXEqxRR75LRUTc7qNzEKM5JA5rvv2/vjB8TP2ff2Jvin8cfg3aabN4n8JeB9Q1XR11eZkt1lghaTe%2B2OTdtUMwTbh2UIWQMXXrwuNweNi5YepGaW/K07etj5/POGeJOGK0KWcYKrhpTTcVVpzpuSTs2lNJtJ6Nrroel/8JhpP/Ppqv8A4I7v/wCNUf8ACYaT/wA%2Bmq/%2BCO7/APjVfPep/tufG3wr8Q/HPgv4hfArwJoWn/DL4eWnibxz4nu/ipdGxt3u4tUa3trbGjiWdQ%2BnxiWV0iKJcFo45nQRScz8Nv8AgpVq/wAVdU8M6Hq3wn1fwvrcXxol8HeIdIWW8toZEPg/UNfhn26xo9pevC6QxJt%2Bz2kglQMsskKlbjpPDPqr/hMNJ/59NV/8Ed3/APGqP%2BEw0n/n01X/AMEd3/8AGq%2Bef2Sv2%2BfiT%2B0Pp%2BiXHjn9mD/hH7vxZ8JtF%2BIPhPS/D3jWHVZ7rTr5gjwTm4gsore4hLxMVDyI6PkOGUx11P7Vfiz4q6l8Wvhf%2Bzx8LfivqHgRvG11rF1q3ivRtNsbq9it7CyEi20C39vcW6tJNNCzM8TnyoJVXazCRAD13/hMNJ/59NV/8Ed3/wDGqP8AhMNJ/wCfTVf/AAR3f/xqvnKD9oT9pH4n/wDBMjwh8f8A4fWlz/wnOu6R4dm8Q3fhXQ1vbi3tJb%2B0i1jUNOspFkE8qWZvLm3gKy7mWNdk5xG/A%2BFf2l/iD41/Zl%2BIXjfxn%2B1V8S/BUPws%2BI1/4e07xEfh/pEPiLxh5lpY3Gmwy6beaYyC5kkv0tktoLa3mmdY1KxOzJQB9l/8JhpP/Ppqv/gju/8A41R/wmGk/wDPpqv/AII7v/41Xw5%2B0D%2B1X%2B3b8CLDQ/iL8XbTxTo13pXgTwVezeF/BXgeHUfD%2Bv61c3Zi8RWd/qLW0zWAhUxrbgXFrkurIbtiYV73w1%2B0N8VfgN%2B0Z4x1L9tX4hfEfQPCd5rHiKb4ei%2B0vw2/hW60mxs2vsRyWMLatHdR2ltdz7bp0WRYZNu8qAAD6l/4TDSf%2BfTVP/BHd/8Axqr9hf2mp2iX1jOJIpBlWAI74IweQQcgg8givkH/AIJjft1aj%2B2D8Vvi5aaz%2B0D4O8TQ2s2jat4Y8KeF9Y028PhnTru0LfY5JbNmaeVCIxPI7yKLlpljZYwij6v8H/8AIJm/7Cl9/wClctAGrRRRQAUUUUAFFFFABRRRQAUUUUAFFFFABRRRQAUUUUAFFFFABRRRQAUUUUAFeM/sv/8AJb/2jv8Ass1j/wCoV4Xr2avGf2X/APkt/wC0d/2Wax/9QrwvQB7NRRRQAUUUUAFFFFABRRRQAUUUUAFFFFABRRRQAUUUUAFFFFABRRRQAUUUUAFeM%2BOP%2BUhfwv8A%2ByM%2BPP8A07eEK9mrxnxx/wApC/hf/wBkZ8ef%2BnbwhQB7NRRRQAV53%2B0H%2ByZ%2Bzh%2B1V4f/AOEb%2BP8A8H9G8SQrGUt7m8ttt1ag9fJuEKyw/wDAGFeiUVnVo0q9N06sVKL3TSa%2B53Mq9ChiaTpVoqUXumk0/k00fH8P7Bn7Zf7OS4/Yg/bp1BtEgObTwB8X7D%2B2LCMdoo71cXNvEOgVATg8knk0vFf7VH7ZXhXQJ/Bn7bX/AAS0ufGuhMNt9qnwuu7bxDZ3qjqRplx%2B%2BUe0jZ5r7NorzHlEaathqsqa/lupw/8AAZ8yt5JpeR5dLKKmBqKpl2JqUHF3XLLmimtrRm2426cs426WPyzW/wD%2BCJHiXxfNf%2BAPi34//Zp8cTNuuY9KuNU8NTwt2DxyJJaIoPBVCoxn617N8PLD9ueCFJf2SP8Agqp8KPjLYAZstI8eaZbSuF/uveaXK00p9WYA19o%2BLvAvgjx/ph0Xx54O0rW7Ns5tNX0%2BK5iOevyyKR%2BleFfED/gkt/wTk%2BJbvN4g/ZM8L2kjnJfw/HLpRB9R9ieICvLeSYyi70eRPvB1KL%2B6LnD/AMkPvKfiX4pU6apY%2Bth8xppWSxdFVHZdFOcZ1F/27WXlY5IftYf8FPPhl%2B6%2BMH/BNuz8UW0f%2Bu1r4Z/EG3kDY/uWdyvnHP1pR/wWF%2BCfhX938eP2d/jX8NmT/XzeLfhtcCBfUrJbmXcv%2B0BzSf8ADnz4Q%2BG%2Bfgz%2B1D8d/AAT/U2/hb4nTrAnoCk6Sbl9s0o/YR/bv8Kf8ku/4K0eMoUT7kXi7wFputFh6M8hU/j1otxHQ%2BHmfq6NT/5TL9S/9eMkxP8AyM%2BFIJ9ZYTGVKX3Qq%2B1h8tF5HYeCP%2BCsX/BOX4ghDoX7XPhK38zp/blxJpmPr9sSLH41634P%2BPHwO%2BIQQ%2BAPjL4U1wSf6v8AsfxFbXO76eW5zXyN42/Yr/4KSeIt/wDwlPj39mv4l7vvH4hfCPyzN/veQr9favJPGH/BM39pPVN//Caf8E1f2V9fz98%2BBvEWs6Fu/wB35020f2rn1L48Pf8A7cmv/SZVEL%2B2vCrEfxMLmuFf/XvCYqK%2BcKlGb%2B5H6f0V%2BSw/YO/aR8DgL4S/4Jj%2BPPD6J0n%2BHH7WaW/l%2B6R3QkY/Sj/hC/29vBAzpXhf9tzStnSNviRpfiWNPZVMUeR7Uf6yYmH8TCS%2BXN/7dSQX8La38PO61Lyr5bi4/fKjOtH8z9aaK/Jb/hor/gpn4N4tfiP%2B1jaInWPWf2VNJ1WI/wC9Ot2rD6gUf8PMv%2BCi3hPm/wDHupT7ev8Awmf7OGo2P/fX2OR8fhR/rdgo/wASlUj8k/8AIP7O4JqfweJsF/3EWNov5%2B1wNl/4Ez9aaK/JdP8AguJ%2B2F4ZH/FW6t8EJI1/57eCfGVnKR75t3UH6VZsP%2BDir4hWp23vw5%2BF%2BsEHDDTvEuq2OT7fa7EY/GmuM8h%2B1OUfWP8AlJgsgyqo7UM9yyfpj6Mf/TsKJ%2Br9FfmBo/8Awcb30x2ax%2ByLoYUf8trT416cd3uElt0I/E10dl/wcW/CeNQ3iD9nPUIP732D4gaNc/8AtZM1tHi7h6X/AC/t6xkv0NP9UcbN2pYzBVP8GYYCX5YuJ%2BjlFfnlB/wckfsbQOsWu/B/4jwsTj/QINKugD9Vvx/Kuj0j/g4V/YV1UAv4U%2BJdqD3n8Jxtj/v3cPW0eKOHpuyxMPvf/wAibPgTijl5o0oSX93EYOX/AKTjm/wPuqivjax/4Lv/APBPi6AN74m8XWI7/avBN4cf98I1alr/AMFyv%2BCYkpCXv7RNxZMeiXfgvWF/UWhH61us/wAjltiYf%2BBJfnYhcB8Zy%2BDAVJf4VGf/AKRVmfWtFfMVh/wWY/4Jmalj7P8AtW6Suf8Anvo%2BoRf%2Bh24rZsP%2BCrn/AATn1HH2f9rvwguf%2Be948X/oaito5xlEtsRT/wDA4/5g%2BAuOV/zK8R8qFV/lCR9CUV4nZf8ABSP9gHUMeR%2B2T8OFz/z38W2sX/obitey/bs/Yi1HAsP2xvhZKT/DH8QdNJ/Lzq1jmGXy2rQ/8Dj/APJHLV4P4vo/xMtxC9cPX/8AlJ6rRXn9n%2B1j%2ByxqOP7P/aW%2BH8%2Benk%2BMrFs/lLWrZ/Hn4G6h/wAeHxm8KT56eT4itm/k9bLE4aW1SL/7ej/mcFTJM6o/xMLVj60qi/Omjq6Kx7T4h%2BAL/H2Hxzo82enlanE38mrSttR0%2B9GbO%2Bhm/wCuUob%2BVaKcJbM4amHr0vjg16pr80iaiiiqMgooooAK8Z8cf8pC/hf/ANkZ8ef%2BnbwhXs1eM%2BOP%2BUhfwv8A%2ByM%2BPP8A07eEKAPZqKKKACs3xj4M8H/ETwtf%2BB/iB4U03XdE1S2a31PR9YsY7q1vIWGGjlikBSRCOqsCDWlRQBx2m/s7fs/aN4RbwBpHwL8HWmgvoR0R9EtvDFpHaNphd3NiYVjCG3LSSN5ONmXY4yTVvwX8FPg18OPh/J8Jvh58JfDOg%2BFZY5kl8M6LoNva6e6zZ85TbxIsZD7m3Db82TnOa6aigCDS9L0zQ9MttF0XToLOzs4EgtLS1hWOKCJFCqiKoAVQAAABgAACvzv/AOCQnh4/8L3/AGw/HZTP239py905XP8A06%2BItQYj/wAmP1r9F6%2BJf%2BCUPhdtG8BftC%2BIJk%2BfWv20fHEyOR1jj8SCED6Bo3/M1wYun7TFYd/yyk//ACSS/U%2BtyDGrB5BnEb61aNKn9%2BKpTf8A6bR9tUV8xeP/APgpr/wgXjvW/Av/AA75/ae1r%2BxdXubD%2B2NA%2BE/2mwv/ACZWj8%2B2l%2B0jzYX270fA3KynAzWR/wAPYf8ArGp%2B1p/4Zv8A%2B6qylnWWRk4upqv7s/8A5WfnMuIcmhJxlV1Wnw1Omn/Po%2BtKxfiP8PPBnxc%2BH2ufCr4jaDFqvh/xLpFzpeuaZOzKl1aXETRTREoQwDIzDKkEZyCDzXz54B/4Ka/8J7470XwL/wAO%2Bf2ntF/trV7aw/tjX/hP9msLDzpVj8%2B5l%2B0nyoU3b3fB2qrHBxXs37SfjD4nfDz4BeL/AIg/Bnw5aaz4n0HQLnUtH0W9hd01KSBDKbUBHQh5VRo0bdhXdWIYAqevDYzDYyLlRldLfSS/9KjH9TtwePweYRcsPLmS0ekl5/ajH8LmNB%2Bxr%2BzwvhXxT4O1PwhqWr2fjXw3b6D4ql8ReK9T1O61Kwg%2B0%2BTHJc3dzJPvT7XPiUOJRuX5/kTbneB/2Cv2Wvh7qS654f8AAWpTakPFw8US6trXjHVtSvLjVxpE2jC7muLy6llnYafPLb4kZl2lTjciMvhviP8A4KP/ABN%2BJHha58Y/suNoeq2HiPx3NpHwoli8JLqjeINOsNIW61W9ka51vSraGOK78%2BAO1wu0WbgJK0g8vifBv7dXxG%2BLniPRPjxZfabXTvHnwy/Z31WPwo2v3v2HSp/EXi7Xba/kg%2BzTxbnMXkozHKTrawrMksS%2BUek7D7D8MfsnfAjwTY6JYeDvCd7pS%2BHPA1p4O0SbTvEeoQzWmi2rxvBarKk4c7TFHmQsZGAIZ2DMDo/G/wDZ6%2BFP7ROiafofxS0fUZhpGom%2B0i/0TxFfaRfWNwYZYGeG8sJobiLdDNNE4SQB0kZWBUkV8m/BP9qn9qD43ftSfCDxhqfirwj/AGJ47%2BFvj/W/Dnw90q6vdPa1ks7/AEaC2g1aUzXCXUsfmlGuEtojbSPcIsUmcn279t/VvEk%2BmfCj4by%2BKtV8O6R47%2BK9hofjPUvDeu3Gn3UNmdPv7pIIb23aKe38%2B9tbO18yNo5GW4KqVLigD0KT9nf4WJ4DHww0ax1jRdAi8OWGhWWmeGfFeo6VHp9jZkm3S0%2Bx3ERs3UHaZYCkroiIzssaKvF%2BJf8Agnr%2Byr4r8KeE/B2o%2BEvElvbeCdeu9c8O3ekfEfXrC%2Bi1S6WVbi/mvLa9jubu5kE8waeeSSQ%2BdJ83ztngfhFqP7QvxT/4Jt%2BN9D%2BE/wASbufxpZ6l478OeAfFmsaqWuLi30/XtU0/TLiS8lDlpTa20A%2B1uHLtidt%2B458x%2BG/xG0Ww8K/Gzwp%2B0a/xj8J%2BAvAXjPQh4Z0Sb4wajfeKptUu9Li3aGuo6ZqU1zcyy3E1vNFZpeysTewglVYQxgH1d4g/ZL%2BCni7xB4Y8R%2BLrTxNq0nhC3sItHstV8f6zc2LvZSeba3F1aSXbW9/dRy4lF1dRyz%2BYiOZCyKwl0T9lb4MaH8YT8d103XtQ8SpNdy2E%2BveNdW1K10x7ridrKzu7qS2sC6koTbxR/IzIMKxU/Ff7T2ift4fBb9kjTfil8R9c8dajeeDfgfrN4knhn4opp0vhvxMkhuLK61l/tMH9uQw24htnG28E0sEpNrN9pDC1qHxS/aFvv23E%2BJmq%2BNNYs/DNh8cPDHhLVorXx/qETaTPeeGbGSXQl8N/8eN7bPd3aXD6nI4u4vtMmyJorVJSAfeHh74Y%2BB/CnjfxF8R9A0PyNa8VtaHX7z7TK/2o20XkwfIzFE2ocfIFz1OTzVrwf/yCZv8AsK33/pXLWpWX4P8A%2BQTN/wBhW%2B/9K5aANSiiigAooooAKKKKACiiigAooooAKKKKACiiigAooooAKKKKACiiigAooooAK8Z/Zf8A%2BS3/ALR3/ZZrH/1CvC9ezV4z%2By//AMlv/aO/7LNY/wDqFeF6APZqKKKACiiigAooooAKKKKACiiigAooooAKKKKACiiigAooooAKKKKACiiigArxnxx/ykL%2BF/8A2Rnx5/6dvCFezV84ftH6v8a9H/bw%2BE8/wO%2BH/hbxFqTfCPx2t3aeK/GFzosEcH9qeEiXSW30%2B9Z33bRsMajBJ35AUgH0fRXjP/Ccf8FC/wDo1/4M/wDh%2BNW/%2BZej/hOP%2BChf/Rr/AMGf/D8at/8AMvQB7NRXjP8AwnH/AAUL/wCjX/gz/wCH41b/AOZej/hOP%2BChf/Rr/wAGf/D8at/8y9AHs1FfOOk/tHft26x8Z9f%2BB1v%2Byh8JF1Tw74X0jXby5f466p5EkGo3OpW8KIR4Y3F1bS5ywKgAPHgsSwXqP%2BE4/wCChf8A0a/8Gf8Aw/Grf/MvQB7NRXjP/Ccf8FC/%2BjX/AIM/%2BH41b/5l6P8AhOP%2BChf/AEa/8Gf/AA/Grf8AzL0AezUV4z/wnH/BQv8A6Nf%2BDP8A4fjVv/mXrl/AP7R37dvxE8V%2BN/CGj/sofCSG48B%2BKItC1WS5%2BOuqBJ55NK0/Uw8W3wwSU8nUYVJYKd6OMYAZgD6Oorxn/hOP%2BChf/Rr/AMGf/D8at/8AMvR/wnH/AAUL/wCjX/gz/wCH41b/AOZegD2aivGf%2BE4/4KF/9Gv/AAZ/8Pxq3/zL0f8ACcf8FC/%2BjX/gz/4fjVv/AJl6APZqK%2BcfhF%2B0d%2B3b8ZfCl34v8OfsofCS2t7PxRrehSR3vx11RXM%2Bl6rdaZO42%2BGGGxprSRkOclGUkKcqOo/4Tj/goX/0a/8ABn/w/Grf/MvQB7NVXUND0XVht1XR7W5B6i4t1f8AmK8j/wCE4/4KF/8ARr/wZ/8AD8at/wDMvR/wnH/BQv8A6Nf%2BDP8A4fjVv/mXpNJ7iaTVmegX/wAF/g7quf7T%2BE/hm5z18/Qbd8/mlY19%2Byj%2By3qef7S/Zs8AXGevn%2BDrF8/nFXMf8Jx/wUL/AOjX/gz/AOH41b/5l65f4I/tHft2/Hj4MeEPjj4V/ZQ%2BElrpfjPwvp%2Bu6bbah8ddUWeGC7to7iNJAnhhlDhZAGCswyDgkc1lLD4eXxQi/kv8jGWFws/ipxfrGL/OJ3N7%2Bwl%2BxDqOTf8A7HPwrmJ7yfD7TSfz8msq7/4Jv/sBXufO/Y0%2BGq5/54%2BD7SP/ANBQVJ/wnH/BQv8A6Nf%2BDP8A4fjVv/mXo/4Tj/goX/0a/wDBn/w/Grf/ADL1k8vwEt6MP/AI/wDyJhLK8rn8WHpv/tyH/wAgZF1/wSy/4J3XmfO/Y/8ABAz/AM8tJEf/AKCRWddf8Eiv%2BCbd3nzf2SPDIz/zya4T/wBBlFdR/wAJx/wUL/6Nf%2BDP/h%2BNW/8AmXrl/jd%2B0d%2B3b8B/gx4v%2BOPir9lD4SXWl%2BDPC%2Boa7qVtp/x11Rp5oLS2kuJEjD%2BGFUuVjIUMyjJGSBzWTynKpb4eH/gEf/kTGWR5LLfC0/8AwXD/AORM%2B5/4Iyf8Eyrv/W/so6SM/wDPPWNQT/0G4FULj/giF/wS6uf9Z%2ByzAP8Arn4s1hP/AEG8Fej/APCcf8FC/wDo1/4M/wDh%2BNW/%2BZej/hOP%2BChf/Rr/AMGf/D8at/8AMvUPJMme%2BGp/%2BAR/yMnw7w/LfCUv/BcP8jyyf/ghV/wS7lGIv2cJ4f8Arn411j/2a7NUp/8Aggr/AMExpv8AV/BDUov9zxjqR/8AQpzXsH/Ccf8ABQv/AKNf%2BDP/AIfjVv8A5l6P%2BE4/4KF/9Gv/AAZ/8Pxq3/zL1DyDI3/zC0//AACP%2BRUMgyOn8GGgvSKX5NHic/8AwQD/AOCaUv8Aq/hfr0X%2B54uvP6uaqzf8G%2BX/AATel/1fg7xTH/ueK5v6g16d8Xf2jv27fg14UtPF/iP9lD4SXNveeKNE0KOOy%2BOuqM4n1TVbXTIHO7wwo2LNdxs5zkIrEBjhT1H/AAnH/BQv/o1/4M/%2BH41b/wCZeofDuQv/AJhYf%2BAo6I5ZgYfDC3pKa/Koj5/l/wCDeP8A4J1Sfc0nxnH/ALnik/1jNVpf%2BDdb/gno/KSePI/9zxMn9YDX0T/wnH/BQv8A6Nf%2BDP8A4fjVv/mXo/4Tj/goX/0a/wDBn/w/Grf/ADL1D4a4ff8AzCw/8B/4JvHDQh8Mpr0q1l%2BVdHzov/Bu5%2BwtD/x4%2BNvifbenkeKoBj87U1LF/wAG%2B/7I9t/x4/HT40W/p5HjO2GP/JOvob/hOP8AgoX/ANGv/Bn/AMPxq3/zL1y/j79o79u34d%2BK/BHhDWP2UPhJNcePPFEuhaVJbfHXVCkE8elahqZeXd4YBCeTp0ygqGO90GMEsp/qzw%2BtsNH7n/8AJFOhzb1Kn/g6v/8ANB5ZB/wQb/Z6szmw/as%2BP9v6eR4%2Btlx/5JVetv8AgiR8LrH/AI8P24f2lIMdPJ%2BJcK/ys69t/wCE4/4KF/8ARr/wZ/8AD8at/wDMvR/wnH/BQv8A6Nf%2BDP8A4fjVv/mXqlw7ki2oL75f/JnPPL8NU%2BJzf/cWv/8ANB47F/wRx0O0/wCPD/gof%2B1BDjps%2BKaj%2BVsKX4EfsjTfsrf8FCvBqyftL/FP4iLrvwZ8ZbR8S/Ff9p/2d5OreFv%2BPb5E8rzPN%2Bfru8qP%2B7XsP/Ccf8FC/wDo1/4M/wDh%2BNW/%2BZeqHgfwP%2B1Z4x/as8OfG743fDj4e%2BGdG8M/D3xDocMPhX4h32tXV3dalfaJcIzJcaRYpFGiaXKCwd2LSoAuMkdOHyjLsLVVSlTtJecvyc2vwJo5XgqFZVYRfMu86j/CVSS%2B9M91ooor0T0AooooAKKKKACvnL9iHwzp3hb9njxZe2PmEXv7Q3j/AFO%2BdhnB/wCE81Te3A6KkY/Ba%2Bja%2BSv2SvFn7Z2n/D3xRZ/DH4B/DDV9CT40/EX%2Bz9R174u6jpt3Mv8AwmesljJbRaBcpEQ24ACZ8gA5BO0JpNp9i41KkYSgnpK1/Ozuvuep9Qf8Jz4J/wChw0v/AMGEf/xVL/wnPgn/AKHDSv8AwYR//FV5b/wnH/BQv/o1/wCDP/h%2BNW/%2BZej/AITj/goX/wBGv/Bn/wAPxq3/AMy9Mg9S/wCE58E/9DhpX/gwj/8AiqP%2BE58E/wDQ4aV/4MI//iq8t/4Tj/goX/0a/wDBn/w/Grf/ADL0f8Jx/wAFC/8Ao1/4M/8Ah%2BNW/wDmXoA1L74GfsUap8ONJ%2BDup/B34W3HhHQL37ZoXhWfw9pr6bptzukbzoLYp5UMm6WU70UHMjnPzHOhp/w4/ZR0m1tbLSvAfw9tobK00m0sobfS7FFt4NLnkuNMiQBQES0nlllt1GBBJI7xhWYk%2BZ/BH9o79u348fBjwh8cfCv7KHwktdL8Z%2BF9P13TbbUPjrqizwwXdtHcRpIE8MMocLIAwVmGQcEjmuo/4Tj/AIKF/wDRr/wZ/wDD8at/8y9AGrY/A/8AYq0vxTrfjnTPhB8LrfW/EsF1D4j1iDw/pqXWqx3WPtKXMoTfOsu1fMDkh8DdnFdB430r4AfEzwRc/DL4kab4O8QeG7yFIrvw9rkNpd2M8aMrIjwSho2VWVSAVwCoI6CuK/4Tj/goX/0a/wDBn/w/Grf/ADL0f8Jx/wAFC/8Ao1/4M/8Ah%2BNW/wDmXoA6oeCf2YR4et/CI8I%2BAxpNp4bn8PWul/YLL7PDpE4jWbTkj27VtZBDEHgA8thEgKnaMc/qP7OP7B2r/DCx%2BCOrfAf4R3XgvTNT/tHTfCNx4X0t9LtLzDj7TFatGYo5cSyDzFUN%2B8fn5jnjfjd%2B0d%2B3b8B/gx4v%2BOPir9lD4SXWl%2BDPC%2Boa7qVtp/x11Rp5oLS2kuJEjD%2BGFUuVjIUMyjJGSBzXUf8ACcf8FC/%2BjX/gz/4fjVv/AJl6ANBvgH%2Bw%2B8Hha1f4LfCkx%2BBpHk8Exnw5pm3w%2B7yLKzWI8v8A0QmRVcmLbllDdQDWpdfDr9lO%2B%2BK8Hx5vfAnw9m8c21v5Ft4zl0uxbVootjJ5a3ZXzlXYzLtDYwxHQmub/wCE4/4KF/8ARr/wZ/8AD8at/wDMvR/wnH/BQv8A6Nf%2BDP8A4fjVv/mXoA9R/wCE58E/9Dhpf/gwj/8AiqPBh36GZ1B2TX13LESMbke5kZW%2BhUgj2NeXf8Jx/wAFC/8Ao1/4M/8Ah%2BNW/wDmXrl/i7%2B0d%2B3b8GvClp4v8R/sofCS5t7zxRomhRx2Xx11RnE%2Bqara6ZA53eGFGxZruNnOchFYgMcKQD6Oorxn/hOP%2BChf/Rr/AMGf/D8at/8AMvR/wnH/AAUL/wCjX/gz/wCH41b/AOZegD2aivGf%2BE4/4KF/9Gv/AAZ/8Pxq3/zL0f8ACcf8FC/%2BjX/gz/4fjVv/AJl6APZqK%2BcfH37R37dvw78V%2BCPCGsfsofCSa48eeKJdC0qS2%2BOuqFIJ49K1DUy8u7wwCE8nTplBUMd7oMYJZeo/4Tj/AIKF/wDRr/wZ/wDD8at/8y9AHs1FeM/8Jx/wUL/6Nf8Agz/4fjVv/mXo/wCE4/4KF/8ARr/wZ/8AD8at/wDMvQB7NRXjP/Ccf8FC/wDo1/4M/wDh%2BNW/%2BZeuX1b9o79u3R/jPoHwOuP2UPhI2qeIvC%2Br67Z3KfHXVPIjg065023mRyfDG4OzapAVAUghJMlSFDAH0dRXjP8AwnH/AAUL/wCjX/gz/wCH41b/AOZej/hOP%2BChf/Rr/wAGf/D8at/8y9AHs1FeM/8ACcf8FC/%2BjX/gz/4fjVv/AJl6P%2BE4/wCChf8A0a/8Gf8Aw/Grf/MvQB7NRXzjpP7R37dusfGfX/gdb/sofCRdU8O%2BF9I128uX%2BOuqeRJBqNzqVvCiEeGNxdW0ucsCoADx4LEsF6j/AITj/goX/wBGv/Bn/wAPxq3/AMy9AHs1FeM/8Jx/wUL/AOjX/gz/AOH41b/5l6P%2BE4/4KF/9Gv8AwZ/8Pxq3/wAy9AHs1FeM/wDCcf8ABQv/AKNf%2BDP/AIfjVv8A5l65fwD%2B0d%2B3b8RPFfjfwho/7KHwkhuPAfiiLQtVkufjrqgSeeTStP1MPFt8MElPJ1GFSWCnejjGAGYA%2BjqK8Z/4Tj/goX/0a/8ABn/w/Grf/MvR/wAJx/wUL/6Nf%2BDP/h%2BNW/8AmXoA9mrxn9l//kt/7R3/AGWax/8AUK8L0f8ACcf8FC/%2BjX/gz/4fjVv/AJl6t/srfDn40%2BD9Y%2BKHjv46aB4X0nVPH3xCi1yz0rwn4ludWt7W1i0HR9MVXuLiys2aRpNOlcqItoWRBuY5wAet0UUUAFFFFABRRRQAUUUUAFFFFABRRRQAUUUUAFFFFABRRRQAUUUUAFFFFABXyv8AtPftafFz4YfGPxZrXgHw74Pk8MfB/wAP%2BH73xqda0i4m1XVLfV7%2BVLmCwuI7iNLLyLazjuMyRTi5kKRkQ%2BX5p%2BqK8Z%2BM/wCxD8OPjd8Uj8TNc8c%2BKtLi1G10i18X%2BGtGurVNO8UwaXeyXtjFfLLbyTBY5ppc/Z5YDLHIYpjLGFQAHs1FFFABRRRQB8x%2BHP2lfiZD%2B3/4o%2BD/AMRtY8PeE/Da%2BILTRPBkWo/CLWUuvGMA0CDUcQeI2u105pY7u51AC0ELyeXaTAKCzSL9OV5X4s/Zag8f/GTSPin49%2BN/jXV9K8Pa7HrWgeALg6ZFo1jqEdu8Ec4aGyS9l2eZJIqTXUkYkfds%2BRAvqlABRRRQB4v/AMFBfi78cP2fv2R/Gnx6%2BAV74Uj1jwToV3rl1B4w0W5vra7tLW2lme3RLa6tmSV2RFEhcqgLEo/Arz/x5%2B1p8XPBfx48W6n4U8O%2BEIvh54Q%2BMfhH4feMrObSLg63quq67BoqR6hDdpcLDHHB/bmkxmKS3leRIZ8Sx7UFew/tY/s42X7WnwI179n3Wvir4p8I6T4nspbHXL/wgunfa7mylieKa23X9pdRojq/LIiyAqNrrzni4P2AfB0/xFs/iL4q%2BOPj7XWOs6TrnibRtQl0qKx8T65piRpY6tex21hEy3EQgtMLbNBAxsbYvExjyQD3uiiigArxf9sn4u/HD4JWvgHxj8LL3wp/Y2ofEzw54e8X2PiDRbm5urm11XWbHTQbOWG6hS2kjW5lk3yJOpKIuzkmvaK8q/au/Zbf9qrw3oXhef4%2B%2BN/A1voXiSw11G8Fw6Oz3d7Y3kF5ZtKdS0%2B8G2K4t43CxhA3Kyb1O0AHnH7PP7SvxM1v9qrxb8Efihq/h7wnp0PinW7fwT4Sk%2BEWs6Zc69bQukpv7fWri7%2Bwag7GSaWWK2gL8l2K4Yn6cryXSf2UQ/xk0X4y/Ef9oDx341m8L3d5d%2BE9C8QjSYbDR7q5t5LWS4iWw0%2B2llf7PNPCvnySqizvtAJBHrVABRRRQB4f%2B3d8XPjx%2Bz98GtX%2BOvwo8Y%2BBbHT/AAtotzeXui%2BLPDN7f3PiG9yi2emWcltewfZ5riUi3RvKumaWeILCx%2BVvP/gj%2B198Z9c%2BJfgr%2B1vBnhLSPhp43%2BJ/ij4beFfDWnaXNHq%2BiX%2BgQ6tvnnuRcNbzQSN4f1NFhjt4jGrWx8yTLAen/tK/sgwftJePPBHxAm/aB8d%2BELnwDd3N7otj4Yi0aezkvZUEa3k0Gp6deI88MfmLDIApjE8pHzNkVfAf7DXw98B/GW3%2BLsPxF8XalBp2u6nr2ieENSubL%2BydK1vUY3j1DVIEitUn8%2BcT3ZZXmeFGvrkxxR%2BZwAe10UUUAFfL/wC1z8eP2l/gt8RNP8KaVD4A8a6P45h1q20X4cxeD76TWEtbTQ7q7kv7icXrxXVsLqK3tpIRaxA/b4UExkZEk%2BoK8Om/YmuI/wBo/wAV/tNaJ%2B1X8S9O1fxbpsOnXOlwweH57TT7OGBo4baza50mW5t4lld7rYs2153LuHB20AM/YQ/aD8b/AB7%2BHt5dfFfx9o194u04Wba/4bsvhdq/hG80B57ZZRBc2Wr3U9w4Lb/LuAEjkVDtDbSa90rzf4Hfs3ad8GfE/iT4h6x8UvFPjjxV4risbfWPE/i5rBbl7SzE32W1SLT7W1to4o2ublxthDM1xIWZsjHpFABRRRQB8c/8FBP24/ip%2Bxh45/tPXNF0Dxj4RfRtR1u38Ky/DnU7KW3TTdGvtSST/hIprp9Mnu/temjZYrAl0I5llA2wtI3r37NHxd%2BOerfFTxv%2Bz1%2B0dc%2BFNQ8T%2BEdJ0PWo9a8FaRc2Fjc2OqC8jSIwXNzcussVxp12pfzcSIYm2RklRW%2BOv7CXgj9pzWrq1%2BP/AMW/GvijwXcyXEi/DK8k02HRYpJrGayZt9vZR30gEdxMwSW6dA77tvyIF6f9nz9mbSPgHea94iu/ih4s8ceI/Ehs49W8VeNbize%2BltrSIxWtqPsdtbwrFEHlYYj3s88ruzs5NAHpVFFFABXxH%2B1P%2B2V%2B1n8G/jV4g%2BFHg7w34c8a6nYaLca74YCfA/xBHJooGo6ZaoYW%2B3OPE0gsdUuPO/svynhaErKIxMI6%2B3K8P179i3U/Evj0/E7Wv2ufijNrenwXkXg28KaAB4VW6mhkn%2ByRjSdk7NHAtvuvVumWJnClXdnIB1X7LHxYf4yfCODxZe/EzRvFV/DqN1ZapfaN4MvvDotriKVla1m03ULie6s54xhXjmcPn5tqhgK9GrhvgH8BfD3wA8M6no2leKdb8Qajr%2BvXGt%2BJPEniOaBr3Vb%2BYIjTyi3ihgTEcUMSpDFHGqRIAowSe5oAKKKKACiiigAooooAKKKKAKPijxDYeEvDWo%2BK9VDm10yxmu7kRLlvLjQu2B3OFNfOf7E37Sfxr8f%2BKdH8GfGzw94Msx46%2BFtl8RvDMPgzSri0GmR3lwTd6fdma4lF3NG9zbP9sQQCdpZiYI9oL/S13aWt/ay2N7bpNDNG0c0UqhldSMFSDwQRxivIf2Zv2K/AX7MGqvq%2BgfEHxb4lltvDFj4Z8OjxZe2sw0DQrN5Ht9NtTb28JaNTJ80s5muJBHF5kz%2BWuAD2KiiigArhf2oPHnxF%2BFn7NHxE%2BJ3wf8KLr3i3w54F1fVPC2htYzXQ1HUbezlltrYwwMsswklRE8uNg7bsKQSDXdVneLdEv/EvhjUPD%2Bl%2BK9R0K5vbSSG31rSFga6sXZSBNELiKWIup5AkjdMj5lYZBAPLv2Kfi1P8UPhnfWWrfELw/rOp%2BHdVXTrzTNE%2BGGp%2BDn0NBbQSRWdxpWqXM9zC4RxIrt5aPFLFsTA3v7FXnnwH/Z20n4HXniXxHc/ETxJ4x8SeL9RhvPEXinxW9mLu6MNulvBEI7G2traKKONAFWOFMlnZizMzH0OgAooooA%2BXP2qP2sfih%2Bzh8XvHFl8StG8JeIvhfYfs7%2BL/AB7baFb6JcJqrtog0tZ7a4uZLl7eaKdb6cBBbIVCJl3ywrt/2Z/i/wDHzVPi54y/Z1/aWfwleeKPDHhjw94lj1XwVpNzY2Ullqz6lbrbGG5ublzLDcaRdgyiQLIjxN5cZ3LUHxj/AGFfDvx0%2BOrfGXx58dvHMumzeCtT8I33w9hg0X%2BxLvRtSW2%2B32khfTWvSJ2tIHZxdB1KEIyIzIek/Z3/AGXdD/Z9vta8Rz/FDxb438Q6/a2Flf8Aifxtc2kl6bCxSRbOzH2S2t4/KiM9w4JQyO9zK7u7NmgD0%2BiiigAr5E%2BNf7S/7W3gzXf2gPAlv4V8GeLL3wF4f8KeJPhtY6T8P9Tv51j1HVdShCXlrFePLqM8C6bHOpthbkuSFX5VavruvC5f2KPEMXx08bfH/Qv20PitpWreN9IsdMubGys/DDWmm21lcXM9mlsJdFeT90by6UGZ5S6zkSeYVQqAdX%2Byp8W5vjL8KR4m1H4naN4p1G11W5sdWutH8EX/AIbNncRN81rPpmo3E91aTopXckzBiGVtqqwr0muE%2BAfwD0D4A6FrNjp/i3XPEeq%2BJvEEuueJ/E3iSW3a91W/khhg82QW0MMEYWC3t4VSKKNFSFAFzknu6ACiiigD42/aW/a7/aW/Z4%2BM0Hw21lPhn41vtbggm8Iw6d4WvbSXwXeal4h0zw9pE2pyvfTC6inbV5wWiWzkcWN0sYZfMMXuP7Kvxf8AiR8Rh4/%2BH3xiOiT%2BKvhp48bw1rOq%2BGtOms7DU/M0vTtWt7iG3mnnkt82uqW6PG00uJI5MMQRjhbb/gmr4Sa6%2BIb%2BIf2l/idrNv8AEnXjrmsW%2BpHQvMs9SiuIZ9Puba6i0tLpTYPb24tI3mkiiWFAyPzn1j4B/AXQ/gH4e1bTbLxfrniTVvEWvTa14n8UeJXtjf6vfSRxQ%2BdMLWCCBdkEFvAiRRRoscEaheCSAd1RRRQAy5%2B0/ZpPsezzth8rzc7d2OM45xmviD4rftc/tp/DT4ia58Nre28B%2BM9e8MXvhq31bx14I%2BCuv6tH4ct9Wa8e9sJdKs9Snu7maOGysbomKdP3d1C0sCAxNJ9vXcMlxay28N1JA8kbKs8QUvGSMBl3ArkdRkEeoNfPfwY/YC8QfAT4bXHw0%2BHf7dXxiijutWfU5tZvLLwnPqEt3K8slzPNM%2BhH7TJO8u6SScSPmNNhQDBAPWfgJ8Q7L4rfB3w/8QrD4gaN4qTU9PEj6/4f0mawtLuQErIUtZ5ppbYq6sjQySO8bKysdykDr65L4F/Bfwl%2Bz78L9O%2BFPgq5v7iysJbq4mvtVuRNdX13dXMt1dXUzhVDSzXE80r7VVd0h2qq4UdbQAVR8Tw%2BJLnw3qFv4N1OxstXkspV0u81Owe6toLgoRHJLDHLE00atgsiyRlgCA6k7herN8Y6Df8Aijwtf%2BHdL8W6loNzeWrxQa1o4gN1YuRxNELiKWIup5AkjdDj5lYZFAHw98N/27P2tfjB8U9b%2BCXws034fJ4z02112%2Bk8Z%2BK/hdrWhrqmmaRa6LKljLol5fJqGnyvd%2BIdiTTzPH5UMlwkLrOgP2N8Avi1pvx8%2BBPgr466NpstnZ%2BNfCWm69aWcz7ngivLWO4WNiAMlRIAT6ivFtX/AOCZHgfWtcvviLd/tKfFNPiBqyXlrrXxJtr3SIdWv9Mura1tptMKJpos4bYpZWjDyLaKVZIFlWUOWY/Qfgvwf4a%2BHng7SfAHgzSYtP0fQ9Mg0/SbCHOy2toY1jijXPOFRVUfSgDTooooA5f406j440b4W61rfw58Q2Ol6tYWZuob7UPB974gRI4yHlA06xngubyRoldUihkDl2XCufkb4t%2BEv/BRH4/eJPGmh6n43uPCPgTwZqU86%2BIPHF58DPEU1trF/Dr91pCJcyrfRp4ZnktbS1/cao0ksDyrG%2BdgSvtv4meDNd8e%2BEpvDnhv4pa/4NvJJY3i1/wzFYvdwbWBKqt/bXMDBgCpDxNwTjBwR4rdf8E5vCmoeD7j4bat%2B0h8TbvwxrmoTX/jzQJrjRxF4wu57xrq4mvpV00XEXmllhaOzltYhDEkaoo3bgD6JooooAKKKKACiiigAooooAKKKKACiiigAooooAKKKKACiiigAooooAKKKKACiiigAooooAKKKKACiiigAooooAKKKKACiiigAooooAKKKKACiiigAooooAKKKKACiiigAooooAKKKKACiiigAooooAKKKKACiiigAooooAKKKKACiiigAooooAKKKKACiiigAooooAKKKKACiiigAooooAKKKKACiiigAooooAKKKKACiiigAooooAKKKKACiiigAooooAKKKKACiiigAooooAKKKKACiiigAooooAKKKKACiiigAooooAKKKKACiiigAooooA//2Q%3D%3D\">"
            ]
          },
          "metadata": {
            "tags": []
          }
        }
      ]
    },
    {
      "cell_type": "markdown",
      "metadata": {
        "id": "_d2477GtUqcd",
        "colab_type": "text"
      },
      "source": [
        "# Submit a linear model"
      ]
    },
    {
      "cell_type": "code",
      "metadata": {
        "id": "zVhhirqIUqcd",
        "colab_type": "code",
        "colab": {}
      },
      "source": [
        "## GRADED PART, DO NOT CHANGE!\n",
        "# Testing shapes \n",
        "grader.set_answer(\"9XaAS\", grading_utils.get_tensors_shapes_string([W, b, input_X, input_y, logits, probas, classes]))\n",
        "# Validation loss\n",
        "grader.set_answer(\"vmogZ\", s.run(loss, {input_X: X_val_flat, input_y: y_val_oh}))\n",
        "# Validation accuracy\n",
        "grader.set_answer(\"RMv95\", accuracy_score(y_val, s.run(classes, {input_X: X_val_flat})))"
      ],
      "execution_count": 0,
      "outputs": []
    },
    {
      "cell_type": "code",
      "metadata": {
        "id": "iKL9aS7z5pzG",
        "colab_type": "code",
        "outputId": "2920ea8b-ae98-4f48-c3bc-6ed8782d66b8",
        "colab": {
          "base_uri": "https://localhost:8080/",
          "height": 252
        }
      },
      "source": [
        "for i in [W, b, input_X, input_y, logits, probas, classes]:\n",
        "  print(i, \"\\n\")"
      ],
      "execution_count": 20,
      "outputs": [
        {
          "output_type": "stream",
          "text": [
            "<tf.Variable 'W:0' shape=(784, 10) dtype=float32_ref> \n",
            "\n",
            "<tf.Variable 'b:0' shape=(1, 10) dtype=float32_ref> \n",
            "\n",
            "Tensor(\"flat_X:0\", shape=(?, 784), dtype=float32) \n",
            "\n",
            "Tensor(\"flat_y:0\", shape=(?, 10), dtype=float32) \n",
            "\n",
            "Tensor(\"add:0\", shape=(?, 10), dtype=float32) \n",
            "\n",
            "Tensor(\"Softmax:0\", shape=(?, 10), dtype=float32) \n",
            "\n",
            "Tensor(\"ArgMax:0\", shape=(?,), dtype=int64) \n",
            "\n"
          ],
          "name": "stdout"
        }
      ]
    },
    {
      "cell_type": "code",
      "metadata": {
        "id": "67GmLlWFUqcf",
        "colab_type": "code",
        "outputId": "23c6d8f8-053c-46e8-9443-7baa41397eab",
        "colab": {
          "base_uri": "https://localhost:8080/",
          "height": 34
        }
      },
      "source": [
        "# you can make submission with answers so far to check yourself at this stage\n",
        "grader.submit(COURSERA_EMAIL, COURSERA_TOKEN)"
      ],
      "execution_count": 21,
      "outputs": [
        {
          "output_type": "stream",
          "text": [
            "Submitted to Coursera platform. See results on assignment page!\n"
          ],
          "name": "stdout"
        }
      ]
    },
    {
      "cell_type": "markdown",
      "metadata": {
        "id": "bakg7gIYUqch",
        "colab_type": "text"
      },
      "source": [
        "# MLP with hidden layers"
      ]
    },
    {
      "cell_type": "markdown",
      "metadata": {
        "id": "7pnGbCMtUqci",
        "colab_type": "text"
      },
      "source": [
        "Previously we've coded a dense layer with matrix multiplication by hand. \n",
        "But this is not convenient, you have to create a lot of variables and your code becomes a mess. \n",
        "In TensorFlow there's an easier way to make a dense layer:\n",
        "```python\n",
        "hidden1 = tf.layers.dense(inputs, 256, activation=tf.nn.sigmoid)\n",
        "```\n",
        "\n",
        "That will create all the necessary variables automatically.\n",
        "Here you can also choose an activation function (remember that we need it for a hidden layer!).\n",
        "\n",
        "Now define the MLP with 2 hidden layers and restart training with the cell above.\n",
        "\n",
        "You're aiming for ~0.97 validation accuracy here."
      ]
    },
    {
      "cell_type": "code",
      "metadata": {
        "id": "zJLJXtP497aP",
        "colab_type": "code",
        "colab": {}
      },
      "source": [
        "s = reset_tf_session()"
      ],
      "execution_count": 0,
      "outputs": []
    },
    {
      "cell_type": "code",
      "metadata": {
        "id": "NhqyISxr-Di9",
        "colab_type": "code",
        "colab": {}
      },
      "source": [
        "input_X = tf.placeholder(name = \"flat_X\", shape = [None, 784], dtype=tf.float32)\n",
        "input_y = tf.placeholder(name = \"flat_y\", shape = [None, None], dtype=tf.float32)"
      ],
      "execution_count": 0,
      "outputs": []
    },
    {
      "cell_type": "code",
      "metadata": {
        "id": "FS7fJ7PYUqci",
        "colab_type": "code",
        "colab": {
          "base_uri": "https://localhost:8080/",
          "height": 138
        },
        "outputId": "707ab48a-ba69-497c-88de-0fc5921a2246"
      },
      "source": [
        "# write the code here to get a new `step` operation and then run the cell with training loop above.\n",
        "# name your variables in the same way (e.g. logits, probas, classes, etc) for safety.\n",
        "### YOUR CODE HERE ###\n",
        "hidden1 = tf.layers.dense(input_X, 256, activation=tf.nn.sigmoid)\n",
        "logits = tf.layers.dense(hidden1, 256, activation=tf.nn.sigmoid)\n",
        "probas = tf.layers.dense(logits, 10, activation=tf.nn.softmax)\n",
        "classes = tf.argmax(probas, axis=1)\n",
        "\n",
        "loss  = tf.reduce_mean(tf.nn.softmax_cross_entropy_with_logits(logits=probas, labels=input_y))\n",
        "\n",
        "step = tf.train.AdamOptimizer().minimize(loss)"
      ],
      "execution_count": 24,
      "outputs": [
        {
          "output_type": "stream",
          "text": [
            "WARNING:tensorflow:From <ipython-input-24-84043582920b>:1: dense (from tensorflow.python.layers.core) is deprecated and will be removed in a future version.\n",
            "Instructions for updating:\n",
            "Use keras.layers.Dense instead.\n",
            "WARNING:tensorflow:From /tensorflow-1.15.2/python3.6/tensorflow_core/python/layers/core.py:187: Layer.apply (from tensorflow.python.keras.engine.base_layer) is deprecated and will be removed in a future version.\n",
            "Instructions for updating:\n",
            "Please use `layer.__call__` method instead.\n"
          ],
          "name": "stdout"
        }
      ]
    },
    {
      "cell_type": "code",
      "metadata": {
        "id": "yJzwTUCi-aST",
        "colab_type": "code",
        "colab": {}
      },
      "source": [
        "# s.run(tf.global_variables_initializer())"
      ],
      "execution_count": 0,
      "outputs": []
    },
    {
      "cell_type": "code",
      "metadata": {
        "id": "SXFuKGxc-j8O",
        "colab_type": "code",
        "colab": {}
      },
      "source": [
        "# value_test_1 = s.run([probas], feed_dict= {input_X: X_train_flat[0:100]})"
      ],
      "execution_count": 0,
      "outputs": []
    },
    {
      "cell_type": "code",
      "metadata": {
        "id": "9t543YJi7fXa",
        "colab_type": "code",
        "outputId": "0e2fe0cc-c94b-4289-dd3c-3408c030f6f7",
        "colab": {
          "base_uri": "https://localhost:8080/",
          "height": 309
        }
      },
      "source": [
        "# Copied same code from above for convenience\n",
        "s.run(tf.global_variables_initializer())\n",
        "\n",
        "BATCH_SIZE = 512\n",
        "EPOCHS = 50\n",
        "\n",
        "# for logging the progress right here in Jupyter (for those who don't have TensorBoard)\n",
        "simpleTrainingCurves = matplotlib_utils.SimpleTrainingCurves(\"cross-entropy\", \"accuracy\")\n",
        "\n",
        "for epoch in range(EPOCHS):  # we finish an epoch when we've looked at all training samples\n",
        "    \n",
        "    batch_losses = []\n",
        "    for batch_start in range(0, X_train_flat.shape[0], BATCH_SIZE):  # data is already shuffled\n",
        "        _, batch_loss = s.run([step, loss], {input_X: X_train_flat[batch_start:batch_start+BATCH_SIZE], \n",
        "                                             input_y: y_train_oh[batch_start:batch_start+BATCH_SIZE]})\n",
        "        # collect batch losses, this is almost free as we need a forward pass for backprop anyway\n",
        "        batch_losses.append(batch_loss)\n",
        "\n",
        "    train_loss = np.mean(batch_losses)\n",
        "    val_loss = s.run(loss, {input_X: X_val_flat, input_y: y_val_oh})  # this part is usually small\n",
        "    train_accuracy = accuracy_score(y_train, s.run(classes, {input_X: X_train_flat}))  # this is slow and usually skipped\n",
        "    valid_accuracy = accuracy_score(y_val, s.run(classes, {input_X: X_val_flat}))  \n",
        "    simpleTrainingCurves.add(train_loss, val_loss, train_accuracy, valid_accuracy)"
      ],
      "execution_count": 25,
      "outputs": [
        {
          "output_type": "display_data",
          "data": {
            "text/html": [
              "<img src=\"data:image/jpeg;base64,/9j/4AAQSkZJRgABAQEASABIAAD/2wBDAAIBAQEBAQIBAQECAgICAgQDAgICAgUEBAMEBgUGBgYFBgYGBwkIBgcJBwYGCAsICQoKCgoKBggLDAsKDAkKCgr/2wBDAQICAgICAgUDAwUKBwYHCgoKCgoKCgoKCgoKCgoKCgoKCgoKCgoKCgoKCgoKCgoKCgoKCgoKCgoKCgoKCgoKCgr/wAARCAEgA2ADASIAAhEBAxEB/8QAHwAAAQUBAQEBAQEAAAAAAAAAAAECAwQFBgcICQoL/8QAtRAAAgEDAwIEAwUFBAQAAAF9AQIDAAQRBRIhMUEGE1FhByJxFDKBkaEII0KxwRVS0fAkM2JyggkKFhcYGRolJicoKSo0NTY3ODk6Q0RFRkdISUpTVFVWV1hZWmNkZWZnaGlqc3R1dnd4eXqDhIWGh4iJipKTlJWWl5iZmqKjpKWmp6ipqrKztLW2t7i5usLDxMXGx8jJytLT1NXW19jZ2uHi4%2BTl5ufo6erx8vP09fb3%2BPn6/8QAHwEAAwEBAQEBAQEBAQAAAAAAAAECAwQFBgcICQoL/8QAtREAAgECBAQDBAcFBAQAAQJ3AAECAxEEBSExBhJBUQdhcRMiMoEIFEKRobHBCSMzUvAVYnLRChYkNOEl8RcYGRomJygpKjU2Nzg5OkNERUZHSElKU1RVVldYWVpjZGVmZ2hpanN0dXZ3eHl6goOEhYaHiImKkpOUlZaXmJmaoqOkpaanqKmqsrO0tba3uLm6wsPExcbHyMnK0tPU1dbX2Nna4uPk5ebn6Onq8vP09fb3%2BPn6/9oADAMBAAIRAxEAPwD9/KKKKACiiigAooooAKKKKACiiigAooooAKKKKACiiigAooooAKKKKACiiigAooooAKKKKACiiigAooooAKKKKACiiigAooooAKKKKACiiigAooooAKKKKACiiigAooooAKKKKACiiigAooooAKKKKACiiigAooooAKKKKACiiigAooooAKKKKACiiigAooooAKKKKACiiigAooooAKKKKACiiigAooooAKKKKACiiigAooooAKKKKACiiigAooooAKKKKACiiigAooooAKKKKACiiigAooooAKKKKACiiigAooooAKKKKACiiigAooooAKKKKACiiigAooooAKKKKACiiigAooooAKKKKACuN%2BOP7QHwm/Zx8JW/jT4veJ5dPtL7U4dN0u2stLub%2B91K9lDGO1tLO0jluLudlR2EUMbvtR2xhWI7KvFv2u/gP8VPiX4h%2BGfxl%2BBd14fl8X/CrxjPrWmaJ4tu57bTdYhudLvdMubaW4ghmktH8q9aSOdYZtrR7TGyu2ACjpH/AAUr/Y71rxm3w8tvHviCDW7fSodU1bTtR%2BHOvWkmi2EhuAt3qXn2SDTIAbWcNLdmFEKYYqWUGbwn/wAFH/2NfGfg/wAQ%2BOtM%2BLFza6f4Y0e11fVBrnhPVdMuJNPuXMdreWtvd2sU19bzyAxwy2ySpM5CRlmIB86vP2GPjP8AHW0/aRP7Qt74V8My/tB/CPTvBskfgrWLrUzo7RWusWsr%2BbcWtqZ1VNRiZDsXeyygogxuy9Y/Y2/at%2BM%2Btaz8UP2lPh38G9X1e0%2BE6eBtB8E6d4n1QaRrSy6jaXt5fXd2bBJ9PYmyg%2BzxQw3BtnDP50hIwAeyX/7fP7N2k%2BAbH4h6tdeOLSHVPED6Jpeh3Xwj8SR67e3yW5uXjh0dtPGoShYAZTIluUCKzFsA49P8JeOfDfjbwTY/EPRbi5i0rULBbyCTVNPnsZY4iu7MsFykcsDAfeSRVZSCGAIIr41tv2Gf2tJfgpJ4W8feGPCnjS%2Bh%2BIcut%2BC9B1n9ofxXb3fgOxOmxWoi0/xbHp7atcSGUXcreZDGBHeGENsjGfUvB/7Bmq%2BKfgJo3hb9pz46%2BOPEfj5PhtdeFtf8Q6T8Q9at9Muhc2tzbyTPpa3SWN5MiXTBbq4tmmdoopWKuibADc8Mf8FJP2MvF/h7xJ4s0b4tXK6Z4W8GXni6/vr7wlqtpFe6BaruuNU09p7VBqtogK5nsvPQmSMAkyIG4n40f8FdP2YfAf7M/wATf2gfhW%2Bs%2BM7v4b%2BDYfEjeGW8L6xps2r2Nw7R2t3avNYFrixlkRh9vgjmtkVWdnCqSPHfC/8AwSh%2BNC/BPxf8LPFnh3w9J4h/4UL4j8A%2BC/Hmo/tD%2BNvECSXGpWEdp5h0jVUkttGtpDDE8scEl0yeVGqFggz6P%2B1L/wAE5vih%2B0BYeKtE0Pxj4d0q2179le%2B%2BGlrLM87GDVpLiOWGdo1iANqNhBIbzBnhO9AHqkv/AAUU/ZZt/E3hrwJeav41tvEni7TpdQ0HwpefCTxLDq8tnFd/Y5LmSwk08XNvCkxG6SaNEVGWUkRsrmXwN/wUT/Y7%2BJGqarpXhD4tyXB0rQ9Q1lbufw1qVvaapp1iwS8u9NuZrdYdVhhYqHeyedVLqCfmGcXwR8APjz4x/apsf2oPjn4f8HeH5JPg5f8Ag/VNE8J%2BK7vVTBcy6tHcpJDcz6fZl4mgiUsTGjJIdoV1USHwGb9hz9pf4bfs8%2BF/Cnxo1rwIPCP7N3wP8SaB4L1PwrfXcmpeKd2hHTLe4vbeW2ii04JZozSQxS3QknZXDxqgQgH0D4U/4Kl/sL%2BNPBus/ELQ/jLdrouheDj4tutRv/BmsWcdzoIKB9Vs/PtEN/ZxmRBJPbCWOLcPMZc167a/GD4c3vxcuPgVZ%2BIxN4qtPDUGv3emRWsrCHTp55beGd5QnlL5ksE6ohfe3kyEKQjEfFX7I/7P3xC8WfBL4Q/Hb9t/Uvhlovww%2BG/7L9z4fgk07W5wmr6bqmnaWby%2B1X7VBDDpkEVppyq0CS3CZleRplWNVrsP%2BCK3wr8d6P8As76n8evit4tbxFrHjW%2Bg03w54hlgaOS%2B8I6JF/ZWiXBD8/6VDDNqhPd9WcgKCFAB9lUUUUAFFFFABRRRQAUUUUAFFFFABRRRQAUUUUAFFFFABRRRQAUUUUAFFFFABRRRQAUUUUAFFFFABRRRQAUUUUAFFFFABRRRQAV4jpH/AAUY/Y91K716z1P4pXnh5vDnhy58QahJ418I6roMc2k27pHPf2smpWsC31ujyRK0tsZUBljGcuufab2K5ms5YbO6EEzxMsUxj3%2BWxHDbT1wecd6/MTV/%2BCOX7cvxf1bwvrnxu%2BOOhvrfhrwfqFnqHijUPit4m8TjxDrf2zSr611E6XfRQ2Wk20lzpi%2BfYWQCiOTassgVAoB9sv8At/8A7MNr8NG%2BLGseIPFWlaW2uQaNY2eufDLX7DVNTv5kMkMFlptxYpe37SIGdfs8MgZUdgSEYjovAf7VnwP%2BI%2Bv2XhPw54h1SHV7/wAKT%2BJIdI1rwrqWmXaabDd/ZJZZYby3ikgdZ/kMMirL32bea8m%2BJ3wc/bd%2BMTfD342654N%2BFWh/EP4UeOptY8P%2BGbXxxqV/ouuWdxpN3plzHcXz6VDNYzFL2SSN0tbgRmIKfMEjYq/En4Dftwa/8ZfDv7TXgfRvhXaeLL74Yar4L8Y6FqXivUpLDSFuL%2BG6tb%2ByuE04SagYhG6yW8sVoJS4xLFjkA7jSf8Ago3%2ByB4j17wL4W8K/EbVdZ1P4k%2BDdK8W%2BDdO0TwPrN7PeaHqL7LXUZEgtGa1t92PMknEa24ZTN5QYE7Hw1/bc/Zu%2BK/xGufhP4Z8X6tZ6/b6Xc6nDZeJ/BmraIt/Y28iRz3dlLqNrBHfwRvLEHltmkRfMQkgMpPlH7Cn7CXxY/Zh1/4caz488QeGrs%2BDv2UvCPwxv30i5nlZtW0t5muZovMgj3Wrb02MxV22/NGmBXjXw0/4JV/tjeJ/ij4X8TftTfGGz1SLT/AHivwv408TQfF/xJrV54il1exS2/tO10y%2Bhj0/QjlSxtLRSi5UCZxGq0AfUvhP/gov%2ByP410WPxVoPjvXP7DuNV0vT9P8AEt78P9btdK1GXUr2OyspLS%2Bns0tryCW5mijFxBI8IMqFnCsCfS/C3xd%2BHnjX4geKfhd4X8Q/a9c8FyWcfie0S0mC2Ml1B9ogjMrII3doSshRGZkWSMsFEibvmHxx4E%2BIvhX/AIJ7eNPgR/wUM8T/AAq8EeAtB%2BGkWgW3xM8O%2BLbsM06RpbWupPaXVnAmmzLMLeSGCO4umM5REcnaG7X/AIJX/D74seG/2RNK%2BKv7RVglv8TvixfS%2BOviJCtu0X2e/v1jMNpsb5k%2By2MdlZ7TkgWuDQB9G0UUUAFFFFABRRRQAUUUUAFFFFABRRRQAUUUUAFFFFABRRRQAUUUUAFFFFABRRRQAUUUUAFFFFABRRRQAUUUUAFFFFABRRRQAUVmeM9I1rxB4T1HQ/Dni650C/u7OSK01uztoZprCRlIEyJOjxMy9QJEZMgZVhkH5r%2BB/wC0d8U9C/Zn%2BN/xzvvHmo/E3wt4Hn1a8%2BGHi/XNOsrW68UWVjpMUs7n%2Bz7e3gmt/wC0EvIIbiOGMSxxhl8xdk0oB9T14v8AHrx/%2B0X/AMNF%2BBfgR8BfGfgrw%2Bmv%2BCvEuvavqfi/wXd60SdOu9Dt4YYY7fUrHyw39qSszMz58tAAvJPK/scfEL45W3xk1n4IfGX403HxB3fCrwr4zttcu9HsbN7O51KfVLe6tI1soIUNpusI5IPMDzAPKryy4UiHxB8bfCuv/wDBVb4c/DHT9N1%2BC80/4O%2BPobqfVvCeo2FtNL/anhF1Frc3MEcF8u1JCzWzyhMLuK7lym1Fal06c6srRV3Zv5JXf4HZf8IP/wAFC/8Ao6D4M/8Ahh9W/wDmoo/4Qf8A4KF/9HQfBn/ww%2Brf/NRXs1FMg8Z/4Qf/AIKF/wDR0HwZ/wDDD6t/81FH/CD/APBQv/o6D4M/%2BGH1b/5qK9mooA8Z/wCEH/4KF/8AR0HwZ/8ADD6t/wDNRR/wg/8AwUL/AOjoPgz/AOGH1b/5qK9mooA8Z/4Qf/goX/0dB8Gf/DD6t/8ANRR/wg//AAUL/wCjoPgz/wCGH1b/AOaivZqKAPGf%2BEH/AOChf/R0HwZ/8MPq3/zUUf8ACD/8FC/%2BjoPgz/4YfVv/AJqK9mooA8Z/4Qf/AIKF/wDR0HwZ/wDDD6t/81FH/CD/APBQv/o6D4M/%2BGH1b/5qK9mooA8Z/wCEH/4KF/8AR0HwZ/8ADD6t/wDNRR/wg/8AwUL/AOjoPgz/AOGH1b/5qK9mooA8Z/4Qf/goX/0dB8Gf/DD6t/8ANRR/wg//AAUL/wCjoPgz/wCGH1b/AOaivUfGY36GIGJ2TX1pFKAcbke5jVl%2BhUkH2NeY6/8AtQf8E/fCmu3vhbxT%2B0R8HNN1PTbuS11HTtQ8XaVDPazxsUkikjeUMjqwKsrAEEEEZFZVa9Cgk6k1G/dpfm0d2ByvM80nKGCw9Sq4q7VOE6jS2u1CE2lfS7SV9L30Gf8ACD/8FC/%2BjoPgz/4YfVv/AJqKP%2BEH/wCChf8A0dB8Gf8Aww%2Brf/NRVf8A4a//AOCcH/R0XwR/8LbR/wD47VvQP2oP%2BCfvivXbLwt4W/aI%2BDmpanqV3Ha6dp2n%2BLdKmnup5GCRxRxpKWd2YhVVQSSQAMmsljsC3ZVYf%2BBx/wDkj0J8K8U04Oc8vxCSTbboV0klq226CSSSbbbSSTbaSbGf8IP/AMFC/wDo6D4M/wDhh9W/%2Baij/hB/%2BChf/R0HwZ/8MPq3/wA1FaP7VfxL%2BFX7KH7N/jX9pLxT8Ll1bT/BXh641W603SNEE1xcrEudiLHGxGTjLkbUXLuVVWYc/pP7Wf7H%2BueN5fhrpfhrX5fENt4cXXtQ0X/hTWurdafYPHdvFLdRtp4a1aX7DcrFHMEkmeMRxq7uit1Hgl//AIQf/goX/wBHQfBn/wAMPq3/AM1FH/CD/wDBQv8A6Og%2BDP8A4YfVv/moqlpn7Tn7MHiaTw7/AMIrplgh1nx1N4VvbDxL4S1HR9Rsb6PRrrVzC1lc2AmSU2tusyrcLbxvDJ5iysxijmb8FP2v/wBhf9oLRpvEfw28TaX/AGdF4f0/XUv/ABF4Ru9FgudLvmZbW9gk1G2gW5t5HUoJYi6h8ISGIFAF/wD4Qf8A4KF/9HQfBn/ww%2Brf/NRR/wAIP/wUL/6Og%2BDP/hh9W/8AmoqD9tD4lXX7L3wQu/jT4F/Z38M%2BL4tIu4W12y1HWV0r7PYs2154nWzufOlDFAsRVA245kQDNd98SLr4N/CXwDrHxN8e6LpNjo2hadLe6ldHS0cpFGpY7VVSzscYVFBZmIVQSQKAOI/4Qf8A4KF/9HQfBn/ww%2Brf/NRR/wAIP/wUL/6Og%2BDP/hh9W/8Amory/Q/2ufG/if8AYu1X9r60/ZA8A6B/wimo%2BLYvHPh3xt49ez/sa20LUL20mkFxaaRdrNIwsndo9iqhO1ZJQNx6Wz%2BPHjqw8c/Abwz8QP2OvDOh2fxi04Q63M3ihZbzwxrQ0S%2B1aTTxbf2eq3kca2LwtcGWA7pFIiIBAAOr/wCEH/4KF/8AR0HwZ/8ADD6t/wDNRR/wg/8AwUL/AOjoPgz/AOGH1b/5qK52/wDi38SdB/bF8Ofsy69%2Byv8ADuTR/E%2Bk67rFn4i0jxvNcX9ppmnG3jW4ubGTR4o4mlnvLSEIt0%2B0ySMGkETZZ8H/ANpbwxrXwU%2BIXxY/aH%2BA3h7wTdfDfxVfaJrWk6FqI1xbh4IreSMW8hs7Z5ppjcRxJAsRZpSEQuWUkA6X/hB/%2BChf/R0HwZ/8MPq3/wA1FH/CD/8ABQv/AKOg%2BDP/AIYfVv8A5qK8gv8A9uSbTP2LLH9sDxP%2Bzp8KPB4h1vX9L8T6D8QfinHpcdldaZqd5YC2tbtNLmS%2BuZnspCkW2IZIVXf71dT8Uv2g/iN4G1r4VXvh/wDY88GXegfFTxJomj6fBrfi6bTvENlJeQPd3hk00aRNCWs7SC7ndDdqWFq65QkUAdt/wg//AAUL/wCjoPgz/wCGH1b/AOaij/hB/wDgoX/0dB8Gf/DD6t/81Fc1pvxn8cab%2B17F%2Bzb8SP2Zvhvp2hy%2BDtW8Ty%2BLdH8cy3kunada3Vvb2zXlrPpFvHA9yZpGULcSKos7j5mCAtw3gf8Ab88P/E7wl4m1TwP%2ByZpp1dPi/p/gf4daXrGrJax%2BJI77SLLWLbVLmQWbvp0LWN1JcGPyp5VjhAK%2BY5iQA9e/4Qf/AIKF/wDR0HwZ/wDDD6t/81FH/CD/APBQv/o6D4M/%2BGH1b/5qK8f%2BKv7emlfDD9mm3/aQ1L9nz4a2kena3regeKfDHiH4hJYajLrml3s9pJpWhp/Zki61czyWlwbaNjatMDD8qGRhH6T8QPi74h%2BGHxy8IeC/F/7MXhNPBfjrxVF4d8PeIbTxIJNZa8fTZ77fLpTWCosC/Zp0Zku3kUJ5hi2bioBr/wDCD/8ABQv/AKOg%2BDP/AIYfVv8A5qKP%2BEH/AOChf/R0HwZ/8MPq3/zUV4t8Mf8Agoj4H8bfAH4mftFax8GfhY2mfDyG/wDM8PeE/iRFqutRzW97Paxx6lbPp1umlCQw%2BZvaWUIjFjkISep/4as%2By%2BBPiJN4l%2BEHwW8OeLPhR4js9P8AHcHij4qfYvDlhaXdjBeQXY1dtILjctzFH5ctpERIHG4r5byAHoH/AAg//BQv/o6D4M/%2BGH1b/wCaiqHgfxx%2B1Z4O/as8OfBH43fEf4e%2BJtG8TfD3xDrkM3hX4eX2i3VpdabfaJborPcavfJLG6apKSoRGDRIQ2Mg6/wT8f8AhP49/staL%2B0LpHwxi8Nza/4YOqWto0KeZbNsZleOVUQyRsVDxy7V8yNkfau7aK/jj/lIX8L/APsjPjz/ANO3hCgD2aiiigAryf8Abc/aD%2BIH7Kv7NniX9oT4f/CfTfGR8JabcaprWkal4pbSAun28Es08kcy2tyXlAjCpFsAYvy6AE16xXlP7bXwC%2BIX7Uv7Mfi39nf4dfE/RvCE3jLRrnSNU1vWvCkusLFZXEEkUoigivbQrN84KyNIyrtOY2zwAaP7Svxz1b4HeFtEbwh4Jg8SeJvFniqz8PeFdEvNWNhbXN7OHkZp7lYZmghighuJndYpW2wkKjMQK8Q1j/gpf42l8Ii78A/s0Q6z4l8PaF4p1f4k%2BHZ/Gv2ZNGh8P6k2m3kVnP8AY3/tCeeeOY2qultHLHEWlktyyqfTfil%2Bzz8bvi/4C0O38U/GvwvbeNPCXiLTfEHhbxHpPgG4jsbfUrdZI5/PspNTkee3nhmnhMS3EbokpxKWAYeY6x/wTP8AHEXhAWngH9piDRvEviHQfFWkfEnxFP4J%2B0prMPiDUm1K8ms4Ptif2fPBPJMtqzvcxxRylZY7gqrAA%2Bp/DHiPR/GHhvT/ABd4euxcafqtjFeWM4UjzIZUDo2DyMqwPPrXz/8ACbxV%2B3f8ddH17x34X%2BN/wk0DS7f4heKtD0vSr/4P6pf3EVrpevX%2BmQtLcJ4igWWR47NXZlijXc5AUACvbbz4T/DXVfhknwZ8Q%2BB9L1bwqulxaa%2BgaxZJd2s1rGqokUkUoZZFAVeGB6V5Z/wTp8MeGvBX7N194P8ABvh6x0jSNL%2BLfxDtNM0vTLRLe2tII/GetLHFFEgCxoqgKFUAAAACgC9/wg//AAUL/wCjoPgz/wCGH1b/AOaij/hB/wDgoX/0dB8Gf/DD6t/81FezUUAeM/8ACD/8FC/%2BjoPgz/4YfVv/AJqKP%2BEH/wCChf8A0dB8Gf8Aww%2Brf/NRXs1FAHjP/CD/APBQv/o6D4M/%2BGH1b/5qKP8AhB/%2BChf/AEdB8Gf/AAw%2Brf8AzUV7NRQB4z/wg/8AwUL/AOjoPgz/AOGH1b/5qKP%2BEH/4KF/9HQfBn/ww%2Brf/ADUV7NRQB4z/AMIP/wAFC/8Ao6D4M/8Ahh9W/wDmoo/4Qf8A4KF/9HQfBn/ww%2Brf/NRXs1FAHjP/AAg//BQv/o6D4M/%2BGH1b/wCaij/hB/8AgoX/ANHQfBn/AMMPq3/zUV7NRQB4z/wg/wDwUL/6Og%2BDP/hh9W/%2Baij/AIQf/goX/wBHQfBn/wAMPq3/AM1FezUUAeM/8IP/AMFC/wDo6D4M/wDhh9W/%2Baij/hB/%2BChf/R0HwZ/8MPq3/wA1FezUUAeM/wDCD/8ABQv/AKOg%2BDP/AIYfVv8A5qKP%2BEH/AOChf/R0HwZ/8MPq3/zUV7NRQB4z/wAIP/wUL/6Og%2BDP/hh9W/8Amoo/4Qf/AIKF/wDR0HwZ/wDDD6t/81FezVj6v8QvAPh8ka9440ey2/e%2B16nFFj/vphSlKMVduxpSo1q8uWnFyfZJt/ckzzH/AIQf/goX/wBHQfBn/wAMPq3/AM1FH/CD/wDBQv8A6Og%2BDP8A4YfVv/morqtR/am/Zj0fP9r/ALRngO1x1%2B0%2BL7JMf99Sisq6/bi/YqsQWvf2v/hdCB1MvxA01f5zVzyxmDjvViv%2B3o//ACR6tLhziOsr08DXl6Uaz/KkzK/4Qf8A4KF/9HQfBn/ww%2Brf/NRR/wAIP/wUL/6Og%2BDP/hh9W/8Amopt5/wUb/YFsWKz/tlfDRsf88fGVnJ/6BIaydR/4Kn/APBO3SwTc/tfeCmx/wA%2B2p%2Bd/wCiw1ZSzPLI714f%2BBx/%2BSPQpcDcb1n%2B7yvEv0w9f/5SjY/4Qf8A4KF/9HQfBn/ww%2Brf/NRR/wAIP/wUL/6Og%2BDP/hh9W/8Amorkbj/gsH/wTVtQTL%2B1loBx/wA87S7f/wBBhNZF9/wW4/4Jfae2yb9qSBz2Fv4U1eXP/fFoaylneTR3xNP/AMDj/mehS8MPEmt8GS4t/wDctW/%2BVo9F/wCEH/4KF/8AR0HwZ/8ADD6t/wDNRR/wg/8AwUL/AOjoPgz/AOGH1b/5qK8y/wCH3v8AwThk5tPjHrFwvZofAesEH87UUh/4Ld/8E6YxvufivrsKDlnl8BauAo7k4tulR/b2Sf8AQTD/AMCRv/xCjxP/AOhLiv8AwRP/AIc9O/4Qf/goX/0dB8Gf/DD6t/8ANRR/wg//AAUL/wCjoPgz/wCGH1b/AOaisbQv%2BCqP/BO3xF4am8Waf%2B174LjtYI97xX2pfZbkj/Ztpgkzn2VCfauKP/BZX9l/XJZJfhN8Mvi34/09XKJrHgz4a3dxaysOoVpfLJx9K0nnOUwSbrw12tJP8I8z/A5sP4a%2BIWJnOMcqxC5HaTnSlTSfZyq%2Bxjfy5mz07/hB/wDgoX/0dB8Gf/DD6t/81FH/AAg//BQv/o6D4M/%2BGH1b/wCaivMv%2BHtnhp%2Bbb9gn9p%2BYHoYvhC5z%2Bc9J/wAPUfEF9zoX/BM79qCYdmvfhmlsD9N1waz/ALcyrpUv/wBuz/8AlZ0/8Qs4%2BXxYLl9a2FX54xHp3/CD/wDBQv8A6Og%2BDP8A4YfVv/moo/4Qf/goX/0dB8Gf/DD6t/8ANRXmJ/4KXfGi9/daH/wS4%2BPckp%2B6L/Q7e2T8WaUgUf8ADcn/AAUB1fnwh/wSO8UTZ%2B5/bPxO0rT/AM96tij%2B28vfwuT9KdR/%2B2B/xDDi%2BP8AFjRp/wCPF4OP54pnp3/CD/8ABQv/AKOg%2BDP/AIYfVv8A5qKP%2BEH/AOChf/R0HwZ/8MPq3/zUV5j/AMNQ/wDBWG95tv8AglrodlnoLz43adJj/v3HS/8ADQf/AAV2m/1f/BPPwPD/ANdvizA3/oMdH9sYbpTqf%2BCqn%2BSD/iG%2BdL4sXgl/3P4T9Kkj03/hB/8AgoX/ANHQfBn/AMMPq3/zUVb/AGVviN8afGGsfFDwJ8dNf8L6tqngH4hRaHZ6r4T8NXOk291ay6Do%2Bpqz29xe3jLIsmoyoWEu0rGh2qc58m/4Xb/wWHuTiH9iH4ZW3vcfEouP/HErof8AgnZq3xl1zXPjzqn7QXhLR9C8Xy/GaD%2B19K0C/a6tIMeEfDYi8uVgC2YRGx9GZh2rpw2Pp4qbjGE1pe8oSivvfXyPHzvhPGZFhY162Jw1RN8vLRxNKtLZu7jDVR01le12l1PpOiiiu0%2BXCiiigAooooAKKKKACiiigAooooAKKKKACiiigAooooAKKKKAMH4o/DTwf8Zvhvr3wk%2BIVldXOg%2BJdJuNM1m2s9TuLKWa1njMcqLPbSRzRFkYjdG6sM8EVy/wn/ZT%2BD3wV8O23g/wMPFb6RZwtDbaV4g%2BImt6xbJA0CweR5V/eTIYRGoVYSPLTkqoJJPo1FAHnnwC/ZV%2BBn7MVrf2vwZ8KXlh/aUNrb3M2peIb/U5ha2qOlraRy308zw2sCySCK2jKwxeY%2BxF3tnwL9rbxUfDX/BYD9kCxZ9ses%2BEPidYSNnj/j20KZQfq0Kj64r7Ar8/v%2BCqniI%2BD/8Agp3%2Bw94k37c%2BJ/EenlvQXdxoFvj8fMxXBmdX2ODdTs4/%2Blw/zPq%2BCMEsy4kp4S1%2BeFdL1%2BrYlr8YH6A0UUV3nygUUUUAFFFFABRRRQAUUUUAFFFFABRRRQBl%2BMP%2BQTD/ANhWx/8ASuKuF1/9ib9jLxXrt74p8U/sj/DHUtT1K7kutR1HUPAOnTT3U8jF5JZJHhLO7MSzMxJJJJOTXdeMP%2BQTD/2FbH/0rir528f/APBZT/gm58L/AB3rfw08dftHfYdb8O6vc6ZrFl/wiGsS/Z7q3laKWPfHaMj7XRhuVipxkEjmuHHVstowi8ZKCTenPy2v5cyetuxUeJKnDf72GNeG59LqrKlzW1teNSne29m3be3U9E/4YH/YV/6Ms%2BEv/hudM/8AjFW9A/Ym/Yy8Ka7ZeKfC37I/wx03U9Nu47rTtR0/wDp0M9rPGweOWORIQyOrAMrKQQQCDkV4z/w/N/4JZf8AR0X/AJZOuf8AyFWv4B/4LKf8E3Pih470X4aeBf2jvt2t%2BItXttM0ey/4RDWIvtF1cSrFFHvktFRNzuo3MwUZySBzXnwxvDDmlGdG91a3s736W03vaxX/ABE3E1/3TzycubS31uq730tb6w73va1ne9rO9n7L%2B018E7L9pP8AZ08d/s96hr8ukw%2BN/COoaG%2BqwQCV7P7VbvCJghIDlC4baSA23GRnNeX%2BIv2JviF4/wBB%2BLsvj34%2B2sXiT4t/DvTfDN9rXhPwrNpsOmyWY1ELcxRSX08jI4vwGiMwOImxIPMGz1z46/GHw5%2Bz78HvEfxv8ZaZqN1o3hXSpdT1lNKhSSeKziG6eYK7oGWOMPKwznbG20M2FPl/xn/4KIfB34LaX4u1zVPDep6hY%2BCvFtn4b1jUR4g0HSrR7%2B402LUQkNxq%2BpWcMmyCeAMA%2B/fMFRX2SFPeMzzr4I/8EpovhF4ih8TQ/EnwhYbfi4PHL6D4C%2BF8egaRAw8I3nhw2dtapeSmEN9qF20rPIzOjKR84dPQvgb%2BxR4h%2BAUfgS78I/Fyyub/AMDfA3Svh1by6h4Xdobv7HJAxvmjS7Vl3rCwEIc7C4PmNt2tylr/AMFHdJ8U%2BPo7/wAE3FpceAtc8GfCTXfCOqxaFJPeXX/CYeINW00rMj3cKxxiKzsyrAF4GkmdkucLBVjwb/wUaPxM/aK8H%2BCPCHwf8TWXgHxH4K8Wa/aeLNU0JZ28Qw6TcadDHPpcdlczTmN/tUreVPbpPMGgaFCCcgHpH7bfwA%2BJn7UP7PWrfA34Y/FTQvB0%2BuyRxanrGveEJtaT7IpLtHFDFf2ZSUyLERI0jqFV18slwyX/AB9%2Bz7P8fPhxD8Lv2ltfstc0x7bS7q//AOEQTVPDk7azZ3S3S3tvcW2pNPbRCaK3eOFZGeNoiWmlDALD%2B2B8Qfi/8OP2WvGPxb%2BAmoeHbTxB4c8M3etWreMtDury0aK2t3neN7eG4tpd7Km0fvE2k5IONp37f4w%2BH/DnwBg%2BPHxR1W10rTbbwnHreu3ao3lW0f2YTSlV%2BZiBzhRuY8AZJoA8U8I/8E0fD3gr9mDWf2VtL%2BMOvXeh%2BJvi3deLvElxr9/qGrTXunXHiE6tLowe%2BvZnRJYQtnNMGPnb7ido/OuHauy/aP8A2d/jx8X/AI2/C74n/Db43%2BEfDel/DbxDNrLaNrnw8utVuNSuJtPvtOlUXMWq2qwx/Zr%2BTaPJcrKiuWZcxnwo/wDBQ39qyD4ReKfEvi/4caB4a16x%2BPln4NtbSDwlqWvXOh6Rd6FY6tCZ9KsbkXWrajH9sW3lisnUA75lUxQOWu%2BMP2xf2zNe/YY8J/tTfCXxV8L7DxF4hv4NAsPC%2Bt%2BANRv11nWrrW/7Ks9vl6xbSaarFo5Z7WZZprTE6StugegD6R8K/Af%2BxP2l/F/7Set%2BKv7RvPEHhrSdA0bTvsPlro1hZvdTuivvbzXnuLuSR3Cp8sUCEHygx8l%2BGf8AwT%2B8W6h4c8deDP2uPjDo3jfSvF/xCh8aWafD/QtZ8GXWl6tGYSrrd2%2BuXEzIjW1u8YVoyjoxZnyoTm/EX/BRDxl4K/bLT4H%2BMdc8F2WmzfFGy8F2ngRtLuv%2BEmuba70uO4h8RJN9p8r7A13ILbb9mKDa3%2Bk%2BcPIrF%2BHv/BRD45WPwJ8eeO/jBd%2BHB4/0fSfP0D4X3Xwr1zwvcW8k%2BpHT7OeW61G7lGp2TSyWwe5tIlRdx5yyrQB3/wAOf2D/AIrfAH9na4/Z0/Z//aK02HT9X8Q%2BKNQ8RXvxH8Man4qkuItXv5rlIYPtWsoYWhjmMbF2mjuJN87xCSWXf2/hD9j/AEvwl46%2BEmu/8J/fajovwc%2BH114d8OaTqkHm3FzeTQ2dqNVnud43zpaW00IAjGft1wxbkAcRpHx0/apvdC%2BJXgvxR8X/AISeGPEHwk8RR/8ACUePdW8D37aHdaLLo8GopcixOrxyWciGZ45C95IgW2MgH70JH594o/4KKftOD4QzfGPSfht4Y8PJ8PP2d9G%2BLXxY8OeItLvZru9tb46izadp7ieA2Uqw6NqD%2BZcRTEM9ujRKd5AB73qH7HPgnxx4x%2BMfiH4x6rJ4ksfi/olj4cvNLi86wNh4dtrOWIaas8EwlbfcXmp3BmQxEfbQgGY97%2BYaN/wSz0P4eal408X/AAg%2BOfiSz8Ra38T9F8a%2BE9Q8Z6zrHiaHRLjT9IttM%2Bzzx6hqbSXqTRR3aySLLBN5V1HCHC2kBXW%2BHH7Vvxg1T9sbxh8Fvip4i0Pw7o9n4ju9P%2BH3h3UPhVrVlceKbeHSre8M9t4guLsadcyK7XZe3hgaRY7V2IARnHivwW/4KpftH/ED4fajqWseGvCj69q2jeBz4bguPBeraLBpOq%2BI9dXRxC4vLp28QWFq80cx1SwaK2uVjZYmBkUqAe1a7%2Bw18arn9m7VP2aPDn7RvhmDTPG0fiF/ibqmq/DOS8utSu9avLm6vZ9PA1OOKwCm7mSGOdLxY1SEN5mxvM2NI/ZJ%2BN%2BmftgQ/tF6h8f/AA1rXhvStGt9F8KeFde8AXdxf%2BH9PEKLefZtQXVki%2B1XcyB5bqS0dzGkUIG1CW5TU/2m/wBqG2%2BCvxH8Sat8UvhP4X1j4KeJdU0zx74i1vwVqNxpWqpFp1nqVnJa2yapHLZeZb38CuHnuisoKosmRXGfF3/gp78U/hJ4v0Sf4k6N4T8CW/8Awj3gvUdQ%2BHXifT7qfxD4gfWbkQaimmTJcRRr/Zu796Ps9xlom8w2yMklAHsVr%2ByX8Y9d%2BKeqfGn4qfGTwRrOux/DfVvB3hO1074Xy2mmW9rf3FtcSPqdvLqc76nteytwI1ltkCNcqoUzllzfgj%2BxJ8R/2Z/AWu2/wA%2BInwz8N%2BK/FPiiLUtduLP4PSQeHYrSKzFtFY2WkWuqwPaqCizGRruVmlknY5EirH0Pw/8Aiz%2B0Hqv7YHxV/Z48X6x4NOlaL4D0DxH4FvNN8O3aXFoNRvNbtTFfl71lvNh0uKTMS23%2BtdeeHHjuvftX/t4%2BF/DPxunsLvwL40m%2BHHjXwf4Y0TVvCXwd1uU/ar26sX1yV9Mt9XurjUEs9P1K3lVbeSNvNhuFbOwgAH0D8H/gfbfs4fssQ/Bm38TTaydH0W%2BM%2BpTWywCaaZ5riUxwoSsEIklYRwqSIowiAkLk5Pjj/lIX8L/%2ByM%2BPP/Tt4QrS%2BDfxSHxi/Zkm8azfEnRvFd21nqdtqWq6H4UvNCiW5hkmie3fTr2ee5spoSvlSRTSFxJG5KpkIub44/5SF/C//sjPjz/07eEKAPZqKKKACiiuO%2BPHxs8Nfs/fDqX4ieJtI1PVN2pWOmaZouiQxyXuqahe3UVpaWkCyyRx%2BZJPNGu6R0jQEu7oiswAOxorx2H9tj4ZL%2Bzvqv7QureE/Eunromvt4f1XwfdWdu2sQa3/aCadHpmyKd4GmlupYY43WYwOJ45BL5bb6wNW/4KDeGtO0vRbKx/Z4%2BImoeMNX%2BJkvgOf4dWjaIuraZq6aFca8VuZZtTSxEZ023Fwrx3Um4XEIALMwUA%2Bga8Z/YP/wCSIa5/2Wb4j/8Aqa63XregaleaxoVlq%2Bo6Bd6VcXVpHNPpd%2B8LT2bsoZoZDBJJEXQkqxjd0yDtZhgnyT9g/wD5Ihrn/ZZviP8A%2BprrdAHs1FFFABRRRQAUUVS8Q%2BJfDnhHSZdf8V%2BILLS7GBd097qN2kEMY9WdyFA%2BppNqKuyoxlOSjFXb7al2ivmz4xf8Fef%2BCdXwUjdPEH7T2g6vcqpKWXhJn1d3P93faB40P%2B%2B614FqP/BcH4vfG0zW37Bv/BPP4geOYFJVfEGsWkkVrGQcZKWyyqQT/emQ%2B3p4%2BI4gyfDS5HWUpfywvOX3QUioxw6SdWvSpp/z1YJ/KKdSo7dbUnbrY/RCivy8vfiL/wAHIPx81EL4b%2BGeifDaxnOJWW10u3SFc8DN5Lcz5x1Krke1Rap/wSd/4K8/GIib49f8FCbO4t51/faRB4l1eS2XPYxQLbRk9uBiuF8RYmt/u2BrT82lBf8Akzv%2BB6kafClJr22Yyqd1QwuJq28uaqsJTb7NNx8z9JvHPxg%2BEvwwhNz8S/ij4c8OxhcmTXdbgtFA9cyuteLePP8AgrZ/wTk%2BHW5da/ax8M3rqcLH4eabVS57BfsccoOfyr5F8Ff8G63i/Rbw6jqf7VfhaB5G3TxH4RW%2Brbyep8zUrmUj8q9k8Cf8EWIPCwWO4/bg%2BJmmRAYeL4d2uneGVYf3f9EtzhT3ArP6/wAV1vgwkYf4pJ/%2B3JfgdqzLw8w3wYLMcS/70sDhIv8A8nxdRfc/S51T/wDBXPwV4pQn4Ffse/Hfx6hGYtR0j4eyW9gR6tPcOmwe5WuX13/gpP8AtoakzJ4c/Yl8G%2BEYD9zUviR8cdJtdv8Av20Z81fzrqo/%2BCKP7C%2BrOJ/ihpXjbxzNnLz%2BLfiFqUzOfVvKljB/Kup0L/gkh/wTe8OgLp/7I/heTaOPt6z3X/o6R80fVuK63x1Yx9Gl%2BVOT/EP9cMBh/wDceGcMvPE4zF4h/ONKOGp/JXR4y37Tn/BRXxfGbm9/aw/Y58FWmMj7L4mudQuY/wDeMkoiP4VzXij41/G6ygNz8QP%2BDgL4OeH1/wCWtl4T8F6JfyY9BunaQfXFfUC/8Ewf%2BCeiSCUfsd%2BAsqcgHQYyPyIwa6Xwx%2Bw5%2Bxf4LnW78K/sl/DawnX7txb%2BCbFZR/wPyt360f2Rm8/jq39atb8oqAf8RG40hphcuyuh/hwaqP8A8rOq382fn/N%2B0R%2Bzbq8zQ/ED/g4G%2BItywOJD4b8NvpgPrtMNq4/EZqvP44/4JAX/AM3xH/4K5fHvxWT99dY8Za1Ih9gsNguB7Zr9Q4Ph/wCA7WFbe28E6RHGgwkcemxAKPQALxVmDwv4atcfZvDtjHjp5dog/kKP9X8Q/ilTl6qtL86/6B/xEzxdj/AzChR/69YSjT%2B5wpJ/dJH5TSah/wAG5uqP5Gq/Enxr41uD/wAutzc%2BLpnk/wC%2BUjB/OtbRz/wQ008BvCH/AAT5%2BJWtxj/Vyw%2BBtcu1f6efPz%2BNfqfHHHEuyKNVA7KMCnVUeHNb2or0oJ/%2BlTkZ1fEjxrxEeWfEdZLtF1Ir7lWivwPzS03xp/wS/tQP%2BEY/4ItfF3V8fd8j4DG43f8Af6bmte1%2BIv7GCESaP/wb%2BfFCRR0N/wDs86ah/J3av0WoreOQzX/LyC9KFH9bnlVeKPE%2Bu71eIcS/%2B3p//NB%2Bf9n8f/2YdGAZv%2BCDHxUtYh/z4fs96ZIw/wCAqwrW039sv9nuyIXwj/wRc%2BOaSD/nn%2Bz5Z26qfQt5vBr7qorWOUYmPw1or/uDS/4B59XMeOa2lTOq0vW7/Ou/yPiu3/bilXDaJ/wRy%2BM64%2B75vw%2Bsbcj83rXsv%2BCifxe01caZ/wAEoPjbbp6Q6JaJ%2Bgkr69orWOX4%2BO2Ja9KdNHn1aHEFdfvcxnL1hB/nJnyX/wAPJfj7cfJp3/BLH44s/pc2NrCPzMhpkv8AwUv%2BN%2BixPdeLv%2BCWvx2ghiUtM2laVbXzBRySFSQFjjsK%2Bt6Kv6lmP/QW/wDwXT/r8TD%2Bzs2/6Dpf%2BC6X9fifIPhT9rL/AII8/Ha3uPi54pPwt07XNAYyalD8QfDVlYazpsoOGUpdRiRnDHbmIuNxABJxUsX/AAV7%2BC/iVns/2af2ZvjT8U9Nt28iDW/AXw5lfSyy8FBNO0RUDGPuY9K97%2BI/7K37NHxg8W2Pj34qfAPwh4i1rTiDZ6prPh%2B3uJ0x0Bd0JYDqA2QCMjB5rurOztNPtY7CwtY4IIUCQwwoFRFAwFAHAAHYVlDCZqm17SnDvKNP3pebUmor/wAm9VsdNevxhmEIUcXjU4U1aLtObt5Rq1ZQpruoK3XyPk7/AIed/FLSf3/i7/gl5%2B0RBAeVbR/CkOoPt9SiTKQfaj/h518VdZ%2Bbwb/wS7/aHnU/dOt%2BFYNOP5PM2K%2BtaK1%2BpZlt9bf/AILp3%2B//AIBzf2fm%2B3152/69Ur/f/wAA%2BSv%2BHgH7ZV7xon/BJv4jyE9Pt/ijT7b892cUH9sj/gptqny%2BHv8AgkVdID/y21X416RAF%2BqeWSfwr61oo%2BoY174ufyjTX/tjD%2By8xfxY6p8o0l/7Yz5K/wCGo/8AgrHD/rf%2BCWOiTf8AXH436av/AKFHQf2qv%2BCr1x/o8H/BKPS7d26XFx8dNLeNPcqsW4/hX1rRR/Z2K/6C6n/lP/5WH9k4z/oOq/dS/wDlR8lf8Lr/AOCxkX/Ewk/Yk%2BF8sJ6afH8SGW4X6yFNh/Cui/4J1%2BJ/i14x1v48%2BI/jp8MLbwb4quPjNANV8N2mtR6jHabfCPhtIytxGAsm%2BJY5OB8vmbTypr6Trxn9l/8A5Lf%2B0d/2Wax/9QrwvXRhsHUw83KVac12k4teukU/xsdWEwFXC1HKWIqVFbaTi166Qi7/ADt5Hs1FFFdp6IUUUUAFFFFABRRRQAUUUUAFFFFABRRRQAUUUUAFFFFABRRRQAUVj/ED4ifD/wCE3g6/%2BInxT8daN4Z8P6XEJNT13xBqcVlZ2iFgoaWaZlSMFmUZYgZIHekj%2BI3w9l%2BH6fFmLx3ozeFZNIXVY/Ey6pEdPawaLzRdi43eWYDGQ4l3bCp3ZxzQBs1%2Bcv8AwXR/4kvxj%2BB3xQHH/CD2Wra75n/PPy/Efg6Hd7f6/wDWvv74c/E/4afGLwlb%2BPvhH8Q9C8U6Fds62mteHNWhvrSYoxRwk0LMjFWBU4PBBB5FfEP/AAW58Kf8JloNzpIj3GD9nrxvfgY6fZfEPgm5z%2BHlZry87i55PiEt%2BSTXqlzL8Yn3XhhXp4fxGyiVT4XiKUZf4akvZS/8lqs%2B%2BqK574SeKx48%2BFPhjxwJN41nw9ZX2/P3vOgSTP8A49XQ16UJKcFJbNJ/fr%2Bp8XiKFTC4idGp8UJOL9Ytxf4xYUUUVRiFFFFABRRRQAUUUUAFFFFABRRRQBleMP8AkEw/9hSx/wDSuKtWob%2BwtNTtHsb6ASRSDDKSR3yDkcgg4II5BFUP%2BEP0n/n71T/weXf/AMdoA1aKy/8AhD9J/wCfvVf/AAeXf/x2j/hD9J/5%2B9V/8Hl3/wDHaALOvaFo/ijQ73wz4i02K80/UbSS1vrO4TdHPDIpR42HdWUkEehr518E/wDBMH4UfDT4R%2BA/hh8PPjV8R9K1D4fa3qeqaX45XU9PudbvJb9JoroXUlzZSQSbopvKV1hSWNIYhG6bST9A/wDCH6T/AM/eq/8Ag8u//jtH/CH6T/z96r/4PLv/AOO0AeDeBv8AgmJ8A/h/4a8PeFdE8W%2BMJLbw14a%2BHmh2DXepWzyPbeDdVu9U0tpG%2BzjdJLPeSrcNwHRUEYhYF2tfDb/gnd4F%2BFPxE0v4geEvjr8RFXwv4b13QvAehXF5pslh4Ws9VmtppktENjvlMT2kHkm6e42Kmw7k%2BWvb/wDhD9J/5%2B9V/wDB5d//AB2j/hD9J/5%2B9V/8Hl3/APHaAOb/AGgPgm37QHwO134G3nxS8SeGbfxHpT6bqeveG49PN%2B1tIhjnRftlpcQL5kZZGPk5AclCjAMM7wx%2BzToNn8JNK%2BB/xR8b6p8R/DVj4euNH1XTPHmjaPcw69C8sTQtexQWEMTtBHEYY1jSONkkczJNIEkTtf8AhD9J/wCfvVf/AAeXf/x2j/hD9J/5%2B9V/8Hl3/wDHaAPn7Q/%2BCU/7Kfw7fVtT%2BAGjT/C/V9Q%2BI1v4107Wvh7pGk2MujahDo7aOsVtE1k9u1sbSa9BhnimUPqN067WcFe08J/sS/Cvwnonw60GPxD4iv4fhx4y1TxbaHUb2FzrOuaguoG6v7/bCokkabVL25CxiKNZpFZUAjRV9N/4Q/Sf%2BfvVf/B5d/8Ax2j/AIQ/Sf8An71X/wAHl3/8doA4fxP%2BzRZ%2BOPjbpXxe8c/F3xdq%2BneH9TTVPDvgG6Onpoum6gto1qt2vlWaXczhZJnVJ7mWJZJTIqKyRGPkdV/4J/8Agfx2/iK7%2BOfxq8e/EG917wddeGLPUPEVzptrLoenXE8VxKtl/Zljaqkpmt7SXz5VllDWkJDjaQfZv%2BEP0n/n71X/AMHl3/8AHaP%2BEP0n/n71X/weXf8A8doA%2Bf8Axr/wTS8J%2BPvAM/g7xB%2B038T31DVfiBaeL/FficnQnu/El7aWsNtaQXsEmlNYvaQpbWrJbx20aGS2SRg7l2fc%2BK/7Avgv403Fte%2BPfjT47nmu/CsHhrx7JbS6XAPHWkRXD3CWeqIliEWPfNcjNmtq2y7nTdtcivZP%2BEP0n/n71X/weXf/AMdo/wCEP0n/AJ%2B9V/8AB5d//HaAPN/E37IejfEL4t6f8Tfir8ZfGfinTtE1G8v/AA34H1VtNi0jSbm5sbmwklj%2By2UN3MRa3l3EouLiZVFwxA3KjJxGg/8ABML4Sad4On8I%2BI/jH8Q/ETW3hrSdB8IarrOo6eLvwnZaZew39gLFreyiV5Ybu2tJhNdrcyu1pF5jOoYN7/8A8IfpP/P3qv8A4PLv/wCO0f8ACH6T/wA/eq/%2BDy7/APjtAHgHiz/gmp4T8VeG/D%2BjH9pn4nWV/o/j2fxpq%2BuQnQp5/EuuOqJDd6jBc6VLaSG2WOL7PHFBFHCYYXVN8MTJ3nxE/ZX/AOFs6p4dX4j/AB88c6p4f0MaXNqPg910mLTtfvrC4FzDe3pisEuDIZ0hkeGCaG2fyUUwbC6P6H/wh%2Bk/8/eq/wDg8u//AI7R/wAIfpP/AD96r/4PLv8A%2BO0AeceGf2Ubrw1%2B1jrv7Wf/AA0d49vrvxDoNnot94NvLfRBo6WNpJeS2sKeXpqXg8qXULuQMbkuxkAdnVVUXPC37MFj8PPg9qXwp%2BF/xf8AF3hu71bxPqWv3vjKx/s241WS9vtRlv7lj9rs5rZlZ5miCtAQkIRF2lFYd3/wh%2Bk/8/eq/wDg8u//AI7R/wAIfpP/AD96r/4PLv8A%2BO0AcT8PfgV4b/Z9%2BCfiDwhoPiDV9auNRl1TWNc1/wAQTxPe6rqF0XlnuJvJjiiUkkAJFHHGiqqqihQKw/HH/KQv4X/9kZ8ef%2BnbwhXqJ8GaG%2BFna%2BmTIJiuNWuZEb2ZWkKsPYgivLvHH/KQv4X/APZGfHn/AKdvCFAHs1FFFABXl/7W/wAG/Gfxn%2BGFhY/DW80yLxN4a8YaL4l0CPW55IrK6uNPv4bk2s8kUcjxJNGkkPmrHIYjIJAkmzY3qFFAHzb4O/Zg%2BK6/An4i%2BB/i58M/AXifU/iNrmoeJtV0UeM7%2B309NRnuE8ixS6TT/Pijgt7e0K6gkYm%2B0I0i28WFxwnhT/gnlr/hD4N%2BIdH8UfswfCL4n6z42%2BKEnjLV/CvxK8d6nqOm6HcDR7fSYJbfU7/S7271C5FtbDfcTQwuzXc%2B1kUKh%2BzaKAPMfgl8ANY8GfsmeFv2cfiv8QtX12%2B0nwlZ6TrXiLStdvtPu7qSKJVaSK7hmW7j5XCyeb5pUDc5JYnmf%2BCdPh6w8Jfs3X3hbSri%2BlttO%2BLfxDtreXU9Unvbl0TxnrSgy3Fw7zTuQOZJHZ2OSzEkmvdK8Z/YP/5Ihrn/AGWb4j/%2BprrdAHs1FFFAB0618uftHf8ABWn9mv4MeKx8IPhVbat8W/iNO7xWngj4cWxv5VlUMSs00YZItpUhlXzJE6mPHNeI%2BN/ij%2B1L/wAFgfiD4h%2BCX7NPiGX4e/s/eH9bm0fxh8RreYNf%2BKXiIEttZhTxE6lTgEAxuGkY7/s5%2Bvv2Wf2L/wBm/wDY08Gjwd8AfhtZ6T5kSrqOryL5t/qLL/FcXDfPJzkhchFJO1VHFeAsbjs0k1gbQpLT2kle/R%2Bzjomv78ny9lLc4IzxeMp%2B0otQpvaTXNKa7xjdKMdNJTd5bxhy2lL5rn8Nf8Frf2wWa81bxj4S/Zr8KXJYRaZp0Sazr7QsAVMkn3FYDuj27g8FBT/Bf/BBz9nDU9eXxt%2B1d8YfiF8ZNcI/fz%2BKfEc0Nu7eoWJ/PHPYzsPavuSitFkGAqSUsVzVpd6knJfKOkF8olfU/aUnTr1Z1IveMptQfrCHJBrykpryelvJvAX7Bv7FPwxt4IfA/wCyj8P7J7ZAsV2fClrLc4H96eRGkY%2B7MTXq1vb29pbpa2kCRRRoFjjjUKqKOAABwBT6K9alh6GHjalBRXkkvySN6OHw%2BHVqUIxXkkvySCiiitTYKKKKACiiigAooooAKKKKACiiigAooooAKKKKACiiigAooooAKKKKACiiigAooooAKKKKACvGf2X/APkt/wC0d/2Wax/9QrwvXs1eM/sv/wDJb/2jv%2ByzWP8A6hXhegD2aiiigAooooAKKKKACiiigAooooAKKKKACiiigAooooAKKKKACiiigDlfjd4i8PeEvhPrviLxToWqanZWtkWkstF8NXesXUjlgI/Ks7OGaeZg5U4jjYrjdwFJHy18F9G8O/GH/gkN4H%2BAnjnQfiT4V1LQfg54dj1iG%2B%2BEWtrfafqGlQ2ZaP7BcWaPfFbq2ANrGrNcRBtm5XDV9n0UAfNf/BObwz8ZUf4v/F34uX93NH8Qficmr6AbzwRdeGjLaw6HpWnvOulXkkl1Yo89lMFjuHaVwglbHmhRwn7angH4r%2BMP2gNd8L%2BNPGHh7U9F1z9lz4o23hbTdK8Lz2d3YbrjwupFzcSXsyXbFjGVZIbcLtOQ2Rt%2Bz68M%2BKK6VqX/AAUG%2BGXhbU2BGpfA74hIYj/HH/avg9XH5OOP8Kyr01VoSpv7Sa%2B9Nfqd2WY2WW5nh8ZHelUpzXrCcJr/ANIJv%2BCbXiz/AITT9gT4Pa4Zd7L8PdMtZHz1e3t1t2J98xGvba%2BUv%2BCKOo3Un/BOnwb4X1KTdeeG9S1nSLz2eHVLrA9sIyCvq2uPKKjrZTh5vrCP/pKX6H0niLgo5d4gZvho7RxNe3o6s5J%2BjU015MKKKK9E%2BNCiiigAooooAKKKKACiiigAooooAKKKKACiiigAooooAKKKKACiiigAooooAKKKKACiiigAooooAKKKKACiiigArxnxx/ykL%2BF//ZGfHn/p28IV7NXjPjj/AJSF/C//ALIz48/9O3hCgD2aiiigArjvjx8bPDX7P3w6l%2BInibSNT1TdqVjpmmaLokMcl7qmoXt1FaWlpAsskcfmSTzRrukdI0BLu6IrMOxry/8Aa3%2BDfjP4z/DCwsfhreaZF4m8NeMNF8S6BHrc8kVldXGn38NybWeSKOR4kmjSSHzVjkMRkEgSTZsYAzYf22Phkv7O%2Bq/tC6t4T8S6euia%2B3h/VfB91Z27axBrf9oJp0embIp3gaaW6lhjjdZjA4njkEvltvrHuf2/fB8ehw2ll8DvHt545k8azeFZfhXappJ1y21KLTV1WRZHbUBYLGNPeG6837WUKXEKhjLIsZx/B37MHxXX4E/EXwP8XPhn4C8T6n8Rtc1DxNquijxnf2%2BnpqM9wnkWKXSaf58UcFvb2hXUEjE32hGkW3iwuPPvhl/wT7%2BOvwLnsvjx8MbLwjc/EOT4o6l4p1jwnr/j/V7vTJLW80G30U2v9t3NpcX1xOqWNldG6mtiZJPPj2Ro6NGAfV/we%2BK3g746fCvw98Y/h9dzTaL4m0iDUdNa5gMUqxyoGCSRtzHIuSroeVZWU8g157%2Bwf/yRDXP%2ByzfEf/1NdbrR%2BAX7NEXwx/ZK8O/s0%2BNfFF7ezWWgrba7q/h3VbvSZJ7t2MtzLbTW0sdxbKZnkKbJA6oQCx5JwP8AgnT4esPCX7N194W0q4vpbbTvi38Q7a3l1PVJ725dE8Z60oMtxcO807kDmSR2djksxJJoA90r5l/4K5/tVTfsn/sSeJvEXh6%2BeLxP4nUeHfCiwsRKLu6VlaVMchooRNKp/vog719NV%2Bd/7X/hjXf2wf8AgtP8Jf2cNQIn8HfCvwyPGWt2g5Uz%2BdvHmDowZ0sI8Hosj/3iK8bPsRWo5c4Uf4lRqnHyc3a/yXM/kY1aKxdSnhHPkVWSg5bOMLSlUkv7ypwnyf35Uz6r/wCCfX7N0X7Jn7HfgT4Hy2qxajpuipPr2MEtqNwTPc8/xBZZGRSf4UUdq9loor08PQp4XDwo01aMUkvRKx0TcHJ8kVGPSK2ilooryikkvJLrdsooorYkKKKKACiiigAooooAKKKKACiiigAooooAKKKKACiiigAooooAKKKKACiiigAooooAKKKKACiiigAooooAK8Z/Zf8A%2BS3/ALR3/ZZrH/1CvC9ezV4z%2By//AMlv/aO/7LNY/wDqFeF6APZqKKKACiiigAooooAKKKKACiiigAooooAKKKKACiiigAooooAKKKKACiiigAr5A/a58eN4I/4K7/siWUkvl2/iLwj8S9JuHzxlotAnjU/WS3QfUivr%2Bvzt/wCCyms3ngj9ub9kH4rW77Lfwt4h1i71WT%2B7Zy6p4Ztpue2ROB%2BNcGaVnh8DKqvs8r%2BSnC/4NnmZzXeFy2dZfZcX8lOF/wAGz13/AIJLn%2BwND%2BOvwtk%2BU%2BFv2i/E1tbRelrI0MsTY7A7nNfWtfJX7Gn/ABRP/BR/9qj4Xt8kF9f%2BGfEunJ/f%2B06e63LY/wCuqqK%2BtawyT3cujT/klOP/AIDOa/Jo/U/FD97xlVxa2xFLDVv/AAbhcNJ/%2BTRnfzuFFFFesfn4UUUUAFFFFABRRRQAUUUUAFFFFABRRRQAUUUUAFFFFABRRRQAUUUUAFFFFABRRRQAUUUUAFFFFABRRRQAUUUUAFeM%2BOP%2BUhfwv/7Iz48/9O3hCvZq8Z8cf8pC/hf/ANkZ8ef%2BnbwhQB7NRRRQAUUVzvxX%2BK/gH4I%2BAr34mfE3XG0/R7B4I5porOa5lklmmSCCCKCBHlnmlmljijijRpJJJERFZmAIB0VFeeWX7VnwFv8A4FXf7SSeOXi8Iae1xHf3t5pF3Bc21xBcNay2sllJEt0l0twpg%2BzNEJvNxGELEKeYvP8AgoP%2By3ZeGtP8St4i8VTNqfi6bwvbaHZ/DHxBPrKavFYvqElpNpcdi17buLNDc5lhRTEyOCVdCwB7VXjP7B//ACRDXP8Ass3xH/8AU11uvXdF1a11/RrTXbGK6jgvbWOeFL2yltplR1DASQzKskT4PKOqspyGAIIryL9g/wD5Ihrn/ZZviP8A%2BprrdAHs1fEX7Kmnjxd/wWr/AGmfiBHJ5kXh3wn4c0OJv7vn2lvK6/8Afdq/5V9u18Qf8EpoL3xD%2B1h%2B1/8AFG5bfHffGM6NDLnORp73aAA%2BgWZK8XM/fx%2BCp/8ATyUv/Aacn%2BckcVa7zDDxT29pK3e1Pl/D2lz7fooor2jtCiiigAooooAKKKKACiiigAooooAKKKKACiiigAooooAKKKKACiiigAooooAKKKKACiiigAooooAKKKKACiiigArxn9l//kt/7R3/AGWax/8AUK8L17NXjP7L/wDyW/8AaO/7LNY/%2BoV4XoA9mooooAKKKKACiiigAooooAKKKKACiiigAooooAKKKKACiiigAooooA5z4u%2BI/iB4R%2BG%2BreJfhZ4J03xHr9nbiTT9G1fXm0y2uTuXd5l0lvcNEqpubIhkJ24C815nP%2B2Wlt/wT30z9vGT4ZXEi6j8MtP8XN4WttR3/ZxdWcNx5T3PlDEUXm5kn8r5Y43k8s42V6h8UdE8eeJfh9qugfDLxTpGia7eWpisNV17QpdTtLckgM0ltFc2ryjZuAAmjwSDkgFT4T4V/Yd%2BL0H7Cuk/sR%2BP/wBobQL%2B30DwVpmg6V4j0L4fzWLs%2BnNb/ZJbi3m1O5SeJktkS4t9yicPIA0SttAB2X7FP7WMX7XvgDX/ABpb6N4dji0HxXNokWs%2BCfGA8QaDrYS1trg3WnaiLe3%2B1Qq1ybdz5S7Li1uI/m8vcfmL/guF4LufG2lxxaduW80j4D%2BM9ZtJk%2B9E1n4i8E3LOPT5InH0Jr6u/Zn/AGf/ABT8Frvxz4w%2BIfxC07xH4n%2BIfixNd1%2B70Lw42kadFLHp1np8cdvaPc3LoPJsYmd5J5HeRmOVXYieN/tJfsyfCfXf2vH0vwV8K/Dula78S/2cPiVYeJNX0vRILe71iSS88LRRtczRoHnZfNbaXLEbjjGTXHmFD61gK1H%2BaMl98Xb8bHBmuG%2BuZXXoL7cJr5uLt%2BNjD%2BGHjS2vf%2BCs/hz4i2W1NO%2BLf7MFpqMO3pJdw3ySjHri3kr7Sr8wv2Z/Hx1N/wDgn38chN%2B6k0TxF4F1OQn75jszaW6E%2B0lqxxX6e15nD9f29Cq%2B8lL/AMGU6c/z5j9D4nxP9q8OcO5stfb4Ckm/71GpXov525flYKKKK98%2BLCiiigAooooAKKKKACiiigAooooAKKKKACiiigAooooAKKKKACiiigAooooAKKKKACiiigAooooAKKKKACiiigArxnxx/wApC/hf/wBkZ8ef%2BnbwhXs1eM%2BOP%2BUhfwv/AOyM%2BPP/AE7eEKAPZqKKKACvIP21/hv4%2B%2BIfwn0i%2B%2BGXhltd1jwn4/8ADvieHw6l3DA%2BrRafqdvcT20ck7pEsxhSQxea6RmVYw7opLr6/RQB8Za98Af2iPGv7IPxd8D3fwHvbPXfiX42uPFY8NXutaZvt7CTU7ZX02O5iunjg1VrC0adJ1Jt4Lq5jZbhjEXHPeFP2T/EmjfDbWbnxx%2ByH8aNUif4xXnij4caRoXxktYPGHh9ZNAt9Oe61PWTr0T3jSStqKoGvr1ktpreJgUjWKH7uooA82%2BDvgj47Tfso%2BFPAPxq%2BKd5YfEZfBtha%2BKfFvh1LOadNUWCMXE8X2m2kt5GMgf5mg2NkkRrkAcp/wAE6dJv9B/ZuvtE1XxPfa3c2fxb%2BIcNxrGpxwJc3zr4z1oGaVbeKKEO5G4iONEyTtVRgD3SvGf2D/8AkiGuf9lm%2BI//AKmut0AezV8Qf8EHLy48U/s0fET4rXifvPGXxt13V1lx99JI7UfiNyv%2BZr68%2BMfjBPh58IvFXj%2BR9q6H4bvtQZvQQ27yZ/8AHa%2Baf%2BCF3h1PD/8AwTC%2BHUpi2S6jLq13Nx1LapdKp/74RK8XE%2B/n%2BHj/ACwqy%2B/kj/mcXxZotNI05a9nKpTivvUZH1zRRRXtHaFFFFABRRRQAUUUUAFFFFABRRRQAUUUUAFFFFABRRRQAUUUUAFFFFABRRRQAUUUUAFFFFABRRRQAUUUUAFFFFABXjP7L/8AyW/9o7/ss1j/AOoV4Xr2avGf2X/%2BS3/tHf8AZZrH/wBQrwvQB7NRRRQAUUUUAFFFFABRRRQAUUUUAFFFFABRRRQAUUUUAFFFFABRRRQAUUUUAFeM%2BOP%2BUhfwv/7Iz48/9O3hCvZq8Z8cf8pC/hf/ANkZ8ef%2BnbwhQB%2BfNiR8Lv2atN03d5Lfs/8A7dwt2XONmlveMfwjkN1we%2B2v1sr8qv8Agph4Pn%2BHXxY/ac%2BFdqGgsvin8K9E%2BImiOvCxalot/DHdLH6SNEjyv7c%2Blfpz8MvGEHxC%2BG3h7x9bFTHrmh2moRlem2aFJBj8Gr5Th79zi6%2BGe8VFf%2BASqQX/AJK4H0uE/f8AhFlMX8WDxWOwr8lzUcTT%2B%2BM215Jm5RRRX1Z80FFFFABRRRQAUUUUAFFFFABRRRQAUUUUAFFFFABRRRQAUUUUAFFFFABRRRQAUUUUAFFFFABRRRQAUUUUAFFFFABXjPjj/lIX8L/%2ByM%2BPP/Tt4Qr2avGfHH/KQv4X/wDZGfHn/p28IUAezUUUUAFZvjDxl4Q%2BHnhe/wDHHj/xXpuh6Lpds1xqesaxfR21rZwqMtJLLIQkaAdWYgCtKvEP2/vDfiLXfgno2raJ4U1LX7Tw38S/Cuv%2BIND0fTpLy6vNNsdatLm4MVtErSXLwrH9pEKK0kn2faiu5VSAemab8YfhHrPwyHxr0f4p%2BHLvwYdPe/Hi221y3k0z7IgJe4%2B1K5i8pQrZfdtG05PFYFx%2B1t%2BypafCqP47XX7TXw9i8Dy3v2OLxlJ40sV0p7jcV8kXZl8kybgRt3ZyCMcV8qeI/CvjTxh%2Bwz8afD%2Bi/B7xrEfGvxJvPFXhrQX8IX9tqOn6NPrlsZNRhtpIVJvlaC71aPTnHnyM8ayw5mZDzHwl8N%2BOfhl8TLL9pDx/8Pvil408EWvxp8RXreItY%2BF97/wk%2Bs/bfCmnWVvrN3odnYxSxiOW3vdJRobGAeSYZWiCyS3EgB%2BiFneWeo2cWoafdRz288ayQTwyBkkRhlWVhwQQQQR1rx39g/8A5Ihrn/ZZviP/AOprrdVf2N/hn8Z/ht/wT/8Ahz8LGmsPDHjPSfAGn2kcHiDTH1GDRpVhTZazQQ3EBmECYhKpOgzHw5AGY/8AgnTb%2BJbT9m6%2BtfGWrWN/q8fxb%2BIa6nfaZpz2ltcTjxnrXmSRQPNM0KFskI0shUEAu2MkAs/8FIvFEPg/9gP4x6zNKE3fDrVrRGJxh7i2eBPx3Siov%2BCafhSHwZ/wT%2B%2BDujQxhBJ8PdMvHUf37mBbhvx3SmvOv%2BC5XiJfD3/BML4kBZtkt%2BdKtIefvb9UtCw/74D19GfA7wcPh38FfB/w/CbRoXhbT9PC4xjybaOPH/jteLD3%2BIpv%2BWlFf%2BBVJP8AKJxUbSzKu76qFOP3yqz/AEX3o6miiivaO0KKKKACiiigAooooAKKKKACiiigAooooAKKKKACiiigAooooAKKKKACiiigAooooAKKKKACiiigAooooAKKKKACvGf2X/8Akt/7R3/ZZrH/ANQrwvXs1eM/sv8A/Jb/ANo7/ss1j/6hXhegD2aiiigAooooAKKKKACiiigAooooAKKKKACiiigAooooAKKKKACiiigAorlvjb4IsfiN8KNd8G6lr%2BvaXBd2JL33hnX7rS76PYRIPKurSSOaEkoFLRurFSwyM15t%2Bxtb3Xxu/wCCcHwgb4oeLfEN7deJPg54budd1yDxPe2ep3M8umW0ss5v7eaO5WV3JZpVkDsWbLHJyAe5V4z44/5SF/C//sjPjz/07eEK5f8A4JeaXqV5%2BzjffF2Txp4s1bR/iL4y1PxH4Lh8XeMdS1uWx8OySC30pYrjUZ5phHNZW8F6U3lRJey465M9/wCNPEniH/gpt4L8O6t8I/EOhWek/B7xwlhr2q3OnPaa0G1bwll7Zba7lnQJtGftEUB%2BcbQ3zYAPGP8Agt/8NZpvD3w0%2BN2nCOM2muah4K1u4kbakWmeIbCWwkmkP92N/LIz0Z8jmvZ/%2BCU/xTtvin%2BwT8PN/mR6l4X0VPDGu2VwMTWl5pw%2ByvHIOzFY0fB5w6561uf8FGfgsv7QP7DvxM%2BF8cAkurnwtPd6YuOTeWuLq3APbMsKDPoTXyz/AMEuPjPJ4V/aLj0TUJjHoH7R/gCz%2BIGg5P7tPE1vELfXLdP7zySRvcH0RFr5Kr/wn8Uqp9mtFJ%2Bt7J/%2BBRin/iR9RwnFZllGd5Cv4iVLMaS/mdGLwuLivP2E6Nb/ALhTP0Rooor60%2BXCiiigAooooAKKKKACiiigAooooAKKKKACiiigAooooAKKKKACiiigAooooAKKKKACiiigAooooAKKKKACiiigArxnxx/ykL%2BF/wD2Rnx5/wCnbwhXs1eM%2BOP%2BUhfwv/7Iz48/9O3hCgD2aiiigAoorN8YeMvCHw88L3/jjx/4r03Q9F0u2a41PWNYvo7a1s4VGWkllkISNAOrMQBQBpUVyh%2BPHwOX4Tj49N8ZvCg8DNai6XxofEVt/ZJgL7BL9r3%2BTsLkLu3YycZzXL/8N0fsS/8ACAD4sf8ADYnws/4RY6%2BdCHiX/hYWm/2edVFv9p%2BwfaPP8v7T5AM3k7t/ljft280Aep14z%2Bwf/wAkQ1z/ALLN8R//AFNdbr1vQNf0LxXoVl4o8L61aalpmpWkd1p2o2Fys0F1BIoeOWORCVdGUhlZSQQQQcGvJP2D/wDkiGuf9lm%2BI/8A6mut0AeC/wDBeyC78R/sreBvhdYvmTxl8ZtD0cxA/fV47p8fTcifpX3BXwB/wVA8cT/Ev/gop%2Byr%2ByVoC%2BfJaeOLfxnrdsoDHybecGI%2BwEdtfE%2B2K%2B/68PL5RrZxjKi6OnD5xg2/ucjnwtKrariJL3Z1HGL7%2ByhGE/kpztfupLoFFFFe4dAUUUUAFFFFABRRRQAUUUUAFFFFABRRRQAUUUUAFFFFABRRRQAUUUUAFFFFABRRRQAUUUUAFFFFABRRRQAUUUUAFeM/sv8A/Jb/ANo7/ss1j/6hXhevZq8Z/Zf/AOS3/tHf9lmsf/UK8L0AezUUUUAFFFFABRRRQAUUUUAFFFFABRRRQAUUUUAFFFFABRRRQAUUUUAY3xB%2BHXw%2B%2BLXg6%2B%2BHfxU8CaN4m8P6pGsepaF4g0uK9s7tAwcLLDMrJIAyqwDA8qD1FYPw5/Zm/Zv%2BD2gHwn8I/wBn3wR4W0prGWybTPDnhSzsbc20rb5YPLhjVfLdiWZMbWJyQTXb0UAVdC0LRPC%2BiWfhnwzo1pp2m6daR2un6fYW6wwWsEahI4o40AVEVQFVQAAAABgV5H44/wCUhfwv/wCyM%2BPP/Tt4Qr2avGfHH/KQv4X/APZGfHn/AKdvCFAHsk0MVxC9vPGrxyKVdGGQwPBBFfklpFpd/B//AIJxab8U9GkdPEn7IX7Ruo6dFJgtI9i%2BrJHd2jd/LkS%2Bj3Y7RY6V%2Bt9fnB478AfadY/4KAfsxeRlNR0G18b6DBj/AI%2BJ7jTHuJWA/wCvm3iXPrXzHEdFyUJR3cakV68ntIfdKkmexwTmFPJvFPIcZV/hyr%2BwqLpKlXShOL8pRlNO/fyR%2BjsM0NzClxbyK8cihkdTkMCMginV5j%2BxX4/PxT/ZB%2BGHxCkn8ybVvAWlT3TZz%2B/NrGJR%2BEgYfhXp1fRUKsa9CFWO0kn96T/U5c0wFXKszr4Kr8VKc6b9YTnB/jD8QooorU4QooooAKKKKACiiigAooooAKKKKACiiigAooooAKKKKACiiigAooooAKKKKACiiigAooooAKKKKACiiigArxnxx/ykL%2BF//ZGfHn/p28IV7NXjPjj/AJSF/C//ALIz48/9O3hCgD2aiiigArxD9v7w34i134J6Nq2ieFNS1%2B08N/Evwrr/AIg0PR9OkvLq802x1q0ubgxW0StJcvCsf2kQorSSfZ9qK7lVPt9FAHzr%2BxNrV34W8EfEXxPrHgDxbpFhr/j3xD4w8O6Ff%2BDdQtrlNKnuWAPkSQq0dxczRXF2LNgLnF2peJWcivJtP%2BCT%2BHf2Tvhb8U/jj4h%2BLPgf4kXPxG1H4n6hd/DH4dzeI9T07xBq%2BnapDJp91arpmoKIbay1Z7EM8KgfY4QJFYDP3HRQB5j8EtV/aV8c/smeFta%2BISaR4V%2BKWpeErObWBquhPdWljqTRKZPNs4bqJjzndClwNjEqJGC5PM/8E6bfxLafs3X1r4y1axv9Xj%2BLfxDXU77TNOe0triceM9a8ySKB5pmhQtkhGlkKggF2xk%2B6V8p%2BDPjUn7Of/BPD4s/G8Eef4b8ffFK7sVIyHuh4x1xbdT7NM0a/jWdarChRlVntFNv0Sbf5GVetTw1Cdao7Rim36JNv8EeC/sOT/8ADXf/AAWu%2BN37UMh%2B06H8NLA%2BG/D0o5SObP2NXQ/3XS3vn/7b56cV%2Bk1fCn/Bvf8ABaf4efsKn4pazG7an8RPE13qslxNnzHtom%2ByxBieSC0U0gJ6%2BdnvX3XXicM05rKY16i96q5VH/2%2B2190eVHrZhhqmXQw%2BX1FadGnCM1/09mvbVvmqtdwf/Xq3TQooor3zzgooooAKKKKACiiigAooooAKKKKACiiigAooooAKKKKACiiigAooooAKKKKACiiigAooooAKKKKACiiigAooooAK8Z/Zf8A%2BS3/ALR3/ZZrH/1CvC9ezV4z%2By//AMlv/aO/7LNY/wDqFeF6APZqKKKACiiigAooooAKKKKACiiigAooooAKKKKACiiigAooooAKKKKACisD4pfE3wl8G/AWo/Evx0%2BpLpWlRo92dI0K71O5IZ1jUR2tnFLPMxZlG2ONjznGATVHSPjr8JNb%2BBdp%2B0va%2BOLWLwLe%2BFI/EsPiO%2BV7aFdKe2F0t1IJlV4l8khyHVWUdQCCKAOtrxnxx/ykL%2BF//ZGfHn/p28IV3nwh%2BMfg344eGJfF3gex8R29nDeNbMnijwZqehXBcIj7lt9St4JmjKyLiRUKMcgMSrAcH44/5SF/C/8A7Iz48/8ATt4QoA9mr49%2BI%2BjWPhX/AILG6DBqkX/Er%2BLvwF1LQLmE8Ce6srv7Qze7C3fb9DX2FXyR/wAFI8eAP2iP2XP2hF%2BT%2BxvjD/wjNxOP%2BWcOtWr27lj2X90MnpzXk5yksJGq/sThL5cyi/wmzxc9nKhhaeJi7OlVpTv2tUim/un%2BBc/4IvazfzfsA%2BG/AmtTb9S8Fa3rPh3Uf9mS31CfauO2I3jH4V9V18lf8E0x/wAIR8bv2n/gU3y/2N8bJ9fghP8Ayyg1e2juIwB2X90SPxr61p5G3/ZNKD3inH/wByh/7aj9Z8UoRfiBj8RBWjXnGuu1sRTpYjTyvVkl6BRRRXqnwAUUUUAFFFFABRRRQAUUUUAFFFFABRRRQAUUUUAFFFFABRRRQAUUUUAFFFFABRRRQAUUUUAFFFFABRRRQAV4z44/5SF/C/8A7Iz48/8ATt4Qr2avGfHH/KQv4X/9kZ8ef%2BnbwhQB7NRRRQAUUV8/f8FLjpg/Zrtf%2BE08v/hCv%2BFheF/%2BFkfaP%2BPf/hHv7ZtPtv2rPH2Py/8Aj53fu/s3n%2BZ%2B730AfQNFfJX7FEn7NPiz9nD4h/DjWU8Gav8ACRfGfiDUfCHh3UY7W60s%2BEkvCRcRWzhkbTBeRXv2dgpg8uNPKPlqlfP/AMP/AIPfs4fDD9nP4JeOv2i/hn4L8H/Bz4rfE7xD4%2B8deHNb0m0sPDunTanpd1JoFrqMDKttGkFklrb4lAQ3kEB/1xioA/TWvzg/bh8Tf8I3/wAEVvi/FHLsl1L41%2BMbKI567viRqLOPxRHFfU37EN38YrL/AIJ7fDy8tdBGqeJ08FWx0fT/ABnq1xYNPb4/0Nby4%2Bz3E8Un2byd7NDJJvzvXdur4h/bcPi7xb/wTF8JfDjxNpljY6141/bA8UaXqum6XqL3dvFLJ4v8SPJHFM8MLTRrIqgO0UZYYJRScDx%2BIZuGR4lrdwa%2B%2B0f/AG48/NqMcTl1ShJ2VS0L/wDXydOn/wC5GfpB%2BzT8MtO%2BC/7PPgf4TaVB5cPh3wpYWABGCzR26K7N/tMwZj7k129FFerSpxo0o047JJL0SS/Q9jF4mrjcXUxFV3lOUpP1lJyf4yYUUUVZzhRRRQAUUUUAFFFFABRRRQAUUUUAFFFFABRRRQAUUUUAFFFFABRRRQAUUUUAFFFFABRRRQAUUUUAFFFFABRRRQAV4z%2By/wD8lv8A2jv%2ByzWP/qFeF69mrxn9l/8A5Lf%2B0d/2Wax/9QrwvQB7NRRRQAUUUUAFFFFABRRRQAUUUUAFFFFABRRRQAUUUUAFFFFABRRRQBznxc1rxB4f%2BGmtar4V%2BHmr%2BK9RSxZbTw9oNxZRXd4z4TbG99cW9upAYsfMlQYU4JOFPyloPwI/aL%2BKf/BIfRf2Nta%2BCvibwF450b4PaNpH/E21rRnjk1PS4rVPs6T2V7dKqzvbHZIylBHIDIA2Y6%2B0KKAPDf2IfCHxq8Kab42b4l6F4y0Pw9feKY5/AXhn4ieMY9f1vTLIWFqlwtxex3d4GSS8W5kjjNzMUR/vICsMeVf%2BC/Enh7/gpt4L8Rat8XPEOu2erfB7xw9hoOq22nJaaKF1bwllLZra0incPuGftEs5%2BQbSvzZ%2Bh68Z8cf8pC/hf/2Rnx5/6dvCFAHs1fOn/BVj4QeIPi9%2Bw94v/wCEKLL4i8JLB4q8OuibmF1p0gucKv8AEzRpKgHq4r6Lps8MNzC9vcRLJHIpWRHXIZSMEEHqK58XhoYzCzoS2kmvvW/ydn8jkx2Ehj8FUw09pxcfS63%2BTs/kfDP7Enxk0L4hf8FJPE/xE8ObYrH43fs/%2BGvG6RK2Qs1pIdPeInu8ZZ0I6jaa%2B6K/H/4P69c/8E9/24UtvG1rOPBXwa8W6n4T1i/QktpfhbxDIL7R7px/FDHctP5rjhDIi8syg/r7b3Fvd26XVrOksUqB45I2DK6kZBBHBBHevC4ZxUq2Gq06mk4zk2v8Vm/lzqZ97xJXrZ1w/keeSV/bYSnRqNbLEYN1MNWg%2B0oqNGXK7PknCSvFpj6KKK%2BlPjQooooAKKKKACiiigAooooAKKKKACiiigAooooAKKKKACiiigAooooAKKKKACiiigAooooAKKKKACiiigArxnxx/wApC/hf/wBkZ8ef%2BnbwhXs1eM%2BOP%2BUhfwv/AOyM%2BPP/AE7eEKAPZqKKKACiiigAooooAK/Lf483M2v%2BK/2YfhYkfmR6l%2B2j8QNVmiIzuSx8dagWz7bZ2r9SK/L3wfdweMf%2BCk37Ovw8mG9dD%2BJfxs1uVcZ2eZ4p18I3/fdmorxc/wDey9U/5p0o/fUh%2BiOPGa%2Byja96tL7lPmf4Qb%2BR%2BoVFFFe0dgUUUUAFFFFABRRRQAUUUUAFFFFABRRRQAUUUUAFFFFABRRRQAUUUUAFFFFABRRRQAUUUUAFFFFABRRRQAUUUUAFFFFABXjP7L//ACW/9o7/ALLNY/8AqFeF69mrxn9l/wD5Lf8AtHf9lmsf/UK8L0AezUUUUAFFFFABRRRQAUUUUAFFFFABRRRQAUUUUAFFFFABRRRQAUUUUAFFFFABXjPjj/lIX8L/APsjPjz/ANO3hCvZq8Z8cf8AKQv4X/8AZGfHn/p28IUAezUUUUAfE3/BRP4IeJvAHxvH7Y%2Bi/BKf4h%2BBda%2BHtz4N%2BNvgzSXH26fSWlE0WoW8RH76WE7s4IdVRMFRudOJ/wCCdP8AwUQ%2BGXwR8L6X%2BzZ8bPik%2BoeCGvmtPg38Xr2Mrp%2Bp6dgNFpl9KcfY763VhG0coQBQo4Xy2k/Q%2Bvjz9rH/AII%2BfCP40XeveN/gP4rm%2BHHiPxFl9fsbazS70DXpOSGvdNk/dl88iWPaysTJhn5r5fH5ZmGFxbxuXWctW4Pre10npdNpOzaal70XrKL9Th7O3w/SxWX4yhLFZbipqpUpRlGFajWS5ViMLOadPncfdqUalqdaHuucJKMo/YMUsU8SzwSK6OoZHQ5DA9CD3FOr8gdLP/BYj/glaUtdJ8EX3ibwDYMFOm2ss3iPQI4Q3JhIxqGlxIvQNuUs2TnFe6fs%2Bf8ABxX%2Byf48aLRP2hPB%2Bt/DvU87ZrpUbU9PDA7Tl4UE6HI%2B60HA6tTw/FWXuapY1OhU7TTS%2BUrWa9bHoTyXK8fLmyPH0sSn/wAu5tYbFR8pYbESpyk11dCriYN/C7NI/QqiuF%2BDv7Tn7O/7Qdit/wDBL42eGfE6lNzw6PrEUs0Q6/vIg3mRn2ZQa7qvo6dWlWgp05KSfVNNfemzw8VhMXgazo4mnKnNdJRcX90kn6O1n0b3CiiitDnCiiigAooooAKKKKACiiigAooooAKKKKACiiigAooooAKKKKACiiigAooooAKKKKACiiigArxnxx/ykL%2BF/wD2Rnx5/wCnbwhXs1eM%2BOP%2BUhfwv/7Iz48/9O3hCgD2aiiigArxD9v7xJ4i0L4J6NpGieK9S0C08SfEvwr4f1/XNH1CSzurPTr7WrS2uBFcxMr2zzLJ9mEyMrx/aNyMjhWHt9ZvjHwZ4P8AiJ4Wv/A/xA8KabruiapbNb6no%2BsWMd1a3kLDDRyxSApIhHVWBBoA%2BNPEfxr%2BMvwq/wCCePxvv/hx4u1/W7nwN8SNW8M%2BD/El/rRu9Sj0v%2B1Le2mlN9eM5llsRcXcK3FwzlTYgzM5Vyc6fwH8cvi74Fj%2BDHwl0/XNL1r4QfHFm%2BKPh3Uv2qfFYj16xl8JTTRQW3iRIn1ExCbVdKuWtZIoo1ltZMqFKSP9h%2BHvgN8DfCPh0eEPCfwZ8KaXpK6GdFXS9O8O20FuNNLOxsvLRAv2ctJITFjZmRjj5jnn739i/wDY71L4d2Pwg1H9k74aXHhLTL977TfC8/gTT3060unBDzxWxh8qORgzAuqhiGOTzQBX%2BAnxx0v4j/sf%2BEPj38Lvhz4o1iz1bwbY6ho/hl9XgudWnRoU2wtd310sVxLjrPLcYlwX8xtwJ/P/APYK1y3%2BI3/BV7/hK/EPh%2B80OXwj4Q%2BIt7eaTqkkElzp1zP8RddQwyG2lliaULfBD5Ukikj5WYEE/qbp2nafo%2BnwaTpNhDa2lrCsNra20QSOGNQFVFVcBVAAAA4AFfll/wAEqNFufEP/AAU0/ao8ayndH4d%2BIeqaPET/AAi68aXdzj/vqBq8bOLzqYWn3rR/8lU5focOKs8Vho3t77f/AIDTqv8AX8j9Pv8AhMNJ/wCfTVP/AAR3f/xql/4TDSf%2BfTVf/BHd/wDxqvnbx9/wWR/4JvfC/wAd618NPHP7Rv2HW/DurXOmaxZf8IhrEv2e6t5Wilj3x2jI%2B10YblJU4yCRzWT/AMPy/wDglp/0dD/5ZOt//IVayzzJYScZYmmmv78f8z9Ko%2BFviZiKMatLJMXKMkmmsPVaaaTTTULNNNNPqmn1Pp//AITDSf8An01X/wAEd3/8ao/4TDSf%2BfTVf/BHd/8AxqvnbwD/AMFkf%2BCb3xQ8d6L8NPA37Rv27W/EWrW2maPZf8IhrEX2i6uJViij3yWiom53UbmIUZySBzXfft/fGD4mfs%2B/sTfFP44/Bu002bxP4S8D6hqujrq8zJbrLBC0m99scm7aoZgm3DsoQsgYuvXhcbg8bFyw9SM0t%2BVp29bHz%2BecM8ScMVoUs4wVXDSmm4qrTnTcknZtKaTaT0bXXQ9L/wCEw0n/AJ9NV/8ABHd//GqP%2BEw0n/n01X/wR3f/AMar571P9tz42%2BFfiH458F/EL4FeBNC0/wCGXw8tPE3jnxPd/FS6Njbvdxao1vbW2NHEs6h9PjEsrpEUS4LRxzOgik5n4bf8FKtX%2BKuqeGdD1b4T6v4X1uL40S%2BDvEOkLLeW0MiHwfqGvwz7dY0e0vXhdIYk2/Z7SQSoGWWSFStx0nhn1V/wmGk/8%2Bmq/wDgju//AI1R/wAJhpP/AD6ar/4I7v8A%2BNV88/slft8/En9ofT9EuPHP7MH/AAj934s%2BE2i/EHwnpfh7xrDqs91p18wR4JzcQWUVvcQl4mKh5EdHyHDKY66n9qvxZ8VdS%2BLXwv8A2ePhb8V9Q8CN42utYutW8V6NptjdXsVvYWQkW2gW/t7i3VpJpoWZnic%2BVBKq7WYSIAeu/wDCYaT/AM%2Bmq/8Agju//jVH/CYaT/z6ar/4I7v/AONV85QftCftI/E//gmR4Q%2BP/wAPrS5/4TnXdI8OzeIbvwroa3txb2kt/aRaxqGnWUiyCeVLM3lzbwFZdzLGuyc4jfyXw1%2B1X%2B1P8RfDj%2BH7Dxt8XbHwx4W%2BKOu%2BG9d%2BIuh/CS3u/Fl5HHpljfaSbnSTpkiW0crX0sUsgsYiptYRILYyyFQD7n/4TDSf%2BfTVf/BHd/8Axqj/AITDSf8An01X/wAEd3/8ar4E8Oft6/tS/Fz4LWn7Udl47bwpH4M%2BD/w78W614Fs9HsZbXxPd61NM%2BoxTSTRSzxwmCERWptZoisrM7tOuIx71N4%2B%2BPnw8/wCChPh/4X6z448Z3XgXxlYaxJA3jCy8PjSJbqKGK5hstGfToU1BZ4k88yDUTteKGRo2kZdwAPojTfEOl6rcNZ2zTpMqbzFc2ksLFc43ASKpIzxketXayrv/AJHbT/8AsFXn/oy2rVoAKKKKACiiigAooooAKKKKACiiigAooooAKKKKACiiigAooooAKKKKACiiigArxn9l/wD5Lf8AtHf9lmsf/UK8L17NXjP7L/8AyW/9o7/ss1j/AOoV4XoA9mooooAKKKKACiiigAooooAKKKKACiiigAooooAKKKKACiiigAooooA5z4u%2BI/iB4R%2BG%2BreJfhZ4J03xHr9nbiTT9G1fXm0y2uTuXd5l0lvcNEqpubIhkJ24C815T4k/bbOgf8E2ov8AgoOPhzAfO%2BE1p42/4RW68QeTFH59jHd/ZXvfIbaq%2BZtM3knhS2z%2BGvWvijonjzxL8PtV0D4ZeKdI0TXby1MVhquvaFLqdpbkkBmktorm1eUbNwAE0eCQckAqfLv2d/2ef2kPgH%2Byz4Y/Z2/4X14H1a%2B8HeCrHQNB19vhhdwwsbNIoYJ7i1OsOZR5EQV0SWMs5Lq0YwlAHZ/s2/F7Uvjn8LLb4j3934CuUvLmVbW6%2BG3j0%2BJNKmjRtu5L02lrvfcGDII8KVxuPOOW8cf8pC/hf/2Rnx5/6dvCFa37MX7Puv8AwMj8beIfG/jyw8Q%2BJfiF40bxL4jvNG8PnSdPS5/s%2By09EtrRri4eJPIsIWYvNK7ytK5YBgq8Rf8Awj%2BFHgb/AIKbeC/Hvgn4Y%2BHtH13xP8HvHEviXWtK0WC3u9WePVvCXltczRoHnK73wXLEbjjqaAPoeiiigAooooAK4D4tfsqfsz/HjdJ8ZfgH4R8SzEYF3rGgQTTr/uysu9fwYV39FZ1KVKtDlqRUl2aTX3NMyrUKOIhyVYqUezSa%2B5po%2BOPiJ/wQe/4JyeN5jf8Ahz4aa14Ovt%2B9L/wn4muY3jbsyJcNNGhHsgrGh/4Ji/tsfBl3uf2VP%2BCq/jy0t4YtljoXxF0yPXYAB0XfKxSMe6wV9wUV5UuH8ocuaFLkl3g5Qf8A5I1%2BKZyQyzCUafs6HNTj2hOcFrv7sZcmvX3NerZ8St4g/wCC9Hwgsre3v/APwO%2BLMSsfNl0nULjTb%2BQf7Rna2gU/7qGo9a/4Kaft4fDS5Fn8X/8Agj94/UIuZ7vwZ4kTXE9yBa2zKB9XP1r7eopPKsVTX7nF1I/4uSf/AKVFP8So4KSld4irbX7UHv5uk9uh8A3f/Bwx%2Bzf4Oul034wfszfGLwpdFtrRX/hy1AU%2Bh8y5jb/x2ui8Pf8ABwV/wTh1xlW%2B8XeKtKLdr/wnM%2BP%2B/Bk/Svte8srPUbZ7LULSKeGQYkimjDKw9CDwa848afsXfsg/EXe/jn9lz4fapI/3p7zwfZvL9RJ5e4H3BrCeF4mh/DxVOX%2BKlb8Yz/Q9Whg8tatVxdeP/cLC1F93NRf43PKvDn/BaD/gmV4nISx/ao023Y8FdT0TUbTafQma3UfrXfeHf%2BChv7B/ioL/AGN%2B2J8NWZ/uxXHjOzgc/RJZFb9K4DxZ/wAEYP8Agmn4ukNzP%2BzLZafPnKT6Jrd/ZFD6hYZ1T81IrzDxp/wbu/sJeKpftOl%2BJ/iHo8inMS23iKC4jU%2B63VvKSPbNYurxjS/5d0Z%2Bkpx/NM9Onk2T1X7mcqP/AF9wNZfjh8VV%2B%2B3yPsTRPj58CvEoU%2BHPjT4S1AN902XiO1lz9NshrprLU9N1KPzdO1CC4X%2B9BKHH6GvzW8T/APBuB4JmiaLwH%2B1JLYL/AADWfhrpl8fxZDCfxrjb3/g3e%2BJ2hSefoHjL4UeI5E%2B5Jrmk63phb6ixvsD8BUPNeJafx4BP/DUT/wCCdMeE69ZXoZxl0n2nPG0H/wCVMFUiv/AmfrFRX5L/APDmv9rbwocJ%2Bz/8G9VRfunw18V/F1i5H/bzOwB/SkP/AAT7/ay8Mf8AOPzxfe7esnhT9rA2n4qLpWP4Uv7fzOPx4KS/8C/SEiv9ROMJ/wACtl1X/DmdCP8A6eo0fxsfrTRX5Lf8M8/H/wAO8at%2Byb%2B2Lom3r/win7RFrf7fptj5o/s3x94d51Cy/wCCnmnbeq2OrRapEn4ALxR/rNUj8eHa%2BbX50Q/4h74nv%2BHltKr/ANe8wwE//diJ%2BtNFfkt/wtSfRvl1D9qz9vbQMdR4i8BiUr9cKaX/AIab%2BHVhxrv/AAV1/aO0UDr/AGv8LZsr9dtu1H%2BteHXxU7etSC/NRD/iHfi8/h4cxE/8E6FT/wBN1pn60UV%2BT1l%2B1Z%2BzdfP5Tf8ABfn4pwuOGS5%2BH1zEVPvusgK17L49fAu7AfTv%2BDhDxojfwm88MoB%2BIe3WqjxThpbRj/4Oo/8AyRhV4C8XqH8ThfHL/uE//kWfqVRX5l2fxo0VyP7C/wCDi6GL%2B7/aXgnS3/PzNtalp8XfiE%2BP7J/4OSfh%2BB2W/wDhr4cOfqXuAa2XEdF/8u/uqUH/AO5UcFThnxIo/wAThzHL/uC3/wC2n6QUV%2BeVr8Q/jjd/8en/AAcdfB6UnsfA/hYH8vteavQal%2B0VqxEcv/BxJ8MhGev2DwF4X3N%2BP2vj8K0WfQltRf8A4HQ/%2BXHFPLONqfxZDjV60WvzR9/0V8FQfs1/Df4qtt/aQ/4LW%2BJfGlueH0rwt480vw9ZTr/dlhtHbeP%2BBCtOy/Y18OeCWH/DK3/BX3x14Wg6R6VrfjKw8R2MK/3YobkrsH/AjVrNsVL3lQVv%2BvtLm%2B69v/JrnJUw3GNL3p5RWUfPSX/gLppf%2BT3PuKivjW0/Z1/4KFTDZoH/AAWz0%2BaI9PM%2BDGgzt/3153NaNv8Asqf8FSZF83Tv%2BCwFle%2Bz/AbRQv5pKa1WZ4l7YWf30n/7kOKePzSl/Ey6svX2S/Ooj65or5K/4Zy/4K52H/Hp/wAFIPB9/j/n%2B%2BD9rFn/AL9yUf8ACmv%2BCx9kPMtv2zvhVesOkd58OpI1b6mN8j8Kr%2B0q63wtT7oP8qhl/a%2BJW%2BCrfdTf5VT61or5K/4R7/guBZ/ubb4ifs1XqjpPeaTrcbt9RGcCj%2ByP%2BC5B6%2BL/ANmAfSw180f2pL/oGq/%2BAL/5MP7al/0CV/8AwWv/AJYfWteM%2BOP%2BUhfwv/7Iz48/9O3hCvMPsn/BdC3/ANTq/wCyrcf9d4PEaf8AoNVPgo/7dTf8FC/Bg/bUi%2BE64%2BDPjL/hGj8L21Mg/wDE28K/aPtP27/ths2f9NN38Na0Mw9vVUPY1I36yhZfN8z/ACN8Nmn1isqf1erG/WULRXq%2Bd2%2B7c%2BwKKKK9A9QKKK8h/bX%2BJHj74efCfSLL4ZeJW0LWPFnj/wAO%2BGIfESWkM76TFqGp29vPcxxzo8TTCF5BF5iPGJWjLo6gowB69RXyB4g/a5%2BNXwe/Yd%2BL3jTVdfn8V%2BLfhr4%2BvPCGkeJp9EhebUPMvrWCzvZrS0SGKaaFL%2BISxwrEkslq%2B1Yg%2B1crw98dfjL4617wl%2BypoH7QvxS8N%2BK7/wCIep6f471/xv4d8KnxFo0VroCanDZW62NnLpMizi4tJ1mEc58ozxlllXMIB9qV%2Bbf/AARv0C5Hx9/bL8cSRnyr79p%2B%2B09Hx1a28TaoxH4C4X86%2BwP2W/2idZ8dfsV%2BE/2hPi1bXV1qUvh1ZfEDeGfD11eveXETmCWe2s7RJZ3WV0MixRq7BXA5xmvnb/gjj9i1f4TfH/x9YWN7DB4j/bN8Z31oNS0yeyuRAddiCLLBcIksDg7w0ciK6NlWVWBA8/F0/aYvDv8AllJ/%2BU5L9TKVJzrwna6jzfilFfj%2BZ920V8xeP/8Agpr/AMIF471vwL/w75/ae1r%2BxdXubD%2B2NA%2BE/wBpsL/yZWj8%2B2l%2B0jzYX270fA3KynAzWR/w9h/6xqftaf8Ahm//ALqrOWdZZGTi6mq/uz/%2BVnly4hyaEnGVXVafDU6af8%2Bj60rF%2BI/w88GfFz4fa58KviNoMWq%2BH/EukXOl65pk7MqXVpcRNFNEShDAMjMMqQRnIIPNfPngH/gpr/wnvjvRfAv/AA75/ae0X%2B2tXtrD%2B2Nf%2BE/2awsPOlWPz7mX7SfKhTdvd8HaqscHFezftJ%2BMPid8PPgF4v8AiD8GfDlprPifQdAudS0fRb2F3TUpIEMptQEdCHlVGjRt2Fd1YhgCp68NjMNjIuVGV0t9JL/0qMf1O3B4/B5hFyw8uZLR6SXn9qMfwuY0H7Gv7PC%2BFfFPg7U/CGpavZ%2BNfDdvoPiqXxF4r1PU7rUrCD7T5Mclzd3Mk%2B9Ptc%2BJQ4lG5fn%2BRNud4H/YK/Za%2BHupLrnh/wABalNqQ8XDxRLq2teMdW1K8uNXGkTaMLua4vLqWWdhp88tviRmXaVONyIy%2BG%2BI/wDgo/8AE34keFrnxj%2By42h6rYeI/Hc2kfCiWLwkuqN4g06w0hbrVb2RrnW9KtoY4rvz4A7XC7RZuAkrSDy%2BJ8G/t1fEb4ueI9E%2BPFl9ptdO8efDL9nfVY/Cja/e/YdKn8ReLtdtr%2BSD7NPFucxeSjMcpOtrCsySxL5R6TsPsPwx%2Byd8CPBNjolh4O8J3ulL4c8DWng7RJtO8R6hDNaaLavG8FqsqThztMUeZCxkYAhnYMwOj8b/ANnr4U/tE6Jp%2Bh/FLR9RmGkaib7SL/RPEV9pF9Y3BhlgZ4bywmhuIt0M00ThJAHSRlYFSRXyb8E/2qf2oPjd%2B1J8IPGGp%2BKvCP8AYnjv4W%2BP9b8OfD3Srq909rWSzv8ARoLaDVpTNcJdSx%2BaUa4S2iNtI9wixSZyfbv239W8ST6Z8KPhvL4q1Xw7pHjv4r2Gh%2BM9S8N67cafdQ2Z0%2B/ukghvbdop7fz721s7XzI2jkZbgqpUuKAPQpP2d/hYngMfDDRrHWNF0CLw5YaFZaZ4Z8V6jpUen2NmSbdLT7HcRGzdQdplgKSuiIjOyxoq4F/%2BxV%2Bz7ffCqz%2BC0Wk%2BJrHw/aX9zeyxaP8AEPW7G61Ce5Z2uXvru3vEudQMzSO0n2qSUSM2X3EAjyz4Raj%2B0L8U/wDgm3430P4T/Em7n8aWepeO/DngHxZrGqlri4t9P17VNP0y4kvJQ5aU2ttAPtbhy7YnbfuOfNfh34/tdL%2BF37R8Xx/0b4ueHvh78H7uz1zS9N1H41anP4jtJ10Nbq706TVdM1SWaXcxjmS1N5OP9Oi4XMcUQB9QeLv2Kf2ZPG3i7w9411z4ZLHd%2BGLLTrPS7XTNXvLGxe20%2B4Nzp8FzZW00dtexWs5MsEdxHIsDszRhCxJu%2BGv2Uvgr4W%2BLsnx0tdM16/8AEplvZLO58QeNtW1S30xrt91ybG0vLqW3sN/3SLaOL5PkGE%2BWvhH9rX4l/tIfsn/sS/DP4A%2BMPG/xntdc0TwppXib4g/EPQdI8S67NqGrSanDnRP7Xtorh4olmkuWcTzq7QW9pbjzUuXUe7Ty/EP4P/t0J8Z/in/b2s%2BDPip8QLHSfhpJafF/Xrc6AZPDECG0uvC0qxWJja4s9QmaTMk8b3KyNEpjaSMA%2Bqrv/kdtP/7BV5/6Mtq1Ky7v/kdtP/7BV5/6Mtq1KACiiigAooooAKKKKACiiigAooooAKKKKACiiigAooooAKKKKACiiigAooooAK8Z/Zf/AOS3/tHf9lmsf/UK8L17NXjP7L//ACW/9o7/ALLNY/8AqFeF6APZqKKKACiiigAooooAKKKKACiiigAooooAKKKKACiiigAooooAKKKKACiiigArxnxx/wApC/hf/wBkZ8ef%2BnbwhXs1fOH7R%2Br/ABr0f9vD4Tz/AAO%2BH/hbxFqTfCPx2t3aeK/GFzosEcH9qeEiXSW30%2B9Z33bRsMajBJ35AUgH0fRXjP8AwnH/AAUL/wCjX/gz/wCH41b/AOZej/hOP%2BChf/Rr/wAGf/D8at/8y9AHs1FeM/8ACcf8FC/%2BjX/gz/4fjVv/AJl6P%2BE4/wCChf8A0a/8Gf8Aw/Grf/MvQB7NRXjP/Ccf8FC/%2BjX/AIM/%2BH41b/5l6P8AhOP%2BChf/AEa/8Gf/AA/Grf8AzL0AezUV4z/wnH/BQv8A6Nf%2BDP8A4fjVv/mXrl/AP7R37dvxE8V%2BN/CGj/sofCSG48B%2BKItC1WS5%2BOuqBJ55NK0/Uw8W3wwSU8nUYVJYKd6OMYAZgD6Oorxn/hOP%2BChf/Rr/AMGf/D8at/8AMvR/wnH/AAUL/wCjX/gz/wCH41b/AOZegD2aivGf%2BE4/4KF/9Gv/AAZ/8Pxq3/zL0f8ACcf8FC/%2BjX/gz/4fjVv/AJl6APZqK8Z/4Tj/AIKF/wDRr/wZ/wDD8at/8y9H/Ccf8FC/%2BjX/AIM/%2BH41b/5l6APZqK8Z/wCE4/4KF/8ARr/wZ/8AD8at/wDMvXL/AAR/aO/bt%2BPHwY8IfHHwr%2Byh8JLXS/GfhfT9d0221D466os8MF3bR3EaSBPDDKHCyAMFZhkHBI5oA%2BjqK8Z/4Tj/AIKF/wDRr/wZ/wDD8at/8y9H/Ccf8FC/%2BjX/AIM/%2BH41b/5l6APZqK8Z/wCE4/4KF/8ARr/wZ/8AD8at/wDMvR/wnH/BQv8A6Nf%2BDP8A4fjVv/mXoA9morxn/hOP%2BChf/Rr/AMGf/D8at/8AMvR/wnH/AAUL/wCjX/gz/wCH41b/AOZegD1%2B90zTdSTy9R06C4X%2B7PCrj9RWPe/Cr4X6ln%2B0fhvoFxnr5%2BjwPn81rxD4u/tHft2/BrwpaeL/ABH%2Byh8JLm3vPFGiaFHHZfHXVGcT6pqtrpkDnd4YUbFmu42c5yEViAxwp6j/AITj/goX/wBGv/Bn/wAPxq3/AMy9TKEJfEk/kv8AI3pYnE0P4dSUfSUl%2BTR2V5%2Bzd%2BztqOf7Q%2BAngufPXzvC1o2fzjrLu/2N/wBkO/z9u/ZV%2BG82evm%2BBtPb%2BcNYP/Ccf8FC/wDo1/4M/wDh%2BNW/%2BZej/hOP%2BChf/Rr/AMGf/D8at/8AMvWTwmFlvTi/%2B3Y//InfTz/P6P8ADxlaPpWqr8qqLd3%2BwJ%2BwtenNz%2Bxl8KmJ6sPh9pwP5iHNUZ/%2BCcP7AlznzP2NfhqM/wDPPwfaJ/6DGKf/AMJx/wAFC/8Ao1/4M/8Ah%2BNW/wDmXo/4Tj/goX/0a/8ABn/w/Grf/MvWTy7L3vRh/wCAR/8AkTthxjxhT%2BHMsSv%2B5iv/APLjOuf%2BCYP/AAT1u/8AW/se%2BAx/1y0KNP8A0HFZl3/wSW/4Jw3uRN%2ByP4WXP/PGOaP/ANBkFdJ/wnH/AAUL/wCjX/gz/wCH41b/AOZej/hOP%2BChf/Rr/wAGf/D8at/8y9Q8pyuW%2BHh/4BH/AOROunx/x5S%2BDNsUv%2B5iv/8ALWcPd/8ABGX/AIJl3pJm/ZS0pc/88dZ1GP8A9BuBWdc/8EP/APgl9cN5ifsyCFx0e38Y6yhH5XmK6HVv2jv27dH%2BM%2BgfA64/ZQ%2BEjap4i8L6vrtncp8ddU8iODTrnTbeZHJ8Mbg7NqkBUBSCEkyVIUN1H/Ccf8FC/wDo1/4M/wDh%2BNW/%2BZesnkeSy3w1P/wCP%2BR2w8UvEyl8Gd4tf9zNb/5NnmX/AA5J/wCCesX/ACDvhx4js/T7N4/1YY/O4NH/AA5d/Yzh/wCQbf8AxFsvT7L8R9RGPzkNem/8Jx/wUL/6Nf8Agz/4fjVv/mXo/wCE4/4KF/8ARr/wZ/8AD8at/wDMvU/2Fkv/AEDw/wDAbfk0a/8AEVvEx75xiH61HL/0qMjzH/hzl%2BztD/yC/jb8abH0%2ByfFC7GPzBo/4dE/DuH/AJBv7Zn7R1ljp9l%2BLUox%2BcRr07/hOP8AgoX/ANGv/Bn/AMPxq3/zL0f8Jx/wUL/6Nf8Agz/4fjVv/mXo/sLKOlFffJflNB/xFXxEfxZlUfqqMv8A0rDyPMf%2BHTlrCc2H/BRr9qu2x0WP4wHb%2BRtqp/BX9lW9/Zl/4KFeC1u/2mfin8RRrXwZ8Z7P%2BFmeKRqZ0/ydW8K5%2BzkRp5fmeaN/Xd5UfTHPrX/Ccf8ABQv/AKNf%2BDP/AIfjVv8A5l6oeB/A/wC1Z4x/as8OfG743fDj4e%2BGdG8M/D3xDocMPhX4h32tXV3dalfaJcIzJcaRYpFGiaXKCwd2LSoAuMkbUMqy/DVVUpQs1/em/wAHNr8Dz804%2B4vzvAzweOxXPTna69lh43s0170MNTmtUtprs7q6futFFFegfHhXO/Fj4T%2BAfjf4Cvfhn8TdDbUNHv3gkmhivZraWOWGZJ4J4Z4HSWCaKaKOWOWJ1kjkjR0ZWUEdFRQB5roH7InwA8N/DLUPg3YeD72bw1q%2Bm3dlq2lal4k1C8W%2BF1PLcXNxM1xO7y3cs00kj3jE3DMwJkO1cY037A/7L8/gc%2BA5fCniAo3if/hIm14fEHWxrx1X7J9i%2B1nWBef2gZPsf%2Bi5%2B0f8e/7n/V/JXsdFAGV4F8D%2BEfhl4J0j4ceAPD9tpOhaBpkGnaNpdmm2K0tYY1jiiQdlVFVR7CvBv2HvCmleE/2evF1/pyP/AMTD9ojx/qmouVydw8d6nvbgdFjiH4LX0dXyV%2ByV4s/bO0/4e%2BKLP4Y/AP4YavoSfGn4i/2fqOvfF3UdNu5l/wCEz1ksZLaLQLlIiG3AATPkAHIJ2hOKbTfQpTlGLino9/lqfUH/AAnPgn/ocNL/APBhH/8AFUv/AAnPgn/ocNK/8GEf/wAVXlv/AAnH/BQv/o1/4M/%2BH41b/wCZej/hOP8AgoX/ANGv/Bn/AMPxq3/zL0yT1L/hOfBP/Q4aV/4MI/8A4qj/AITnwT/0OGlf%2BDCP/wCKry3/AITj/goX/wBGv/Bn/wAPxq3/AMy9H/Ccf8FC/wDo1/4M/wDh%2BNW/%2BZegDUvvgZ%2BxRqnw40n4O6n8HfhbceEdAvftmheFZ/D2mvpum3O6RvOgtinlQybpZTvRQcyOc/Mc6Gn/AA4/ZR0m1tbLSvAfw9tobK00m0sobfS7FFt4NLnkuNMiQBQES0nlllt1GBBJI7xhWYk83/wnH/BQv/o1/wCDP/h%2BNW/%2BZej/AITj/goX/wBGv/Bn/wAPxq3/AMy9AGrY/A/9irS/FOt%2BOdM%2BEHwut9b8SwXUPiPWIPD%2BmpdarHdY%2B0pcyhN86y7V8wOSHwN2cV0HjfSvgB8TPBFz8MviRpvg7xB4bvIUiu/D2uQ2l3YzxoysiPBKGjZVZVIBXAKgjoK8i%2BN37R37dvwH%2BDHi/wCOPir9lD4SXWl%2BDPC%2Boa7qVtp/x11Rp5oLS2kuJEjD%2BGFUuVjIUMyjJGSBzXUf8Jx/wUL/AOjX/gz/AOH41b/5l6AOqHgn9mEeHrfwiPCPgMaTaeG5/D1rpf2Cy%2Bzw6ROI1m05I9u1bWQQxB4APLYRICp2jFfw98Nf2TvCPw3Hwb8KeAPh3pnhBZxOvhTT9KsIdNEomEwf7MiiLcJVWTO3O9Q3UZrnf%2BE4/wCChf8A0a/8Gf8Aw/Grf/MvR/wnH/BQv/o1/wCDP/h%2BNW/%2BZegD0LxPf/CLxtoc3hnxneeG9X025KG40/VJLe4glKOHXdHJlWwyqwyOCoPUVztl8L/2SdM%2BLNx8fNO%2BHfw5t/HV3GUuvGkGkWCatMpjWIq94F85h5aqmC33VA6ACuf/AOE4/wCChf8A0a/8Gf8Aw/Grf/MvR/wnH/BQv/o1/wCDP/h%2BNW/%2BZegD0m21fS9c8Y2txouowXcdvplys8ttKHVGeSAqCVyASEbj2rdrxn/hOP8AgoX/ANGv/Bn/AMPxq3/zL0f8Jx/wUL/6Nf8Agz/4fjVv/mXoA9mor5x8fftHft2/DvxX4I8Iax%2Byh8JJrjx54ol0LSpLb466oUgnj0rUNTLy7vDAITydOmUFQx3ugxgll6j/AITj/goX/wBGv/Bn/wAPxq3/AMy9AHs1FeM/8Jx/wUL/AOjX/gz/AOH41b/5l6P%2BE4/4KF/9Gv8AwZ/8Pxq3/wAy9AHs1FeM/wDCcf8ABQv/AKNf%2BDP/AIfjVv8A5l6P%2BE4/4KF/9Gv/AAZ/8Pxq3/zL0AezUV4z/wAJx/wUL/6Nf%2BDP/h%2BNW/8AmXo/4Tj/AIKF/wDRr/wZ/wDD8at/8y9AHs1FfOOrftHft26P8Z9A%2BB1x%2Byh8JG1TxF4X1fXbO5T466p5EcGnXOm28yOT4Y3B2bVICoCkEJJkqQobqP8AhOP%2BChf/AEa/8Gf/AA/Grf8AzL0AezUV4z/wnH/BQv8A6Nf%2BDP8A4fjVv/mXo/4Tj/goX/0a/wDBn/w/Grf/ADL0AezUV4z/AMJx/wAFC/8Ao1/4M/8Ah%2BNW/wDmXo/4Tj/goX/0a/8ABn/w/Grf/MvQB7NRXjP/AAnH/BQv/o1/4M/%2BH41b/wCZej/hOP8AgoX/ANGv/Bn/AMPxq3/zL0AezUV84%2BAf2jv27fiJ4r8b%2BENH/ZQ%2BEkNx4D8URaFqslz8ddUCTzyaVp%2Bph4tvhgkp5OowqSwU70cYwAzdR/wnH/BQv/o1/wCDP/h%2BNW/%2BZegD2aivGf8AhOP%2BChf/AEa/8Gf/AA/Grf8AzL0f8Jx/wUL/AOjX/gz/AOH41b/5l6APZqK8Z/4Tj/goX/0a/wDBn/w/Grf/ADL0f8Jx/wAFC/8Ao1/4M/8Ah%2BNW/wDmXoA9mrxn9l//AJLf%2B0d/2Wax/wDUK8L0f8Jx/wAFC/8Ao1/4M/8Ah%2BNW/wDmXq3%2Byt8OfjT4P1j4oeO/jpoHhfSdU8ffEKLXLPSvCfiW51a3tbWLQdH0xVe4uLKzZpGk06Vyoi2hZEG5jnAB63RRRQAUUUUAFFFFABRRRQAUUUUAFFFFABRRRQAUUUUAFFFFABRRRQAUUUUAFfK/7T37Wnxc%2BGHxj8Wa14B8O%2BD5PDHwf8P%2BH73xqda0i4m1XVLfV7%2BVLmCwuI7iNLLyLazjuMyRTi5kKRkQ%2BX5p%2BqK8Z%2BM/7EPw4%2BN3xSPxM1zxz4q0uLUbXSLXxf4a0a6tU07xTBpd7Je2MV8stvJMFjmmlz9nlgMschimMsYVAAezUUUUAFFFFABRRRQB4v8A8FBfi78cP2fv2R/Gnx6%2BAV74Uj1jwToV3rl1B4w0W5vra7tLW2lme3RLa6tmSV2RFEhcqgLEo/Arz/x5%2B1p8XPBfx48W6n4U8O%2BEIvh54Q%2BMfhH4feMrObSLg63quq67BoqR6hDdpcLDHHB/bmkxmKS3leRIZ8Sx7UFew/tY/s42X7WnwI179n3Wvir4p8I6T4nspbHXL/wgunfa7mylieKa23X9pdRojq/LIiyAqNrrzni4P2AfB0/xFs/iL4q%2BOPj7XWOs6TrnibRtQl0qKx8T65piRpY6tex21hEy3EQgtMLbNBAxsbYvExjyQD3uiiigAooooAKKKKAPD/27vi58eP2fvg1q/wAdfhR4x8C2On%2BFtFuby90XxZ4Zvb%2B58Q3uUWz0yzktr2D7PNcSkW6N5V0zSzxBYWPyt5/8Ef2vvjPrnxL8Ff2t4M8JaR8NPG/xP8UfDbwr4a07S5o9X0S/0CHVt889yLhreaCRvD%2BposMdvEY1a2PmSZYD0/8AaV/ZBg/aS8eeCPiBN%2B0D478IXPgG7ub3RbHwxFo09nJeyoI1vJoNT068R54Y/MWGQBTGJ5SPmbIq%2BA/2Gvh74D%2BMtv8AF2H4i%2BLtSg07XdT17RPCGpXNl/ZOla3qMbx6hqkCRWqT%2BfOJ7ssrzPCjX1yY4o/M4APa6KKKACiiigAooooA%2BOf%2BCgn7cfxU/Yw8c/2nrmi6B4x8Ivo2o63b%2BFZfhzqdlLbppujX2pJJ/wAJFNdPpk939r00bLFYEuhHMsoG2FpG9e/Zo%2BLvxz1b4qeN/wBnr9o658Kah4n8I6ToetR614K0i5sLG5sdUF5GkRgubm5dZYrjTrtS/m4kQxNsjJKit8df2EvBH7TmtXVr8f8A4t%2BNfFHgu5kuJF%2BGV5JpsOixSTWM1kzb7eyjvpAI7iZgkt06B33bfkQL0/7Pn7M2kfAO817xFd/FDxZ448R%2BJDZx6t4q8a3Fm99LbWkRitbUfY7a3hWKIPKwxHvZ55XdnZyaAPSqKKKACiiigAqK9vbPTbObUdRu4re3t4mknnnkCJGijLMzHgAAEkngAVLVfV9I0nxDpN1oGv6Xb31jfW7297ZXkCyw3ELqVeN0YFXVlJBUgggkGgD4f0T/AIKC/tD/ABb/AGg2%2BGfw%2B8D%2BCNDfxhr2i2Xwg8SeI/D93eTWWhX2l69qlxf38CXcDzfaYfDayw28b2xQXluJiWicD6g/ZK%2BNGv8Ax9%2BA%2Bl/EPxfpFnY63HqWq6N4gt9OLm1/tHTNSudNu3g3ksIWntJXjDEsEZQSSCT5Q3/BIn9jLw18SL34yfAfwLb/AAo8WSTaZPouv/DTw7o2nS6FNZxX0BktI2sZIT9og1C4huEmSWORNnyqyKw91%2BCPwe8JfAL4W6R8JfBEl5LYaTFJ/pepTiW6vJ5ZXmnup3AAeaaaSSWRgFBeRiABwADqqKKKACiiigAooooAKKKKACiiigAooooAo%2BKPENh4S8Naj4r1UObXTLGa7uREuW8uNC7YHc4U185/sTftJ/Gvx/4p0fwZ8bPD3gyzHjr4W2XxG8Mw%2BDNKuLQaZHeXBN3p92ZriUXc0b3Ns/2xBAJ2lmJgj2gv9LXdpa39rLY3tuk0M0bRzRSqGV1IwVIPBBHGK8h/Zm/Yr8Bfswaq%2Br6B8QfFviWW28MWPhnw6PFl7azDQNCs3ke3021Nvbwlo1MnzSzma4kEcXmTP5a4APYqKKKACiiigAooooA%2BXP2qP2sfih%2Bzh8XvHFl8StG8JeIvhfYfs7%2BL/HttoVvolwmqu2iDS1ntri5kuXt5op1vpwEFshUImXfLCu3/AGZ/i/8AHzVPi54y/Z1/aWfwleeKPDHhjw94lj1XwVpNzY2Ullqz6lbrbGG5ublzLDcaRdgyiQLIjxN5cZ3LUHxj/YV8O/HT46t8ZfHnx28cy6bN4K1PwjffD2GDRf7Eu9G1Jbb7faSF9Na9Ina0gdnF0HUoQjIjMh6T9nf9l3Q/2fb7WvEc/wAUPFvjfxDr9rYWV/4n8bXNpJemwsUkWzsx9ktrePyojPcOCUMjvcyu7uzZoA9PooooAKKKKACiiigD42/aW/a7/aW/Z4%2BM0Hw21lPhn41vtbggm8Iw6d4WvbSXwXeal4h0zw9pE2pyvfTC6inbV5wWiWzkcWN0sYZfMMXuP7Kvxf8AiR8Rh4/%2BH3xiOiT%2BKvhp48bw1rOq%2BGtOms7DU/M0vTtWt7iG3mnnkt82uqW6PG00uJI5MMQRjhbb/gmr4Sa6%2BIb%2BIf2l/idrNv8AEnXjrmsW%2BpHQvMs9SiuIZ9Puba6i0tLpTYPb24tI3mkiiWFAyPzn1j4B/AXQ/gH4e1bTbLxfrniTVvEWvTa14n8UeJXtjf6vfSRxQ%2BdMLWCCBdkEFvAiRRRoscEaheCSAd1RRRQAUUUUAFUfE8PiS58N6hb%2BDdTsbLV5LKVdLvNTsHuraC4KERySwxyxNNGrYLIskZYAgOpO4XqzfGOg3/ijwtf%2BHdL8W6loNzeWrxQa1o4gN1YuRxNELiKWIup5AkjdDj5lYZFAHw98Pv27P2tfjV8U9R%2BCXw2034fHxn4ftfEl9beM/F3wu1rRFvNM0%2B18PyvYtol5fJqGmSz3eswIJppmjaKy%2B0LDIskQr7G%2BAXxa034%2BfAnwV8ddG02Wzs/GvhLTdetLOZ9zwRXlrHcLGxAGSokAJ9RXi2r/APBMjwPrWuX3xFu/2lPimnxA1ZLy11r4k217pEOrX%2BmXVta202mFE00WcNsUsrRh5FtFKskCyrKHLMfoPwX4P8NfDzwdpPgDwZpMWn6PoemQafpNhDnZbW0MaxxRrnnCoqqPpQBp0UUUAFFFFABXlf7Xnx78QfAr4XF/htpFlqvjrxBJJYeCdI1AObeS7WGSaS5uAjK32W2giluJtrKzJD5aMJJIwfVK4T49fsw/s8/tQ%2BG4/Cv7QfwU8KeMrW2Sb%2Bzh4n8N2monT3lTY8tv9pjkEUmMfMozwM5xQB8tfA/9v/48%2BPNM0T45T%2BE/All4NuPGHgTwr460yy0S6XVL/WvEOiaHcf2jbXP2oxx28E2tafbiCWGWRo7eVvPXbGD9wV80/CH/AIJXfs6/Aq58M6Z8MfEXifS/Cnhy60fUpvANq%2BnxaPrGs6ZZRWdprF2kdmsxuwlvbO3lSxQyS20UjxMy5P0tQAUUUUAFFFFABRRRQAUUUUAFFFFABRRRQAUUUUAFFFFABRRRQAUUUUAFFFFABRRRQAUUUUAFFFFABRRRQAUUUUAFFFFABRRRQAUUUUAFFFFABRRRQAUUUUAFFFFABRRRQAUUUUAFFFFABRRRQAUUUUAFFFFABRRRQAUUUUAFFFFABRRRQAUUUUAFFFFABRRRQAUUUUAFFFFABRRRQAUUUUAFFFFABRRRQAUUUUAFFFFABRRRQAUUUUAFFFFABRRRQAUUUUAFFFFABRRRQAUUUUAFFFFABRRRQAUUUUAFFFFABRRRQAUUUUAFFFFABRRRQAUUUUAFFFFAH//Z\">"
            ]
          },
          "metadata": {
            "tags": []
          }
        }
      ]
    },
    {
      "cell_type": "markdown",
      "metadata": {
        "id": "6T12X9t5Uqcm",
        "colab_type": "text"
      },
      "source": [
        "# Submit the MLP with 2 hidden layers\n",
        "Run these cells after training the MLP with 2 hidden layers"
      ]
    },
    {
      "cell_type": "code",
      "metadata": {
        "id": "RhCbecwVUqcm",
        "colab_type": "code",
        "colab": {}
      },
      "source": [
        "## GRADED PART, DO NOT CHANGE!\n",
        "# Validation loss for MLP\n",
        "grader.set_answer(\"i8bgs\", s.run(loss, {input_X: X_val_flat, input_y: y_val_oh}))\n",
        "# Validation accuracy for MLP\n",
        "grader.set_answer(\"rE763\", accuracy_score(y_val, s.run(classes, {input_X: X_val_flat})))"
      ],
      "execution_count": 0,
      "outputs": []
    },
    {
      "cell_type": "code",
      "metadata": {
        "id": "MlIR89LDUqco",
        "colab_type": "code",
        "outputId": "7f7bf109-bd36-46d9-dfca-a9bb60d49539",
        "colab": {
          "base_uri": "https://localhost:8080/",
          "height": 34
        }
      },
      "source": [
        "# you can make submission with answers so far to check yourself at this stage\n",
        "grader.submit(COURSERA_EMAIL, COURSERA_TOKEN)"
      ],
      "execution_count": 27,
      "outputs": [
        {
          "output_type": "stream",
          "text": [
            "Submitted to Coursera platform. See results on assignment page!\n"
          ],
          "name": "stdout"
        }
      ]
    },
    {
      "cell_type": "code",
      "metadata": {
        "id": "OznKNRO0F8aX",
        "colab_type": "code",
        "outputId": "887b5153-965c-499c-a197-22166a1ccf80",
        "colab": {
          "base_uri": "https://localhost:8080/",
          "height": 34
        }
      },
      "source": [
        "s.run(loss, {input_X: X_val_flat, input_y: y_val_oh})"
      ],
      "execution_count": 0,
      "outputs": [
        {
          "output_type": "execute_result",
          "data": {
            "text/plain": [
              "1.4867699"
            ]
          },
          "metadata": {
            "tags": []
          },
          "execution_count": 93
        }
      ]
    }
  ]
}