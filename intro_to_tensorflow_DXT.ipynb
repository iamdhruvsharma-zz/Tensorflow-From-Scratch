{
  "nbformat": 4,
  "nbformat_minor": 0,
  "metadata": {
    "kernelspec": {
      "display_name": "Python 3",
      "language": "python",
      "name": "python3"
    },
    "language_info": {
      "codemirror_mode": {
        "name": "ipython",
        "version": 3
      },
      "file_extension": ".py",
      "mimetype": "text/x-python",
      "name": "python",
      "nbconvert_exporter": "python",
      "pygments_lexer": "ipython3",
      "version": "3.6.5"
    },
    "colab": {
      "name": "intro_to_tensorflow_DXT.ipynb",
      "provenance": [],
      "collapsed_sections": []
    }
  },
  "cells": [
    {
      "cell_type": "code",
      "metadata": {
        "id": "ZLVIvl-UF1GU",
        "colab_type": "code",
        "outputId": "d1718936-afcc-4d5b-f3ca-c0f3842f6a0b",
        "colab": {
          "base_uri": "https://localhost:8080/",
          "height": 319
        }
      },
      "source": [
        "! shred -u setup_google_colab.py\n",
        "! wget https://raw.githubusercontent.com/hse-aml/intro-to-dl/master/setup_google_colab.py -O setup_google_colab.py\n",
        "import setup_google_colab\n",
        "# please, uncomment the week you're working on\n",
        "# setup_google_colab.setup_week1()\n",
        "setup_google_colab.setup_week2()\n",
        "# setup_google_colab.setup_week2_honor()\n",
        "# setup_google_colab.setup_week3()\n",
        "# setup_google_colab.setup_week4()\n",
        "# setup_google_colab.setup_week5()\n",
        "# setup_google_colab.setup_week6()"
      ],
      "execution_count": 1,
      "outputs": [
        {
          "output_type": "stream",
          "text": [
            "shred: setup_google_colab.py: failed to open for writing: No such file or directory\n",
            "--2020-04-30 16:28:47--  https://raw.githubusercontent.com/hse-aml/intro-to-dl/master/setup_google_colab.py\n",
            "Resolving raw.githubusercontent.com (raw.githubusercontent.com)... 151.101.0.133, 151.101.64.133, 151.101.128.133, ...\n",
            "Connecting to raw.githubusercontent.com (raw.githubusercontent.com)|151.101.0.133|:443... connected.\n",
            "HTTP request sent, awaiting response... 200 OK\n",
            "Length: 3636 (3.6K) [text/plain]\n",
            "Saving to: ‘setup_google_colab.py’\n",
            "\n",
            "setup_google_colab. 100%[===================>]   3.55K  --.-KB/s    in 0s      \n",
            "\n",
            "2020-04-30 16:28:48 (56.1 MB/s) - ‘setup_google_colab.py’ saved [3636/3636]\n",
            "\n",
            "**************************************************\n",
            "inception_v3_weights_tf_dim_ordering_tf_kernels_notop.h5\n",
            "**************************************************\n",
            "cifar-10-batches-py.tar.gz\n",
            "**************************************************\n",
            "mnist.npz\n"
          ],
          "name": "stdout"
        }
      ]
    },
    {
      "cell_type": "code",
      "metadata": {
        "id": "ob6xrFmoFOsE",
        "colab_type": "code",
        "outputId": "e6343b70-256e-430d-e26c-a85daded8a44",
        "colab": {
          "base_uri": "https://localhost:8080/",
          "height": 34
        }
      },
      "source": [
        "# set tf 1.x for colab\n",
        "%tensorflow_version 1.x"
      ],
      "execution_count": 2,
      "outputs": [
        {
          "output_type": "stream",
          "text": [
            "TensorFlow 1.x selected.\n"
          ],
          "name": "stdout"
        }
      ]
    },
    {
      "cell_type": "markdown",
      "metadata": {
        "id": "QCbv8IgFFOsI",
        "colab_type": "text"
      },
      "source": [
        "# Intro to TensorFlow\n",
        "\n",
        "This notebook covers the basics of TF and shows you an animation with gradient descent trajectory.\n",
        "<img src=\"https://github.com/hse-aml/intro-to-dl/blob/master/week2/v2/images/gradient_descent.png?raw=1\" style=\"width:50%\">"
      ]
    },
    {
      "cell_type": "markdown",
      "metadata": {
        "id": "7BFksggdFOsI",
        "colab_type": "text"
      },
      "source": [
        "# TensorBoard"
      ]
    },
    {
      "cell_type": "markdown",
      "metadata": {
        "id": "5dWi8DiJFOsJ",
        "colab_type": "text"
      },
      "source": [
        "**Plase note that if you are running on the Coursera platform, you won't be able to access the tensorboard instance due to the network setup there.**\n",
        "\n",
        "Run `tensorboard --logdir=./tensorboard_logs --port=7007` in bash.\n",
        "\n",
        "If you run the notebook locally, you should be able to access TensorBoard on http://127.0.0.1:7007/"
      ]
    },
    {
      "cell_type": "code",
      "metadata": {
        "id": "MYzz0YoBFOsJ",
        "colab_type": "code",
        "outputId": "0f2f5007-bdda-403c-872e-8e2d3e13a88d",
        "colab": {
          "base_uri": "https://localhost:8080/",
          "height": 34
        }
      },
      "source": [
        "import tensorflow as tf\n",
        "import sys\n",
        "sys.path.append(\"../..\")\n",
        "from keras_utils import reset_tf_session\n",
        "s = reset_tf_session()\n",
        "print(\"We're using TF\", tf.__version__)"
      ],
      "execution_count": 4,
      "outputs": [
        {
          "output_type": "stream",
          "text": [
            "We're using TF 1.15.2\n"
          ],
          "name": "stdout"
        }
      ]
    },
    {
      "cell_type": "markdown",
      "metadata": {
        "id": "L46LTJ7RFOsM",
        "colab_type": "text"
      },
      "source": [
        "# Warming up\n",
        "For starters, let's implement a python function that computes the sum of squares of numbers from 0 to N-1."
      ]
    },
    {
      "cell_type": "code",
      "metadata": {
        "id": "l9v4pQ2CFOsM",
        "colab_type": "code",
        "colab": {}
      },
      "source": [
        "import numpy as np\n",
        "\n",
        "def sum_python(N):\n",
        "    return np.sum(np.arange(N)**2)"
      ],
      "execution_count": 0,
      "outputs": []
    },
    {
      "cell_type": "code",
      "metadata": {
        "id": "SqZZ6Ey5FOsP",
        "colab_type": "code",
        "outputId": "fce30f7d-f94a-4807-fa87-1269787300b9",
        "colab": {
          "base_uri": "https://localhost:8080/",
          "height": 67
        }
      },
      "source": [
        "%%time\n",
        "sum_python(10**5)"
      ],
      "execution_count": 6,
      "outputs": [
        {
          "output_type": "stream",
          "text": [
            "CPU times: user 1.94 ms, sys: 267 µs, total: 2.21 ms\n",
            "Wall time: 8.97 ms\n"
          ],
          "name": "stdout"
        },
        {
          "output_type": "execute_result",
          "data": {
            "text/plain": [
              "333328333350000"
            ]
          },
          "metadata": {
            "tags": []
          },
          "execution_count": 6
        }
      ]
    },
    {
      "cell_type": "markdown",
      "metadata": {
        "id": "KdtSKITzFOsS",
        "colab_type": "text"
      },
      "source": [
        "# Tensorflow teaser\n",
        "\n",
        "Doing the very same thing"
      ]
    },
    {
      "cell_type": "code",
      "metadata": {
        "id": "wDJkhefpFOsS",
        "colab_type": "code",
        "colab": {}
      },
      "source": [
        "# An integer parameter\n",
        "N = tf.placeholder('int64', name=\"input_to_your_function\")\n",
        "\n",
        "# A recipe on how to produce the same result\n",
        "result = tf.reduce_sum(tf.range(N)**2)"
      ],
      "execution_count": 0,
      "outputs": []
    },
    {
      "cell_type": "code",
      "metadata": {
        "id": "cgVwEqPdFOsU",
        "colab_type": "code",
        "outputId": "160b1c1c-e0b8-4c35-a38b-4ee51de6e1d8",
        "colab": {
          "base_uri": "https://localhost:8080/",
          "height": 34
        }
      },
      "source": [
        "# just a graph definition\n",
        "result"
      ],
      "execution_count": 8,
      "outputs": [
        {
          "output_type": "execute_result",
          "data": {
            "text/plain": [
              "<tf.Tensor 'Sum:0' shape=() dtype=int64>"
            ]
          },
          "metadata": {
            "tags": []
          },
          "execution_count": 8
        }
      ]
    },
    {
      "cell_type": "code",
      "metadata": {
        "id": "hpJhDPWcFOsY",
        "colab_type": "code",
        "outputId": "f822388a-68d7-4024-ea0b-bf115834e02b",
        "colab": {
          "base_uri": "https://localhost:8080/",
          "height": 67
        }
      },
      "source": [
        "%%time\n",
        "# actually executing\n",
        "result.eval(feed_dict= {N: 10**5})"
      ],
      "execution_count": 9,
      "outputs": [
        {
          "output_type": "stream",
          "text": [
            "CPU times: user 7.79 ms, sys: 591 µs, total: 8.38 ms\n",
            "Wall time: 76.6 ms\n"
          ],
          "name": "stdout"
        },
        {
          "output_type": "execute_result",
          "data": {
            "text/plain": [
              "333328333350000"
            ]
          },
          "metadata": {
            "tags": []
          },
          "execution_count": 9
        }
      ]
    },
    {
      "cell_type": "code",
      "metadata": {
        "id": "3wu4eyIgFOse",
        "colab_type": "code",
        "colab": {}
      },
      "source": [
        "# logger for tensorboard\n",
        "writer = tf.summary.FileWriter(\"tensorboard_logs\", graph=s.graph)"
      ],
      "execution_count": 0,
      "outputs": []
    },
    {
      "cell_type": "markdown",
      "metadata": {
        "id": "CZ9ROqC1FOsi",
        "colab_type": "text"
      },
      "source": [
        "# How does it work?\n",
        "1. Define placeholders where you'll send inputs\n",
        "2. Make a symbolic graph: a recipe for mathematical transformation of those placeholders\n",
        "3. Compute outputs of your graph with particular values for each placeholder\n",
        "  * `output.eval({placeholder: value})`\n",
        "  * `s.run(output, {placeholder: value})`\n",
        "\n",
        "So far there are two main entities: \"placeholder\" and \"transformation\" (operation output)\n",
        "* Both can be numbers, vectors, matrices, tensors, etc.\n",
        "* Both can be int32/64, floats, booleans (uint8) of various size.\n",
        "\n",
        "* You can define new transformations as an arbitrary operation on placeholders and other transformations\n",
        " * `tf.reduce_sum(tf.arange(N)**2)` are 3 sequential transformations of placeholder `N`\n",
        " * There's a tensorflow symbolic version for every numpy function\n",
        "   * `a+b, a/b, a**b, ...` behave just like in numpy\n",
        "   * `np.mean` -> `tf.reduce_mean`\n",
        "   * `np.arange` -> `tf.range`\n",
        "   * `np.cumsum` -> `tf.cumsum`\n",
        "   * If you can't find the operation you need, see the [docs](https://www.tensorflow.org/versions/r1.3/api_docs/python).\n",
        "   \n",
        "`tf.contrib` has many high-level features, may be worth a look."
      ]
    },
    {
      "cell_type": "code",
      "metadata": {
        "id": "R--nG1AnFOsi",
        "colab_type": "code",
        "colab": {}
      },
      "source": [
        "with tf.name_scope(\"Placeholders_examples\"):\n",
        "    # Default placeholder that can be arbitrary float32\n",
        "    # scalar, vertor, matrix, etc.\n",
        "    arbitrary_input = tf.placeholder('float32')\n",
        "\n",
        "    # Input vector of arbitrary length\n",
        "    input_vector = tf.placeholder('float32', shape=(None,))\n",
        "\n",
        "    # Input vector that _must_ have 10 elements and integer type\n",
        "    fixed_vector = tf.placeholder('int32', shape=(10,))\n",
        "\n",
        "    # Matrix of arbitrary n_rows and 15 columns\n",
        "    # (e.g. a minibatch of your data table)\n",
        "    input_matrix = tf.placeholder('float32', shape=(None, 15))\n",
        "    \n",
        "    # You can generally use None whenever you don't need a specific shape\n",
        "    input1 = tf.placeholder('float64', shape=(None, 100, None))\n",
        "    input2 = tf.placeholder('int32', shape=(None, None, 3, 224, 224))\n",
        "\n",
        "    # elementwise multiplication\n",
        "    double_the_vector = input_vector*2\n",
        "\n",
        "    # elementwise cosine\n",
        "    elementwise_cosine = tf.cos(input_vector)\n",
        "\n",
        "    # difference between squared vector and vector itself plus one\n",
        "    vector_squares = input_vector**2 - input_vector + 1"
      ],
      "execution_count": 0,
      "outputs": []
    },
    {
      "cell_type": "code",
      "metadata": {
        "id": "UFKro0FGFOsm",
        "colab_type": "code",
        "colab": {}
      },
      "source": [
        "my_vector =  tf.placeholder('float32', shape=(None,), name=\"VECTOR_1\")\n",
        "my_vector2 = tf.placeholder('float32', shape=(None,))\n",
        "my_transformation = my_vector * my_vector2 / (tf.sin(my_vector) + 1)"
      ],
      "execution_count": 0,
      "outputs": []
    },
    {
      "cell_type": "code",
      "metadata": {
        "id": "iNJ-Fqa_FOs4",
        "colab_type": "code",
        "outputId": "bbfa91fb-6f56-4974-b6cf-06e500f1e1c7",
        "colab": {
          "base_uri": "https://localhost:8080/",
          "height": 34
        }
      },
      "source": [
        "print(my_transformation)"
      ],
      "execution_count": 13,
      "outputs": [
        {
          "output_type": "stream",
          "text": [
            "Tensor(\"truediv:0\", shape=(?,), dtype=float32)\n"
          ],
          "name": "stdout"
        }
      ]
    },
    {
      "cell_type": "code",
      "metadata": {
        "id": "8u17Xy5pFOs6",
        "colab_type": "code",
        "outputId": "ace80d90-bad5-48da-aeb8-e4fd062a1b19",
        "colab": {
          "base_uri": "https://localhost:8080/",
          "height": 67
        }
      },
      "source": [
        "dummy = np.arange(5).astype('float32')\n",
        "print(dummy)\n",
        "my_transformation.eval({my_vector: dummy, my_vector2: dummy[::-1]})"
      ],
      "execution_count": 14,
      "outputs": [
        {
          "output_type": "stream",
          "text": [
            "[0. 1. 2. 3. 4.]\n"
          ],
          "name": "stdout"
        },
        {
          "output_type": "execute_result",
          "data": {
            "text/plain": [
              "array([0.       , 1.6291324, 2.0950115, 2.6289961, 0.       ],\n",
              "      dtype=float32)"
            ]
          },
          "metadata": {
            "tags": []
          },
          "execution_count": 14
        }
      ]
    },
    {
      "cell_type": "code",
      "metadata": {
        "id": "BudIPRYSFOs8",
        "colab_type": "code",
        "colab": {}
      },
      "source": [
        "writer.add_graph(my_transformation.graph)\n",
        "writer.flush()"
      ],
      "execution_count": 0,
      "outputs": []
    },
    {
      "cell_type": "markdown",
      "metadata": {
        "id": "122EtYFUFOs-",
        "colab_type": "text"
      },
      "source": [
        "TensorBoard allows writing scalars, images, audio, histogram. You can read more on tensorboard usage [here](https://www.tensorflow.org/get_started/graph_viz)."
      ]
    },
    {
      "cell_type": "markdown",
      "metadata": {
        "id": "0U1EVj6tFOs-",
        "colab_type": "text"
      },
      "source": [
        "# Summary\n",
        "* Tensorflow is based on computation graphs\n",
        "* A graph consists of placeholders and transformations"
      ]
    },
    {
      "cell_type": "markdown",
      "metadata": {
        "id": "ix5ZaXCBFOtA",
        "colab_type": "text"
      },
      "source": [
        "# Loss function: Mean Squared Error\n",
        "\n",
        "Loss function must be a part of the graph as well, so that we can do backpropagation."
      ]
    },
    {
      "cell_type": "code",
      "metadata": {
        "id": "Tib1tAYjFOtA",
        "colab_type": "code",
        "colab": {}
      },
      "source": [
        "with tf.name_scope(\"MSE\"):\n",
        "    y_true = tf.placeholder(\"float32\", shape=(None,), name=\"y_true\")\n",
        "    y_predicted = tf.placeholder(\"float32\", shape=(None,), name=\"y_predicted\")\n",
        "    # Implement MSE(y_true, y_predicted), use tf.reduce_mean(...)\n",
        "    mse = tf.reduce_mean((y_true - y_predicted) ** 2)\n",
        "\n",
        "def compute_mse(vector1, vector2):\n",
        "    return mse.eval({y_true: vector1, y_predicted: vector2})"
      ],
      "execution_count": 0,
      "outputs": []
    },
    {
      "cell_type": "code",
      "metadata": {
        "id": "rEkctYrLFOtC",
        "colab_type": "code",
        "colab": {}
      },
      "source": [
        "writer.add_graph(mse.graph)\n",
        "writer.flush()"
      ],
      "execution_count": 0,
      "outputs": []
    },
    {
      "cell_type": "code",
      "metadata": {
        "id": "P8W5ApYYFOtF",
        "colab_type": "code",
        "colab": {}
      },
      "source": [
        "# Rigorous local testing of MSE implementation\n",
        "import sklearn.metrics\n",
        "for n in [1, 5, 10, 10**3]:\n",
        "    elems = [np.arange(n), np.arange(n, 0, -1), np.zeros(n),\n",
        "             np.ones(n), np.random.random(n), np.random.randint(100, size=n)]\n",
        "    for el in elems:\n",
        "        for el_2 in elems:\n",
        "            true_mse = np.array(sklearn.metrics.mean_squared_error(el, el_2))\n",
        "            my_mse = compute_mse(el, el_2)\n",
        "            if not np.allclose(true_mse, my_mse):\n",
        "                print('mse(%s,%s)' % (el, el_2))\n",
        "                print(\"should be: %f, but your function returned %f\" % (true_mse, my_mse))\n",
        "                raise ValueError('Wrong result')"
      ],
      "execution_count": 0,
      "outputs": []
    },
    {
      "cell_type": "markdown",
      "metadata": {
        "id": "R79wDsHcFOtI",
        "colab_type": "text"
      },
      "source": [
        "# Variables\n",
        "\n",
        "Placeholder and transformation values are not stored in the graph once the execution is finished. This isn't too comfortable if you want your model to have parameters (e.g. network weights) that are always present, but can change their value over time.\n",
        "\n",
        "Tensorflow solves this with `tf.Variable` objects.\n",
        "* You can assign variable a value at any time in your graph\n",
        "* Unlike placeholders, there's no need to explicitly pass values to variables when `s.run(...)`-ing\n",
        "* You can use variables the same way you use transformations \n",
        " "
      ]
    },
    {
      "cell_type": "code",
      "metadata": {
        "id": "DVfokz4FFOtI",
        "colab_type": "code",
        "colab": {}
      },
      "source": [
        "# Creating a shared variable\n",
        "shared_vector_1 = tf.Variable(initial_value=np.ones(5),\n",
        "                              name=\"example_variable\")"
      ],
      "execution_count": 0,
      "outputs": []
    },
    {
      "cell_type": "code",
      "metadata": {
        "id": "FDJvSU4WFOtK",
        "colab_type": "code",
        "outputId": "0856cb4d-25f3-433e-8dde-7e71172c9534",
        "colab": {
          "base_uri": "https://localhost:8080/",
          "height": 34
        }
      },
      "source": [
        "# Initialize variable(s) with initial values\n",
        "s.run(tf.global_variables_initializer())\n",
        "\n",
        "# Evaluating the shared variable\n",
        "print(\"Initial value\", s.run(shared_vector_1))"
      ],
      "execution_count": 24,
      "outputs": [
        {
          "output_type": "stream",
          "text": [
            "Initial value [1. 1. 1. 1. 1.]\n"
          ],
          "name": "stdout"
        }
      ]
    },
    {
      "cell_type": "code",
      "metadata": {
        "id": "6yetko4NFOtM",
        "colab_type": "code",
        "outputId": "3a24e151-982b-4061-8450-ae6d9b5af4f9",
        "colab": {
          "base_uri": "https://localhost:8080/",
          "height": 34
        }
      },
      "source": [
        "# Setting a new value\n",
        "s.run(shared_vector_1.assign(np.arange(5)))\n",
        "\n",
        "# Getting that new value\n",
        "print(\"New value\", s.run(shared_vector_1))"
      ],
      "execution_count": 25,
      "outputs": [
        {
          "output_type": "stream",
          "text": [
            "New value [0. 1. 2. 3. 4.]\n"
          ],
          "name": "stdout"
        }
      ]
    },
    {
      "cell_type": "markdown",
      "metadata": {
        "id": "_tb0VGrCFOtO",
        "colab_type": "text"
      },
      "source": [
        "# tf.gradients - why graphs matter\n",
        "* Tensorflow can compute derivatives and gradients automatically using the computation graph\n",
        "* True to its name it can manage matrix derivatives\n",
        "* Gradients are computed as a product of elementary derivatives via the chain rule:\n",
        "\n",
        "$$ {\\partial f(g(x)) \\over \\partial x} = {\\partial f(g(x)) \\over \\partial g(x)}\\cdot {\\partial g(x) \\over \\partial x} $$\n",
        "\n",
        "It can get you the derivative of any graph as long as it knows how to differentiate elementary operations"
      ]
    },
    {
      "cell_type": "code",
      "metadata": {
        "id": "a7OnJ2yEFOtO",
        "colab_type": "code",
        "outputId": "c954e432-4f40-4264-9a2a-8575ae6d10b2",
        "colab": {
          "base_uri": "https://localhost:8080/",
          "height": 87
        }
      },
      "source": [
        "my_scalar = tf.placeholder('float32')\n",
        "\n",
        "scalar_squared = my_scalar**2\n",
        "\n",
        "# A derivative of scalar_squared by my_scalar\n",
        "derivative = tf.gradients(scalar_squared, [my_scalar, ])"
      ],
      "execution_count": 26,
      "outputs": [
        {
          "output_type": "stream",
          "text": [
            "WARNING:tensorflow:From /tensorflow-1.15.2/python3.6/tensorflow_core/python/ops/math_grad.py:1375: where (from tensorflow.python.ops.array_ops) is deprecated and will be removed in a future version.\n",
            "Instructions for updating:\n",
            "Use tf.where in 2.0, which has the same broadcast rule as np.where\n"
          ],
          "name": "stdout"
        }
      ]
    },
    {
      "cell_type": "code",
      "metadata": {
        "id": "j33iVFSyFOtQ",
        "colab_type": "code",
        "outputId": "f8bf8b9c-3a8f-4540-a3fa-e487bb2f165b",
        "colab": {
          "base_uri": "https://localhost:8080/",
          "height": 34
        }
      },
      "source": [
        "derivative"
      ],
      "execution_count": 27,
      "outputs": [
        {
          "output_type": "execute_result",
          "data": {
            "text/plain": [
              "[<tf.Tensor 'gradients/pow_1_grad/Reshape:0' shape=<unknown> dtype=float32>]"
            ]
          },
          "metadata": {
            "tags": []
          },
          "execution_count": 27
        }
      ]
    },
    {
      "cell_type": "code",
      "metadata": {
        "id": "xAbRHGTIFOtS",
        "colab_type": "code",
        "outputId": "656df673-dffd-445d-b82c-08b88faaa72a",
        "colab": {
          "base_uri": "https://localhost:8080/",
          "height": 265
        }
      },
      "source": [
        "import matplotlib.pyplot as plt\n",
        "%matplotlib inline\n",
        "\n",
        "x = np.linspace(-3, 3)\n",
        "x_squared, x_squared_der = s.run([scalar_squared, derivative[0]],\n",
        "                                 {my_scalar:x})\n",
        "\n",
        "plt.plot(x, x_squared,label=\"$x^2$\")\n",
        "plt.plot(x, x_squared_der, label=r\"$\\frac{dx^2}{dx}$\")\n",
        "plt.legend();"
      ],
      "execution_count": 28,
      "outputs": [
        {
          "output_type": "display_data",
          "data": {
            "image/png": "[encoded data removed]",
            "text/plain": [
              "<Figure size 432x288 with 1 Axes>"
            ]
          },
          "metadata": {
            "tags": [],
            "needs_background": "light"
          }
        }
      ]
    },
    {
      "cell_type": "markdown",
      "metadata": {
        "id": "ehZUtUDHFOtT",
        "colab_type": "text"
      },
      "source": [
        "# Why that rocks"
      ]
    },
    {
      "cell_type": "code",
      "metadata": {
        "id": "qD9MybM5FOtU",
        "colab_type": "code",
        "colab": {}
      },
      "source": [
        "my_vector = tf.placeholder('float32', [None])\n",
        "# Compute the gradient of the next weird function over my_scalar and my_vector\n",
        "# Warning! Trying to understand the meaning of that function may result in permanent brain damage\n",
        "weird_psychotic_function = tf.reduce_mean(\n",
        "    (my_vector+my_scalar)**(1+tf.nn.moments(my_vector,[0])[1]) + \n",
        "    1./ tf.atan(my_scalar))/(my_scalar**2 + 1) + 0.01*tf.sin(\n",
        "    2*my_scalar**1.5)*(tf.reduce_sum(my_vector)* my_scalar**2\n",
        "                      )*tf.exp((my_scalar-4)**2)/(\n",
        "    1+tf.exp((my_scalar-4)**2))*(1.-(tf.exp(-(my_scalar-4)**2)\n",
        "                                    )/(1+tf.exp(-(my_scalar-4)**2)))**2\n",
        "\n",
        "der_by_scalar = tf.gradients(weird_psychotic_function, my_scalar)\n",
        "der_by_vector = tf.gradients(weird_psychotic_function, my_vector)"
      ],
      "execution_count": 0,
      "outputs": []
    },
    {
      "cell_type": "code",
      "metadata": {
        "id": "F1wfyPXyFOtX",
        "colab_type": "code",
        "colab": {
          "base_uri": "https://localhost:8080/",
          "height": 265
        },
        "outputId": "53e919c2-2b7a-4587-e2cd-6a76386ea1cb"
      },
      "source": [
        "# Plotting the derivative\n",
        "scalar_space = np.linspace(1, 7, 100)\n",
        "\n",
        "y = [s.run(weird_psychotic_function, {my_scalar:x, my_vector:[1, 2, 3]})\n",
        "     for x in scalar_space]\n",
        "\n",
        "plt.plot(scalar_space, y, label='function')\n",
        "\n",
        "y_der_by_scalar = [s.run(der_by_scalar,\n",
        "                         {my_scalar:x, my_vector:[1, 2, 3]})\n",
        "                   for x in scalar_space]\n",
        "\n",
        "plt.plot(scalar_space, y_der_by_scalar, label='derivative')\n",
        "plt.grid()\n",
        "plt.legend();"
      ],
      "execution_count": 30,
      "outputs": [
        {
          "output_type": "display_data",
          "data": {
            "image/png": "[encoded data removed]",
            "text/plain": [
              "<Figure size 432x288 with 1 Axes>"
            ]
          },
          "metadata": {
            "tags": [],
            "needs_background": "light"
          }
        }
      ]
    },
    {
      "cell_type": "markdown",
      "metadata": {
        "id": "LCYK874QFOtZ",
        "colab_type": "text"
      },
      "source": [
        "# Almost done - optimizers\n",
        "\n",
        "While you can perform gradient descent by hand with automatic gradients from above, tensorflow also has some optimization methods implemented for you. Recall momentum & rmsprop?"
      ]
    },
    {
      "cell_type": "code",
      "metadata": {
        "id": "q7awP_hzFOtZ",
        "colab_type": "code",
        "colab": {}
      },
      "source": [
        "y_guess = tf.Variable(np.zeros(2, dtype='float32'))\n",
        "y_true = tf.range(1, 3, dtype='float32')\n",
        "\n",
        "loss = tf.reduce_mean((y_guess - y_true + 0.5*tf.random_normal([2]))**2) \n",
        "\n",
        "step = tf.train.MomentumOptimizer(0.03, 0.5).minimize(loss, var_list=y_guess)"
      ],
      "execution_count": 0,
      "outputs": []
    },
    {
      "cell_type": "markdown",
      "metadata": {
        "id": "lKwkfu2cFOtb",
        "colab_type": "text"
      },
      "source": [
        "Let's draw a trajectory of a gradient descent in 2D"
      ]
    },
    {
      "cell_type": "code",
      "metadata": {
        "id": "B2R4_pjvFOtb",
        "colab_type": "code",
        "colab": {
          "base_uri": "https://localhost:8080/",
          "height": 269
        },
        "outputId": "10ff90a4-c491-416a-ffb9-7d82b6166f7f"
      },
      "source": [
        "from matplotlib import animation, rc\n",
        "import matplotlib_utils\n",
        "from IPython.display import HTML, display_html\n",
        "\n",
        "# nice figure settings\n",
        "fig, ax = plt.subplots()\n",
        "y_true_value = s.run(y_true)\n",
        "level_x = np.arange(0, 2, 0.02)\n",
        "level_y = np.arange(0, 3, 0.02)\n",
        "X, Y = np.meshgrid(level_x, level_y)\n",
        "Z = (X - y_true_value[0])**2 + (Y - y_true_value[1])**2\n",
        "ax.set_xlim(-0.02, 2)\n",
        "ax.set_ylim(-0.02, 3)\n",
        "s.run(tf.global_variables_initializer())\n",
        "ax.scatter(*s.run(y_true), c='red')\n",
        "contour = ax.contour(X, Y, Z, 10)\n",
        "ax.clabel(contour, inline=1, fontsize=10)\n",
        "line, = ax.plot([], [], lw=2)\n",
        "\n",
        "# start animation with empty trajectory\n",
        "def init():\n",
        "    line.set_data([], [])\n",
        "    return (line,)\n",
        "\n",
        "trajectory = [s.run(y_guess)]\n",
        "\n",
        "# one animation step (make one GD step)\n",
        "def animate(i):\n",
        "    s.run(step)\n",
        "    trajectory.append(s.run(y_guess))\n",
        "    line.set_data(*zip(*trajectory))\n",
        "    return (line,)\n",
        "\n",
        "anim = animation.FuncAnimation(fig, animate, init_func=init,\n",
        "                               frames=100, interval=20, blit=True)"
      ],
      "execution_count": 32,
      "outputs": [
        {
          "output_type": "display_data",
          "data": {
            "image/png": "[encoded data removed]",
            "text/plain": [
              "<Figure size 432x288 with 1 Axes>"
            ]
          },
          "metadata": {
            "tags": [],
            "needs_background": "light"
          }
        }
      ]
    },
    {
      "cell_type": "code",
      "metadata": {
        "id": "bF4D-Z3CFOte",
        "colab_type": "code",
        "colab": {
          "base_uri": "https://localhost:8080/",
          "height": 309
        },
        "outputId": "e645254c-c545-4102-d5ee-86933011c107"
      },
      "source": [
        "try:\n",
        "    display_html(HTML(anim.to_html5_video()))\n",
        "except (RuntimeError, KeyError):\n",
        "    # In case the build-in renderers are unaviable, fall back to\n",
        "    # a custom one, that doesn't require external libraries\n",
        "    anim.save(None, writer=matplotlib_utils.SimpleMovieWriter(0.001))"
      ],
      "execution_count": 33,
      "outputs": [
        {
          "output_type": "display_data",
          "data": {
            "text/html": [
              "<video width=\"432\" height=\"288\" controls autoplay loop>\n",
              "  <source type=\"video/mp4\" src=\"data:video/mp4;base64,AAAAHGZ0eXBNNFYgAAACAGlzb21pc28yYXZjMQAAAAhmcmVlAABMVW1kYXQAAAKuBgX//6rcRem9\n",
              "5tlIt5Ys2CDZI+7veDI2NCAtIGNvcmUgMTUyIHIyODU0IGU5YTU5MDMgLSBILjI2NC9NUEVHLTQg\n",
              "QVZDIGNvZGVjIC0gQ29weWxlZnQgMjAwMy0yMDE3IC0gaHR0cDovL3d3dy52aWRlb2xhbi5vcmcv\n",
              "eDI2NC5odG1sIC0gb3B0aW9uczogY2FiYWM9MSByZWY9MyBkZWJsb2NrPTE6MDowIGFuYWx5c2U9\n",
              "MHgzOjB4MTEzIG1lPWhleCBzdWJtZT03IHBzeT0xIHBzeV9yZD0xLjAwOjAuMDAgbWl4ZWRfcmVm\n",
              "PTEgbWVfcmFuZ2U9MTYgY2hyb21hX21lPTEgdHJlbGxpcz0xIDh4OGRjdD0xIGNxbT0wIGRlYWR6\n",
              "b25lPTIxLDExIGZhc3RfcHNraXA9MSBjaHJvbWFfcXBfb2Zmc2V0PS0yIHRocmVhZHM9MyBsb29r\n",
              "YWhlYWRfdGhyZWFkcz0xIHNsaWNlZF90aHJlYWRzPTAgbnI9MCBkZWNpbWF0ZT0xIGludGVybGFj\n",
              "ZWQ9MCBibHVyYXlfY29tcGF0PTAgY29uc3RyYWluZWRfaW50cmE9MCBiZnJhbWVzPTMgYl9weXJh\n",
              "bWlkPTIgYl9hZGFwdD0xIGJfYmlhcz0wIGRpcmVjdD0xIHdlaWdodGI9MSBvcGVuX2dvcD0wIHdl\n",
              "aWdodHA9MiBrZXlpbnQ9MjUwIGtleWludF9taW49MjUgc2NlbmVjdXQ9NDAgaW50cmFfcmVmcmVz\n",
              "aD0wIHJjX2xvb2thaGVhZD00MCByYz1jcmYgbWJ0cmVlPTEgY3JmPTIzLjAgcWNvbXA9MC42MCBx\n",
              "cG1pbj0wIHFwbWF4PTY5IHFwc3RlcD00IGlwX3JhdGlvPTEuNDAgYXE9MToxLjAwAIAAADJZZYiE\n",
              "ACv//vZzfAprRzOVLgV292aj5dCS5fsQYPrQAAADAAGq1jzipe3VQKREMzn+ud2GzbOJ43BPcMYj\n",
              "i93Y+Em0ioSb+61aEWEM7dcbRaivTOm4o+VA8ddAAAAFKlUSisUnKcUIhincww6T5PkKpaK19RDU\n",
              "XBPH/pmpmIqHtCYyZf8TZNeLqtLPBRS0zroJvm/0WhHZqHT4sVJ1A0QYyaRH3tm9j8pH6isGYwLm\n",
              "p80b8MFL5upDVMndNVIe0lPtZtq21Dpj84mws4mZKNEZVvfHjNmlvtN2GMNO5l4ylcOc33zCq1wk\n",
              "LPnp9m84I6D4NP3kYl7Qq59cuOH75TPx64OS7N4Z0DPeUwuOKqaVoPrXKk4mlhXQrU6jhfvC6QjJ\n",
              "cQhID7TroGsiNeMxdj8GZGCcPPTtxLa0QEWdQjVZEBd4+mMYwV/aOk2fsfT57cp18uVynvzjd/Eh\n",
              "E81ZKCMtDSiVmpEUsM143oeaGZxPgU5d+UImDim3Kf9X6RiArcbric5Rhm+DjNnncfDklslLzSH4\n",
              "o5ikhdkEjH491aNhpc96SiUcMErPRih5z+TUfhvZSoCJFl+5eJCYjlJ4Gru7LQf7d3M4lHcjjcZP\n",
              "magiNyPja5G+MwpcF5+QwdE1XnMUcOLtFxgWuJbuPlXjjh/48o6kKsls5by4V8xeDWf6a89zSK0n\n",
              "YT4qUZhw1ppSO/Z0rdcf+Pj5fvJI1Qx3b72qFnH9ANCQ5JgTOxcCgR69zhsBlnSI2YRrVse2RzDa\n",
              "l/6haZgQ/xOer8hyagGeoS0bi0VvDqowymUbMOPCCvxix0OL5k7hcmsAC719jERyfWPDRNoT9O8n\n",
              "aOIlZgEa/OxPHBuhUE42xwOtgcvL9K0bS7ZYaJZQpjahyfmQebROPBosX3BT9HoXzh5PXxi4RSYa\n",
              "eULslQ0xUiFosCTf7PTz+OsQvxfdw07zXLcNeMKcBndgDTwL9g18xAO2HOQAx1masSRDxDKmy5pS\n",
              "sJ+n4bh/JYP0wDXIyHEllcwCbWURd2bX72uBCmxeCesN6gnY7guDnjjIP3uWlOv7m2bw8Ki5Kv8F\n",
              "5RpcuVMZ6SDyLifPQLfZ55p2IDQ8uKG784jOXJtX2TFq8KoCNe0fFHs3NAXy2pAYFAsRVES3r+9E\n",
              "li/FJts1BjJWjKhIuMDQLhYUqHvkNHsGQme4OYRtRpaBZ/65VOKA1xT/nsM1tiVzohcqSOX1xAj6\n",
              "H3IioGANND8iJhOeRo14AtWToMwba3NJx/fEOOmnuDS/+NdbNNp9cEpE/cAFv1kGfFI9Ks8h/JCj\n",
              "ACt8XgilW746gKUuwGu/FP7LDd8MWPRCE4ZLlL2UxUGhiH+pENg5a5cSU2HBWBcG4fdtChPWJ/t1\n",
              "EpJ1uRTtwtl4B97je+rMB17BLtOeoB6dw/w5JPE0Ws5vnyQKea+9zulmlJaH1VkhM1f2GhpMPARH\n",
              "wP5vuYr29tjwh0TVOfbvMVqS6fw/u42xo72aH44SdKG/g1jA4oM0U6GzA2dLe0ZlDpGmuOohUJx6\n",
              "wKKw145oFHNCpo91ppZuqeJc6O1GQmi4vEdCEkwYaUYVHFcCiNCgQXoMFtYbstAzRFCGAC1HZ26W\n",
              "DkgbtyX4s+9cgZ/enqy7kLThWDt3iFeIWXnD9+xtHyv6HA/75ppz90N06CZj7iQVhMZadvf+ld6L\n",
              "G11/m5K7kRuZ+ASZPkCy9HjLllQzUWfc9OVL2drPjcv8GImaWtOiwfpfiXuu1Tiv5tlfEcv2nwQb\n",
              "SAHRj4wA11VXWH5YDAz6yzNwqHBCJKoICaZnyar6YWMCMarIWcvAs8JUjxYgxqLKHspzv+wGkFSF\n",
              "v5XknccajRuo9O3W2KYrAtgEkixAaJfhgMS9ejXTRjUWAi8wlTO+YYwYKUguBcWJmMrBUfkso1RC\n",
              "MOU/vOZLCKv9uGwGICCReGZVXsquxLJUxU8IoQf09p22BKhCavpKoYkqeGsYcgEFkySctImDVN+7\n",
              "grSUCoJ9hElTBKsczs/eTJkTZtyaMOL+hQ9j45IqsmhraEKuu4XKWaxjPGwND1KH9FTZ349iaOEF\n",
              "PANd8Sr1jP+lbCgwklDrQD7ALbimDCLE4oQuYDTdwS3PR3VEoLAppCpIToCNlUD30n0IFG/KVhXE\n",
              "Wqex9dq/NVcWyHUeboYhXKzmmsH5OGHbSlbsQ4kiP0g9emSC16wtp7oGf6WrKiuxnejMhYb8zX//\n",
              "2Vg4f4Gs4c853bupeaM3olVDs7gTaC/SsgADTESUSpNo+0WSVbTHPW4HTp/J8k+evURVoFl3zLXT\n",
              "51JtcyISTYH9QJAZvYUaNlWUWV4l2WS3lXEUFmMtp2lpe2Jr1WOJKyY17yv0cBoYA6s9g+577m+g\n",
              "BbUHlMXRgdnnJny0sd3+wWDJ1X6vtkMQ1m41yyg45LlYNsF317AWo5mt0OPmInU2DPyxJMPF7EWc\n",
              "9RufIR5ds2yLtlVKIVyhbw9mKpxmSaCBv6dH7eulB4l7pFpD8lKATuKjifAAg0YClJv4xy52cC0o\n",
              "A2Q1ccgOdmkfx0m2qGfz1sHgefWy3HF04G1CwXsQEMkOezweiWGDoOjPMPngL/kqpi3BLWOiNUa1\n",
              "nIwFvT+MKFB7ahHF/zNOnek1dVkD+UScIFVyXw1AQ2S2BitOKS268OE6L006ozpcqVE1E738qPzK\n",
              "Sr9l8FkE2qxzG5RiIo2nfyxwIaOBq7kY0MGlr8j1TR4jRVVdY6+00mqSJ5arhgnuF55AVxoY1H+r\n",
              "CNAyuo5LOFoXmAOkaGDIWalxGL1Vz0Cvs1OwXeufRRkc3J/PivlpFKpNb6CnJnYx/4xkAbDvIzVr\n",
              "RH+Dy7LKiLXGkgSsB/8i7Qjj0C3227hhKRbv8qmx6/g59OFBbyAkJg1MgOZrQBv44N8EgTGsPUWH\n",
              "Q2V2eUr9wYwgHPlpxTtldfoyub0w/MEjfLg3Cw83YH2Rrs4zuS0TFxbF9u+Fz1FhqegSjo4OsGYN\n",
              "UMbYmnLWP72NDYhKPfETV9dpmQKJDo0WSFY+q/DUoDiVUfxKiARegrBEwzDFilzxIrwaB3cjRIui\n",
              "vbuanE5q4NnRpbPuDjI6V0AG2Md880Eh/O7VemuPOVktpICBI8kSZJkYcHqnbg/iLICSff+s/dYd\n",
              "Gb/pE2UDYjkl/lzW2ppZ03gotVzCCIlN0Go2lCEZ34yjY1En9LpWobG5L1X8S83RoSokjhrEUikO\n",
              "YqrdVSkVXEkTNjIvS4nVPbfYc58Gxa7BZQ4xx646IAT+Tzevi1bSNRPv6L2r824wcq46ikro7Tk0\n",
              "gnhd37DzLxSIvrj6gFn/2fFmD62cT52CYo0UIa+46HkKc8IW1qgXxnR1qqYprJ7esNSZdPrwZDYI\n",
              "9F3sRbJlz4c+0+Ci8uUG2wtbGmZPeMMCjiZkbz5UHleGhfLHxNd2yhDbhH2k+zGu/wcU9IP2w0hZ\n",
              "dtq9+3oj3s1sBOta4HeRXW45vtjXY+ANbULRWMrFXwMUQH/+0Pr/v+OIjuACAU+h83IcF2UqzIFw\n",
              "ml+snmlu9uQPHHlN9F9+VwTFsFN67qu5P9Yb/aM/g4GVwi+x9OE3Qla24TO79LElHEkAoF55QOnV\n",
              "EAJ44w/UQ4Pq2mNUVMzOtD+JCdUOKHhPYp1NeuBziHFUrsFdPTtdnSMr4CnyrOrNs1wI/l+x5fdV\n",
              "7dp3+6668X6JVFwVAwvwL82vEg6q99qG5Ygc3n8T2lNEUaRQnVht8CldRPw82f2qU3Qng22JKZ8W\n",
              "3ubQXWyuZSSgn9Sz4uWQDzoMwO1spHudQqKHzPBUDiSh9X+XO+flvtOzVmanR+uiSbSBYyJJ4Tli\n",
              "SszT4Yb/V08Mgcs4LSv85Immttofcrz+WSVSPcGXW75AqMRTxb8XRpNo95y15jOHfLVJynFf8UU+\n",
              "NMhenhHy+zRsTK9jTTuEPVDa5rjvs2LBPuDqMoa/RMXUDlm+HXuDSROvhvdLCf6gU1ybA3RtJFeD\n",
              "sutHgMiaihLC1Zl7/8MOT9qELRfGHzpzOHpGLduRYlce9ksprmu1+X7o2N/prjFmQCecFjIqQK5b\n",
              "2cPAOZvGhAMtQ7HEeUvMHkIRZnrGA863aPNKbscgrOU3CZDKOYEXX+dSAY+l24rerwh3UiNFPoqW\n",
              "Q8fZtCJ5jofC29Igg+QHtLD3nap0/3rG5USV9ujGosP+mEtvy9ZtOgsomC+3Jx8BGlEY8H/5zYiJ\n",
              "w5DjL5igKjH6nJYqlRzoAiwRrrMJw8gELZnf1mLbobP+cmSSXmhklIHyXkgFTr+X/jU1arksImvS\n",
              "MRDxb3exCJAa+dUkeuJP//6hB6nSb/ALYVA6AAN3ejN9ZxkmifqCmakaCg3uqFyhM1T0K5bBgddj\n",
              "Ey5vO1HiFwuFcv01RPxx7J0gphw1s8vv7n/kKSuzkj2vk4cW+LT9DgK/9oUAO1IsXzlz+faEczFq\n",
              "qQPaiH3aRzjCo18YbcalUpi7pDI+QeUvSW+7d82Fn55nRvhdA7CwZMpVLfXh3Mt/ptVgE3jY+APK\n",
              "eiTtvswGdM9SlC0ZMIIi0bQ6k+eB2VTygt+SU7giJi+Y4tANqxbvbgnHJkqDuH7WepvF7VsJJekF\n",
              "BhxISN+orxYjpBGs+zS+flOuAy/8omY8K1TAZrFJ2Q4bTYdi8lVcMdmXQJbKiu+corv+ZQR6V5Zf\n",
              "2vcAUVSAgisCqmdMhiKsoP8yn0xGtrlhjznOBSt4VMbjvopvnQS7TLgpY9KZH7YoKILT/07sffJs\n",
              "kAir6Vr1rZl97dhQi1tVmNrsm5WaqiJRDydxfs6a5vmxMFjRMmMiUE8O6MMwrs9yv/bXgKwKOUBS\n",
              "0qbxZlHSimqe11vaW0JzQjfKbsz9ouhRDqTff0GbomHfB4H9+/0i6QcxfFQtDWflli/Ya/omuvkK\n",
              "VhIOaSlgqKaGM992OcoOLFuavrx3CEKxRIcZspwKx8KXBmHc8U1bZAVEKPXQn04RSqUPdnz4BVx5\n",
              "XdJyg1uReAmr37B/Ho/vMrhIC5VESeppdOqqsxieYqluDB3YGdS0xC8dxvMt+c9XdzFAA2Kz8URm\n",
              "o+PHzjUPp3n44NmUZ9MJ4Lzsmu4Vj1WTRokmla/MdZZwTzNOw+RtgwVh+J6RSKrW9lwzbDpRAWAn\n",
              "tgAOkIhpsk4FIOkJG900bufsxW6P5Gqf+njUoCfzl5xfSBj1djqn80eK1gj7HEddT4PI8/vn/kXI\n",
              "M0UKLbiCZ54uhTTo47RZ9pm3035YKnu/QilgsCR3WRqw/uG1LCIAMLf7Y/D4PdolTJ069sPf1e9G\n",
              "F+GQQmCwlWps29xj9tyAQprffHp3PC2eRXHRN45duy+5NQF4TGYKXefmk6zxekw2vYh+/TwGOgDp\n",
              "QsihNHwe+CD6D/WmUj/c6ZccTgE0VjwEBDhiYv+/1c3z5tVzfUEB8TTz+7Bpgn7teRtEbpm3GIwC\n",
              "kwAG73b1mlPcR0e48+HMrZzjrF3KLkdFF3xmlDfJfzr7zajXB58VkSNDteyEEZQOxh85HYcSDc8m\n",
              "lWqoz7iAaJftXPtrLzjYoULH/jW4VRhCX/D4yDrTQC1x9qKfqxZ85elhna/RkpmWPhDHE+KBxRZb\n",
              "8xvnB13gamD+37C0sWGYurrOD669SR6ei5UoR0FyzCYVCmSS70V9Mil1AkAQzeDEcypcJwEM7XIE\n",
              "hvSL5+jDOCWR8FMW6iOmRiAxpArgXrnbnWM/Hm6dzKnfO69cqFTKXLJmLWKCseLFIyPnOp9AvhQM\n",
              "D09jR8zNs4MP/M/Llb4vdgPZNSLWjK2ySA+5oC3sNd3ry9SwRUs6ixhEbEhYNTNAyuLaFXN1+nEu\n",
              "m8GWGLw++MyPLZvmzKnTjHhg39+Oysz8m8Eumb7UPiKqxpA4P9sOdPn6uMoVVhUeKQ+wM1mabGt8\n",
              "w34vlDPUCN3GqIbCi2NFlEdDj1kThqWp8dPEtpITevbcc1z+Yj1yTU/FkVFZEE181qdcTlRqxhVz\n",
              "AKp2T4Thb/cG9cZ3sxL8/RHV5xtfOxZa2cICF7IAIGyy3EagaQVxshRI+lli4ZwLYu+/sFoGSx9f\n",
              "AhMlh+Q1AnQNOa6cDoSE8ITTcsDxcPNlkcxVfoDXIp3U0oBsWcCeHE94O1IktEH/IRXBHJaV1rEw\n",
              "zfqhVdr2SV+GS/eZbNcixGo/CqFbYpd98OmK3n156PivfzQdvKr0PmOhYfdIzPbUv3T9tthTQEis\n",
              "BNEL7CYisDiDWfB0wVTk3pYuDbg7zbI0RFWLagr+JrrIwjHxccnLk5uFf6luvkMG/WGz8hWMHlgd\n",
              "YbRfIAmwtEMu1zRn+OnFY9LjM7l7bQ6kb3sHn7JyRq9Bx6Js8v2z2cWRaNIrZznLf/cHbeM1ML3a\n",
              "nmtw4pkpVtbrs+t7QSeOXUA1yT+CPamRGNJTrV2cJP0lv6OaBlZyuSWZtMXex+MOsxyrFBk9OjdH\n",
              "EUf2J4+J1LSh7+r1H6Kv5ApMLO2vXQ8J7vZehUPE0o9EOs2QFHhLupftdAzEbLiruKKBEAyBeYjK\n",
              "roel34eLwpp8Nv7We1DV/Lji/7/21yeCp2/WuPGc34s/o7ZIeIa+pN3R7tWHyL23z4n2enQzbxSZ\n",
              "KQKT1ub+zz6x3aqNMOFUgQhgG2p8h+ELI3yt4Z6OB54IRGCvYjt5w/oMs+eTglhXY0QKcEw8wf0d\n",
              "N6Dfx9LnXtn8QyqfyFd6lBI7Ptx5nHdOJ0kEs35e7g+C8zCQEAaoJu72ErbrWdMK5KdfB+St8hPN\n",
              "vajCHFZmCEc81oCVDOw6oOm/V3xwDHN4KehUtZDKm7MiJy+qE3CWDogTkrRAJWUqOuvqwPRi7A8o\n",
              "uytD6E10T+1Q+oCDuov+0c2UPeNpXWsiua8AHL0hfyZfi65B5pTCxJom/7tw/j/dWewflFNZc4/P\n",
              "AfPxQFsEyVcn7IuNsN9iYNrTnEXNz0R54fCnOne2omU81V/CjUtBt3cE7aJx7xRtWhx+kxbud3+9\n",
              "oyfSZHakUBSWVtclb2+zov7rFQMtRh5/ikrebXeALkXnuHvz37abVuvUYsTQaQx0oGUlCUU93/5G\n",
              "o+m4s85ClGcsYX0oVmS8Kmjky3BrHUHGN3wnMBQ8iHYCKaTtOmlPCbJp8tmpaU2rDAa+HfA2ZeH+\n",
              "UsD7iJqJruimJ4alZSZ+98h4otxBdLOpzJNhl1ioCiUN1otGlJsA1+r8kyvFtdDAzeAtfyTD0hAg\n",
              "oWsP6uvSGJayMs9j8R29h9RtLEM8dqhKaV9JhkVzL/vyzvhGR7FQvUTyeBn6Rd8rdeiLs+HgpT+B\n",
              "mENPjBvmXbrnpve1wfR0g1dpKycwhv0RCQPQPapac6gvDjUNubhultfhamD30Xe9+rF/YZeJDYpo\n",
              "BmVMQvsqu1/iRdvWn/BLYSR+UYxAgERA5qKqalurxeDcHVEpboI+hpNAatIapbtL3x+Qx3EyoN2/\n",
              "8lk2UJDs3YlWyNfx+dOvPfwhbnFC6E7xcasGutkrO+9owzylIJXNTzeLfuO4siy7uBFdkWMjBAAN\n",
              "upKHctVH+DurXGhw1bmMgQNNeq+onvDuR8YcGdUyfwK6z3DQ6DiIOGE20bUxZCpQho5S3TgqpJdo\n",
              "a9F4rN6m3NClrN+JM7AuDFmAQ8Oorn68BEUVLSd4Ojscy12vsRXPrkgK55NZoOXWa1OtQF4sJeH9\n",
              "BHsRj8giyr8RsKTRwZMC+ea758vu8+Baj9UercVKtSNsP7UucXECe++3LPzN8CKT8uxFYmzQq8B9\n",
              "wgjLmv1rtzFsDA35TrkfV311fGYVAVrkjPOHtXkOBAcDfFhV/vEDuhv0tZi4U2JJYhNmAlnKPDfh\n",
              "AY5f3ZpfF2WieT7hEtJA9kUnNshmgXaDBABnplYWkOsTa7dd/0Qtbp1jGggbbukjKKv4vH8BTNMI\n",
              "F818fobN4/0gP4P0Txil6njVFnqe6OjHAvbL1/o1AfYqWN7rK1YRcY9EK4MS03QrPgPwDQl35yPy\n",
              "u5W0+03AdjydaV4+1X863cBc+kaIGw9dtdKUgsL2lh8ONZe0baGVeLsSem+yarj2gsRadop868tC\n",
              "6WqR3p4bnEktks++PAmL9efUvVAsoonyzhiSrYz8ZoAVpco35RDRbHh/AAwe0xFtWNx3Br9I/NyY\n",
              "LAe78WE9xWHYRia/86tk5RkLdbUYxLHKHJGaI7go/aGZsRJ3HdS7kleHyQ3f8L/FT5VAtrGlGkgw\n",
              "6TDlawBhdHkO7v9CW692uR2cgmTffxAW2UBvt325zEoC/qjbIo7gp1/rvdyfA6WrF6O16UHKogyH\n",
              "tR2W0LgDQ26UYjqfWzAWDcP0ioA4g2qXEuAVVITU08/FLFfE38zJA0DwrKidiE7VY4S6THoJLK4i\n",
              "GKVOb6uro6OQ5/TqH+4GQB40nvef2FuGCr6vHtFR/KyS78JvcFsOeHhcZzYZSwNeqaVpRQRDRXPb\n",
              "vglcB/zn2NjhKDBjiCxzXDKZ5AaEsT3jjehe+BjFW+rGXcq1Tf6X/LLEVZHsRyuEpOyC1vLEvyv3\n",
              "aVPniHWx+86NwTWrw+GYZIInekzZk8wwL82ju38eudZTtlKzYZ9DpagUR36pwD8X7ie0YbVtBtKT\n",
              "navUvfNpz+tY6rMD1Kv2ErNy2fZrNINXMKdkyyRWYmr7etvCfLNIxLlyb28SRFdSpISTlnTnvbf5\n",
              "t9jE6wNomRCjYg2rQleAi38U5plBD+4n/q49zOHLGvjXtbV1MHnTDuLZieTd1YhWibXsRwirSmTt\n",
              "0H6Tc8V9EiTGYNoCKhuj3UVaSuSAaLszhJvoL7lhPCHM5JY24UmMX4KZbhRnglGlwODPzojMUWlO\n",
              "A3K4ZRHQi4Nd+JgZerLE4ZOS+V+SaHTK9W8rkD1+wRZsIdbYm+wAQjnt8lX/fmIV07Sx2ObbFuN6\n",
              "9y7y/Tq0acZdboO6e+2zLthE3YJvekQdM9RAm77OMZoa9MwZ0172sto6aMjMNCy+ooPGj2BtKcO6\n",
              "uaB+CpVEnSboJsrQs7s3Y4sM+XggtCPpJFaok/2fSlbuixkuLrUXV/0sQ95rnw4Zbd116EEVd7S6\n",
              "JKU+c4cYgkOR/RQVHqGBuJozdL7nCHzeHrfXAdf2q74loDEv+E0b+9X96txkXvuoLNn0liUAwKjZ\n",
              "oUvJobXO896k5hJAA7698xW5MpSjPmcfCKFDgJUOQCDn+Ci8jNyqG2tkmeMijIV84LLdiRcROTbN\n",
              "9IrMXqSssU/PBgOuUn097QJdcbVnvbas/rSGauxeMgzu1/O6jy/St/5/xTvLrJUE16k9wbgfs05M\n",
              "BHiZ+pWzJArr7NbkL2Xnoz5iOF3OuPjRVFt17XBRNbr25ygvsAGSy0lwxQMuZ3EJzDLW7n94TpqN\n",
              "jXPvJddwLK8twP0UyyMsTTuIRDoGbOtUK8D1DIzhtYK9S4k8esNGck7e4yIbE/LBjR9YlOKHbsBz\n",
              "AN+QXfIZRmiOmuGyFytjp/8f6HgiES4re77ViWHfQVn5LB/3VBtvMVn/PER5/Mzb4B1tod1G6wjm\n",
              "LQXozpYumwRxZ2B503w8W4U0wa8JNwAbRoaww/0RCYGa6H6uMat2Xl6P8/wH16gUpiPEoOk4pGD5\n",
              "+0bgdtZqLaU4g15VNyDQ4Q5P9D/Iff5/DrTjhyjKkLsVv4mgxep9J/2Bo8EHRfUPBVMIzNXIRBuf\n",
              "jvwAtxCnQotF9Z3MEYI063NZd9j5DCanvQlXvkgkNIrgPCddbRy2M8lmiCbleKcl+M1uWOwAKDAl\n",
              "/k/hoBOHmf21SBhWFTKKn/onvorCDjSn3MLFAH2UEhmiy8wBQUIXZaK/vEtrq2IwSzzJ+NRvVULJ\n",
              "IdQ0JzkCgmNUZhD3RUCSFAJwsS2MgCimg0KRudf0OOyjQoYKe5Kt7JZu/E1rgkkKC44A1fRGxsnI\n",
              "nWAkpMxO9u6G3MCScWLv0/ucWnOgZpU1FJcyGB8JgcWRC55Rog+Xg7HuS8HQrwtRvMjpoCdXdSch\n",
              "2DXdgm7Nc/6FPNTmpFv1dsJs/aUp3xCdiVvroGz9Ddh/CybRQ1i/7KNo8Uko+Ctrft5KqQE0dUzV\n",
              "LoB916vbAfohNiHeNoVoCvsAKY6l9LljDDm8fBm6y5KhtCyT2tXy88+T75U3gwwK7uZqgr/8M33S\n",
              "VY7y8JtIV/KW11SZZr74A87Vutm4VN5tfLZliJ0K2iEupvosQr6WhNPpG9Sv+CWu8TdWzFN4RIwL\n",
              "ZQNGo3sacnrJDgQQc7WN6F0XUmyaql4crccvWVTl43RIa8Q4mQFRl8xRTBD6H3j63y6FfBpo/+TL\n",
              "HbeAJ+1cJN9GaASShZB/CUQrALLlTgnyBKFe/GyhtPyiNGa6wMO/QcX+fBuo3nmWEq3xw7a2BZRy\n",
              "kNhBholtCrocYKqEv+56sbk8U2dVcS+Khh2x0aGLtO5cdfSi0J3BUqFt+3xzjzOe/3+Z12s+WXv5\n",
              "UaDbpQD1+7kARtzlVzldXshBecsShiwcwPOjkDWuJCQuXFEJQHvnwPk6FaugPJQqSd3jizpP5gFj\n",
              "iKF9hoOsKTmZVlRKcH8aaWCfFcfcus60Hz3t0Kbov8Ceu51tq6gHhm8qvWu9myZtlMJvIG9g6Bw8\n",
              "sdq630ac9eccfS48YEi7S80pe1JI/vLzYL5Ws3FEoGUaSmk4tJjAnjxqhBAJeMn1cOFg/0Kg4bW+\n",
              "30sPAlcb0TitVr8xdqDaB3eACw9DWnPhGPNYvZ8+j/xQWzlkQ5J0t3GrTnEkRsgEg+c+lFbPSOdz\n",
              "y6NOeMf/gzkkGutSXFZCmoxYSxsbunl2VVjlnbkg5W543Pg8F5DFT7AcMcUKpCs3J8o51GXPiwPD\n",
              "jKiGxSD9a31CDWr8VSDl6g3TLFfXQlNVskOzczKsUqBuGD6X0wG1CqfQT5FzqVT5WFrmqemMGgRy\n",
              "g3fdzTh31W48ECEckoFjlqINzY3cxYtmClX6CMJv+kCTCEGo+ON2fiJ7h9saWCbCQYi4k6yS5J1d\n",
              "CiT6/YLY73YVtyu+svHRjs06ifiuM9/bgBoRHeJa/jnyHZElr5cr45KbD+ll99UWYKZveXldhlPO\n",
              "3rWWhm45dhlEl1mQjfu5xDmFD4QnlZCJqkC/ZwKMooTRnqyl7Fh7XvvDs4NnNjBtUVOnGGdUE7Xz\n",
              "vTKlYdToN5iTk/NfZ8u5DkSEWKokpzn6+ns+CiOn5Zxgty5scuqFBb9r7WMLhXxHLYFxrYxfHjLk\n",
              "NCO6srdN5+aSgGx49hjfCo8WU7SALcv1wijx2JSxt8roj7JswatHw0y+T/1CJ/EKlnNOGUF1s8XY\n",
              "C/sFash2Tceef1KqR5JNIkt1/KmH64flz2B2sUpcoxKzf8UyId2YhH3LreCTWdqrnGCPaZb2ns/w\n",
              "N0Ht15fA1aDQy4rfTyDNPyoJqqw+QkWBQFQMv4yWzQLvedrk+YNTizknaBZ9hROsTb+vyTjVuUl2\n",
              "cS4Dn1j59qR/XgrXAmHnYOU8gr7BgMGc42iR1NxBeV4MchO83RnXjNYASESOpBjD8cz2XGi1xiKC\n",
              "MaqO9etb9havlROKy2c0X+Pg/9YB0rsnbpqFH6qjrQl/hS5NaHY6iHtbpS/DxqVMrUs8u36akf+U\n",
              "oDWK0k5IV+Z5gWJSULb6P+R0XJasqGdG+fN9h8gczduiijqQCTC94e7PclzVLbwQPV1i8fAaQBfE\n",
              "8P7F8Pxe6p7YcREAoYfPBa+iqoHDi1OOqsEjp3OpsVUdiUzcSKXEfhOca8+ClVM3jDhJ+RniYkjf\n",
              "ZXeqLhAWU388nG1nHW/NvkAQMbKhzHc7nUjxkgrAAfuytRYUGBpP+m4Zd+nUC4BLyd3K1YEfd4yT\n",
              "0Nx6aevuKkslNGQH1/BiIlb4QXvT0D8hBESeawK38fcy3/HQzbxcpwuCCGB3zz/RYt7Dj3UPwDgj\n",
              "3HUznQD7eIk6r3dfCZxzMg2Oe0X/DUOK3t4XgETZWwHBGyi7Rz+eQnIeKW71/EXIPTsGTX8RTRF3\n",
              "AfbKvYEH7clv8nYr7lDZevlMAUON5jetcfbteVXpY+/i2JKuCOVDDmlFfuJ7Ure5IK+8BWfdo8Dp\n",
              "eMSZFxfI/UdS7kjY7SUC8/M2K00PMVzI/DtlOundsa4SsyRblJWlZvLmqNOA8VrVI1+05QHeR1Db\n",
              "zfsSa7h9fhDlU21Dh+kqMGP1AqmRiFI+BeSJAPwPEs+NXBtVYdT82ZuUakPDR3mj6tv5oHpJWwZd\n",
              "Or8PrLYGW+fnfbDOVNAt0heFLIZ7uTis8kW14c9FpWkV4ls1E8MNm1Pwl5tC4P1roD300pTGDIHx\n",
              "rrrxOYOYVjn8hYd7l1LyaXDj6NZvcwBiUH1AF4VwjlcXq5A/cLDdQ6y1VYVB4QMWB2A9C7u0qSNk\n",
              "OkPsgfYDNUaazpi38wFOwdxogMkmUIODt0pDLaei6LfE3JNTvjhl+2eZc4ARQG00g/qbYbbHhCYI\n",
              "ga4WjwgNUwM2640tN5YgZ2vVV57NJ44XX/0ggq/kmVOZxfpdCTm49WMOUUbvXaXYfJwzvQ12ENaX\n",
              "U5lNhZosvILlueNBdbBhi2z2N085mZb6Vm0N1iJbanEexIHeI5sEJ0eXz4+hnNIwDTCeiveyseHP\n",
              "r+WlRfT2mLdu4vQ2UHIb1Jvu/zOc205hSoHYIhFqu11SRibONJmeSPOcN/ru6Aj8j+eDRYzqmDG0\n",
              "/KSdRzcsN6KWFIBi1dkpAcBgCmHBE5RqhWAYdSS6hSzOCzsqFgDAuq7a9HdVPKAMUrT/uFomfPoI\n",
              "rIU48hVw4XwrE5zfoY0RGXZA1uNsw9cmDW2LBjVRFJ+d7iiRz/6gVoYj2fgHcjEc7N2OfuvMGz23\n",
              "H1psRvWzF11fi5LY3c0JsPwAy+KJzoGzHohbbBrSQ4rLvAkMTwvngUNUpsc/Jzm2eAIa34o1oAHP\n",
              "3EcVlJGWwvO13N4/n3WwPI+gHGIf3E/I6ggehDnV7qJp4e+8xUL+LupIG8AuoPc/Fpx+eYpWx6qD\n",
              "NgZcMvy6BkRBTnc8CyxH3iaRxH3bY35T50kJgGC1m8JQY3INUlS0YEDVqQyQ8cgqvoDv3usYNtGA\n",
              "oWS6tvb4r6bd5YX8zEc8oYgva4ZBvDb1LXHmqMKSaMsRsTGEIA6xS61Zme8XmA90ZWlQby4GQ4Wi\n",
              "0maaN6WlO+hv1YiJ/MUC7PGZIT7idri0rqIZYrQDpqUhU8mE/+ES+wHwz5h2d8acPANbgmXVOrpQ\n",
              "DJ3qzj9gru9JXO4ARyLl2lphAhgVaDJdRkcs9cAy7OJcgwcydUkMTtKzOowuyxFtNPBz5ihlW0BO\n",
              "PIL+7u0WyfUhBj05JbgAFWcoVW7yEzWgSiP4vtUcV4WgcsMBaDnlLaFE1awoB1jS/8/ErgutTF4h\n",
              "f574rTGZu876X99KDJWE9ogRFeg0npTGWH9d8yyZksARm/mvphpwAIsCqjlmibExLFrTfaBvQrQ1\n",
              "D1F723vMPTX9CTdsVuXlq6Vxxp2t3UMly5JgA+Uo6LIOTAS7w3rG9PDegBrYgFS0VznRraRYrP5+\n",
              "yMN5HaM5qjlMVtQnioUhF+UKKomkG5XWWUG/6JDNBt0sru1OBRo5inS+/mW/EVQZy/4IgK7x8BuG\n",
              "LU0oUvrM+2qyakXjzFTz4vbvfJ6cgrE8Bv89htyZNPMNqYJ5NOYZpiFRR2TUIBJvchPIjo6B5kIj\n",
              "1PKyQuz5KJ/8cKFsBMJ2SMelmf9Mrjwpra3D+MBsp7q9BzYvh9j7txx986A7xogykH8dsP44qN//\n",
              "k+YLmdleFwdT8CD+DrMsMgMWWT/bN5bLI6KWfN8X+9lLxNE/SMYT8DI6f+1Trtavu5Q/NxFhFqPH\n",
              "+kOZ69uMQ1+HOThyiK6aphbcpoL5Fp64D81PfvS/lBtS4E2aqvDTGXcg7BuCJBEnJsNFgwMUGJdz\n",
              "Bg/Vbs3dPnozSgxzk3CGF/1GzYcMtp36YjYj6/mHEiAaorwG/TZ09Qtd3AnuIqYvJaotj4PUPySC\n",
              "z6TxKOQKU5UV0uG6WikEm+e2DguQqQzbpN3D981oa3Ga6xqOaurc5zL5IcW4CiTY9V+f0eESJod2\n",
              "lLb3GWKsLheThJRKZann3yBqtdHeEOxyHAUDBEAxqAEjS4V/Mh2YZq3TOmKIHCh0qcO1uZ4P7MWX\n",
              "oAJyXDCSBDbZdPhxEjL+LMQjSeuPU4sIBboxcgCln/mqHlYgXWoi/69/3vn7Irv96mk5CF/wky+3\n",
              "P4PlaNSenaVQDbjTadh4KqtVaGZOeb6KgoG9Xp4kygC3+9Ct+cGl17TR6FeIU1CziHEmg7HMGQoa\n",
              "lcEkiOjo5HFjy9mmIW2kAORjdJho4m574dpkv5rhgKeP9GW5kPNiJcbU8E61ITo9n/rGYaFuD5Zh\n",
              "RGgKf5j3FhDxNEaxFf6MeVReU1rLoML68nNLksmfs/obpgjdjvrfWXw+pWhzDS9TGNgXq9xWlUET\n",
              "pUWXjM08ZozJ9aBpfmX97gKtTp5at6tuYDMIwUAcnmOTcD/X92+6uH1phI6nvyc3yvWAy/6laJiP\n",
              "BlSLRamMzldYDeti75vs2MzNTVrEGeqIhDa3Cu3fJBowqlyd8mWp4qbc8UhnWxo2Ss8o+jsdrCy6\n",
              "bFJ7oLi4AX11ahs1LdOMeel2UmloDPGi3EX9JZ6FHC/gab8Hl65dKj8MLBOlROAXyg63tHez9ynb\n",
              "goTdWLysMxL6Br++GtTnmm8DdTszxcIq73cI3sychEWMDHhpvR/1Wotn93i4ib9Qwf9OnOSVlBKC\n",
              "lQvZ+fKJmt+lnMO0IM1iiUTu3sBSCZdxjLFQBXS2hsn35gbpTK73J8NXeHN8LrunqnpWaYv2b/Zk\n",
              "ik/+I/k5M+FyzobxXDErizZzJnnimtCKAEh664fXTa/3qCcEyRrm3UkWx/58D4tl/sVna6wJXRFA\n",
              "8tUalAYdk7p/vrh3Wm8C92nHE6kbk2G7arwVeFMSmkyA1P/Wy2domscfnOClgnbUyQOHTCPJfyRU\n",
              "D///lywaUtKoZNRPHuH9gayyVzIv9Vbja8ZeiFcyZMtlHh3+i3RCH8q6THtgL9hji9eeQLSGU3HQ\n",
              "s/DIC7EJOtOvjklpAM3E0+u9IBGbHWeFHjwfz5bRN1wsl/J6sOftg/5+Uj6ybV1KAozDfc6D+BjB\n",
              "3FBNo5ItR+3mez5yxYLO2nF721laKF/byDYiFNqKKOvwuuEBhzr6XF+7PUKyPjAlX7RxjWUixSp/\n",
              "nlsvYWxvSo3+PlLbhK0f6iUo0L1GQtsZEczFs1Xq+vABItBXBNmC/0wHA50cp7j43NlAQ5D+ZeI/\n",
              "Nx134PoQuWPQeWpe+eXzgdY+6+Psw5E5aNgSx4puqHrIb3U+QprFL29lkr+fM0qUNbG/BBGgPRpi\n",
              "8kVyL6PNlNMiqQ6yD3VssOOiAKAO9ZHcupvUrdqfJG3V+t1lR47E/K/KL2Y4T0YFd4FSWpeC3h06\n",
              "upHPf/24sHmQVqp/PHwy980abWoP/uw6NWq6IJ8mIT8I0ceffkK3poKg6DAxvIDPLTlZZ4bI4ZR2\n",
              "OVIvWb4IlIbprM6PpaobdOBWI7oiBe6mT5umFTEtLvlBXjURRyU4TKXWhQRZe0spJoScL1WRvkIz\n",
              "CJdKLCodLxxOjfkv4XxlfSgsadGJmJZQHewkRGOvOTjb35/qvJRxEwKuMQRWSW12DScJTZrhUKRJ\n",
              "fdhhaHfEMzuMfcIFG5+oDOlCA4di8K3UDTbt4JH3Ovo65JaAiXtF3Dc4ayQO+jQm7tHnKDcyhMbL\n",
              "3GcgpOyJhROAa7Dx8Jo174zEu0nJUvPV65/cpv8GfGNREernUYtnJ3MFCkv80CnBiWEmxKzgeJvX\n",
              "VwtjEsbv7n4RRVLAM5lLCcZzApom65p0Ouq7zyc6Tq2NSTuQPnU6rptkxPguRxpLLdieYcEdXtRw\n",
              "VKm5QGcxKelFf6gxCV/84zHf0b8JDA8PZ5MFd5wHImBsUpeYUfuwr7STeTZtYJf1y0oc//4e5x0m\n",
              "wKUpc/EagnFKj7/Vat0VfqVbYraU4moXE8MpruNiF6s2tqnHLrRI2q+o9bRpQGZda0L5Vkd9ciff\n",
              "gq0zp5SWIpCL0aJYIeTYem131CWKWwTggtO+OGosQ4S9mVWFyvawehC+eyqSF/mBbICAm7KS4AuH\n",
              "IgyGimOklzSRC3D9W/SSPFLqKt8i0iNlBQlk0qMOXUtlJ5hoJiRaG+DRwj6igQ2q7MalusnQ6zjx\n",
              "Ao0+uZdz6amT24oO3NuPBbMQdKrk0gCLuKJ7X/IoZWtoAxvhhTT/kUnvZorc6NSJpymKKiW4cIJE\n",
              "+0ZjOVaOyvVC7FOnX/+Uwszeg59dX9btkyG5mArnJVn6smR9r8XDtAS1/8LKZ+P2Zn65dtAzYDZa\n",
              "Q0NRYKHGj+KhimighJKcSE1iQjHrrwrcaBB68FLn10XdvelenR5wsi8BNNHexSdlI5BoHMQOlNQI\n",
              "dIoFMxW7cxAAPtrgoBTl6Vvq4+CV6p+GMzos+aamUg65JQS1FLebI/tizzI002BrIaAvnQ2V5hba\n",
              "0IlRKZXFVe7xoLZ52RBbY3faR32AjrTO2EvtL/Z5TwbBZqXqEGsMu69Uq6IWHuNymEL7LogpfXhl\n",
              "nWfWPjCwPEZ3IdeSjAB4I74Vlpu4aAuGZlc/C9Nys81hFwDfYVvwFDTxIr8CNoRLXbIXrPeT/IjY\n",
              "Iq5xSR1KM6YMMfra2v4Rz5Mk/BLa73Z+8tClQdUvJUG2+OfygkjPLiqza0VZQjwx8bwPF+eFfsl4\n",
              "dBB7G4YLvChRqfL8swRNZqyfZED5A4WaYUsePyM4lpo73Wp9k7/mx1OaGT6/dzb1K1JibUHgZZ/Y\n",
              "GZdFg3qS2UrcB15r4jN4tE2l0m8UAIYn7MG4pLUmsiS7Uy1Zfz6CPA74a2Q5dIcL7U2JdVcYFXhL\n",
              "S+YqD/TGK+ydjW3cxHgCsyRhhqdaohszKp02kP/ZOEvyWpReQzngh+sK29mJX0YHdndO6rg+gaHZ\n",
              "qKjXJhv7Flh2bA69gbHwXu5wx0leRZNwJvGk5WuZm/qvxBGSBlKGEtD9MQmi2QbXOEhl6csxOz3A\n",
              "vQAJkLhwTR+oVo1L/T1V4/3AdKGUbe65HOmbF/8zyASWYSkhZKNl92zfVaSph2ncXAuzMrfst8fJ\n",
              "/8/kuH/b6P6kxYsitzw1mNEr01iJ3FMAhKsnr6y5zHDMptp81u7SaHybAl2yt7RR41DU0uPa6LnX\n",
              "Ortb67Z8MNSlDlzNzCgmCS9Noe+qnkCohDwdIEXUoiUVSbJY3QnUv4l9L+Pu/e9+HyikD6m/Zptt\n",
              "EswBCCl+FvS24Krav/5up8WAOKKo6cIaFa7t/RcdT0zgC5t3k32eLJ12e32CIAIwNBCxesgAihZU\n",
              "A6V7xwAAAt5BmiJsQr/+OEAdiv/DYCXHVIHAQ1HfmhVbwSrWAEL/segv6ddQCG+1ud6p0XkAQ3Ib\n",
              "vqihgn9Veam0ggF2h3jCGbdX6LQuq09y9/jZ0OYxf/bvyFE3vEu64w6xNqkPheFTJ4PRnMcEcYfV\n",
              "ZvsqLkkS2IQtPuywSjU0xw2aKSrxDhz/woE/wX2/brIeIH3c75Fk1R7OIVeba4sGOWl3oeJP0bne\n",
              "Xhal+2/pFRjl/Hm8nU0GeRj6/vb/LDtgP6uZydT5+w4EguOBcipEKXG/kJ/qz/b98zRW43F4T+3o\n",
              "rB9cF+iQl7ZCcA9NzhSkxYjlkEeiJeOup1wI79NU23swj8LHNJF2Vn4yoU1OxWVOLcC+driMNCcV\n",
              "2bf3AMDqTVyMFuFDmUcGg2FyDpmddWhzJ7blDRaUcU+KIX+J1L/pbLU8oFoU3ziwTjk0737Y74S9\n",
              "zgVL4W2IIuu0S+3rFSw0fyazmqRBbJMb5KnTV5ydciViF8ksGwtZ2+c1+Zs66k0KfMcE6dsSrbJA\n",
              "n+C2Uxgaw3TjTqgD6sfcMS/tZFokA+ddubzaBFAuPiXYPKXVd0GO7h1i/j6KE/cdR65m0v8J+X3s\n",
              "g07aT6fyOm3qGky3yRDuK9uJQ8A3KDuP/n70w3P48/4O3SBR+664mGu6IlokktHXgz61pbV17js4\n",
              "h8Y576wi2XjP5bR0PHpZP70J7pKnWkNEWvq7/nRzREgNpjsEj5d8rxXGWKL8Jx38NMaOla+5GFY/\n",
              "gyu4qBnt4gpeyli1exGwcWaVxccDUercl29MhEYadLh3PN7Nh6mXebBa/wHFmC3pV/yhJ/QA3VGR\n",
              "MMsAEXZPSgftsS6fKpnNM6kvDYGizpZ4eFzMwulra9kOYylhwvT/x2sSCzF4XRctRqQ75rHZhq0M\n",
              "3z/YURpe6yNnjvveuFZXivz4nVmEay0NX+gKO8eulFMkYSMfViAQHezAZrSowYVxIuIQEHQzGtAk\n",
              "oAAAAEwBnkF5H/8Hu5qU+tA1evgwcJBFkAACwEY0KNZCmXWggka61DYVVKfR0Qa/dZ0uHNqp8LLS\n",
              "7m7oAP1lHtK7RPWMKYvI5L7aLuwO1ighAAAAy0GaQzwhkymEK//+OEGdqRLWdBMT5Q+bt/8zwBYq\n",
              "dbD8OAGdOAkgkozSdTYO/98DSSW3GAEjTH+AFnlNr9TXl8pKPAyDwKLYw6/QBFeLSh7CsjvJAIYf\n",
              "XugwbaaUeY4NSG1fY+O9ZAwkF6MbqouOguwDVjC9Vv5jcayrRSWgY1dqqVBOKoQIDYPPgMMqx/Jp\n",
              "s9G5ZvWtSje3gtnmbbPJ8lvayWHtVyyUj3rbwdf+lfVrPToJeklbaQA1DkgoUNz1OvTjXC34COMm\n",
              "Kh4wAAAAhUGaZEnhDyZTAhf//oywAnCOBsx+wQoQDj4/Yehq+QEcZEf2G39DW6yGfjtb4RI47nhR\n",
              "zwVJ9eKXcpzHbI7CiQoiuVgMy/JCqSZpPI0vdPo+I4F71YyTSg89qUYDvTLUamwVnHS5bVPXFst6\n",
              "VMZq6H4qHJZaW5Se4oYQjDnMzhlfxAhgaYkAAADDQZqGSeEPJlMFETwr//44QAAGHYoEBQzuSsxg\n",
              "2Ss1I7ic8H0pRHtwdkN0HvQixIG+xI7mUJcvEh5sMoCSVmVQQ4DypG4fbTGXI612PPcHN6BRk7cK\n",
              "mQmf6Ox77Jm+HG4snKrO6J9WcUnwiWqRy3sT9Sq6U5t1Sb/0ErIutKxwbW56BacTs/ZtqdmfnnV9\n",
              "ySKhwhu9N3yRErGUlrXvAwbvYfInw4q3wysg30CNXJQjMdd042EXHf9SMtVxTGhz9EQaXErfAAAA\n",
              "HwGepWpH/wXEZ90Y/0Fza5m/omtM1jpYLvWpOSaA7oEAAACRQZqoSeEPJlMFPCv//jhAAAudw2MA\n",
              "cMf2i97XcvISiHaT2Ivn+yVr7DLROSzaVNLNYTrVKbCAWFQBRA4Hq2HDYAEcKuvYwAusaRJY1ATC\n",
              "5BA8dfhmD89K1z2OfxyLwAT/6VrEM7dyjaQuMhi5q0IKZcLITB8v+x6biRTDkdHV9Ynrjci4vL9I\n",
              "r8YLQ4cFtfmu+QAAACgBnsdqR/8FxGfdGP9Bc2uZv6JrTNY6WC76zggOz9vABalbFYQn0LKgAAAA\n",
              "SkGayUnhDyZTAhf//oywAAMBB/wAv9rYfkmJxg/vPkPfFWZ5qe5+/sj4fdfE9TVzKPcjHK7E2Vh6\n",
              "ghtUmANQhCVVV7PHGG930rmeAAAAsEGa7EnhDyZTAhf//oywAAYB3bYBq+NbvRrE5Dh+YBIzyWC5\n",
              "js+TcEKsSjaOhM8GN9S1HwisXGi6FcnwlJqituQH+n4uzcZEfPFM3AvZFzexbOdzjzovA5afDKoK\n",
              "U4GSUiPdRJ12bYhFx6bodtpq3rmZ8hNcB9bCG+9y7UOWaVWDoy79WJgnOKRmbsQgFw8dbFVnJ9Mj\n",
              "zXYqW3daiz1+4w3svEIHvA6GbCOSkHF29tHzAAAAJ0GfCkURPCP/A7Qeg2L+fhDWLMx4B8uvPPtM\n",
              "0CpQJzj9Kk3rz8bIsAAAAB0BnytqR/8An2axyhJ09mABIZALvJkNgdKYiYu4gAAAAJlBmy9JqEFo\n",
              "mUwIX//+jLAAC3FrJCAKsmODs84IsDL5Kne3+U77J8SmukYhzIHEVp77P7mNaoBy+JcPTUJguOdT\n",
              "/sNLYwMMoyMNHdCkTfc0RHbvfTNfgea9xhJk37+yskg/5PoNHG0Muj80rNPg2U/HLEUTkragBoKd\n",
              "7ew2PEf3yfjnWR4pfkijcbqHiXxMB+rPNm8xAOnk5cEAAAAkQZ9NRREsI/8DtibPByPOGO3ggG5i\n",
              "ENGDohBQI0Z/zj6isU2fAAAAGwGfbmpH/wCfZrLzn0gAK4Q+yAJQKmRZH1oBuQAAADNBm3BJqEFs\n",
              "mUwIX//+jLAAC269twAv9tOK5AAL5Tu6N2gkt4y2iUYTye3GWvvEUk8wy7gAAACSQZuUSeEKUmUw\n",
              "IX/+jLAAFm3x8gnscsAQeghNnfM1Sm6ohxRnoyz5kTfe8YEoACMlqofi8Gt4DrzhKJ5nGpJwl97B\n",
              "yq+4X8rVWWXCpVePIy2NohuYDJyMa0QKdd6eAqqNEfU2jdMmwOneBNgIZgtV3gMxuFjG44qWqqm7\n",
              "GVit9zPvNbrPFbVKrfWhyVveRFw0Cj4AAAAvQZ+yRTRMI/8DtB6DYv5+ENYszHgH7tsCZAqfCWvu\n",
              "UGUQAAnGwJfNYQ7LjSqxgkEAAAAbAZ/RdEf/AJ8LlA2x8ABNj/pvfkO3Fdf/GKIaAAAAIAGf02pH\n",
              "/wCfZrUyODs1gB0BFw+L3sqkK+co+GBmlXziAAAAYkGb10moQWiZTAhX//44QACkf4tzL+MAk3oZ\n",
              "WdAXxlI9bYhR+/6BEaU3+G8j9z3omcAEo487wtnZKdNZtT8F7HbY3T+1B+uiCe5A3q4OthGbGV49\n",
              "pPHRaWYXZI2dUnkZjUcdAAAAK0Gf9UURLCP/A7Ymzwcjzhjt4IBuYhDRg6IQUETi8sAJlr/v2AO+\n",
              "0oOzAx4AAAATAZ4Wakf/AJ9mtUF5L3Zt0rQygQAAACpBmhhJqEFsmUwIX//+jLAAFbZlNfdFLgCg\n",
              "2zpt3GW6dJ4df8G1k/u6HHEAAAAsQZo7SeEKUmUwIX/+jLAAFcr3SBzfsAmsRlAULFVe8AFebW1N\n",
              "5rMsOkoZmQcAAAAyQZ5ZRTRMI/8DtB6DYv5+ENYszHgH7tsCZAqfCWtGEokBbwAtnrihhG8DRKMQ\n",
              "XmHab/MAAAAZAZ56akf/AJ9mtSBfagAt4oPrkG4SslijigAAAElBmn5JqEFomUwIV//+OEAAU+8k\n",
              "0Aq1gUsxjxP73Mscm52UXc36VJ0YjhHQPtYcX/JfW8uW4uOb9hF/mJOV/AcydvXM9Clo00dNAAAA\n",
              "LUGenEURLCP/A7Ymzwcjzhjt4IBuYhDRg6IQUEKoV6AEtP0uZ1I083BDA2VBlwAAABwBnr1qR/8A\n",
              "n2a1J3iAAWlsVfV2Oxua2ZXMjXZGAAAARkGav0moQWyZTAhf//6MsAArdXnqcYB8+LHX0MWj2QCt\n",
              "qPDTFcINVQRG5egdhTioMAdU3/XIXfepGtwzzL0yJOzs9FLc/dAAAAAvQZrASeEKUmUwIX/+jLAA\n",
              "K3V6AaeAZvqUeDpw/hZBXZMdS+yx0v/Bt/W3ypM0OmEAAABGQZriSeEOiZTBTRMM//6eEAAp9Zeu\n",
              "+nAFtUPx9sGGu9yq8VcodIOlTFiUJY5y5JGzAWdV/JNhDEncvYSR2CVqf+rDlJLBgQAAACABnwFq\n",
              "R/8FxGfdGP9Bc2uZv6JrTNY6WC+GEb0bNpwccQAAAFpBmwZJ4Q8mUwIZ//6eEAAqDHHr02wCDyiZ\n",
              "+/9B4o5W2vYWYh80xRVBU0zy6Ttib/JBZzJzahY0eGWQDnNs+zmCWfiMwQoxdfvt9EusckAI06QC\n",
              "WjBAyS6Am4AAAAAyQZ8kRRE8I/8DtB6DYv5+ENYszHgHy688+0zQKlA7QbUyak3cAON1Mc7xAQwQ\n",
              "lm3lnkUAAAAUAZ9DdEf/AJ8Lm4gxDdwJVkx9UcEAAAAbAZ9Fakf/AJ9muY7xAALqHxC/kD8JYadT\n",
              "kMMhAAAAPEGbSkmoQWiZTAhn//6eEAAo6iP+Q+/cAQjrWek2qB1lfMohx3fdKi0zPB0Rdbqq/8s0\n",
              "G7lQk3xGj9ibgQAAAChBn2hFESwj/wO2Js8HI84Y7eCAbmIQ0YOiEFB+tWBkIocI+KWGlBPkAAAA\n",
              "HAGfh3RH/wCfC5tX9EQA3zYa5qmt1QhBGzdaoGAAAAAYAZ+Jakf/AJ9muUR78ABrCTrmelczvjph\n",
              "AAAATUGbjkmoQWyZTAhn//6eEABRsr44AW4Urt+H04Cseqrzq5NYWIWZ+BIEyMLFHVBr9UCoNEie\n",
              "qA1WHb82Bsl+T/PSSQRAI1a4FQ2NUCLgAAAALEGfrEUVLCP/A7Ymzwcjzhjt4IBuYhDRg6IQUgRf\n",
              "TgAbEYiznVo4FCD1cNWAAAAAGAGfy3RH/wCfC5tX78ABZHX/wHyp7txQbQAAABoBn81qR/8An2bC\n",
              "HOpABbd/PkQld1nkVQrtgQAAADpBm9JJqEFsmUwIZ//+nhAAUbK+OAOUUQytbfNo8zOh9YFIrdoN\n",
              "zc9TvHZabj4dcZV9vgT4cUqlJwUFAAAAK0Gf8EUVLCP/A7Ymzwcjzhjt4IBuYhDRg6IQUgk0YgBa\n",
              "6ISUMETBEQuYx5wAAAAPAZ4PdEf/AJ8LkURE79LAAAAADwGeEWpH/wCfZrCDu6pywQAAAFpBmhZJ\n",
              "qEFsmUwIZ//+nhAAU/G44A5h9wtIRlLZsfxbq5OFG+1jN3z/ka+etV3V7E42gYw9EVTLi9W7tj2b\n",
              "lQ73xMsLQF74US71Qd0G6WyQB1b5mNHUNlKkZcAAAAAsQZ40RRUsI/8DtibPByPOGO3ggG5iENGD\n",
              "ohBSK75PCgAuLnLEwJkYZAO2eZ4AAAAPAZ5TdEf/AJ8LkURE79LBAAAAGQGeVWpH/wCfZrmDFPSY\n",
              "AKzRAK9ReM35xKAAAAAsQZpaSahBbJlMCGf//p4QAFPw64A4TILNEaSYP6zx2FRuAAT49G1qrr5+\n",
              "DjkAAAAhQZ54RRUsI/8DtibPByPOGO3ggG5iENGDohBQAHUD8t5lAAAADAGel3RH/wCfC5FBywAA\n",
              "AAwBnplqR/8An2awgZcAAABVQZqeSahBbJlMCGf//p4QAFP2YQACgw14ODRBXhRxkWUKLh5n7WS7\n",
              "gJJtiPoruh5+SoGZaG1p79XTlAIsrOTBVddAsO4YdK8kWpEZlQtFlNFsatDBgAAAACtBnrxFFSwj\n",
              "/wO2Js8HI84Y7eCAbmIQ0YOiEFIzw2oARfnPGi/CAwwgkX0xAAAADwGe23RH/wCfC5FERO/SwQAA\n",
              "ABABnt1qR/8An2bChkHl99INAAAAP0GawkmoQWyZTAhn//6eEABUUZJPAHMAfmJIT934pIHtu+JV\n",
              "CVA5cItn/6b+HLulXQteOtTAE/QZ4aJTCeTBSQAAACNBnuBFFSwj/wO2Js8HI84Y7eCAbmIQ0YOi\n",
              "EFIofIBoBBvPBQAAAA4Bnx90R/8AnwulXybikgAAAA4BnwFqR/8An2bCjxDxQQAAAE5BmwZJqEFs\n",
              "mUwIZ//+nhAAU/NB4A5h9wC6SI75fMgZJLi4FM3L0v9HhnMnU9HTvRvRWGsL49OO2pMNbt2TN5Dl\n",
              "aBg0XInhU2FuZaPVoYMAAAAsQZ8kRRUsI/8DtibPByPOGO3ggG5iENGDohBSLsh0AE7cTGGiTTIB\n",
              "EQtU9OkAAAAYAZ9DdEf/AJ8Lpf11wATt2cKCB5ScdePRAAAAEwGfRWpH/wCfZsKFvR30qpLdRKEA\n",
              "AABPQZtKSahBbJlMCF///oywAFLdy8BZ2AOUZPMoh5HMkg5B7MEoxcpXLgA1S1iX1rHNVomIi1Z5\n",
              "SeOoXs9RnI/wWdfxtB3Cl28sZzIx/EMGfQAAACxBn2hFFSwj/wO2Js8HI84Y7eCAbmIQ0YOiEFIY\n",
              "9xoWAFkhNJvn/GA0ATh4lQAAABIBn4d0R/8AnwulC/1YuRZJC6AAAAAPAZ+Jakf/AJ9msIO7qnLB\n",
              "AAAARkGbjkmoQWyZTAhf//6MsABUsPsAM3JkcstB+JR8tBd8u1DsyE20McO1PsFT/lX74GXW4pPu\n",
              "8RXkryeJIAvo1xCHZoQ3hqQAAAAkQZ+sRRUsI/8DtibPByPOGO3ggG5iENGDohBSBryz8HfFbfgE\n",
              "AAAADgGfy3RH/wCfC6VO4uHTAAAAFwGfzWpH/wCfZrmIChwATjQN7ZGu2kDBAAAAUEGb0UmoQWyZ\n",
              "TAhf//6MsAAqWqZ8AHBo6jDBQwV7Pah98m4dYDmxhBtWPkPfkGfUTP3GG0j+w8zZM1BJTbEik1Bx\n",
              "8NPhNjD9uKlxXxpbMxDxAAAAM0Gf70UVLCP/A7Ymzwcjzhjt4IBuYhDRg6IQUIKGlOztpAv6JAB9\n",
              "s1a4RoBzy6MhCWFigAAAABkBnhBqR/8An2a5j/S4AJ02JRTSHwHoahXbAAAARUGaFEmoQWyZTAhf\n",
              "//6MsAAreMyAFj5vPDlllu3XGytTCGO3DyvovvKPrZvnVREOEtKuAjnGp3G0GcjCovdJUsuQBih0\n",
              "wQAAAC1BnjJFFSwj/wO2Js8HI84Y7eCAbmIQ0YOiEFCFOYq6pAA9+Q9IN6EQwJVQN4AAAAAZAZ5T\n",
              "akf/AJ9muWYE6QATLQOvOLL7U4SxugAAAEpBmldJqEFsmUwIX//+jLAAKkzKKkV2DAESqZw9yLeX\n",
              "38zYUs4VQBCLWt0LRPIfQeQY0EiFFbKhYJRH1yBnL/VPiDT9A0l71D4JGQAAACxBnnVFFSwj/wO2\n",
              "Js8HI84Y7eCAbmIQ0YOiEFCBLtY2ACR+BiOZ/jBQg5eZFgAAABIBnpZqR/8An2a5PZGkOexAyfMA\n",
              "AAAxQZqZSahBbJlMFEwv//6MsAApLMSRrtyADjxCDA4s0Qg8BSLwnp8Gb27eYmNVdDDPgQAAACMB\n",
              "nrhqR/8Fx7t26pB11S7psd3EA9s2WELCOi/k0vS9DLA2oAAAADBBmr1J4QpSZTAhf/6MsAApLMNV\n",
              "ZpTYALl0NiPh/XkiQOMnQA+KvUD5AuPAjH0aMWcAAAAnQZ7bRTRMI/8DtB6DYv5+ENYszHgH7tsC\n",
              "ZAqfCZGRPPDNQZlprvD4AAAADgGe+nRH/wCfC5sCFXHdAAAADAGe/GpH/wCfZrCBlwAAACxBmuFJ\n",
              "qEFomUwIT//98QABkM0cXvLwAI+hlkSj8Faxp4wP6DSKXZxiYxmHtAAAACRBnx9FESwj/wO2Js8H\n",
              "I84Y7eCAbmIQ0YOiEFCArwADkjZZ3OAAAAAOAZ8+dEf/AJ8Lm0+TcpMAAAAZAZ8gakf/AJ9muYO6\n",
              "YAHvejp4MNumsKqjYAAAAB1BmyNJqEFsmUwUTH/8hAAJp6r2ACduxTUYp75BDwAAACEBn0JqR/8F\n",
              "x7t26pB11S7psd3EA9s2WELCQrvADkjVjfgAAAeObW9vdgAAAGxtdmhkAAAAAAAAAAAAAAAAAAAD\n",
              "6AAAB9AAAQAAAQAAAAAAAAAAAAAAAAEAAAAAAAAAAAAAAAAAAAABAAAAAAAAAAAAAAAAAABAAAAA\n",
              "AAAAAAAAAAAAAAAAAAAAAAAAAAAAAAAAAAAAAgAABrh0cmFrAAAAXHRraGQAAAADAAAAAAAAAAAA\n",
              "AAABAAAAAAAAB9AAAAAAAAAAAAAAAAAAAAAAAAEAAAAAAAAAAAAAAAAAAAABAAAAAAAAAAAAAAAA\n",
              "AABAAAAAAbAAAAEgAAAAAAAkZWR0cwAAABxlbHN0AAAAAAAAAAEAAAfQAAACAAABAAAAAAYwbWRp\n",
              "YQAAACBtZGhkAAAAAAAAAAAAAAAAAAAyAAAAZABVxAAAAAAALWhkbHIAAAAAAAAAAHZpZGUAAAAA\n",
              "AAAAAAAAAABWaWRlb0hhbmRsZXIAAAAF221pbmYAAAAUdm1oZAAAAAEAAAAAAAAAAAAAACRkaW5m\n",
              "AAAAHGRyZWYAAAAAAAAAAQAAAAx1cmwgAAAAAQAABZtzdGJsAAAAs3N0c2QAAAAAAAAAAQAAAKNh\n",
              "dmMxAAAAAAAAAAEAAAAAAAAAAAAAAAAAAAAAAbABIABIAAAASAAAAAAAAAABAAAAAAAAAAAAAAAA\n",
              "AAAAAAAAAAAAAAAAAAAAAAAAAAAAGP//AAAAMWF2Y0MBZAAe/+EAGGdkAB6s2UGwloQAAAMABAAA\n",
              "AwGQPFi2WAEABmjr48siwAAAABx1dWlka2hA8l8kT8W6OaUbzwMj8wAAAAAAAAAYc3R0cwAAAAAA\n",
              "AAABAAAAZAAAAQAAAAAUc3RzcwAAAAAAAAABAAAAAQAAAuBjdHRzAAAAAAAAAFoAAAABAAACAAAA\n",
              "AAEAAAMAAAAAAQAAAQAAAAACAAACAAAAAAEAAAMAAAAAAQAAAQAAAAABAAADAAAAAAEAAAEAAAAA\n",
              "AQAAAgAAAAABAAAEAAAAAAIAAAEAAAAAAQAABAAAAAACAAABAAAAAAEAAAIAAAAAAQAABQAAAAAB\n",
              "AAACAAAAAAEAAAAAAAAAAQAAAQAAAAABAAAEAAAAAAIAAAEAAAAAAQAAAgAAAAABAAAEAAAAAAIA\n",
              "AAEAAAAAAQAABAAAAAACAAABAAAAAAIAAAIAAAAAAQAAAwAAAAABAAABAAAAAAEAAAUAAAAAAQAA\n",
              "AgAAAAABAAAAAAAAAAEAAAEAAAAAAQAABQAAAAABAAACAAAAAAEAAAAAAAAAAQAAAQAAAAABAAAF\n",
              "AAAAAAEAAAIAAAAAAQAAAAAAAAABAAABAAAAAAEAAAUAAAAAAQAAAgAAAAABAAAAAAAAAAEAAAEA\n",
              "AAAAAQAABQAAAAABAAACAAAAAAEAAAAAAAAAAQAAAQAAAAABAAAFAAAAAAEAAAIAAAAAAQAAAAAA\n",
              "AAABAAABAAAAAAEAAAUAAAAAAQAAAgAAAAABAAAAAAAAAAEAAAEAAAAAAQAABQAAAAABAAACAAAA\n",
              "AAEAAAAAAAAAAQAAAQAAAAABAAAFAAAAAAEAAAIAAAAAAQAAAAAAAAABAAABAAAAAAEAAAUAAAAA\n",
              "AQAAAgAAAAABAAAAAAAAAAEAAAEAAAAAAQAABQAAAAABAAACAAAAAAEAAAAAAAAAAQAAAQAAAAAB\n",
              "AAAEAAAAAAIAAAEAAAAAAQAABAAAAAACAAABAAAAAAEAAAQAAAAAAgAAAQAAAAABAAADAAAAAAEA\n",
              "AAEAAAAAAQAABQAAAAABAAACAAAAAAEAAAAAAAAAAQAAAQAAAAABAAAFAAAAAAEAAAIAAAAAAQAA\n",
              "AAAAAAABAAABAAAAAAEAAAMAAAAAAQAAAQAAAAAcc3RzYwAAAAAAAAABAAAAAQAAAGQAAAABAAAB\n",
              "pHN0c3oAAAAAAAAAAAAAAGQAADUPAAAC4gAAAFAAAADPAAAAiQAAAMcAAAAjAAAAlQAAACwAAABO\n",
              "AAAAtAAAACsAAAAhAAAAnQAAACgAAAAfAAAANwAAAJYAAAAzAAAAHwAAACQAAABmAAAALwAAABcA\n",
              "AAAuAAAAMAAAADYAAAAdAAAATQAAADEAAAAgAAAASgAAADMAAABKAAAAJAAAAF4AAAA2AAAAGAAA\n",
              "AB8AAABAAAAALAAAACAAAAAcAAAAUQAAADAAAAAcAAAAHgAAAD4AAAAvAAAAEwAAABMAAABeAAAA\n",
              "MAAAABMAAAAdAAAAMAAAACUAAAAQAAAAEAAAAFkAAAAvAAAAEwAAABQAAABDAAAAJwAAABIAAAAS\n",
              "AAAAUgAAADAAAAAcAAAAFwAAAFMAAAAwAAAAFgAAABMAAABKAAAAKAAAABIAAAAbAAAAVAAAADcA\n",
              "AAAdAAAASQAAADEAAAAdAAAATgAAADAAAAAWAAAANQAAACcAAAA0AAAAKwAAABIAAAAQAAAAMAAA\n",
              "ACgAAAASAAAAHQAAACEAAAAlAAAAFHN0Y28AAAAAAAAAAQAAACwAAABidWR0YQAAAFptZXRhAAAA\n",
              "AAAAACFoZGxyAAAAAAAAAABtZGlyYXBwbAAAAAAAAAAAAAAAAC1pbHN0AAAAJal0b28AAAAdZGF0\n",
              "YQAAAAEAAAAATGF2ZjU3LjgzLjEwMA==\n",
              "\">\n",
              "  Your browser does not support the video tag.\n",
              "</video>"
            ]
          },
          "metadata": {
            "tags": []
          }
        }
      ]
    }
  ]
}